{
 "cells": [
  {
   "cell_type": "markdown",
   "metadata": {},
   "source": [
    "# Принятие решений в бизнесе (А/В-тесты).\n",
    "\n",
    "# Проект \"Анализ гипотез об увеличении прибыли интернет-магазина\""
   ]
  },
  {
   "cell_type": "markdown",
   "metadata": {
    "toc": true
   },
   "source": [
    "<div class=\"toc\"><ul class=\"toc-item\"><li><span><a href=\"#Приоритизация-гипотез\" data-toc-modified-id=\"Приоритизация-гипотез-1\"><span class=\"toc-item-num\">1&nbsp;&nbsp;</span>Приоритизация гипотез</a></span><ul class=\"toc-item\"><li><span><a href=\"#Загрузка-данных\" data-toc-modified-id=\"Загрузка-данных-1.1\"><span class=\"toc-item-num\">1.1&nbsp;&nbsp;</span>Загрузка данных</a></span></li><li><span><a href=\"#Расчет-коэффициентов-ICE-и-RICE\" data-toc-modified-id=\"Расчет-коэффициентов-ICE-и-RICE-1.2\"><span class=\"toc-item-num\">1.2&nbsp;&nbsp;</span>Расчет коэффициентов ICE и RICE</a></span></li><li><span><a href=\"#Вывод\" data-toc-modified-id=\"Вывод-1.3\"><span class=\"toc-item-num\">1.3&nbsp;&nbsp;</span>Вывод</a></span></li></ul></li><li><span><a href=\"#Анализ-A/B-теста\" data-toc-modified-id=\"Анализ-A/B-теста-2\"><span class=\"toc-item-num\">2&nbsp;&nbsp;</span>Анализ A/B-теста</a></span><ul class=\"toc-item\"><li><span><a href=\"#Загрузка-данных\" data-toc-modified-id=\"Загрузка-данных-2.1\"><span class=\"toc-item-num\">2.1&nbsp;&nbsp;</span>Загрузка данных</a></span></li><li><span><a href=\"#Графическое-изучение-результатов-A/B-теста\" data-toc-modified-id=\"Графическое-изучение-результатов-A/B-теста-2.2\"><span class=\"toc-item-num\">2.2&nbsp;&nbsp;</span>Графическое изучение результатов A/B-теста</a></span></li><li><span><a href=\"#Поиск-аномалий\" data-toc-modified-id=\"Поиск-аномалий-2.3\"><span class=\"toc-item-num\">2.3&nbsp;&nbsp;</span>Поиск аномалий</a></span></li><li><span><a href=\"#Анализ-статистической-значимости-различий\" data-toc-modified-id=\"Анализ-статистической-значимости-различий-2.4\"><span class=\"toc-item-num\">2.4&nbsp;&nbsp;</span>Анализ статистической значимости различий</a></span></li><li><span><a href=\"#Графическое-изучение-результатов-A/B-теста-по-отфильтрованным-данным\" data-toc-modified-id=\"Графическое-изучение-результатов-A/B-теста-по-отфильтрованным-данным-2.5\"><span class=\"toc-item-num\">2.5&nbsp;&nbsp;</span>Графическое изучение результатов A/B-теста по отфильтрованным данным</a></span></li><li><span><a href=\"#Вывод\" data-toc-modified-id=\"Вывод-2.6\"><span class=\"toc-item-num\">2.6&nbsp;&nbsp;</span>Вывод</a></span></li></ul></li></ul></div>"
   ]
  },
  {
   "cell_type": "markdown",
   "metadata": {},
   "source": [
    "Имеется крупный интернет-магазина. Отделом маркетинга подготовлен список гипотез для увеличения выручки.\n",
    "\n",
    "**Цель проекта:** приоритизировать гипотезы по увеличению прибыли интернет-магазина, запустить и проанализировать результаты A/B-теста\n",
    "\n",
    "**Задачи:**\n",
    "\n",
    "1. Часть №1. Приоритизация гипотез\n",
    "    - Применить фреймворк ICE для приоритизации гипотез\n",
    "    - Применить фреймворк RICE для приоритизации гипотез\n",
    "2. Часть №2. Анализ A/B-теста\n",
    "    - Изучить графики выручки, среднего чека, количества заказов, стоимости заказов по группам\n",
    "    - Рассчитать статистическую значимость различий в среднем количестве заказов и среднем чеке по группам\n",
    "    - Принять решение по результатам теста\n",
    "\n",
    "\n",
    "**Данные**\n",
    "\n",
    "Таблица hypothesis (гипотезы)\n",
    "\n",
    "    Hypothesis — краткое описание гипотезы;\n",
    "    Reach — охват пользователей по 10-балльной шкале;\n",
    "    Impact — влияние на пользователей по 10-балльной шкале;\n",
    "    Confidence — уверенность в гипотезе по 10-балльной шкале;\n",
    "    Efforts — затраты ресурсов на проверку гипотезы по 10-балльной шкале. Чем больше значение Efforts, тем дороже проверка гипотезы.\n",
    "    \n",
    "Таблица orders (заказы)\n",
    "\n",
    "    transactionId — идентификатор заказа;\n",
    "    visitorId — идентификатор пользователя, совершившего заказ;\n",
    "    date — дата, когда был совершён заказ;\n",
    "    revenue — выручка заказа;\n",
    "    group — группа A/B-теста, в которую попал заказ.\n",
    "    \n",
    "Таблица visitors (пользователи)\n",
    "\n",
    "    date — дата;\n",
    "    group — группа A/B-теста;\n",
    "    visitors — количество пользователей в указанную дату в указанной группе A/B-теста\n",
    "    \n"
   ]
  },
  {
   "cell_type": "markdown",
   "metadata": {},
   "source": [
    "### Часть №1. Приоритизация гипотез"
   ]
  },
  {
   "cell_type": "markdown",
   "metadata": {},
   "source": [
    "Загрузим библиотеки"
   ]
  },
  {
   "cell_type": "code",
   "execution_count": 1,
   "metadata": {},
   "outputs": [],
   "source": [
    "import pandas as pd\n",
    "import scipy.stats as stats\n",
    "import numpy as np\n",
    "import math as mth\n",
    "import datetime as dt\n",
    "from matplotlib import pyplot as plt\n",
    "from pandas.plotting import register_matplotlib_converters"
   ]
  },
  {
   "cell_type": "code",
   "execution_count": 2,
   "metadata": {},
   "outputs": [],
   "source": [
    "# конвертеры, которые позволяют использовать типы pandas в matplotlib  \n",
    "register_matplotlib_converters()"
   ]
  },
  {
   "cell_type": "markdown",
   "metadata": {},
   "source": [
    "#### Загрузка данных"
   ]
  },
  {
   "cell_type": "code",
   "execution_count": 3,
   "metadata": {},
   "outputs": [],
   "source": [
    "try:\n",
    "    hypo = pd.read_csv('/datasets/hypothesis.csv')\n",
    "except:\n",
    "    hypo = pd.read_csv('E:/IT/Yandex/Projects/datasets/ab_hypothesis.csv')"
   ]
  },
  {
   "cell_type": "code",
   "execution_count": 3,
   "metadata": {
    "scrolled": false
   },
   "outputs": [
    {
     "data": {
      "text/html": [
       "<div>\n",
       "<style scoped>\n",
       "    .dataframe tbody tr th:only-of-type {\n",
       "        vertical-align: middle;\n",
       "    }\n",
       "\n",
       "    .dataframe tbody tr th {\n",
       "        vertical-align: top;\n",
       "    }\n",
       "\n",
       "    .dataframe thead th {\n",
       "        text-align: right;\n",
       "    }\n",
       "</style>\n",
       "<table border=\"1\" class=\"dataframe\">\n",
       "  <thead>\n",
       "    <tr style=\"text-align: right;\">\n",
       "      <th></th>\n",
       "      <th>Hypothesis</th>\n",
       "      <th>Reach</th>\n",
       "      <th>Impact</th>\n",
       "      <th>Confidence</th>\n",
       "      <th>Efforts</th>\n",
       "    </tr>\n",
       "  </thead>\n",
       "  <tbody>\n",
       "    <tr>\n",
       "      <th>0</th>\n",
       "      <td>Добавить два новых канала привлечения трафика,...</td>\n",
       "      <td>3</td>\n",
       "      <td>10</td>\n",
       "      <td>8</td>\n",
       "      <td>6</td>\n",
       "    </tr>\n",
       "    <tr>\n",
       "      <th>1</th>\n",
       "      <td>Запустить собственную службу доставки, что сок...</td>\n",
       "      <td>2</td>\n",
       "      <td>5</td>\n",
       "      <td>4</td>\n",
       "      <td>10</td>\n",
       "    </tr>\n",
       "    <tr>\n",
       "      <th>2</th>\n",
       "      <td>Добавить блоки рекомендаций товаров на сайт ин...</td>\n",
       "      <td>8</td>\n",
       "      <td>3</td>\n",
       "      <td>7</td>\n",
       "      <td>3</td>\n",
       "    </tr>\n",
       "    <tr>\n",
       "      <th>3</th>\n",
       "      <td>Изменить структура категорий, что увеличит кон...</td>\n",
       "      <td>8</td>\n",
       "      <td>3</td>\n",
       "      <td>3</td>\n",
       "      <td>8</td>\n",
       "    </tr>\n",
       "    <tr>\n",
       "      <th>4</th>\n",
       "      <td>Изменить цвет фона главной страницы, чтобы уве...</td>\n",
       "      <td>3</td>\n",
       "      <td>1</td>\n",
       "      <td>1</td>\n",
       "      <td>1</td>\n",
       "    </tr>\n",
       "    <tr>\n",
       "      <th>5</th>\n",
       "      <td>Добавить страницу отзывов клиентов о магазине,...</td>\n",
       "      <td>3</td>\n",
       "      <td>2</td>\n",
       "      <td>2</td>\n",
       "      <td>3</td>\n",
       "    </tr>\n",
       "    <tr>\n",
       "      <th>6</th>\n",
       "      <td>Показать на главной странице баннеры с актуаль...</td>\n",
       "      <td>5</td>\n",
       "      <td>3</td>\n",
       "      <td>8</td>\n",
       "      <td>3</td>\n",
       "    </tr>\n",
       "    <tr>\n",
       "      <th>7</th>\n",
       "      <td>Добавить форму подписки на все основные страни...</td>\n",
       "      <td>10</td>\n",
       "      <td>7</td>\n",
       "      <td>8</td>\n",
       "      <td>5</td>\n",
       "    </tr>\n",
       "    <tr>\n",
       "      <th>8</th>\n",
       "      <td>Запустить акцию, дающую скидку на товар в день...</td>\n",
       "      <td>1</td>\n",
       "      <td>9</td>\n",
       "      <td>9</td>\n",
       "      <td>5</td>\n",
       "    </tr>\n",
       "  </tbody>\n",
       "</table>\n",
       "</div>"
      ],
      "text/plain": [
       "                                          Hypothesis  Reach  Impact  \\\n",
       "0  Добавить два новых канала привлечения трафика,...      3      10   \n",
       "1  Запустить собственную службу доставки, что сок...      2       5   \n",
       "2  Добавить блоки рекомендаций товаров на сайт ин...      8       3   \n",
       "3  Изменить структура категорий, что увеличит кон...      8       3   \n",
       "4  Изменить цвет фона главной страницы, чтобы уве...      3       1   \n",
       "5  Добавить страницу отзывов клиентов о магазине,...      3       2   \n",
       "6  Показать на главной странице баннеры с актуаль...      5       3   \n",
       "7  Добавить форму подписки на все основные страни...     10       7   \n",
       "8  Запустить акцию, дающую скидку на товар в день...      1       9   \n",
       "\n",
       "   Confidence  Efforts  \n",
       "0           8        6  \n",
       "1           4       10  \n",
       "2           7        3  \n",
       "3           3        8  \n",
       "4           1        1  \n",
       "5           2        3  \n",
       "6           8        3  \n",
       "7           8        5  \n",
       "8           9        5  "
      ]
     },
     "execution_count": 3,
     "metadata": {},
     "output_type": "execute_result"
    }
   ],
   "source": [
    "hypo"
   ]
  },
  {
   "cell_type": "markdown",
   "metadata": {},
   "source": [
    "#### Расчет коэффициентов ICE и RICE\n",
    "Рассчитаем коэффициенты ICE и RICE для приоретизации гипотез"
   ]
  },
  {
   "cell_type": "code",
   "execution_count": 4,
   "metadata": {},
   "outputs": [],
   "source": [
    "hypo['ICE'] = round((hypo['Impact'] * hypo['Confidence']) / hypo['Efforts'], 1)\n",
    "hypo['RICE'] = (hypo['Reach'] * hypo['Impact'] * hypo['Confidence']) / hypo['Efforts']"
   ]
  },
  {
   "cell_type": "code",
   "execution_count": 5,
   "metadata": {},
   "outputs": [
    {
     "data": {
      "text/html": [
       "<div>\n",
       "<style scoped>\n",
       "    .dataframe tbody tr th:only-of-type {\n",
       "        vertical-align: middle;\n",
       "    }\n",
       "\n",
       "    .dataframe tbody tr th {\n",
       "        vertical-align: top;\n",
       "    }\n",
       "\n",
       "    .dataframe thead th {\n",
       "        text-align: right;\n",
       "    }\n",
       "</style>\n",
       "<table border=\"1\" class=\"dataframe\">\n",
       "  <thead>\n",
       "    <tr style=\"text-align: right;\">\n",
       "      <th></th>\n",
       "      <th>Hypothesis</th>\n",
       "      <th>Reach</th>\n",
       "      <th>Impact</th>\n",
       "      <th>Confidence</th>\n",
       "      <th>Efforts</th>\n",
       "      <th>ICE</th>\n",
       "      <th>RICE</th>\n",
       "    </tr>\n",
       "  </thead>\n",
       "  <tbody>\n",
       "    <tr>\n",
       "      <th>8</th>\n",
       "      <td>Запустить акцию, дающую скидку на товар в день...</td>\n",
       "      <td>1</td>\n",
       "      <td>9</td>\n",
       "      <td>9</td>\n",
       "      <td>5</td>\n",
       "      <td>16.2</td>\n",
       "      <td>16.2</td>\n",
       "    </tr>\n",
       "    <tr>\n",
       "      <th>0</th>\n",
       "      <td>Добавить два новых канала привлечения трафика,...</td>\n",
       "      <td>3</td>\n",
       "      <td>10</td>\n",
       "      <td>8</td>\n",
       "      <td>6</td>\n",
       "      <td>13.3</td>\n",
       "      <td>40.0</td>\n",
       "    </tr>\n",
       "    <tr>\n",
       "      <th>7</th>\n",
       "      <td>Добавить форму подписки на все основные страни...</td>\n",
       "      <td>10</td>\n",
       "      <td>7</td>\n",
       "      <td>8</td>\n",
       "      <td>5</td>\n",
       "      <td>11.2</td>\n",
       "      <td>112.0</td>\n",
       "    </tr>\n",
       "    <tr>\n",
       "      <th>6</th>\n",
       "      <td>Показать на главной странице баннеры с актуаль...</td>\n",
       "      <td>5</td>\n",
       "      <td>3</td>\n",
       "      <td>8</td>\n",
       "      <td>3</td>\n",
       "      <td>8.0</td>\n",
       "      <td>40.0</td>\n",
       "    </tr>\n",
       "    <tr>\n",
       "      <th>2</th>\n",
       "      <td>Добавить блоки рекомендаций товаров на сайт ин...</td>\n",
       "      <td>8</td>\n",
       "      <td>3</td>\n",
       "      <td>7</td>\n",
       "      <td>3</td>\n",
       "      <td>7.0</td>\n",
       "      <td>56.0</td>\n",
       "    </tr>\n",
       "  </tbody>\n",
       "</table>\n",
       "</div>"
      ],
      "text/plain": [
       "                                          Hypothesis  Reach  Impact  \\\n",
       "8  Запустить акцию, дающую скидку на товар в день...      1       9   \n",
       "0  Добавить два новых канала привлечения трафика,...      3      10   \n",
       "7  Добавить форму подписки на все основные страни...     10       7   \n",
       "6  Показать на главной странице баннеры с актуаль...      5       3   \n",
       "2  Добавить блоки рекомендаций товаров на сайт ин...      8       3   \n",
       "\n",
       "   Confidence  Efforts   ICE   RICE  \n",
       "8           9        5  16.2   16.2  \n",
       "0           8        6  13.3   40.0  \n",
       "7           8        5  11.2  112.0  \n",
       "6           8        3   8.0   40.0  \n",
       "2           7        3   7.0   56.0  "
      ]
     },
     "metadata": {},
     "output_type": "display_data"
    },
    {
     "data": {
      "text/html": [
       "<div>\n",
       "<style scoped>\n",
       "    .dataframe tbody tr th:only-of-type {\n",
       "        vertical-align: middle;\n",
       "    }\n",
       "\n",
       "    .dataframe tbody tr th {\n",
       "        vertical-align: top;\n",
       "    }\n",
       "\n",
       "    .dataframe thead th {\n",
       "        text-align: right;\n",
       "    }\n",
       "</style>\n",
       "<table border=\"1\" class=\"dataframe\">\n",
       "  <thead>\n",
       "    <tr style=\"text-align: right;\">\n",
       "      <th></th>\n",
       "      <th>Hypothesis</th>\n",
       "      <th>Reach</th>\n",
       "      <th>Impact</th>\n",
       "      <th>Confidence</th>\n",
       "      <th>Efforts</th>\n",
       "      <th>ICE</th>\n",
       "      <th>RICE</th>\n",
       "    </tr>\n",
       "  </thead>\n",
       "  <tbody>\n",
       "    <tr>\n",
       "      <th>7</th>\n",
       "      <td>Добавить форму подписки на все основные страни...</td>\n",
       "      <td>10</td>\n",
       "      <td>7</td>\n",
       "      <td>8</td>\n",
       "      <td>5</td>\n",
       "      <td>11.2</td>\n",
       "      <td>112.0</td>\n",
       "    </tr>\n",
       "    <tr>\n",
       "      <th>2</th>\n",
       "      <td>Добавить блоки рекомендаций товаров на сайт ин...</td>\n",
       "      <td>8</td>\n",
       "      <td>3</td>\n",
       "      <td>7</td>\n",
       "      <td>3</td>\n",
       "      <td>7.0</td>\n",
       "      <td>56.0</td>\n",
       "    </tr>\n",
       "    <tr>\n",
       "      <th>0</th>\n",
       "      <td>Добавить два новых канала привлечения трафика,...</td>\n",
       "      <td>3</td>\n",
       "      <td>10</td>\n",
       "      <td>8</td>\n",
       "      <td>6</td>\n",
       "      <td>13.3</td>\n",
       "      <td>40.0</td>\n",
       "    </tr>\n",
       "    <tr>\n",
       "      <th>6</th>\n",
       "      <td>Показать на главной странице баннеры с актуаль...</td>\n",
       "      <td>5</td>\n",
       "      <td>3</td>\n",
       "      <td>8</td>\n",
       "      <td>3</td>\n",
       "      <td>8.0</td>\n",
       "      <td>40.0</td>\n",
       "    </tr>\n",
       "    <tr>\n",
       "      <th>8</th>\n",
       "      <td>Запустить акцию, дающую скидку на товар в день...</td>\n",
       "      <td>1</td>\n",
       "      <td>9</td>\n",
       "      <td>9</td>\n",
       "      <td>5</td>\n",
       "      <td>16.2</td>\n",
       "      <td>16.2</td>\n",
       "    </tr>\n",
       "  </tbody>\n",
       "</table>\n",
       "</div>"
      ],
      "text/plain": [
       "                                          Hypothesis  Reach  Impact  \\\n",
       "7  Добавить форму подписки на все основные страни...     10       7   \n",
       "2  Добавить блоки рекомендаций товаров на сайт ин...      8       3   \n",
       "0  Добавить два новых канала привлечения трафика,...      3      10   \n",
       "6  Показать на главной странице баннеры с актуаль...      5       3   \n",
       "8  Запустить акцию, дающую скидку на товар в день...      1       9   \n",
       "\n",
       "   Confidence  Efforts   ICE   RICE  \n",
       "7           8        5  11.2  112.0  \n",
       "2           7        3   7.0   56.0  \n",
       "0           8        6  13.3   40.0  \n",
       "6           8        3   8.0   40.0  \n",
       "8           9        5  16.2   16.2  "
      ]
     },
     "metadata": {},
     "output_type": "display_data"
    }
   ],
   "source": [
    "display(hypo.sort_values(by='ICE', ascending=False).head())\n",
    "display(hypo.sort_values(by='RICE', ascending=False).head())"
   ]
  },
  {
   "cell_type": "markdown",
   "metadata": {},
   "source": [
    "Первые 5 приоритетных гипотез при расчете обоих показателей одинаковые: 0, 2, 6, 7 и 8, однако расположены в разном порядке по приоритетности.\n",
    "\n",
    "Без учета охвата аудитории, наиболее перспективными являются гипотезы 8, 0 и 7, показатель ICE для них выше 10. Однако по охвату аудитории, на которую повлияет нововведение, гипотезы 8 и 0 довольно малы. В то же время гипотеза №7 имеет максимальный охват аудитории, поэтому её введение имеет минимум в 2 раза выше показатель RICE, чем все остальные гипотезы."
   ]
  },
  {
   "cell_type": "markdown",
   "metadata": {},
   "source": [
    "#### Вывод\n",
    "\n",
    "В связи с тем, что гипотеза №7 имеет высокий приоритет как без учета охвата аудитории, так и с его учетом, она представляется наиболее перспективной для дальнейшего тестирования."
   ]
  },
  {
   "cell_type": "markdown",
   "metadata": {},
   "source": [
    "### Часть №2. Анализ A/B-теста"
   ]
  },
  {
   "cell_type": "markdown",
   "metadata": {},
   "source": [
    "#### Загрузка данных\n",
    "Загрузим данные о результатах проведенного A/B-теста"
   ]
  },
  {
   "cell_type": "code",
   "execution_count": 5,
   "metadata": {},
   "outputs": [],
   "source": [
    "try:\n",
    "    orders = pd.read_csv('/datasets/orders.csv')\n",
    "    visitors = pd.read_csv('/datasets/visitors.csv')\n",
    "except:\n",
    "    orders = pd.read_csv('E:/IT/Yandex/Projects/datasets/ab_orders.csv')\n",
    "    visitors = pd.read_csv('E:/IT/Yandex/Projects/datasets/ab_visitors.csv')"
   ]
  },
  {
   "cell_type": "markdown",
   "metadata": {},
   "source": [
    "Изучим данные"
   ]
  },
  {
   "cell_type": "code",
   "execution_count": 6,
   "metadata": {},
   "outputs": [],
   "source": [
    "# Определим функцию для знакомства с базой данных и проверки её на явные дубликаты\n",
    "def database_check(db):\n",
    "    print('Случайные 2 строки базы данных')\n",
    "    display(db.sample(2, random_state=0))\n",
    "    print('---')\n",
    "    print('Общая информация о базе данных')\n",
    "    db.info()\n",
    "    print('---')\n",
    "    print('Пропущенных значений в строках:')\n",
    "    print(db.isna().sum())\n",
    "    print('---')\n",
    "    print('Явных дубликатов в базе данных:', db.duplicated().sum())"
   ]
  },
  {
   "cell_type": "code",
   "execution_count": 9,
   "metadata": {},
   "outputs": [
    {
     "name": "stdout",
     "output_type": "stream",
     "text": [
      "---\n",
      "База данных orders\n",
      "Случайные 2 строки базы данных\n"
     ]
    },
    {
     "data": {
      "text/html": [
       "<div>\n",
       "<style scoped>\n",
       "    .dataframe tbody tr th:only-of-type {\n",
       "        vertical-align: middle;\n",
       "    }\n",
       "\n",
       "    .dataframe tbody tr th {\n",
       "        vertical-align: top;\n",
       "    }\n",
       "\n",
       "    .dataframe thead th {\n",
       "        text-align: right;\n",
       "    }\n",
       "</style>\n",
       "<table border=\"1\" class=\"dataframe\">\n",
       "  <thead>\n",
       "    <tr style=\"text-align: right;\">\n",
       "      <th></th>\n",
       "      <th>Unnamed: 0</th>\n",
       "      <th>transactionId</th>\n",
       "      <th>visitorId</th>\n",
       "      <th>date</th>\n",
       "      <th>revenue</th>\n",
       "      <th>group</th>\n",
       "    </tr>\n",
       "  </thead>\n",
       "  <tbody>\n",
       "    <tr>\n",
       "      <th>700</th>\n",
       "      <td>700</td>\n",
       "      <td>2472751116</td>\n",
       "      <td>2328791559</td>\n",
       "      <td>2019-08-07</td>\n",
       "      <td>2070</td>\n",
       "      <td>B</td>\n",
       "    </tr>\n",
       "    <tr>\n",
       "      <th>621</th>\n",
       "      <td>621</td>\n",
       "      <td>380504587</td>\n",
       "      <td>1831140265</td>\n",
       "      <td>2019-08-29</td>\n",
       "      <td>26550</td>\n",
       "      <td>A</td>\n",
       "    </tr>\n",
       "  </tbody>\n",
       "</table>\n",
       "</div>"
      ],
      "text/plain": [
       "     Unnamed: 0  transactionId   visitorId        date  revenue group\n",
       "700         700     2472751116  2328791559  2019-08-07     2070     B\n",
       "621         621      380504587  1831140265  2019-08-29    26550     A"
      ]
     },
     "metadata": {},
     "output_type": "display_data"
    },
    {
     "name": "stdout",
     "output_type": "stream",
     "text": [
      "---\n",
      "Общая информация о базе данных\n",
      "<class 'pandas.core.frame.DataFrame'>\n",
      "RangeIndex: 1197 entries, 0 to 1196\n",
      "Data columns (total 6 columns):\n",
      " #   Column         Non-Null Count  Dtype \n",
      "---  ------         --------------  ----- \n",
      " 0   Unnamed: 0     1197 non-null   int64 \n",
      " 1   transactionId  1197 non-null   int64 \n",
      " 2   visitorId      1197 non-null   int64 \n",
      " 3   date           1197 non-null   object\n",
      " 4   revenue        1197 non-null   int64 \n",
      " 5   group          1197 non-null   object\n",
      "dtypes: int64(4), object(2)\n",
      "memory usage: 56.2+ KB\n",
      "---\n",
      "Пропущенных значений в строках:\n",
      "Unnamed: 0       0\n",
      "transactionId    0\n",
      "visitorId        0\n",
      "date             0\n",
      "revenue          0\n",
      "group            0\n",
      "dtype: int64\n",
      "---\n",
      "Явных дубликатов в базе данных: 0\n",
      "---\n",
      "База данных visitors\n",
      "Случайные 2 строки базы данных\n"
     ]
    },
    {
     "data": {
      "text/html": [
       "<div>\n",
       "<style scoped>\n",
       "    .dataframe tbody tr th:only-of-type {\n",
       "        vertical-align: middle;\n",
       "    }\n",
       "\n",
       "    .dataframe tbody tr th {\n",
       "        vertical-align: top;\n",
       "    }\n",
       "\n",
       "    .dataframe thead th {\n",
       "        text-align: right;\n",
       "    }\n",
       "</style>\n",
       "<table border=\"1\" class=\"dataframe\">\n",
       "  <thead>\n",
       "    <tr style=\"text-align: right;\">\n",
       "      <th></th>\n",
       "      <th>Unnamed: 0</th>\n",
       "      <th>date</th>\n",
       "      <th>group</th>\n",
       "      <th>visitors</th>\n",
       "    </tr>\n",
       "  </thead>\n",
       "  <tbody>\n",
       "    <tr>\n",
       "      <th>30</th>\n",
       "      <td>30</td>\n",
       "      <td>2019-08-31</td>\n",
       "      <td>A</td>\n",
       "      <td>699</td>\n",
       "    </tr>\n",
       "    <tr>\n",
       "      <th>32</th>\n",
       "      <td>32</td>\n",
       "      <td>2019-08-02</td>\n",
       "      <td>B</td>\n",
       "      <td>581</td>\n",
       "    </tr>\n",
       "  </tbody>\n",
       "</table>\n",
       "</div>"
      ],
      "text/plain": [
       "    Unnamed: 0        date group  visitors\n",
       "30          30  2019-08-31     A       699\n",
       "32          32  2019-08-02     B       581"
      ]
     },
     "metadata": {},
     "output_type": "display_data"
    },
    {
     "name": "stdout",
     "output_type": "stream",
     "text": [
      "---\n",
      "Общая информация о базе данных\n",
      "<class 'pandas.core.frame.DataFrame'>\n",
      "RangeIndex: 62 entries, 0 to 61\n",
      "Data columns (total 4 columns):\n",
      " #   Column      Non-Null Count  Dtype \n",
      "---  ------      --------------  ----- \n",
      " 0   Unnamed: 0  62 non-null     int64 \n",
      " 1   date        62 non-null     object\n",
      " 2   group       62 non-null     object\n",
      " 3   visitors    62 non-null     int64 \n",
      "dtypes: int64(2), object(2)\n",
      "memory usage: 2.1+ KB\n",
      "---\n",
      "Пропущенных значений в строках:\n",
      "Unnamed: 0    0\n",
      "date          0\n",
      "group         0\n",
      "visitors      0\n",
      "dtype: int64\n",
      "---\n",
      "Явных дубликатов в базе данных: 0\n"
     ]
    }
   ],
   "source": [
    "# Определим список баз данных для проверки\n",
    "dtb = {\n",
    "    \"orders\": orders,\n",
    "    \"visitors\": visitors\n",
    "    }\n",
    "# Проведем знакомство с базами данных\n",
    "for name, database in dtb.items():\n",
    "    print('---')\n",
    "    print('База данных', name)\n",
    "    database_check(database)"
   ]
  },
  {
   "cell_type": "code",
   "execution_count": 10,
   "metadata": {},
   "outputs": [
    {
     "name": "stdout",
     "output_type": "stream",
     "text": [
      "Временной срез данных: c 2019-08-01 по 2019-08-31\n"
     ]
    }
   ],
   "source": [
    "print('Временной срез данных: c {} по {}'.format(visitors['date'].min(), visitors['date'].max()))"
   ]
  },
  {
   "cell_type": "markdown",
   "metadata": {},
   "source": [
    "Данные записаны в верхных форматах, кроме дат. Переведем их в формат datetime"
   ]
  },
  {
   "cell_type": "code",
   "execution_count": 8,
   "metadata": {},
   "outputs": [],
   "source": [
    "orders['date'] = pd.to_datetime(orders['date'])\n",
    "visitors['date'] = pd.to_datetime(visitors['date'])"
   ]
  },
  {
   "cell_type": "code",
   "execution_count": 11,
   "metadata": {},
   "outputs": [
    {
     "data": {
      "text/html": [
       "<div>\n",
       "<style scoped>\n",
       "    .dataframe tbody tr th:only-of-type {\n",
       "        vertical-align: middle;\n",
       "    }\n",
       "\n",
       "    .dataframe tbody tr th {\n",
       "        vertical-align: top;\n",
       "    }\n",
       "\n",
       "    .dataframe thead th {\n",
       "        text-align: right;\n",
       "    }\n",
       "</style>\n",
       "<table border=\"1\" class=\"dataframe\">\n",
       "  <thead>\n",
       "    <tr style=\"text-align: right;\">\n",
       "      <th></th>\n",
       "      <th>group</th>\n",
       "      <th>visitorId</th>\n",
       "    </tr>\n",
       "  </thead>\n",
       "  <tbody>\n",
       "    <tr>\n",
       "      <th>0</th>\n",
       "      <td>A</td>\n",
       "      <td>503</td>\n",
       "    </tr>\n",
       "    <tr>\n",
       "      <th>1</th>\n",
       "      <td>B</td>\n",
       "      <td>586</td>\n",
       "    </tr>\n",
       "  </tbody>\n",
       "</table>\n",
       "</div>"
      ],
      "text/plain": [
       "  group  visitorId\n",
       "0     A        503\n",
       "1     B        586"
      ]
     },
     "metadata": {},
     "output_type": "display_data"
    },
    {
     "name": "stdout",
     "output_type": "stream",
     "text": [
      "Процент пользователей от общего числа в группе A: 46%, в группе B: 54%\n"
     ]
    }
   ],
   "source": [
    "display(orders.groupby('group', as_index=False).agg({'visitorId': 'nunique'}))\n",
    "print('Процент пользователей от общего числа в группе A: {0:.0f}%, в группе B: {1:.0f}%'.format((503/1089*100), (586/1089*100)))"
   ]
  },
  {
   "cell_type": "markdown",
   "metadata": {},
   "source": [
    "Первое различие между группами - разница на 8% в количестве пользователей, которые сделали заказы: в группе В заказов сделали больше."
   ]
  },
  {
   "cell_type": "markdown",
   "metadata": {},
   "source": [
    "Проверим, все ли пользователи уникальны в каждой из групп"
   ]
  },
  {
   "cell_type": "code",
   "execution_count": 10,
   "metadata": {},
   "outputs": [
    {
     "name": "stdout",
     "output_type": "stream",
     "text": [
      "Количество пользователей, присутствующих в обеих группах: 58\n"
     ]
    }
   ],
   "source": [
    "group_a = orders[orders['group'] == 'A']['visitorId']\n",
    "group_b = orders[orders['group'] == 'B']['visitorId']\n",
    "\n",
    "duplicate_users = pd.Series(list(set(group_a) & set(group_b)))\n",
    "print('Количество пользователей, присутствующих в обеих группах:', len(duplicate_users))"
   ]
  },
  {
   "cell_type": "markdown",
   "metadata": {},
   "source": [
    "Удалим такие записи, так как они нарушают чистоту эксперимента"
   ]
  },
  {
   "cell_type": "code",
   "execution_count": 11,
   "metadata": {},
   "outputs": [],
   "source": [
    "orders = orders[np.logical_not(orders['visitorId'].isin(duplicate_users))]"
   ]
  },
  {
   "cell_type": "markdown",
   "metadata": {},
   "source": [
    "База данных заказов (orders) содержит 1197 записей, среди которых явных дубликатов не выявлено. База данных посещений (visitors) содержит 62 записи, среди которых явных дубликатов не выявлено. Формат записи данных о датах изменен на datetime. Выявлено 58 пользователей, присутствующих в обеих группах: такие записи были удалены с целью не нарушать чистоты эксперимента.\n",
    "\n",
    "Временной срез данных: с 1 по 31 августа 2019 года (31 день)"
   ]
  },
  {
   "cell_type": "markdown",
   "metadata": {},
   "source": [
    "#### Графическое изучение результатов A/B-теста"
   ]
  },
  {
   "cell_type": "code",
   "execution_count": 12,
   "metadata": {},
   "outputs": [
    {
     "data": {
      "image/png": "[encoded data removed]",
      "text/plain": [
       "<Figure size 504x360 with 1 Axes>"
      ]
     },
     "metadata": {
      "needs_background": "light"
     },
     "output_type": "display_data"
    }
   ],
   "source": [
    "# Кумулятивная выручка по группам\n",
    "\n",
    "datesGroups = orders[['date', 'group']].drop_duplicates()\n",
    "\n",
    "ordersAggregated = datesGroups.apply(\n",
    "    lambda x: orders[\n",
    "        np.logical_and(\n",
    "            orders['date'] <= x['date'], orders['group'] == x['group']\n",
    "        )\n",
    "    ].agg(\n",
    "        {\n",
    "            'date': 'max',\n",
    "            'group': 'max',\n",
    "            'transactionId': 'nunique',\n",
    "            'visitorId': 'nunique',\n",
    "            'revenue': 'sum',\n",
    "        }\n",
    "    ),\n",
    "    axis=1,\n",
    ").sort_values(by=['date', 'group'])\n",
    "\n",
    "visitorsAggregated = datesGroups.apply(\n",
    "    lambda x: visitors[\n",
    "        np.logical_and(\n",
    "            visitors['date'] <= x['date'], visitors['group'] == x['group']\n",
    "        )\n",
    "    ].agg({'date': 'max', 'group': 'max', 'visitors': 'sum'}),\n",
    "    axis=1,\n",
    ").sort_values(by=['date', 'group'])\n",
    "\n",
    "cumulativeData = ordersAggregated.merge(\n",
    "    visitorsAggregated, left_on=['date', 'group'], right_on=['date', 'group']\n",
    ")\n",
    "cumulativeData.columns = [\n",
    "    'date',\n",
    "    'group',\n",
    "    'orders',\n",
    "    'buyers',\n",
    "    'revenue',\n",
    "    'visitors',\n",
    "]\n",
    "\n",
    "cumulativeRevenueA = cumulativeData[cumulativeData['group'] == 'A'][['date','revenue', 'orders']]\n",
    "cumulativeRevenueB = cumulativeData[cumulativeData['group'] == 'B'][['date','revenue', 'orders']]\n",
    "\n",
    "# График\n",
    "plt.figure(figsize=(7, 5))\n",
    "plt.plot(cumulativeRevenueA['date'], cumulativeRevenueA['revenue'], label='A')\n",
    "plt.plot(cumulativeRevenueB['date'], cumulativeRevenueB['revenue'], label='B')\n",
    "plt.xticks(rotation=60, ha='right')\n",
    "plt.xlabel('Дата')\n",
    "plt.ylabel('Выручка')\n",
    "plt.title('Кумулятивная выручка по группам')\n",
    "plt.legend()\n",
    "plt.show()"
   ]
  },
  {
   "cell_type": "markdown",
   "metadata": {},
   "source": [
    "Кумулятивная выручка по обеим группам стабильно повышается, без заметных периодов стагнации, что хорошо. Первую неделю теста выручка в обеих группах была практически идентичной, однако со второй недели группа В стала заметно опережать по выручке группу А. В районе 20.08.2019 выручка в группе В резко повысилась, значительно обогнав показатели группы А, что может быть связано с аномально крупными заказами в этот период. Из-за такого резкого единовременного повышения выручки в группе В, к концу изучаемого периода кумулятивная выручка этой группы оказалась значительно выше, чем у группы А."
   ]
  },
  {
   "cell_type": "code",
   "execution_count": 13,
   "metadata": {},
   "outputs": [
    {
     "data": {
      "image/png": "[encoded data removed]",
      "text/plain": [
       "<Figure size 504x360 with 1 Axes>"
      ]
     },
     "metadata": {
      "needs_background": "light"
     },
     "output_type": "display_data"
    }
   ],
   "source": [
    "# Средний чек по группам\n",
    "\n",
    "cumulativeRevenueA = cumulativeData[cumulativeData['group'] == 'A'][\n",
    "    ['date', 'revenue', 'orders']\n",
    "]\n",
    "cumulativeRevenueB = cumulativeData[cumulativeData['group'] == 'B'][\n",
    "    ['date', 'revenue', 'orders']\n",
    "]\n",
    "\n",
    "# График\n",
    "plt.figure(figsize=(7, 5))\n",
    "plt.plot(cumulativeRevenueA['date'], cumulativeRevenueA['revenue']/cumulativeRevenueA['orders'], label='A')\n",
    "plt.plot(cumulativeRevenueB['date'], cumulativeRevenueB['revenue']/cumulativeRevenueB['orders'], label='B')\n",
    "plt.xticks(rotation=60, ha='right')\n",
    "plt.xlabel('Дата')\n",
    "plt.ylabel('Средний чек')\n",
    "plt.title('Средний чек по группам')\n",
    "plt.legend()\n",
    "plt.show()"
   ]
  },
  {
   "cell_type": "markdown",
   "metadata": {},
   "source": [
    "Первые две недели исследования средний чек в обеих группах сильно колебался, но к 20-м числам месяца в группе А он выровнялся около 7000 рублей. В то же время, в районе 20 августа средний чек группы В резко взлетел до 10000 рублей, после чего стал планомерно снижаться. Это ещё раз подтверждает гипотезу о том, что в эти числа был сделан аномально крупный заказ, который искажает общую картину"
   ]
  },
  {
   "cell_type": "code",
   "execution_count": 14,
   "metadata": {},
   "outputs": [
    {
     "data": {
      "image/png": "[encoded data removed]",
      "text/plain": [
       "<Figure size 432x288 with 1 Axes>"
      ]
     },
     "metadata": {
      "needs_background": "light"
     },
     "output_type": "display_data"
    }
   ],
   "source": [
    "# Относительное изменение кумулятивного среднего чека группы B к группе A\n",
    "mergedCumulativeRevenue = cumulativeRevenueA.merge(cumulativeRevenueB, left_on='date', right_on='date', how='left', suffixes=['A', 'B'])\n",
    "\n",
    "# График\n",
    "plt.plot(mergedCumulativeRevenue['date'], (mergedCumulativeRevenue['revenueB']/mergedCumulativeRevenue['ordersB'])/(mergedCumulativeRevenue['revenueA']/mergedCumulativeRevenue['ordersA']) - 1)\n",
    "plt.axhline(y=0, color='black', linestyle='--')\n",
    "plt.xticks(rotation=60, ha='right')\n",
    "plt.xlabel('Дата')\n",
    "plt.ylabel('Отношение')\n",
    "plt.title('Относительное изменение кумулятивного среднего чека группы B к группе A')\n",
    "plt.show()"
   ]
  },
  {
   "cell_type": "markdown",
   "metadata": {},
   "source": [
    "Не считая первых чисел и небольшого \"провала\" в середине месяца, средний чек в группе В был выше, чем в группе А, до 50%."
   ]
  },
  {
   "cell_type": "code",
   "execution_count": 15,
   "metadata": {},
   "outputs": [
    {
     "data": {
      "image/png": "[encoded data removed]",
      "text/plain": [
       "<Figure size 432x288 with 1 Axes>"
      ]
     },
     "metadata": {
      "needs_background": "light"
     },
     "output_type": "display_data"
    }
   ],
   "source": [
    "# Кумулятивная конверсия по группам\n",
    "cumulativeData['conversion'] = cumulativeData['orders'] / cumulativeData['visitors']\n",
    "\n",
    "cumulativeDataA = cumulativeData[cumulativeData['group'] == 'A']\n",
    "cumulativeDataB = cumulativeData[cumulativeData['group'] == 'B']\n",
    "\n",
    "# График\n",
    "plt.plot(cumulativeDataA['date'], cumulativeDataA['conversion'], label='A')\n",
    "plt.plot(cumulativeDataB['date'], cumulativeDataB['conversion'], label='B')\n",
    "plt.axis(['2019-08-01', '2019-08-31', 0, 0.05])\n",
    "plt.xticks(rotation=60, ha='right')\n",
    "plt.xlabel('Дата')\n",
    "plt.ylabel('Конверсия')\n",
    "plt.title('Кумулятивная конверсия по группам')\n",
    "plt.legend()\n",
    "plt.show()"
   ]
  },
  {
   "cell_type": "markdown",
   "metadata": {},
   "source": [
    "Кумулятивная конверсия колебаласть первую неделю, но где-то со второй недели теста конверсия в группе В стала стабильно выше, чем в группе А."
   ]
  },
  {
   "cell_type": "code",
   "execution_count": 16,
   "metadata": {
    "scrolled": true
   },
   "outputs": [
    {
     "data": {
      "image/png": "[encoded data removed]",
      "text/plain": [
       "<Figure size 432x288 with 1 Axes>"
      ]
     },
     "metadata": {
      "needs_background": "light"
     },
     "output_type": "display_data"
    }
   ],
   "source": [
    "# Относительный прирост конверсии группы B относительно группы A\n",
    "mergedCumulativeConversions = cumulativeDataA[['date','conversion']].merge(cumulativeDataB[['date', 'conversion']], left_on='date', right_on='date', how='left', suffixes=['A', 'B'])\n",
    "\n",
    "# График\n",
    "plt.plot(mergedCumulativeConversions['date'], mergedCumulativeConversions['conversionB']/mergedCumulativeConversions['conversionA'] - 1)\n",
    "plt.axhline(y=0, color='black', linestyle='--')\n",
    "plt.axhline(y=0.1, color='#C1CDCD', linestyle='--')\n",
    "plt.axhline(y=0.2, color='grey', linestyle='--')\n",
    "plt.axis([\"2019-08-01\", '2019-08-31', -0.5, 0.5])\n",
    "plt.xticks(rotation=60, ha='right')\n",
    "plt.xlabel('Дата')\n",
    "plt.ylabel('Отношение')\n",
    "plt.title('Относительный прирост конверсии группы B относительно группы A')\n",
    "plt.show()"
   ]
  },
  {
   "cell_type": "markdown",
   "metadata": {},
   "source": [
    "Предыдущий вывод подтверждается на графике относительного прироста конверсии. После первой недели конверсия в группе В стала стабильно на 10-20% выше, чем в группе А."
   ]
  },
  {
   "cell_type": "markdown",
   "metadata": {},
   "source": [
    "#### Поиск аномалий"
   ]
  },
  {
   "cell_type": "code",
   "execution_count": 17,
   "metadata": {},
   "outputs": [
    {
     "data": {
      "image/png": "[encoded data removed]",
      "text/plain": [
       "<Figure size 432x288 with 1 Axes>"
      ]
     },
     "metadata": {
      "needs_background": "light"
     },
     "output_type": "display_data"
    }
   ],
   "source": [
    "# Точечный график количества заказов по пользователям\n",
    "ordersByUsers = orders.groupby('visitorId', as_index=False).agg({'transactionId':'nunique'})\n",
    "\n",
    "x_values = pd.Series(range(0, len(ordersByUsers)))\n",
    "\n",
    "# График\n",
    "plt.scatter(x_values, ordersByUsers['transactionId'])\n",
    "plt.xlabel('Наблюдения')\n",
    "plt.ylabel('Количество заказов')\n",
    "plt.title('Количество заказов по пользователям')\n",
    "plt.show()"
   ]
  },
  {
   "cell_type": "code",
   "execution_count": 18,
   "metadata": {},
   "outputs": [
    {
     "name": "stdout",
     "output_type": "stream",
     "text": [
      "[1. 2.]\n"
     ]
    }
   ],
   "source": [
    "# 95-й и 99-й перцентили количества заказов на пользователя\n",
    "print(np.percentile(ordersByUsers['transactionId'], [95, 99]))"
   ]
  },
  {
   "cell_type": "markdown",
   "metadata": {},
   "source": [
    "Всего 1% пользователей совершает более 2 заказов. Будем считать такие заказы аномалиями"
   ]
  },
  {
   "cell_type": "code",
   "execution_count": 19,
   "metadata": {},
   "outputs": [
    {
     "data": {
      "image/png": "[encoded data removed]",
      "text/plain": [
       "<Figure size 432x288 with 1 Axes>"
      ]
     },
     "metadata": {
      "needs_background": "light"
     },
     "output_type": "display_data"
    }
   ],
   "source": [
    "# Точечный график стоимостей заказов\n",
    "x_values = pd.Series(range(0, len(orders['revenue'])))\n",
    "\n",
    "plt.scatter(x_values, orders['revenue'])\n",
    "plt.xlabel('Наблюдения')\n",
    "plt.ylabel('Стоимость заказов')\n",
    "plt.title('Стоимость заказов по пользователям')\n",
    "plt.show()"
   ]
  },
  {
   "cell_type": "code",
   "execution_count": 20,
   "metadata": {},
   "outputs": [
    {
     "name": "stdout",
     "output_type": "stream",
     "text": [
      "[26785. 53904.]\n"
     ]
    }
   ],
   "source": [
    "# 95-й и 99-й перцентили стоимости заказов\n",
    "print(np.percentile(orders['revenue'], [95, 99]))"
   ]
  },
  {
   "cell_type": "markdown",
   "metadata": {},
   "source": [
    "Всего 5% пользователей совершает покупки дороже 26785 рублей. Будем считать все заказы дороже этой суммы аномалиями."
   ]
  },
  {
   "cell_type": "markdown",
   "metadata": {},
   "source": [
    "Таким образом, пользователи, совершающие 3 и более заказов в месяц считаются аномальными, и заказы стоимостью более 26785 рублей тоже считаем аномальными."
   ]
  },
  {
   "cell_type": "code",
   "execution_count": 35,
   "metadata": {},
   "outputs": [],
   "source": [
    "# Передадим переменным значения перцентилей, чтобы использовать в дальнейшей фильтрации данных\n",
    "an_orders = int(np.percentile(ordersByUsers['transactionId'], [99]))\n",
    "an_transactions = int(np.percentile(orders['revenue'], [95]))"
   ]
  },
  {
   "cell_type": "markdown",
   "metadata": {},
   "source": [
    "#### Анализ статистической значимости различий"
   ]
  },
  {
   "cell_type": "markdown",
   "metadata": {},
   "source": [
    "Проверим гипотезы о существовании различий между группами А и В.\n",
    "\n",
    "**Гипотеза №1**\n",
    "\n",
    "Н0: Конверсия в группе А и В равны, Н1: Конверсия в группе А и В не равны\n",
    "\n",
    "Зададим оптимальный уровень значимости alpha=0.05. Для проверки гипотезы применим U-критерий Манна — Уитни, хорошо подходящий для выборок с распределением, отличным от нормального, с большим количеством выбросов."
   ]
  },
  {
   "cell_type": "markdown",
   "metadata": {},
   "source": [
    "Расчитаем на основе таблицы заказов, сколько заказов было сделано каждый день"
   ]
  },
  {
   "cell_type": "code",
   "execution_count": 22,
   "metadata": {
    "scrolled": true
   },
   "outputs": [
    {
     "data": {
      "text/html": [
       "<div>\n",
       "<style scoped>\n",
       "    .dataframe tbody tr th:only-of-type {\n",
       "        vertical-align: middle;\n",
       "    }\n",
       "\n",
       "    .dataframe tbody tr th {\n",
       "        vertical-align: top;\n",
       "    }\n",
       "\n",
       "    .dataframe thead th {\n",
       "        text-align: right;\n",
       "    }\n",
       "</style>\n",
       "<table border=\"1\" class=\"dataframe\">\n",
       "  <thead>\n",
       "    <tr style=\"text-align: right;\">\n",
       "      <th></th>\n",
       "      <th>date</th>\n",
       "      <th>group</th>\n",
       "      <th>order_amount</th>\n",
       "      <th>total_revenue</th>\n",
       "    </tr>\n",
       "  </thead>\n",
       "  <tbody>\n",
       "    <tr>\n",
       "      <th>0</th>\n",
       "      <td>2019-08-01</td>\n",
       "      <td>A</td>\n",
       "      <td>23</td>\n",
       "      <td>142779</td>\n",
       "    </tr>\n",
       "    <tr>\n",
       "      <th>1</th>\n",
       "      <td>2019-08-01</td>\n",
       "      <td>B</td>\n",
       "      <td>17</td>\n",
       "      <td>59758</td>\n",
       "    </tr>\n",
       "    <tr>\n",
       "      <th>2</th>\n",
       "      <td>2019-08-02</td>\n",
       "      <td>A</td>\n",
       "      <td>19</td>\n",
       "      <td>91602</td>\n",
       "    </tr>\n",
       "    <tr>\n",
       "      <th>3</th>\n",
       "      <td>2019-08-02</td>\n",
       "      <td>B</td>\n",
       "      <td>23</td>\n",
       "      <td>162043</td>\n",
       "    </tr>\n",
       "    <tr>\n",
       "      <th>4</th>\n",
       "      <td>2019-08-03</td>\n",
       "      <td>A</td>\n",
       "      <td>24</td>\n",
       "      <td>112473</td>\n",
       "    </tr>\n",
       "  </tbody>\n",
       "</table>\n",
       "</div>"
      ],
      "text/plain": [
       "        date group  order_amount  total_revenue\n",
       "0 2019-08-01     A            23         142779\n",
       "1 2019-08-01     B            17          59758\n",
       "2 2019-08-02     A            19          91602\n",
       "3 2019-08-02     B            23         162043\n",
       "4 2019-08-03     A            24         112473"
      ]
     },
     "execution_count": 22,
     "metadata": {},
     "output_type": "execute_result"
    }
   ],
   "source": [
    "orders_per_day = orders.pivot_table(index=['date', 'group'], values=['revenue'], aggfunc=['count', 'sum']).reset_index()\n",
    "orders_per_day.columns=['date', 'group', 'order_amount', 'total_revenue']\n",
    "orders_per_day.head()"
   ]
  },
  {
   "cell_type": "code",
   "execution_count": 23,
   "metadata": {},
   "outputs": [
    {
     "name": "stdout",
     "output_type": "stream",
     "text": [
      "---\n",
      "p-value 0.011\n",
      "Отвергаем нулевую гипотезу\n",
      "Разница между группой В и А 15.980%\n"
     ]
    }
   ],
   "source": [
    "ordersByUsersA = (\n",
    "    orders[orders['group'] == 'A']\n",
    "    .groupby('visitorId', as_index=False)\n",
    "    .agg({'transactionId': pd.Series.nunique})\n",
    ")\n",
    "ordersByUsersA.columns = ['userId', 'orders']\n",
    "\n",
    "ordersByUsersB = (\n",
    "    orders[orders['group'] == 'B']\n",
    "    .groupby('visitorId', as_index=False)\n",
    "    .agg({'transactionId': pd.Series.nunique})\n",
    ")\n",
    "ordersByUsersB.columns = ['userId', 'orders']\n",
    "\n",
    "sampleA = pd.concat(\n",
    "    [\n",
    "        ordersByUsersA['orders'],\n",
    "        pd.Series(\n",
    "            0,\n",
    "            index=np.arange(\n",
    "                visitors.query('group == \"A\"')['visitors'].sum() - len(ordersByUsersA['orders'])\n",
    "            ),\n",
    "            name='orders',\n",
    "        ),\n",
    "    ],\n",
    "    axis=0,\n",
    ")\n",
    "\n",
    "sampleB = pd.concat(\n",
    "    [\n",
    "        ordersByUsersB['orders'],\n",
    "        pd.Series(\n",
    "            0,\n",
    "            index=np.arange(\n",
    "                visitors.query('group == \"B\"')['visitors'].sum() - len(ordersByUsersB['orders'])\n",
    "            ),\n",
    "            name='orders',\n",
    "        ),\n",
    "    ],\n",
    "    axis=0,\n",
    ")\n",
    "\n",
    "print('---')\n",
    "print(\"p-value {0:.3f}\".format(stats.mannwhitneyu(sampleA, sampleB)[1]))\n",
    "\n",
    "if stats.mannwhitneyu(sampleA, sampleB)[1] > 0.05:\n",
    "    print('Причин отвергнуть нулевую гипотезу не найдено')\n",
    "else:\n",
    "    print('Отвергаем нулевую гипотезу')\n",
    "    \n",
    "print(\n",
    "    \"Разница между группой В и А {0:.3f}%\".format((\n",
    "        (orders_per_day.query('group == \"B\"')['order_amount'].sum() / visitors.query('group == \"B\"')['visitors'].sum())\n",
    "        / (orders_per_day.query('group == \"A\"')['order_amount'].sum() / visitors.query('group == \"A\"')['visitors'].sum())\n",
    "        - 1) * 100)\n",
    ")"
   ]
  },
  {
   "cell_type": "markdown",
   "metadata": {},
   "source": [
    "p-value = 0.011, что меньше 0.05, поэтому нулевую гипотезу о равенстве выборок мы не можем подтвердить. Различия в конверсии имеются в пользу группы В и это различие составляет почти 16%."
   ]
  },
  {
   "cell_type": "markdown",
   "metadata": {},
   "source": [
    "**Гипотеза №2**\n",
    "\n",
    "Н0: Средние чеки в группе А и В равны, Н1: Средние чеки в группе А и В не равны\n",
    "\n",
    "Зададим оптимальный уровень значимости alpha=0.05. Для проверки гипотезы применим U-критерий Манна — Уитни, хорошо подходящий для выборок с распределением, отличным от нормального, с большим количеством выбросов."
   ]
  },
  {
   "cell_type": "code",
   "execution_count": 24,
   "metadata": {},
   "outputs": [
    {
     "name": "stdout",
     "output_type": "stream",
     "text": [
      "p-value 0.829\n",
      "Причин отвергнуть нулевую гипотезу не найдено\n",
      "Разница между группой В и А 28.660%\n"
     ]
    }
   ],
   "source": [
    "# Расчет статистической значимости различий в среднем чеке заказа между группами по «сырым» данным.\n",
    "\n",
    "print('p-value {0:.3f}'.format(stats.mannwhitneyu(orders[orders['group']=='A']['revenue'], orders[orders['group']=='B']['revenue'])[1]))\n",
    "\n",
    "if (stats.mannwhitneyu(orders[orders['group']=='A']['revenue'], orders[orders['group']=='B']['revenue'])[1]) > 0.05:\n",
    "    print('Причин отвергнуть нулевую гипотезу не найдено')\n",
    "else:\n",
    "    print('Отвергаем нулевую гипотезу')\n",
    "\n",
    "    \n",
    "print('Разница между группой В и А {0:.3f}%'.format((orders[orders['group']=='B']['revenue'].mean()/orders[orders['group']=='A']['revenue'].mean()-1) * 100)) "
   ]
  },
  {
   "cell_type": "markdown",
   "metadata": {},
   "source": [
    "В среднем чеке по неочищенным данными сомнений не имеется: средние чеки в обеих группах статистически равны. Но, тем не менее, в группе В он на 29% больше, чем в группе А."
   ]
  },
  {
   "cell_type": "markdown",
   "metadata": {},
   "source": [
    "#### Вывод\n",
    "\n",
    "**Описание данных**\n",
    "\n",
    "В исследовании были проанализированы результаты А/В-теста по проверке гипотезы о улучшении интернет-магазина с целью увеличения выручки. Основными параметрами выступали: количество пользователей, их конверсия, общая выручка, средний чек покупки.\n",
    "\n",
    "Тестирвание велось 1 месяц и затронуло около 1 тысячи пользователей, почти равно распределенных между двумя группами.\n",
    "В базе данных присутствует 58 пользователей, которые сделали заказы в обоих группах. Такие пользователи были отфильтрованы, чтобы не искажать результаты.\n",
    "\n",
    "**Результаты**\n",
    "\n",
    "По результатам тестирования было установлено:\n",
    "\n",
    "1. Есть статистически значимые различия по среднему количеству заказов между группами: в группе В стабильно покупают чаще на 16%\n",
    "2. Нет статистически значимого различия по среднему чеку между группами, несмотря на то, что средний чек на 29% больше в группе В, чем в группе А\n",
    "\n",
    "**Выводы**\n",
    "\n",
    "На основе полученных результатов, сделать выводы об абсолютной успешности по всем показателям той или иной группы нельзя. Группа В стабильно привлекает больше заказов, причем часть из этих заказов крупнее, чем средний чек. Но без учета крупных заказов, динамика среднего чека в группе А и группе В ещё не устоялась.\n",
    "Тем не менее, при примерно равном среднем чеке, в связи с большей конверсией в группе В, общая выручка в ней выше на 16%. \n",
    "\n",
    "Следовательно, *тест можно остановить и зафиксировать победу группы В*. \n",
    "\n",
    "**Рекомендации**\n",
    "\n",
    "Необходимо зафиксировать увеличение конверсии пользователей и проработать гипотезы об увеличении среднего чека заказов."
   ]
  }
 ],
 "metadata": {
  "ExecuteTimeLog": [
   {
    "duration": 46,
    "start_time": "2022-07-10T09:38:55.032Z"
   },
   {
    "duration": 1221,
    "start_time": "2022-07-10T09:38:57.961Z"
   },
   {
    "duration": 100,
    "start_time": "2022-07-10T09:38:59.972Z"
   },
   {
    "duration": 20,
    "start_time": "2022-07-10T09:39:26.305Z"
   },
   {
    "duration": 15,
    "start_time": "2022-07-10T09:39:35.374Z"
   },
   {
    "duration": 18,
    "start_time": "2022-07-10T09:39:39.579Z"
   },
   {
    "duration": 12,
    "start_time": "2022-07-10T09:39:51.659Z"
   },
   {
    "duration": 9,
    "start_time": "2022-07-10T09:39:58.261Z"
   },
   {
    "duration": 44,
    "start_time": "2022-07-10T09:43:01.792Z"
   },
   {
    "duration": 6,
    "start_time": "2022-07-10T09:44:40.323Z"
   },
   {
    "duration": 11,
    "start_time": "2022-07-10T09:44:44.168Z"
   },
   {
    "duration": 5,
    "start_time": "2022-07-10T09:45:12.345Z"
   },
   {
    "duration": 10,
    "start_time": "2022-07-10T09:45:12.656Z"
   },
   {
    "duration": 6,
    "start_time": "2022-07-10T09:48:57.686Z"
   },
   {
    "duration": 17,
    "start_time": "2022-07-10T09:48:59.089Z"
   },
   {
    "duration": 19,
    "start_time": "2022-07-10T09:52:09.793Z"
   },
   {
    "duration": 23,
    "start_time": "2022-07-10T09:52:38.553Z"
   },
   {
    "duration": 7,
    "start_time": "2022-07-10T09:52:39.173Z"
   },
   {
    "duration": 5,
    "start_time": "2022-07-10T09:52:41.430Z"
   },
   {
    "duration": 18,
    "start_time": "2022-07-10T09:52:42.166Z"
   },
   {
    "duration": 74,
    "start_time": "2022-07-10T10:12:00.033Z"
   },
   {
    "duration": 33,
    "start_time": "2022-07-10T10:12:41.057Z"
   },
   {
    "duration": 16,
    "start_time": "2022-07-10T10:13:25.628Z"
   },
   {
    "duration": 19,
    "start_time": "2022-07-10T10:13:41.781Z"
   },
   {
    "duration": 17,
    "start_time": "2022-07-10T10:13:59.345Z"
   },
   {
    "duration": 15,
    "start_time": "2022-07-10T10:14:06.103Z"
   },
   {
    "duration": 17,
    "start_time": "2022-07-10T10:15:31.452Z"
   },
   {
    "duration": 18,
    "start_time": "2022-07-10T10:15:41.057Z"
   },
   {
    "duration": 15,
    "start_time": "2022-07-10T10:17:40.782Z"
   },
   {
    "duration": 67,
    "start_time": "2022-07-10T14:09:43.239Z"
   },
   {
    "duration": 11,
    "start_time": "2022-07-10T14:09:48.312Z"
   },
   {
    "duration": 10,
    "start_time": "2022-07-10T14:10:07.609Z"
   },
   {
    "duration": 9,
    "start_time": "2022-07-10T14:10:15.268Z"
   },
   {
    "duration": 10,
    "start_time": "2022-07-10T14:11:59.842Z"
   },
   {
    "duration": 11,
    "start_time": "2022-07-10T14:12:05.025Z"
   },
   {
    "duration": 909,
    "start_time": "2022-07-10T14:12:50.001Z"
   },
   {
    "duration": 15,
    "start_time": "2022-07-10T14:12:59.507Z"
   },
   {
    "duration": 25,
    "start_time": "2022-07-10T14:13:15.668Z"
   },
   {
    "duration": 53,
    "start_time": "2022-07-10T14:13:26.427Z"
   },
   {
    "duration": 13,
    "start_time": "2022-07-10T14:13:28.924Z"
   },
   {
    "duration": 16,
    "start_time": "2022-07-10T14:15:54.111Z"
   },
   {
    "duration": 23,
    "start_time": "2022-07-10T14:16:25.945Z"
   },
   {
    "duration": 20,
    "start_time": "2022-07-10T14:16:31.242Z"
   },
   {
    "duration": 21,
    "start_time": "2022-07-10T14:16:34.501Z"
   },
   {
    "duration": 82,
    "start_time": "2022-07-10T14:19:00.002Z"
   },
   {
    "duration": 21,
    "start_time": "2022-07-10T14:21:12.345Z"
   },
   {
    "duration": 14,
    "start_time": "2022-07-10T14:21:33.101Z"
   },
   {
    "duration": 16,
    "start_time": "2022-07-10T14:21:41.794Z"
   },
   {
    "duration": 13,
    "start_time": "2022-07-10T14:21:53.323Z"
   },
   {
    "duration": 20,
    "start_time": "2022-07-10T14:22:22.602Z"
   },
   {
    "duration": 14,
    "start_time": "2022-07-10T14:22:29.624Z"
   },
   {
    "duration": 14,
    "start_time": "2022-07-10T14:23:18.173Z"
   },
   {
    "duration": 503,
    "start_time": "2022-07-10T14:37:24.275Z"
   },
   {
    "duration": 474,
    "start_time": "2022-07-10T14:38:27.174Z"
   },
   {
    "duration": 9,
    "start_time": "2022-07-10T14:38:53.773Z"
   },
   {
    "duration": 538,
    "start_time": "2022-07-10T14:38:56.554Z"
   },
   {
    "duration": 471,
    "start_time": "2022-07-10T14:39:49.423Z"
   },
   {
    "duration": 496,
    "start_time": "2022-07-10T14:40:48.271Z"
   },
   {
    "duration": 519,
    "start_time": "2022-07-10T14:41:02.671Z"
   },
   {
    "duration": 635,
    "start_time": "2022-07-10T14:41:30.381Z"
   },
   {
    "duration": 504,
    "start_time": "2022-07-10T14:41:41.644Z"
   },
   {
    "duration": 500,
    "start_time": "2022-07-10T14:41:52.889Z"
   },
   {
    "duration": 250,
    "start_time": "2022-07-10T14:50:03.998Z"
   },
   {
    "duration": 284,
    "start_time": "2022-07-10T14:51:01.366Z"
   },
   {
    "duration": 23,
    "start_time": "2022-07-10T14:54:37.179Z"
   },
   {
    "duration": 23,
    "start_time": "2022-07-10T14:56:21.804Z"
   },
   {
    "duration": 394,
    "start_time": "2022-07-10T14:57:21.673Z"
   },
   {
    "duration": 312,
    "start_time": "2022-07-10T14:59:07.227Z"
   },
   {
    "duration": 326,
    "start_time": "2022-07-10T14:59:36.197Z"
   },
   {
    "duration": 410,
    "start_time": "2022-07-10T15:00:03.976Z"
   },
   {
    "duration": 310,
    "start_time": "2022-07-10T15:00:44.288Z"
   },
   {
    "duration": 285,
    "start_time": "2022-07-10T15:01:13.586Z"
   },
   {
    "duration": 135,
    "start_time": "2022-07-10T15:02:19.985Z"
   },
   {
    "duration": 290,
    "start_time": "2022-07-10T15:03:42.003Z"
   },
   {
    "duration": 323,
    "start_time": "2022-07-10T15:04:42.036Z"
   },
   {
    "duration": 327,
    "start_time": "2022-07-10T15:05:55.375Z"
   },
   {
    "duration": 307,
    "start_time": "2022-07-10T15:06:06.506Z"
   },
   {
    "duration": 335,
    "start_time": "2022-07-10T15:06:41.747Z"
   },
   {
    "duration": 1121,
    "start_time": "2022-07-10T15:07:03.333Z"
   },
   {
    "duration": 25,
    "start_time": "2022-07-10T15:07:04.456Z"
   },
   {
    "duration": 11,
    "start_time": "2022-07-10T15:07:04.483Z"
   },
   {
    "duration": 6,
    "start_time": "2022-07-10T15:07:04.496Z"
   },
   {
    "duration": 19,
    "start_time": "2022-07-10T15:07:04.504Z"
   },
   {
    "duration": 26,
    "start_time": "2022-07-10T15:07:04.525Z"
   },
   {
    "duration": 24,
    "start_time": "2022-07-10T15:07:04.552Z"
   },
   {
    "duration": 18,
    "start_time": "2022-07-10T15:07:04.577Z"
   },
   {
    "duration": 552,
    "start_time": "2022-07-10T15:07:04.597Z"
   },
   {
    "duration": 314,
    "start_time": "2022-07-10T15:07:05.151Z"
   },
   {
    "duration": 340,
    "start_time": "2022-07-10T15:07:05.469Z"
   },
   {
    "duration": 388,
    "start_time": "2022-07-10T15:07:05.811Z"
   },
   {
    "duration": 249,
    "start_time": "2022-07-10T15:07:59.995Z"
   },
   {
    "duration": 185,
    "start_time": "2022-07-10T15:08:37.341Z"
   },
   {
    "duration": 284,
    "start_time": "2022-07-10T15:08:58.682Z"
   },
   {
    "duration": 280,
    "start_time": "2022-07-10T15:09:32.248Z"
   },
   {
    "duration": 274,
    "start_time": "2022-07-10T15:09:49.721Z"
   },
   {
    "duration": 405,
    "start_time": "2022-07-10T15:11:31.537Z"
   },
   {
    "duration": 350,
    "start_time": "2022-07-10T15:11:48.897Z"
   },
   {
    "duration": 356,
    "start_time": "2022-07-10T15:12:31.644Z"
   },
   {
    "duration": 236,
    "start_time": "2022-07-10T15:17:01.292Z"
   },
   {
    "duration": 365,
    "start_time": "2022-07-10T15:17:18.042Z"
   },
   {
    "duration": 254,
    "start_time": "2022-07-10T15:17:37.318Z"
   },
   {
    "duration": 251,
    "start_time": "2022-07-10T15:17:42.137Z"
   },
   {
    "duration": 263,
    "start_time": "2022-07-10T15:17:50.160Z"
   },
   {
    "duration": 329,
    "start_time": "2022-07-10T15:18:29.084Z"
   },
   {
    "duration": 336,
    "start_time": "2022-07-10T15:19:12.996Z"
   },
   {
    "duration": 341,
    "start_time": "2022-07-10T15:19:17.115Z"
   },
   {
    "duration": 281,
    "start_time": "2022-07-10T15:36:31.203Z"
   },
   {
    "duration": 127,
    "start_time": "2022-07-10T15:36:41.044Z"
   },
   {
    "duration": 216,
    "start_time": "2022-07-10T15:36:52.001Z"
   },
   {
    "duration": 262,
    "start_time": "2022-07-10T15:37:04.101Z"
   },
   {
    "duration": 9,
    "start_time": "2022-07-10T16:50:07.410Z"
   },
   {
    "duration": 8,
    "start_time": "2022-07-10T16:50:55.404Z"
   },
   {
    "duration": 9,
    "start_time": "2022-07-10T16:51:18.137Z"
   },
   {
    "duration": 8,
    "start_time": "2022-07-10T16:51:25.474Z"
   },
   {
    "duration": 9,
    "start_time": "2022-07-10T16:51:37.554Z"
   },
   {
    "duration": 111,
    "start_time": "2022-07-10T16:59:10.376Z"
   },
   {
    "duration": 4,
    "start_time": "2022-07-10T16:59:29.551Z"
   },
   {
    "duration": 115,
    "start_time": "2022-07-10T16:59:32.235Z"
   },
   {
    "duration": 57,
    "start_time": "2022-07-10T17:01:22.771Z"
   },
   {
    "duration": 117,
    "start_time": "2022-07-10T17:01:28.434Z"
   },
   {
    "duration": 1000,
    "start_time": "2022-07-10T17:11:30.553Z"
   },
   {
    "duration": 5,
    "start_time": "2022-07-10T17:11:38.328Z"
   },
   {
    "duration": 120,
    "start_time": "2022-07-10T17:13:04.333Z"
   },
   {
    "duration": 135,
    "start_time": "2022-07-10T17:13:34.154Z"
   },
   {
    "duration": 4,
    "start_time": "2022-07-10T17:13:51.048Z"
   },
   {
    "duration": 46,
    "start_time": "2022-07-10T17:15:43.047Z"
   },
   {
    "duration": 103,
    "start_time": "2022-07-10T17:15:46.804Z"
   },
   {
    "duration": 127,
    "start_time": "2022-07-10T17:15:59.277Z"
   },
   {
    "duration": 127,
    "start_time": "2022-07-10T17:16:26.807Z"
   },
   {
    "duration": 17,
    "start_time": "2022-07-10T17:26:41.519Z"
   },
   {
    "duration": 14,
    "start_time": "2022-07-10T17:26:46.821Z"
   },
   {
    "duration": 144,
    "start_time": "2022-07-10T17:29:02.662Z"
   },
   {
    "duration": 393,
    "start_time": "2022-07-10T17:29:50.656Z"
   },
   {
    "duration": 4,
    "start_time": "2022-07-10T17:30:26.231Z"
   },
   {
    "duration": 11,
    "start_time": "2022-07-10T17:30:32.337Z"
   },
   {
    "duration": 342,
    "start_time": "2022-07-10T17:30:32.748Z"
   },
   {
    "duration": 328,
    "start_time": "2022-07-10T17:32:20.334Z"
   },
   {
    "duration": 324,
    "start_time": "2022-07-10T17:32:36.431Z"
   },
   {
    "duration": 314,
    "start_time": "2022-07-10T17:32:53.684Z"
   },
   {
    "duration": 321,
    "start_time": "2022-07-10T17:39:11.335Z"
   },
   {
    "duration": 343,
    "start_time": "2022-07-10T17:50:58.187Z"
   },
   {
    "duration": 347,
    "start_time": "2022-07-10T17:52:04.800Z"
   },
   {
    "duration": 10,
    "start_time": "2022-07-10T17:55:55.847Z"
   },
   {
    "duration": 10,
    "start_time": "2022-07-10T17:56:12.945Z"
   },
   {
    "duration": 779,
    "start_time": "2022-07-10T17:58:53.595Z"
   },
   {
    "duration": 1022,
    "start_time": "2022-07-10T17:59:23.346Z"
   },
   {
    "duration": 739,
    "start_time": "2022-07-10T18:00:24.374Z"
   },
   {
    "duration": 814,
    "start_time": "2022-07-10T18:01:39.039Z"
   },
   {
    "duration": 9,
    "start_time": "2022-07-10T18:01:43.764Z"
   },
   {
    "duration": 9,
    "start_time": "2022-07-10T18:07:32.393Z"
   },
   {
    "duration": 9,
    "start_time": "2022-07-10T18:08:22.462Z"
   },
   {
    "duration": 7,
    "start_time": "2022-07-10T18:10:22.650Z"
   },
   {
    "duration": 26,
    "start_time": "2022-07-10T18:11:32.752Z"
   },
   {
    "duration": 793,
    "start_time": "2022-07-10T18:13:09.969Z"
   },
   {
    "duration": 17,
    "start_time": "2022-07-10T18:13:37.631Z"
   },
   {
    "duration": 15,
    "start_time": "2022-07-10T18:14:33.426Z"
   },
   {
    "duration": 35,
    "start_time": "2022-07-10T18:14:48.731Z"
   },
   {
    "duration": 14,
    "start_time": "2022-07-10T18:14:50.463Z"
   },
   {
    "duration": 4,
    "start_time": "2022-07-10T18:22:14.744Z"
   },
   {
    "duration": 762,
    "start_time": "2022-07-10T18:22:41.467Z"
   },
   {
    "duration": 1018,
    "start_time": "2022-07-10T18:22:44.754Z"
   },
   {
    "duration": 5,
    "start_time": "2022-07-10T18:22:50.488Z"
   },
   {
    "duration": 694,
    "start_time": "2022-07-10T18:24:21.079Z"
   },
   {
    "duration": 13,
    "start_time": "2022-07-10T18:24:48.863Z"
   },
   {
    "duration": 12,
    "start_time": "2022-07-10T18:25:15.353Z"
   },
   {
    "duration": 5,
    "start_time": "2022-07-10T18:31:49.442Z"
   },
   {
    "duration": 4,
    "start_time": "2022-07-10T18:32:25.060Z"
   },
   {
    "duration": 5,
    "start_time": "2022-07-10T18:47:25.357Z"
   },
   {
    "duration": 8,
    "start_time": "2022-07-10T18:48:03.846Z"
   },
   {
    "duration": 7,
    "start_time": "2022-07-10T18:48:12.456Z"
   },
   {
    "duration": 8,
    "start_time": "2022-07-10T18:48:21.296Z"
   },
   {
    "duration": 9,
    "start_time": "2022-07-10T18:49:03.356Z"
   },
   {
    "duration": 9,
    "start_time": "2022-07-10T18:49:10.952Z"
   },
   {
    "duration": 8,
    "start_time": "2022-07-10T18:50:06.910Z"
   },
   {
    "duration": 3,
    "start_time": "2022-07-10T18:50:28.751Z"
   },
   {
    "duration": 3,
    "start_time": "2022-07-10T18:50:35.961Z"
   },
   {
    "duration": 11,
    "start_time": "2022-07-10T18:51:31.556Z"
   },
   {
    "duration": 7,
    "start_time": "2022-07-10T18:51:44.602Z"
   },
   {
    "duration": 6,
    "start_time": "2022-07-10T18:52:26.037Z"
   },
   {
    "duration": 5,
    "start_time": "2022-07-10T18:53:26.380Z"
   },
   {
    "duration": 1011,
    "start_time": "2022-07-10T18:53:31.616Z"
   },
   {
    "duration": 15,
    "start_time": "2022-07-10T18:53:32.630Z"
   },
   {
    "duration": 11,
    "start_time": "2022-07-10T18:53:32.647Z"
   },
   {
    "duration": 9,
    "start_time": "2022-07-10T18:53:32.660Z"
   },
   {
    "duration": 20,
    "start_time": "2022-07-10T18:53:32.670Z"
   },
   {
    "duration": 25,
    "start_time": "2022-07-10T18:53:32.692Z"
   },
   {
    "duration": 18,
    "start_time": "2022-07-10T18:53:32.718Z"
   },
   {
    "duration": 20,
    "start_time": "2022-07-10T18:53:32.741Z"
   },
   {
    "duration": 99,
    "start_time": "2022-07-10T18:53:32.763Z"
   },
   {
    "duration": 0,
    "start_time": "2022-07-10T18:53:32.864Z"
   },
   {
    "duration": 0,
    "start_time": "2022-07-10T18:53:32.865Z"
   },
   {
    "duration": 0,
    "start_time": "2022-07-10T18:53:32.867Z"
   },
   {
    "duration": 0,
    "start_time": "2022-07-10T18:53:32.867Z"
   },
   {
    "duration": 0,
    "start_time": "2022-07-10T18:53:32.868Z"
   },
   {
    "duration": 0,
    "start_time": "2022-07-10T18:53:32.870Z"
   },
   {
    "duration": 0,
    "start_time": "2022-07-10T18:53:32.871Z"
   },
   {
    "duration": 0,
    "start_time": "2022-07-10T18:53:32.872Z"
   },
   {
    "duration": 0,
    "start_time": "2022-07-10T18:53:32.873Z"
   },
   {
    "duration": 0,
    "start_time": "2022-07-10T18:53:32.874Z"
   },
   {
    "duration": 0,
    "start_time": "2022-07-10T18:53:32.875Z"
   },
   {
    "duration": 0,
    "start_time": "2022-07-10T18:53:32.877Z"
   },
   {
    "duration": 0,
    "start_time": "2022-07-10T18:53:32.878Z"
   },
   {
    "duration": 0,
    "start_time": "2022-07-10T18:53:32.879Z"
   },
   {
    "duration": 0,
    "start_time": "2022-07-10T18:53:32.880Z"
   },
   {
    "duration": 0,
    "start_time": "2022-07-10T18:53:32.882Z"
   },
   {
    "duration": 7,
    "start_time": "2022-07-10T18:53:59.206Z"
   },
   {
    "duration": 1079,
    "start_time": "2022-07-10T18:54:03.144Z"
   },
   {
    "duration": 15,
    "start_time": "2022-07-10T18:54:04.225Z"
   },
   {
    "duration": 10,
    "start_time": "2022-07-10T18:54:04.242Z"
   },
   {
    "duration": 11,
    "start_time": "2022-07-10T18:54:04.253Z"
   },
   {
    "duration": 16,
    "start_time": "2022-07-10T18:54:04.266Z"
   },
   {
    "duration": 25,
    "start_time": "2022-07-10T18:54:04.284Z"
   },
   {
    "duration": 18,
    "start_time": "2022-07-10T18:54:04.310Z"
   },
   {
    "duration": 13,
    "start_time": "2022-07-10T18:54:04.329Z"
   },
   {
    "duration": 6,
    "start_time": "2022-07-10T18:54:04.360Z"
   },
   {
    "duration": 97,
    "start_time": "2022-07-10T18:54:04.368Z"
   },
   {
    "duration": 0,
    "start_time": "2022-07-10T18:54:04.467Z"
   },
   {
    "duration": 0,
    "start_time": "2022-07-10T18:54:04.468Z"
   },
   {
    "duration": 0,
    "start_time": "2022-07-10T18:54:04.469Z"
   },
   {
    "duration": 0,
    "start_time": "2022-07-10T18:54:04.470Z"
   },
   {
    "duration": 0,
    "start_time": "2022-07-10T18:54:04.471Z"
   },
   {
    "duration": 0,
    "start_time": "2022-07-10T18:54:04.472Z"
   },
   {
    "duration": 0,
    "start_time": "2022-07-10T18:54:04.473Z"
   },
   {
    "duration": 0,
    "start_time": "2022-07-10T18:54:04.474Z"
   },
   {
    "duration": 0,
    "start_time": "2022-07-10T18:54:04.476Z"
   },
   {
    "duration": 0,
    "start_time": "2022-07-10T18:54:04.477Z"
   },
   {
    "duration": 0,
    "start_time": "2022-07-10T18:54:04.478Z"
   },
   {
    "duration": 0,
    "start_time": "2022-07-10T18:54:04.479Z"
   },
   {
    "duration": 0,
    "start_time": "2022-07-10T18:54:04.480Z"
   },
   {
    "duration": 0,
    "start_time": "2022-07-10T18:54:04.481Z"
   },
   {
    "duration": 0,
    "start_time": "2022-07-10T18:54:04.482Z"
   },
   {
    "duration": 5,
    "start_time": "2022-07-10T18:54:24.043Z"
   },
   {
    "duration": 1020,
    "start_time": "2022-07-10T18:54:28.015Z"
   },
   {
    "duration": 16,
    "start_time": "2022-07-10T18:54:29.037Z"
   },
   {
    "duration": 12,
    "start_time": "2022-07-10T18:54:29.054Z"
   },
   {
    "duration": 7,
    "start_time": "2022-07-10T18:54:29.068Z"
   },
   {
    "duration": 17,
    "start_time": "2022-07-10T18:54:29.076Z"
   },
   {
    "duration": 26,
    "start_time": "2022-07-10T18:54:29.095Z"
   },
   {
    "duration": 19,
    "start_time": "2022-07-10T18:54:29.123Z"
   },
   {
    "duration": 28,
    "start_time": "2022-07-10T18:54:29.144Z"
   },
   {
    "duration": 6,
    "start_time": "2022-07-10T18:54:29.173Z"
   },
   {
    "duration": 7,
    "start_time": "2022-07-10T18:54:29.182Z"
   },
   {
    "duration": 545,
    "start_time": "2022-07-10T18:54:29.190Z"
   },
   {
    "duration": 275,
    "start_time": "2022-07-10T18:54:29.736Z"
   },
   {
    "duration": 332,
    "start_time": "2022-07-10T18:54:30.012Z"
   },
   {
    "duration": 273,
    "start_time": "2022-07-10T18:54:30.345Z"
   },
   {
    "duration": 412,
    "start_time": "2022-07-10T18:54:30.620Z"
   },
   {
    "duration": 147,
    "start_time": "2022-07-10T18:54:31.034Z"
   },
   {
    "duration": 4,
    "start_time": "2022-07-10T18:54:31.183Z"
   },
   {
    "duration": 138,
    "start_time": "2022-07-10T18:54:31.188Z"
   },
   {
    "duration": 4,
    "start_time": "2022-07-10T18:54:31.328Z"
   },
   {
    "duration": 352,
    "start_time": "2022-07-10T18:54:31.334Z"
   },
   {
    "duration": 9,
    "start_time": "2022-07-10T18:54:31.687Z"
   },
   {
    "duration": 8,
    "start_time": "2022-07-10T18:54:31.697Z"
   },
   {
    "duration": 10,
    "start_time": "2022-07-10T18:54:31.706Z"
   },
   {
    "duration": 23,
    "start_time": "2022-07-10T18:54:31.718Z"
   },
   {
    "duration": 11,
    "start_time": "2022-07-10T18:54:31.761Z"
   },
   {
    "duration": 497,
    "start_time": "2022-07-10T18:58:01.391Z"
   },
   {
    "duration": 16,
    "start_time": "2022-07-10T19:00:46.250Z"
   },
   {
    "duration": 1012,
    "start_time": "2022-07-10T19:01:18.115Z"
   },
   {
    "duration": 15,
    "start_time": "2022-07-10T19:01:19.129Z"
   },
   {
    "duration": 11,
    "start_time": "2022-07-10T19:01:19.145Z"
   },
   {
    "duration": 8,
    "start_time": "2022-07-10T19:01:19.157Z"
   },
   {
    "duration": 17,
    "start_time": "2022-07-10T19:01:19.166Z"
   },
   {
    "duration": 25,
    "start_time": "2022-07-10T19:01:19.185Z"
   },
   {
    "duration": 19,
    "start_time": "2022-07-10T19:01:19.212Z"
   },
   {
    "duration": 29,
    "start_time": "2022-07-10T19:01:19.233Z"
   },
   {
    "duration": 7,
    "start_time": "2022-07-10T19:01:19.263Z"
   },
   {
    "duration": 5,
    "start_time": "2022-07-10T19:01:19.273Z"
   },
   {
    "duration": 575,
    "start_time": "2022-07-10T19:01:19.279Z"
   },
   {
    "duration": 294,
    "start_time": "2022-07-10T19:01:19.856Z"
   },
   {
    "duration": 390,
    "start_time": "2022-07-10T19:01:20.151Z"
   },
   {
    "duration": 281,
    "start_time": "2022-07-10T19:01:20.542Z"
   },
   {
    "duration": 381,
    "start_time": "2022-07-10T19:01:20.825Z"
   },
   {
    "duration": 142,
    "start_time": "2022-07-10T19:01:21.208Z"
   },
   {
    "duration": 4,
    "start_time": "2022-07-10T19:01:21.351Z"
   },
   {
    "duration": 137,
    "start_time": "2022-07-10T19:01:21.361Z"
   },
   {
    "duration": 5,
    "start_time": "2022-07-10T19:01:21.499Z"
   },
   {
    "duration": 375,
    "start_time": "2022-07-10T19:01:21.505Z"
   },
   {
    "duration": 9,
    "start_time": "2022-07-10T19:01:21.882Z"
   },
   {
    "duration": 12,
    "start_time": "2022-07-10T19:01:21.892Z"
   },
   {
    "duration": 8,
    "start_time": "2022-07-10T19:01:21.905Z"
   },
   {
    "duration": 23,
    "start_time": "2022-07-10T19:01:21.915Z"
   },
   {
    "duration": 31,
    "start_time": "2022-07-10T19:01:21.940Z"
   },
   {
    "duration": 5,
    "start_time": "2022-07-10T19:11:48.691Z"
   },
   {
    "duration": 6,
    "start_time": "2022-07-10T19:11:56.548Z"
   },
   {
    "duration": 6,
    "start_time": "2022-07-10T19:12:06.474Z"
   },
   {
    "duration": 8,
    "start_time": "2022-07-10T19:12:17.743Z"
   },
   {
    "duration": 5,
    "start_time": "2022-07-10T19:12:35.602Z"
   },
   {
    "duration": 4,
    "start_time": "2022-07-10T19:13:01.047Z"
   },
   {
    "duration": 4,
    "start_time": "2022-07-10T19:13:07.720Z"
   },
   {
    "duration": 4,
    "start_time": "2022-07-10T19:13:44.173Z"
   },
   {
    "duration": 4,
    "start_time": "2022-07-10T19:13:50.851Z"
   },
   {
    "duration": 5,
    "start_time": "2022-07-10T19:14:09.352Z"
   },
   {
    "duration": 5,
    "start_time": "2022-07-10T19:14:12.356Z"
   },
   {
    "duration": 6,
    "start_time": "2022-07-10T19:14:15.740Z"
   },
   {
    "duration": 22,
    "start_time": "2022-07-10T19:14:18.143Z"
   },
   {
    "duration": 5,
    "start_time": "2022-07-10T19:14:19.414Z"
   },
   {
    "duration": 5,
    "start_time": "2022-07-10T19:14:21.639Z"
   },
   {
    "duration": 5,
    "start_time": "2022-07-10T19:14:22.733Z"
   },
   {
    "duration": 5,
    "start_time": "2022-07-10T19:14:27.539Z"
   },
   {
    "duration": 5,
    "start_time": "2022-07-10T19:14:36.769Z"
   },
   {
    "duration": 4,
    "start_time": "2022-07-10T19:14:58.162Z"
   },
   {
    "duration": 4,
    "start_time": "2022-07-10T19:22:20.463Z"
   },
   {
    "duration": 5,
    "start_time": "2022-07-10T19:25:35.486Z"
   },
   {
    "duration": 502,
    "start_time": "2022-07-10T19:30:29.753Z"
   },
   {
    "duration": 412,
    "start_time": "2022-07-10T19:31:00.560Z"
   },
   {
    "duration": 346,
    "start_time": "2022-07-10T19:32:06.592Z"
   },
   {
    "duration": 364,
    "start_time": "2022-07-10T19:32:57.840Z"
   },
   {
    "duration": 4,
    "start_time": "2022-07-10T19:35:33.908Z"
   },
   {
    "duration": 253,
    "start_time": "2022-07-10T19:37:14.756Z"
   },
   {
    "duration": 364,
    "start_time": "2022-07-10T19:37:38.550Z"
   },
   {
    "duration": 1029,
    "start_time": "2022-07-10T20:27:26.493Z"
   },
   {
    "duration": 48,
    "start_time": "2022-07-10T20:27:27.524Z"
   },
   {
    "duration": 13,
    "start_time": "2022-07-10T20:27:27.573Z"
   },
   {
    "duration": 7,
    "start_time": "2022-07-10T20:27:27.589Z"
   },
   {
    "duration": 18,
    "start_time": "2022-07-10T20:27:27.598Z"
   },
   {
    "duration": 26,
    "start_time": "2022-07-10T20:27:27.617Z"
   },
   {
    "duration": 26,
    "start_time": "2022-07-10T20:27:27.645Z"
   },
   {
    "duration": 14,
    "start_time": "2022-07-10T20:27:27.672Z"
   },
   {
    "duration": 7,
    "start_time": "2022-07-10T20:27:27.687Z"
   },
   {
    "duration": 4,
    "start_time": "2022-07-10T20:27:27.698Z"
   },
   {
    "duration": 560,
    "start_time": "2022-07-10T20:27:27.704Z"
   },
   {
    "duration": 262,
    "start_time": "2022-07-10T20:27:28.265Z"
   },
   {
    "duration": 394,
    "start_time": "2022-07-10T20:27:28.528Z"
   },
   {
    "duration": 259,
    "start_time": "2022-07-10T20:27:28.924Z"
   },
   {
    "duration": 342,
    "start_time": "2022-07-10T20:27:29.184Z"
   },
   {
    "duration": 147,
    "start_time": "2022-07-10T20:27:29.528Z"
   },
   {
    "duration": 4,
    "start_time": "2022-07-10T20:27:29.677Z"
   },
   {
    "duration": 144,
    "start_time": "2022-07-10T20:27:29.683Z"
   },
   {
    "duration": 4,
    "start_time": "2022-07-10T20:27:29.828Z"
   },
   {
    "duration": 341,
    "start_time": "2022-07-10T20:27:29.834Z"
   },
   {
    "duration": 9,
    "start_time": "2022-07-10T20:27:30.177Z"
   },
   {
    "duration": 42,
    "start_time": "2022-07-10T20:27:30.187Z"
   },
   {
    "duration": 27,
    "start_time": "2022-07-10T20:27:30.230Z"
   },
   {
    "duration": 36,
    "start_time": "2022-07-10T20:27:30.259Z"
   },
   {
    "duration": 12,
    "start_time": "2022-07-10T20:27:30.297Z"
   },
   {
    "duration": 6,
    "start_time": "2022-07-10T20:27:30.311Z"
   },
   {
    "duration": 432,
    "start_time": "2022-07-10T20:27:30.319Z"
   },
   {
    "duration": 352,
    "start_time": "2022-07-10T20:27:30.761Z"
   },
   {
    "duration": 351,
    "start_time": "2022-07-10T20:27:31.115Z"
   },
   {
    "duration": 262,
    "start_time": "2022-07-10T20:27:31.468Z"
   },
   {
    "duration": 381,
    "start_time": "2022-07-10T20:27:31.732Z"
   },
   {
    "duration": 113,
    "start_time": "2022-07-11T08:55:09.087Z"
   },
   {
    "duration": 1108,
    "start_time": "2022-07-11T09:06:02.749Z"
   },
   {
    "duration": 30,
    "start_time": "2022-07-11T09:06:03.859Z"
   },
   {
    "duration": 13,
    "start_time": "2022-07-11T09:06:03.890Z"
   },
   {
    "duration": 7,
    "start_time": "2022-07-11T09:06:03.905Z"
   },
   {
    "duration": 24,
    "start_time": "2022-07-11T09:06:03.914Z"
   },
   {
    "duration": 54,
    "start_time": "2022-07-11T09:06:03.940Z"
   },
   {
    "duration": 24,
    "start_time": "2022-07-11T09:06:03.995Z"
   },
   {
    "duration": 18,
    "start_time": "2022-07-11T09:06:04.021Z"
   },
   {
    "duration": 9,
    "start_time": "2022-07-11T09:06:04.041Z"
   },
   {
    "duration": 8,
    "start_time": "2022-07-11T09:06:04.053Z"
   },
   {
    "duration": 620,
    "start_time": "2022-07-11T09:06:04.063Z"
   },
   {
    "duration": 317,
    "start_time": "2022-07-11T09:06:04.685Z"
   },
   {
    "duration": 395,
    "start_time": "2022-07-11T09:06:05.004Z"
   },
   {
    "duration": 326,
    "start_time": "2022-07-11T09:06:05.401Z"
   },
   {
    "duration": 374,
    "start_time": "2022-07-11T09:06:05.729Z"
   },
   {
    "duration": 162,
    "start_time": "2022-07-11T09:06:06.104Z"
   },
   {
    "duration": 4,
    "start_time": "2022-07-11T09:06:06.268Z"
   },
   {
    "duration": 164,
    "start_time": "2022-07-11T09:06:06.274Z"
   },
   {
    "duration": 4,
    "start_time": "2022-07-11T09:06:06.440Z"
   },
   {
    "duration": 257,
    "start_time": "2022-07-11T09:06:06.446Z"
   },
   {
    "duration": 201,
    "start_time": "2022-07-11T09:06:06.704Z"
   },
   {
    "duration": 12,
    "start_time": "2022-07-11T09:06:06.908Z"
   },
   {
    "duration": 10,
    "start_time": "2022-07-11T09:06:06.923Z"
   },
   {
    "duration": 15,
    "start_time": "2022-07-11T09:06:06.935Z"
   },
   {
    "duration": 55,
    "start_time": "2022-07-11T09:06:06.952Z"
   },
   {
    "duration": 19,
    "start_time": "2022-07-11T09:06:07.010Z"
   },
   {
    "duration": 15,
    "start_time": "2022-07-11T09:06:07.031Z"
   },
   {
    "duration": 494,
    "start_time": "2022-07-11T09:06:07.050Z"
   },
   {
    "duration": 398,
    "start_time": "2022-07-11T09:06:07.546Z"
   },
   {
    "duration": 366,
    "start_time": "2022-07-11T09:06:07.947Z"
   },
   {
    "duration": 299,
    "start_time": "2022-07-11T09:06:08.315Z"
   },
   {
    "duration": 396,
    "start_time": "2022-07-11T09:06:08.616Z"
   },
   {
    "duration": 115,
    "start_time": "2022-07-11T10:01:54.252Z"
   },
   {
    "duration": 1437,
    "start_time": "2022-07-12T10:37:19.032Z"
   },
   {
    "duration": 92,
    "start_time": "2022-07-12T10:37:20.472Z"
   },
   {
    "duration": 19,
    "start_time": "2022-07-12T10:37:20.566Z"
   },
   {
    "duration": 10,
    "start_time": "2022-07-12T10:37:20.587Z"
   },
   {
    "duration": 42,
    "start_time": "2022-07-12T10:37:20.603Z"
   },
   {
    "duration": 183,
    "start_time": "2022-07-12T10:37:20.647Z"
   },
   {
    "duration": 23,
    "start_time": "2022-07-12T10:37:20.832Z"
   },
   {
    "duration": 21,
    "start_time": "2022-07-12T10:37:20.857Z"
   },
   {
    "duration": 9,
    "start_time": "2022-07-12T10:37:20.881Z"
   },
   {
    "duration": 22,
    "start_time": "2022-07-12T10:37:20.891Z"
   },
   {
    "duration": 648,
    "start_time": "2022-07-12T10:37:20.916Z"
   },
   {
    "duration": 375,
    "start_time": "2022-07-12T10:37:21.566Z"
   },
   {
    "duration": 495,
    "start_time": "2022-07-12T10:37:21.944Z"
   },
   {
    "duration": 334,
    "start_time": "2022-07-12T10:37:22.442Z"
   },
   {
    "duration": 457,
    "start_time": "2022-07-12T10:37:22.778Z"
   },
   {
    "duration": 193,
    "start_time": "2022-07-12T10:37:23.237Z"
   },
   {
    "duration": 5,
    "start_time": "2022-07-12T10:37:23.433Z"
   },
   {
    "duration": 175,
    "start_time": "2022-07-12T10:37:23.440Z"
   },
   {
    "duration": 6,
    "start_time": "2022-07-12T10:37:23.617Z"
   },
   {
    "duration": 264,
    "start_time": "2022-07-12T10:37:23.630Z"
   },
   {
    "duration": 236,
    "start_time": "2022-07-12T10:37:23.899Z"
   },
   {
    "duration": 9,
    "start_time": "2022-07-12T10:37:24.137Z"
   },
   {
    "duration": 10,
    "start_time": "2022-07-12T10:37:24.148Z"
   },
   {
    "duration": 41,
    "start_time": "2022-07-12T10:37:24.160Z"
   },
   {
    "duration": 32,
    "start_time": "2022-07-12T10:37:24.205Z"
   },
   {
    "duration": 16,
    "start_time": "2022-07-12T10:37:24.238Z"
   },
   {
    "duration": 5,
    "start_time": "2022-07-12T10:37:24.255Z"
   },
   {
    "duration": 550,
    "start_time": "2022-07-12T10:37:24.261Z"
   },
   {
    "duration": 440,
    "start_time": "2022-07-12T10:37:24.815Z"
   },
   {
    "duration": 435,
    "start_time": "2022-07-12T10:37:25.257Z"
   },
   {
    "duration": 348,
    "start_time": "2022-07-12T10:37:25.698Z"
   },
   {
    "duration": 472,
    "start_time": "2022-07-12T10:37:26.048Z"
   },
   {
    "duration": 6,
    "start_time": "2022-07-12T10:45:19.073Z"
   },
   {
    "duration": 26,
    "start_time": "2022-07-12T10:45:20.527Z"
   },
   {
    "duration": 31,
    "start_time": "2022-07-12T10:45:37.060Z"
   },
   {
    "duration": 34,
    "start_time": "2022-07-12T10:48:20.630Z"
   },
   {
    "duration": 39,
    "start_time": "2022-07-12T10:48:28.101Z"
   },
   {
    "duration": 40,
    "start_time": "2022-07-12T10:48:53.926Z"
   },
   {
    "duration": 19,
    "start_time": "2022-07-12T10:51:59.591Z"
   },
   {
    "duration": 22,
    "start_time": "2022-07-12T10:52:07.304Z"
   },
   {
    "duration": 6,
    "start_time": "2022-07-12T10:52:36.063Z"
   },
   {
    "duration": 130,
    "start_time": "2022-07-12T10:54:13.979Z"
   },
   {
    "duration": 13,
    "start_time": "2022-07-12T10:55:10.559Z"
   },
   {
    "duration": 252,
    "start_time": "2022-07-12T11:06:01.613Z"
   },
   {
    "duration": 355,
    "start_time": "2022-07-12T11:06:07.636Z"
   },
   {
    "duration": 403,
    "start_time": "2022-07-12T11:06:12.867Z"
   },
   {
    "duration": 395,
    "start_time": "2022-07-12T11:06:47.410Z"
   },
   {
    "duration": 394,
    "start_time": "2022-07-12T11:07:04.291Z"
   },
   {
    "duration": 276,
    "start_time": "2022-07-12T11:07:28.798Z"
   },
   {
    "duration": 420,
    "start_time": "2022-07-12T11:07:36.835Z"
   },
   {
    "duration": 19,
    "start_time": "2022-07-12T11:33:06.820Z"
   },
   {
    "duration": 5,
    "start_time": "2022-07-12T11:36:04.280Z"
   },
   {
    "duration": 5,
    "start_time": "2022-07-12T11:36:17.063Z"
   },
   {
    "duration": 23,
    "start_time": "2022-07-12T11:39:23.262Z"
   },
   {
    "duration": 36,
    "start_time": "2022-07-12T11:40:34.753Z"
   },
   {
    "duration": 128,
    "start_time": "2022-07-12T11:40:48.511Z"
   },
   {
    "duration": 41,
    "start_time": "2022-07-12T11:40:53.875Z"
   },
   {
    "duration": 34,
    "start_time": "2022-07-12T11:41:18.678Z"
   },
   {
    "duration": 22,
    "start_time": "2022-07-12T11:41:49.726Z"
   },
   {
    "duration": 37,
    "start_time": "2022-07-12T11:42:03.573Z"
   },
   {
    "duration": 30,
    "start_time": "2022-07-12T11:42:21.651Z"
   },
   {
    "duration": 34,
    "start_time": "2022-07-12T11:44:13.281Z"
   },
   {
    "duration": 30,
    "start_time": "2022-07-12T11:48:55.813Z"
   },
   {
    "duration": 202,
    "start_time": "2022-07-12T11:50:26.114Z"
   },
   {
    "duration": 1469,
    "start_time": "2022-07-12T11:51:06.474Z"
   },
   {
    "duration": 29,
    "start_time": "2022-07-12T11:51:07.946Z"
   },
   {
    "duration": 13,
    "start_time": "2022-07-12T11:51:07.977Z"
   },
   {
    "duration": 11,
    "start_time": "2022-07-12T11:51:07.992Z"
   },
   {
    "duration": 47,
    "start_time": "2022-07-12T11:51:08.006Z"
   },
   {
    "duration": 62,
    "start_time": "2022-07-12T11:51:08.054Z"
   },
   {
    "duration": 44,
    "start_time": "2022-07-12T11:51:08.118Z"
   },
   {
    "duration": 7,
    "start_time": "2022-07-12T11:51:08.164Z"
   },
   {
    "duration": 53,
    "start_time": "2022-07-12T11:51:08.173Z"
   },
   {
    "duration": 9,
    "start_time": "2022-07-12T11:51:08.229Z"
   },
   {
    "duration": 8,
    "start_time": "2022-07-12T11:51:08.240Z"
   },
   {
    "duration": 794,
    "start_time": "2022-07-12T11:51:08.250Z"
   },
   {
    "duration": 263,
    "start_time": "2022-07-12T11:51:09.046Z"
   },
   {
    "duration": 385,
    "start_time": "2022-07-12T11:51:09.316Z"
   },
   {
    "duration": 251,
    "start_time": "2022-07-12T11:51:09.708Z"
   },
   {
    "duration": 396,
    "start_time": "2022-07-12T11:51:09.961Z"
   },
   {
    "duration": 206,
    "start_time": "2022-07-12T11:51:10.360Z"
   },
   {
    "duration": 5,
    "start_time": "2022-07-12T11:51:10.568Z"
   },
   {
    "duration": 198,
    "start_time": "2022-07-12T11:51:10.575Z"
   },
   {
    "duration": 6,
    "start_time": "2022-07-12T11:51:10.776Z"
   },
   {
    "duration": 56,
    "start_time": "2022-07-12T11:51:10.784Z"
   },
   {
    "duration": 245,
    "start_time": "2022-07-12T11:51:10.843Z"
   },
   {
    "duration": 32,
    "start_time": "2022-07-12T11:51:11.090Z"
   },
   {
    "duration": 16,
    "start_time": "2022-07-12T11:51:11.125Z"
   },
   {
    "duration": 171,
    "start_time": "2022-07-12T11:51:11.143Z"
   },
   {
    "duration": 0,
    "start_time": "2022-07-12T11:51:11.317Z"
   },
   {
    "duration": 0,
    "start_time": "2022-07-12T11:51:11.318Z"
   },
   {
    "duration": 0,
    "start_time": "2022-07-12T11:51:11.319Z"
   },
   {
    "duration": 0,
    "start_time": "2022-07-12T11:51:11.321Z"
   },
   {
    "duration": 0,
    "start_time": "2022-07-12T11:51:11.322Z"
   },
   {
    "duration": 0,
    "start_time": "2022-07-12T11:51:11.324Z"
   },
   {
    "duration": 0,
    "start_time": "2022-07-12T11:51:11.326Z"
   },
   {
    "duration": 0,
    "start_time": "2022-07-12T11:51:11.327Z"
   },
   {
    "duration": 1346,
    "start_time": "2022-07-12T11:53:34.674Z"
   },
   {
    "duration": 31,
    "start_time": "2022-07-12T11:53:36.023Z"
   },
   {
    "duration": 15,
    "start_time": "2022-07-12T11:53:36.056Z"
   },
   {
    "duration": 9,
    "start_time": "2022-07-12T11:53:36.074Z"
   },
   {
    "duration": 34,
    "start_time": "2022-07-12T11:53:36.085Z"
   },
   {
    "duration": 60,
    "start_time": "2022-07-12T11:53:36.122Z"
   },
   {
    "duration": 45,
    "start_time": "2022-07-12T11:53:36.185Z"
   },
   {
    "duration": 7,
    "start_time": "2022-07-12T11:53:36.232Z"
   },
   {
    "duration": 22,
    "start_time": "2022-07-12T11:53:36.241Z"
   },
   {
    "duration": 17,
    "start_time": "2022-07-12T11:53:36.300Z"
   },
   {
    "duration": 11,
    "start_time": "2022-07-12T11:53:36.319Z"
   },
   {
    "duration": 786,
    "start_time": "2022-07-12T11:53:36.332Z"
   },
   {
    "duration": 249,
    "start_time": "2022-07-12T11:53:37.120Z"
   },
   {
    "duration": 377,
    "start_time": "2022-07-12T11:53:37.371Z"
   },
   {
    "duration": 231,
    "start_time": "2022-07-12T11:53:37.750Z"
   },
   {
    "duration": 381,
    "start_time": "2022-07-12T11:53:37.984Z"
   },
   {
    "duration": 186,
    "start_time": "2022-07-12T11:53:38.367Z"
   },
   {
    "duration": 4,
    "start_time": "2022-07-12T11:53:38.555Z"
   },
   {
    "duration": 180,
    "start_time": "2022-07-12T11:53:38.561Z"
   },
   {
    "duration": 5,
    "start_time": "2022-07-12T11:53:38.742Z"
   },
   {
    "duration": 30,
    "start_time": "2022-07-12T11:53:38.749Z"
   },
   {
    "duration": 269,
    "start_time": "2022-07-12T11:53:38.781Z"
   },
   {
    "duration": 13,
    "start_time": "2022-07-12T11:53:39.053Z"
   },
   {
    "duration": 32,
    "start_time": "2022-07-12T11:53:39.068Z"
   },
   {
    "duration": 139,
    "start_time": "2022-07-12T11:53:39.103Z"
   },
   {
    "duration": 0,
    "start_time": "2022-07-12T11:53:39.245Z"
   },
   {
    "duration": 0,
    "start_time": "2022-07-12T11:53:39.246Z"
   },
   {
    "duration": 0,
    "start_time": "2022-07-12T11:53:39.248Z"
   },
   {
    "duration": 0,
    "start_time": "2022-07-12T11:53:39.250Z"
   },
   {
    "duration": 0,
    "start_time": "2022-07-12T11:53:39.252Z"
   },
   {
    "duration": 0,
    "start_time": "2022-07-12T11:53:39.253Z"
   },
   {
    "duration": 0,
    "start_time": "2022-07-12T11:53:39.254Z"
   },
   {
    "duration": 0,
    "start_time": "2022-07-12T11:53:39.255Z"
   },
   {
    "duration": 15,
    "start_time": "2022-07-12T11:55:35.813Z"
   },
   {
    "duration": 26,
    "start_time": "2022-07-12T11:55:38.927Z"
   },
   {
    "duration": 201,
    "start_time": "2022-07-12T12:04:16.293Z"
   },
   {
    "duration": 187,
    "start_time": "2022-07-12T12:04:41.684Z"
   },
   {
    "duration": 212,
    "start_time": "2022-07-12T12:04:48.496Z"
   },
   {
    "duration": 8,
    "start_time": "2022-07-12T12:05:13.289Z"
   },
   {
    "duration": 187,
    "start_time": "2022-07-12T12:05:16.352Z"
   },
   {
    "duration": 217,
    "start_time": "2022-07-12T12:05:27.226Z"
   },
   {
    "duration": 206,
    "start_time": "2022-07-12T12:05:32.571Z"
   },
   {
    "duration": 202,
    "start_time": "2022-07-12T12:05:37.062Z"
   },
   {
    "duration": 269,
    "start_time": "2022-07-12T12:05:46.717Z"
   },
   {
    "duration": 5,
    "start_time": "2022-07-12T12:11:47.781Z"
   },
   {
    "duration": 7,
    "start_time": "2022-07-12T12:11:50.743Z"
   },
   {
    "duration": 75,
    "start_time": "2022-07-12T12:11:55.209Z"
   },
   {
    "duration": 6,
    "start_time": "2022-07-12T12:12:18.721Z"
   },
   {
    "duration": 80,
    "start_time": "2022-07-12T12:12:21.413Z"
   },
   {
    "duration": 96,
    "start_time": "2022-07-12T12:12:32.011Z"
   },
   {
    "duration": 9,
    "start_time": "2022-07-12T12:12:59.772Z"
   },
   {
    "duration": 74,
    "start_time": "2022-07-12T12:13:18.421Z"
   },
   {
    "duration": 12,
    "start_time": "2022-07-12T12:13:22.661Z"
   },
   {
    "duration": 16,
    "start_time": "2022-07-12T12:13:43.714Z"
   },
   {
    "duration": 15,
    "start_time": "2022-07-12T12:13:49.337Z"
   },
   {
    "duration": 15,
    "start_time": "2022-07-12T12:14:04.846Z"
   },
   {
    "duration": 18,
    "start_time": "2022-07-12T12:14:16.121Z"
   },
   {
    "duration": 7,
    "start_time": "2022-07-12T12:18:08.744Z"
   },
   {
    "duration": 5,
    "start_time": "2022-07-12T12:18:25.035Z"
   },
   {
    "duration": 5,
    "start_time": "2022-07-12T12:18:35.162Z"
   },
   {
    "duration": 6,
    "start_time": "2022-07-12T12:18:58.901Z"
   },
   {
    "duration": 4,
    "start_time": "2022-07-12T12:19:04.820Z"
   },
   {
    "duration": 15,
    "start_time": "2022-07-12T12:22:09.111Z"
   },
   {
    "duration": 100,
    "start_time": "2022-07-12T12:22:27.483Z"
   },
   {
    "duration": 5,
    "start_time": "2022-07-12T12:22:46.947Z"
   },
   {
    "duration": 4,
    "start_time": "2022-07-12T12:23:13.546Z"
   },
   {
    "duration": 5,
    "start_time": "2022-07-12T12:25:38.146Z"
   },
   {
    "duration": 5,
    "start_time": "2022-07-12T12:25:49.189Z"
   },
   {
    "duration": 6,
    "start_time": "2022-07-12T12:26:38.790Z"
   },
   {
    "duration": 4,
    "start_time": "2022-07-12T12:26:50.854Z"
   },
   {
    "duration": 3,
    "start_time": "2022-07-12T12:26:52.180Z"
   },
   {
    "duration": 5,
    "start_time": "2022-07-12T12:27:00.162Z"
   },
   {
    "duration": 5,
    "start_time": "2022-07-12T12:27:03.320Z"
   },
   {
    "duration": 6,
    "start_time": "2022-07-12T12:27:06.653Z"
   },
   {
    "duration": 5,
    "start_time": "2022-07-12T12:27:13.947Z"
   },
   {
    "duration": 85,
    "start_time": "2022-07-12T12:27:18.761Z"
   },
   {
    "duration": 10,
    "start_time": "2022-07-12T12:27:24.844Z"
   },
   {
    "duration": 46,
    "start_time": "2022-07-12T12:57:07.958Z"
   },
   {
    "duration": 47,
    "start_time": "2022-07-12T12:57:32.374Z"
   },
   {
    "duration": 16,
    "start_time": "2022-07-12T12:59:48.334Z"
   },
   {
    "duration": 21,
    "start_time": "2022-07-12T13:01:42.447Z"
   },
   {
    "duration": 18,
    "start_time": "2022-07-12T13:02:10.641Z"
   },
   {
    "duration": 1209,
    "start_time": "2022-07-12T13:04:43.084Z"
   },
   {
    "duration": 49,
    "start_time": "2022-07-12T13:04:44.295Z"
   },
   {
    "duration": 14,
    "start_time": "2022-07-12T13:04:44.345Z"
   },
   {
    "duration": 8,
    "start_time": "2022-07-12T13:04:44.361Z"
   },
   {
    "duration": 20,
    "start_time": "2022-07-12T13:04:44.371Z"
   },
   {
    "duration": 82,
    "start_time": "2022-07-12T13:04:44.392Z"
   },
   {
    "duration": 45,
    "start_time": "2022-07-12T13:04:44.476Z"
   },
   {
    "duration": 7,
    "start_time": "2022-07-12T13:04:44.523Z"
   },
   {
    "duration": 19,
    "start_time": "2022-07-12T13:04:44.532Z"
   },
   {
    "duration": 8,
    "start_time": "2022-07-12T13:04:44.553Z"
   },
   {
    "duration": 9,
    "start_time": "2022-07-12T13:04:44.563Z"
   },
   {
    "duration": 708,
    "start_time": "2022-07-12T13:04:44.574Z"
   },
   {
    "duration": 274,
    "start_time": "2022-07-12T13:04:45.283Z"
   },
   {
    "duration": 380,
    "start_time": "2022-07-12T13:04:45.561Z"
   },
   {
    "duration": 236,
    "start_time": "2022-07-12T13:04:45.943Z"
   },
   {
    "duration": 349,
    "start_time": "2022-07-12T13:04:46.181Z"
   },
   {
    "duration": 188,
    "start_time": "2022-07-12T13:04:46.532Z"
   },
   {
    "duration": 4,
    "start_time": "2022-07-12T13:04:46.722Z"
   },
   {
    "duration": 244,
    "start_time": "2022-07-12T13:04:46.729Z"
   },
   {
    "duration": 6,
    "start_time": "2022-07-12T13:04:46.976Z"
   },
   {
    "duration": 5,
    "start_time": "2022-07-12T13:04:47.007Z"
   },
   {
    "duration": 72,
    "start_time": "2022-07-12T13:04:47.014Z"
   },
   {
    "duration": 286,
    "start_time": "2022-07-12T13:04:47.088Z"
   },
   {
    "duration": 14,
    "start_time": "2022-07-12T13:04:47.376Z"
   },
   {
    "duration": 31,
    "start_time": "2022-07-12T13:04:47.399Z"
   },
   {
    "duration": 13,
    "start_time": "2022-07-12T13:04:47.432Z"
   },
   {
    "duration": 48,
    "start_time": "2022-07-12T13:04:47.446Z"
   },
   {
    "duration": 38,
    "start_time": "2022-07-12T13:04:47.496Z"
   },
   {
    "duration": 4,
    "start_time": "2022-07-12T13:04:47.536Z"
   },
   {
    "duration": 490,
    "start_time": "2022-07-12T13:04:47.542Z"
   },
   {
    "duration": 331,
    "start_time": "2022-07-12T13:04:48.037Z"
   },
   {
    "duration": 365,
    "start_time": "2022-07-12T13:04:48.370Z"
   },
   {
    "duration": 223,
    "start_time": "2022-07-12T13:04:48.737Z"
   },
   {
    "duration": 353,
    "start_time": "2022-07-12T13:04:48.962Z"
   },
   {
    "duration": 1280,
    "start_time": "2022-07-12T13:32:40.398Z"
   },
   {
    "duration": 43,
    "start_time": "2022-07-12T13:32:41.680Z"
   },
   {
    "duration": 13,
    "start_time": "2022-07-12T13:32:41.726Z"
   },
   {
    "duration": 7,
    "start_time": "2022-07-12T13:32:41.740Z"
   },
   {
    "duration": 23,
    "start_time": "2022-07-12T13:32:41.749Z"
   },
   {
    "duration": 75,
    "start_time": "2022-07-12T13:32:41.774Z"
   },
   {
    "duration": 39,
    "start_time": "2022-07-12T13:32:41.851Z"
   },
   {
    "duration": 6,
    "start_time": "2022-07-12T13:32:41.892Z"
   },
   {
    "duration": 51,
    "start_time": "2022-07-12T13:32:41.900Z"
   },
   {
    "duration": 9,
    "start_time": "2022-07-12T13:32:41.954Z"
   },
   {
    "duration": 14,
    "start_time": "2022-07-12T13:32:41.965Z"
   },
   {
    "duration": 671,
    "start_time": "2022-07-12T13:32:41.981Z"
   },
   {
    "duration": 244,
    "start_time": "2022-07-12T13:32:42.654Z"
   },
   {
    "duration": 322,
    "start_time": "2022-07-12T13:32:42.904Z"
   },
   {
    "duration": 241,
    "start_time": "2022-07-12T13:32:43.229Z"
   },
   {
    "duration": 369,
    "start_time": "2022-07-12T13:32:43.472Z"
   },
   {
    "duration": 193,
    "start_time": "2022-07-12T13:32:43.843Z"
   },
   {
    "duration": 5,
    "start_time": "2022-07-12T13:32:44.038Z"
   },
   {
    "duration": 207,
    "start_time": "2022-07-12T13:32:44.045Z"
   },
   {
    "duration": 4,
    "start_time": "2022-07-12T13:32:44.254Z"
   },
   {
    "duration": 11,
    "start_time": "2022-07-12T13:32:44.259Z"
   },
   {
    "duration": 37,
    "start_time": "2022-07-12T13:32:44.271Z"
   },
   {
    "duration": 236,
    "start_time": "2022-07-12T13:32:44.310Z"
   },
   {
    "duration": 13,
    "start_time": "2022-07-12T13:32:44.548Z"
   },
   {
    "duration": 9,
    "start_time": "2022-07-12T13:32:44.563Z"
   },
   {
    "duration": 27,
    "start_time": "2022-07-12T13:32:44.574Z"
   },
   {
    "duration": 55,
    "start_time": "2022-07-12T13:32:44.603Z"
   },
   {
    "duration": 19,
    "start_time": "2022-07-12T13:32:44.660Z"
   },
   {
    "duration": 4,
    "start_time": "2022-07-12T13:32:44.681Z"
   },
   {
    "duration": 440,
    "start_time": "2022-07-12T13:32:44.699Z"
   },
   {
    "duration": 327,
    "start_time": "2022-07-12T13:32:45.141Z"
   },
   {
    "duration": 359,
    "start_time": "2022-07-12T13:32:45.469Z"
   },
   {
    "duration": 221,
    "start_time": "2022-07-12T13:32:45.830Z"
   },
   {
    "duration": 312,
    "start_time": "2022-07-12T13:32:46.052Z"
   },
   {
    "duration": 5,
    "start_time": "2022-07-12T13:34:44.324Z"
   }
  ],
  "kernelspec": {
   "display_name": "Python 3 (ipykernel)",
   "language": "python",
   "name": "python3"
  },
  "language_info": {
   "codemirror_mode": {
    "name": "ipython",
    "version": 3
   },
   "file_extension": ".py",
   "mimetype": "text/x-python",
   "name": "python",
   "nbconvert_exporter": "python",
   "pygments_lexer": "ipython3",
   "version": "3.9.12"
  },
  "toc": {
   "base_numbering": 1,
   "nav_menu": {},
   "number_sections": true,
   "sideBar": true,
   "skip_h1_title": true,
   "title_cell": "Table of Contents",
   "title_sidebar": "Contents",
   "toc_cell": true,
   "toc_position": {
    "height": "calc(100% - 180px)",
    "left": "10px",
    "top": "150px",
    "width": "165px"
   },
   "toc_section_display": true,
   "toc_window_display": true
  }
 },
 "nbformat": 4,
 "nbformat_minor": 2
}
