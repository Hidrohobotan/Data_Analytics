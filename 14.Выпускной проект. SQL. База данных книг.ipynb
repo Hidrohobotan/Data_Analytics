{
 "cells": [
  {
   "cell_type": "markdown",
   "metadata": {},
   "source": [
    "# Выпускной проект\n",
    "\n",
    "# Проект \"SQL. База данных книг\""
   ]
  },
  {
   "cell_type": "markdown",
   "metadata": {},
   "source": [
    "1. [Описание проекта](#intro)\n",
    "1. [Загрузка и изучение баз данных](#upload)\n",
    "2. [Формирование запросов](#query)    \n",
    "    2.1. [Запрос №1](#1)    \n",
    "    2.2. [Запрос №2](#2)    \n",
    "    2.3. [Запрос №3](#3)    \n",
    "    2.4. [Запрос №4](#4)    \n",
    "    2.5. [Запрос №5](#5)\n",
    "3. [Выводы](#conclusion)"
   ]
  },
  {
   "cell_type": "markdown",
   "metadata": {},
   "source": [
    "<a id=\"intro\"></a>\n",
    "\n",
    "## Описание проекта"
   ]
  },
  {
   "cell_type": "markdown",
   "metadata": {},
   "source": [
    "Имеется крупный сервис для чтения книг по подписке. Информация о книгах собрана в несколько баз данных. Эти данные помогут сформулировать ценностное предложение для нового продукта.\n",
    "\n",
    "**Цель проекта:** проанализировать базу данных путем создания SQL-запросов \n",
    "\n",
    "**Задачи:**\n",
    "1. Посчитать, сколько книг вышло после 1 января 2000 года;\n",
    "2. Для каждой книги посчитать количество обзоров и среднюю оценку;\n",
    "3. Определить издательство, которое выпустило наибольшее число книг толще 50 страниц — так можно исключить из анализа брошюры;\n",
    "4. Определить автора с самой высокой средней оценкой книг (учитывать только книги с 50 и более оценками);\n",
    "5. Посчитать среднее количество обзоров от пользователей, которые поставили больше 50 оценок.\n",
    "\n",
    "**Описание данных**\n",
    "\n",
    "1. Таблица books. Содержит данные о книгах:\n",
    "    - book_id — идентификатор книги;\n",
    "    - author_id — идентификатор автора;\n",
    "    - title — название книги;\n",
    "    - num_pages — количество страниц;\n",
    "    - publication_date — дата публикации книги;\n",
    "    - publisher_id — идентификатор издателя.\n",
    "\n",
    "2. Таблица authors. Содержит данные об авторах:\n",
    "    - author_id — идентификатор автора;\n",
    "    - author — имя автора.\n",
    "    \n",
    "3. Таблица publishers. Содержит данные об издательствах:\n",
    "    - publisher_id — идентификатор издательства;\n",
    "    - publisher — название издательства;\n",
    "    \n",
    "4. Таблица ratings. Содержит данные о пользовательских оценках книг:\n",
    "    - rating_id — идентификатор оценки;\n",
    "    - book_id — идентификатор книги;\n",
    "    - username — имя пользователя, оставившего оценку;\n",
    "    - rating — оценка книги.\n",
    "    \n",
    "5. Таблица reviews. Содержит данные о пользовательских обзорах:\n",
    "    - review_id — идентификатор обзора;\n",
    "    - book_id — идентификатор книги;\n",
    "    - username — имя автора обзора;\n",
    "    - text — текст обзора.\n",
    "    \n",
    "**Инструментарий:**\n",
    "\n",
    "1. Python\n",
    "    - *библиотеки:* pandas, sqlalchemy\n",
    "    - *работа с данными:* read_csv, info, try-except, isna, sum, duplicated, set_option, create_engine, io.sql.read_sql\n",
    "2. SQL\n",
    "    - SELECT, FROM, WHERE, IN, COUNT, WITH, HAVING, GROUP BY, INNER JOIN, RIGHT JOIN, ORDER BY"
   ]
  },
  {
   "cell_type": "markdown",
   "metadata": {},
   "source": [
    "<a id=\"upload\"></a>\n",
    "\n",
    "## Загрузка и изучение баз данных"
   ]
  },
  {
   "cell_type": "markdown",
   "metadata": {},
   "source": [
    "Импорт библиотек и настройка отображения"
   ]
  },
  {
   "cell_type": "code",
   "execution_count": 1,
   "metadata": {},
   "outputs": [],
   "source": [
    "import pandas as pd\n",
    "from sqlalchemy import create_engine"
   ]
  },
  {
   "cell_type": "code",
   "execution_count": 2,
   "metadata": {},
   "outputs": [],
   "source": [
    "# Настройка отображения значений с плавающей точкой\n",
    "pd.set_option('display.float_format', '{:.2f}'.format)"
   ]
  },
  {
   "cell_type": "markdown",
   "metadata": {},
   "source": [
    "Настройка подключения к базам данных SQL"
   ]
  },
  {
   "cell_type": "code",
   "execution_count": 2,
   "metadata": {},
   "outputs": [],
   "source": [
    "db_config = {'user': 'praktikum_student',\n",
    " 'pwd': 'Sdf4$2;d-d30pp',\n",
    " 'host': 'rc1b-wcoijxj3yxfsf3fs.mdb.yandexcloud.net',\n",
    " 'port': 6432,\n",
    " 'db': 'data-analyst-final-project-db'}\n",
    "connection_string = 'postgresql://{}:{}@{}:{}/{}'.format(db_config['user'],\n",
    " db_config['pwd'],\n",
    " db_config['host'],\n",
    " db_config['port'],\n",
    " db_config['db'])\n",
    "\n",
    "engine = create_engine(connection_string, connect_args={'sslmode':'require'})"
   ]
  },
  {
   "cell_type": "markdown",
   "metadata": {},
   "source": [
    "Загрузим базы данных"
   ]
  },
  {
   "cell_type": "code",
   "execution_count": 3,
   "metadata": {},
   "outputs": [],
   "source": [
    "books = '''\n",
    "        SELECT * FROM books\n",
    "        '''\n",
    "\n",
    "books = pd.io.sql.read_sql(books, con = engine)\n",
    "\n",
    "\n",
    "authors = '''\n",
    "        SELECT * FROM authors\n",
    "\n",
    "        '''\n",
    "authors = pd.io.sql.read_sql(authors, con = engine)\n",
    "\n",
    "\n",
    "publishers =  '''\n",
    "        SELECT * FROM publishers\n",
    "\n",
    "        '''\n",
    "publishers = pd.io.sql.read_sql(publishers, con = engine)\n",
    "\n",
    "\n",
    "ratings =  '''\n",
    "        SELECT * FROM ratings\n",
    "\n",
    "        '''\n",
    "ratings = pd.io.sql.read_sql(ratings, con = engine)\n",
    "\n",
    "\n",
    "reviews =  '''\n",
    "        SELECT * FROM reviews\n",
    "\n",
    "        '''\n",
    "reviews = pd.io.sql.read_sql(reviews, con = engine)"
   ]
  },
  {
   "cell_type": "markdown",
   "metadata": {},
   "source": [
    "Изучим базы данных"
   ]
  },
  {
   "cell_type": "code",
   "execution_count": 4,
   "metadata": {},
   "outputs": [],
   "source": [
    "# Определим функцию для знакомства с базой данных и проверки её на явные дубликаты\n",
    "def database_check(db):\n",
    "    print('Случайные 5 строк базы данных')\n",
    "    display(db.sample(5, random_state=0))\n",
    "    print('*'*50)\n",
    "    print('Общая информация о базе данных')\n",
    "    db.info()\n",
    "    print('*'*50)\n",
    "    print('Пропущенных значений в строках:')\n",
    "    print(db.isna().sum())\n",
    "    print('*'*50)\n",
    "    print('Явных дубликатов в базе данных:', db.duplicated().sum())\n",
    "    print('*'*50)"
   ]
  },
  {
   "cell_type": "code",
   "execution_count": 5,
   "metadata": {
    "scrolled": false
   },
   "outputs": [
    {
     "name": "stdout",
     "output_type": "stream",
     "text": [
      "База данных книг (books)\n",
      "Случайные 5 строк базы данных\n"
     ]
    },
    {
     "data": {
      "text/html": [
       "<div>\n",
       "<style scoped>\n",
       "    .dataframe tbody tr th:only-of-type {\n",
       "        vertical-align: middle;\n",
       "    }\n",
       "\n",
       "    .dataframe tbody tr th {\n",
       "        vertical-align: top;\n",
       "    }\n",
       "\n",
       "    .dataframe thead th {\n",
       "        text-align: right;\n",
       "    }\n",
       "</style>\n",
       "<table border=\"1\" class=\"dataframe\">\n",
       "  <thead>\n",
       "    <tr style=\"text-align: right;\">\n",
       "      <th></th>\n",
       "      <th>book_id</th>\n",
       "      <th>author_id</th>\n",
       "      <th>title</th>\n",
       "      <th>num_pages</th>\n",
       "      <th>publication_date</th>\n",
       "      <th>publisher_id</th>\n",
       "    </tr>\n",
       "  </thead>\n",
       "  <tbody>\n",
       "    <tr>\n",
       "      <th>993</th>\n",
       "      <td>994</td>\n",
       "      <td>408</td>\n",
       "      <td>World War Z: An Oral History of the Zombie War</td>\n",
       "      <td>342</td>\n",
       "      <td>2006-09-12</td>\n",
       "      <td>68</td>\n",
       "    </tr>\n",
       "    <tr>\n",
       "      <th>859</th>\n",
       "      <td>860</td>\n",
       "      <td>425</td>\n",
       "      <td>The Scarlet Letter</td>\n",
       "      <td>279</td>\n",
       "      <td>2003-02-27</td>\n",
       "      <td>212</td>\n",
       "    </tr>\n",
       "    <tr>\n",
       "      <th>298</th>\n",
       "      <td>299</td>\n",
       "      <td>236</td>\n",
       "      <td>Harry Potter and the Chamber of Secrets (Harry...</td>\n",
       "      <td>341</td>\n",
       "      <td>1999-06-02</td>\n",
       "      <td>24</td>\n",
       "    </tr>\n",
       "    <tr>\n",
       "      <th>553</th>\n",
       "      <td>554</td>\n",
       "      <td>67</td>\n",
       "      <td>Scott Pilgrim  Volume 1: Scott Pilgrim's Preci...</td>\n",
       "      <td>168</td>\n",
       "      <td>2004-08-18</td>\n",
       "      <td>196</td>\n",
       "    </tr>\n",
       "    <tr>\n",
       "      <th>672</th>\n",
       "      <td>673</td>\n",
       "      <td>235</td>\n",
       "      <td>The Catcher in the Rye</td>\n",
       "      <td>277</td>\n",
       "      <td>2001-01-30</td>\n",
       "      <td>31</td>\n",
       "    </tr>\n",
       "  </tbody>\n",
       "</table>\n",
       "</div>"
      ],
      "text/plain": [
       "     book_id  author_id                                              title  \\\n",
       "993      994        408     World War Z: An Oral History of the Zombie War   \n",
       "859      860        425                                 The Scarlet Letter   \n",
       "298      299        236  Harry Potter and the Chamber of Secrets (Harry...   \n",
       "553      554         67  Scott Pilgrim  Volume 1: Scott Pilgrim's Preci...   \n",
       "672      673        235                             The Catcher in the Rye   \n",
       "\n",
       "     num_pages publication_date  publisher_id  \n",
       "993        342       2006-09-12            68  \n",
       "859        279       2003-02-27           212  \n",
       "298        341       1999-06-02            24  \n",
       "553        168       2004-08-18           196  \n",
       "672        277       2001-01-30            31  "
      ]
     },
     "metadata": {},
     "output_type": "display_data"
    },
    {
     "name": "stdout",
     "output_type": "stream",
     "text": [
      "**************************************************\n",
      "Общая информация о базе данных\n",
      "<class 'pandas.core.frame.DataFrame'>\n",
      "RangeIndex: 1000 entries, 0 to 999\n",
      "Data columns (total 6 columns):\n",
      " #   Column            Non-Null Count  Dtype \n",
      "---  ------            --------------  ----- \n",
      " 0   book_id           1000 non-null   int64 \n",
      " 1   author_id         1000 non-null   int64 \n",
      " 2   title             1000 non-null   object\n",
      " 3   num_pages         1000 non-null   int64 \n",
      " 4   publication_date  1000 non-null   object\n",
      " 5   publisher_id      1000 non-null   int64 \n",
      "dtypes: int64(4), object(2)\n",
      "memory usage: 47.0+ KB\n",
      "**************************************************\n",
      "Пропущенных значений в строках:\n",
      "book_id             0\n",
      "author_id           0\n",
      "title               0\n",
      "num_pages           0\n",
      "publication_date    0\n",
      "publisher_id        0\n",
      "dtype: int64\n",
      "**************************************************\n",
      "Явных дубликатов в базе данных: 0\n",
      "**************************************************\n",
      "База данных авторов (authors)\n",
      "Случайные 5 строк базы данных\n"
     ]
    },
    {
     "data": {
      "text/html": [
       "<div>\n",
       "<style scoped>\n",
       "    .dataframe tbody tr th:only-of-type {\n",
       "        vertical-align: middle;\n",
       "    }\n",
       "\n",
       "    .dataframe tbody tr th {\n",
       "        vertical-align: top;\n",
       "    }\n",
       "\n",
       "    .dataframe thead th {\n",
       "        text-align: right;\n",
       "    }\n",
       "</style>\n",
       "<table border=\"1\" class=\"dataframe\">\n",
       "  <thead>\n",
       "    <tr style=\"text-align: right;\">\n",
       "      <th></th>\n",
       "      <th>author_id</th>\n",
       "      <th>author</th>\n",
       "    </tr>\n",
       "  </thead>\n",
       "  <tbody>\n",
       "    <tr>\n",
       "      <th>453</th>\n",
       "      <td>454</td>\n",
       "      <td>Orson Scott Card/Piotr W. Cholewa</td>\n",
       "    </tr>\n",
       "    <tr>\n",
       "      <th>482</th>\n",
       "      <td>483</td>\n",
       "      <td>Primo Levi/Stuart J. Woolf/Philip Roth</td>\n",
       "    </tr>\n",
       "    <tr>\n",
       "      <th>516</th>\n",
       "      <td>517</td>\n",
       "      <td>Rohinton Mistry</td>\n",
       "    </tr>\n",
       "    <tr>\n",
       "      <th>542</th>\n",
       "      <td>543</td>\n",
       "      <td>Stephen King/Bernie Wrightson</td>\n",
       "    </tr>\n",
       "    <tr>\n",
       "      <th>85</th>\n",
       "      <td>86</td>\n",
       "      <td>Charles Dickens/Nicola Bradbury/Hablot Knight ...</td>\n",
       "    </tr>\n",
       "  </tbody>\n",
       "</table>\n",
       "</div>"
      ],
      "text/plain": [
       "     author_id                                             author\n",
       "453        454                  Orson Scott Card/Piotr W. Cholewa\n",
       "482        483             Primo Levi/Stuart J. Woolf/Philip Roth\n",
       "516        517                                    Rohinton Mistry\n",
       "542        543                      Stephen King/Bernie Wrightson\n",
       "85          86  Charles Dickens/Nicola Bradbury/Hablot Knight ..."
      ]
     },
     "metadata": {},
     "output_type": "display_data"
    },
    {
     "name": "stdout",
     "output_type": "stream",
     "text": [
      "**************************************************\n",
      "Общая информация о базе данных\n",
      "<class 'pandas.core.frame.DataFrame'>\n",
      "RangeIndex: 636 entries, 0 to 635\n",
      "Data columns (total 2 columns):\n",
      " #   Column     Non-Null Count  Dtype \n",
      "---  ------     --------------  ----- \n",
      " 0   author_id  636 non-null    int64 \n",
      " 1   author     636 non-null    object\n",
      "dtypes: int64(1), object(1)\n",
      "memory usage: 10.1+ KB\n",
      "**************************************************\n",
      "Пропущенных значений в строках:\n",
      "author_id    0\n",
      "author       0\n",
      "dtype: int64\n",
      "**************************************************\n",
      "Явных дубликатов в базе данных: 0\n",
      "**************************************************\n",
      "База данных извательств (publishers)\n",
      "Случайные 5 строк базы данных\n"
     ]
    },
    {
     "data": {
      "text/html": [
       "<div>\n",
       "<style scoped>\n",
       "    .dataframe tbody tr th:only-of-type {\n",
       "        vertical-align: middle;\n",
       "    }\n",
       "\n",
       "    .dataframe tbody tr th {\n",
       "        vertical-align: top;\n",
       "    }\n",
       "\n",
       "    .dataframe thead th {\n",
       "        text-align: right;\n",
       "    }\n",
       "</style>\n",
       "<table border=\"1\" class=\"dataframe\">\n",
       "  <thead>\n",
       "    <tr style=\"text-align: right;\">\n",
       "      <th></th>\n",
       "      <th>publisher_id</th>\n",
       "      <th>publisher</th>\n",
       "    </tr>\n",
       "  </thead>\n",
       "  <tbody>\n",
       "    <tr>\n",
       "      <th>225</th>\n",
       "      <td>226</td>\n",
       "      <td>Plume</td>\n",
       "    </tr>\n",
       "    <tr>\n",
       "      <th>271</th>\n",
       "      <td>272</td>\n",
       "      <td>Simon &amp; Schuster Simon Pulse</td>\n",
       "    </tr>\n",
       "    <tr>\n",
       "      <th>204</th>\n",
       "      <td>205</td>\n",
       "      <td>Pan Childrens</td>\n",
       "    </tr>\n",
       "    <tr>\n",
       "      <th>274</th>\n",
       "      <td>275</td>\n",
       "      <td>Simon Schuster</td>\n",
       "    </tr>\n",
       "    <tr>\n",
       "      <th>299</th>\n",
       "      <td>300</td>\n",
       "      <td>Turtleback</td>\n",
       "    </tr>\n",
       "  </tbody>\n",
       "</table>\n",
       "</div>"
      ],
      "text/plain": [
       "     publisher_id                     publisher\n",
       "225           226                         Plume\n",
       "271           272  Simon & Schuster Simon Pulse\n",
       "204           205                 Pan Childrens\n",
       "274           275                Simon Schuster\n",
       "299           300                    Turtleback"
      ]
     },
     "metadata": {},
     "output_type": "display_data"
    },
    {
     "name": "stdout",
     "output_type": "stream",
     "text": [
      "**************************************************\n",
      "Общая информация о базе данных\n",
      "<class 'pandas.core.frame.DataFrame'>\n",
      "RangeIndex: 340 entries, 0 to 339\n",
      "Data columns (total 2 columns):\n",
      " #   Column        Non-Null Count  Dtype \n",
      "---  ------        --------------  ----- \n",
      " 0   publisher_id  340 non-null    int64 \n",
      " 1   publisher     340 non-null    object\n",
      "dtypes: int64(1), object(1)\n",
      "memory usage: 5.4+ KB\n",
      "**************************************************\n",
      "Пропущенных значений в строках:\n",
      "publisher_id    0\n",
      "publisher       0\n",
      "dtype: int64\n",
      "**************************************************\n",
      "Явных дубликатов в базе данных: 0\n",
      "**************************************************\n",
      "База данных пользовательских рейтингов (ratings)\n",
      "Случайные 5 строк базы данных\n"
     ]
    },
    {
     "data": {
      "text/html": [
       "<div>\n",
       "<style scoped>\n",
       "    .dataframe tbody tr th:only-of-type {\n",
       "        vertical-align: middle;\n",
       "    }\n",
       "\n",
       "    .dataframe tbody tr th {\n",
       "        vertical-align: top;\n",
       "    }\n",
       "\n",
       "    .dataframe thead th {\n",
       "        text-align: right;\n",
       "    }\n",
       "</style>\n",
       "<table border=\"1\" class=\"dataframe\">\n",
       "  <thead>\n",
       "    <tr style=\"text-align: right;\">\n",
       "      <th></th>\n",
       "      <th>rating_id</th>\n",
       "      <th>book_id</th>\n",
       "      <th>username</th>\n",
       "      <th>rating</th>\n",
       "    </tr>\n",
       "  </thead>\n",
       "  <tbody>\n",
       "    <tr>\n",
       "      <th>5434</th>\n",
       "      <td>5435</td>\n",
       "      <td>838</td>\n",
       "      <td>debra43</td>\n",
       "      <td>4</td>\n",
       "    </tr>\n",
       "    <tr>\n",
       "      <th>4215</th>\n",
       "      <td>4216</td>\n",
       "      <td>677</td>\n",
       "      <td>edwardbrown</td>\n",
       "      <td>4</td>\n",
       "    </tr>\n",
       "    <tr>\n",
       "      <th>2232</th>\n",
       "      <td>2233</td>\n",
       "      <td>359</td>\n",
       "      <td>wknight</td>\n",
       "      <td>4</td>\n",
       "    </tr>\n",
       "    <tr>\n",
       "      <th>4583</th>\n",
       "      <td>4584</td>\n",
       "      <td>722</td>\n",
       "      <td>amymckenzie</td>\n",
       "      <td>4</td>\n",
       "    </tr>\n",
       "    <tr>\n",
       "      <th>4312</th>\n",
       "      <td>4313</td>\n",
       "      <td>692</td>\n",
       "      <td>jasongoodman</td>\n",
       "      <td>3</td>\n",
       "    </tr>\n",
       "  </tbody>\n",
       "</table>\n",
       "</div>"
      ],
      "text/plain": [
       "      rating_id  book_id      username  rating\n",
       "5434       5435      838       debra43       4\n",
       "4215       4216      677   edwardbrown       4\n",
       "2232       2233      359       wknight       4\n",
       "4583       4584      722   amymckenzie       4\n",
       "4312       4313      692  jasongoodman       3"
      ]
     },
     "metadata": {},
     "output_type": "display_data"
    },
    {
     "name": "stdout",
     "output_type": "stream",
     "text": [
      "**************************************************\n",
      "Общая информация о базе данных\n",
      "<class 'pandas.core.frame.DataFrame'>\n",
      "RangeIndex: 6456 entries, 0 to 6455\n",
      "Data columns (total 4 columns):\n",
      " #   Column     Non-Null Count  Dtype \n",
      "---  ------     --------------  ----- \n",
      " 0   rating_id  6456 non-null   int64 \n",
      " 1   book_id    6456 non-null   int64 \n",
      " 2   username   6456 non-null   object\n",
      " 3   rating     6456 non-null   int64 \n",
      "dtypes: int64(3), object(1)\n",
      "memory usage: 201.9+ KB\n",
      "**************************************************\n",
      "Пропущенных значений в строках:\n",
      "rating_id    0\n",
      "book_id      0\n",
      "username     0\n",
      "rating       0\n",
      "dtype: int64\n",
      "**************************************************\n",
      "Явных дубликатов в базе данных: 0\n",
      "**************************************************\n",
      "База данных пользовательских обзоров (reviews)\n",
      "Случайные 5 строк базы данных\n"
     ]
    },
    {
     "data": {
      "text/html": [
       "<div>\n",
       "<style scoped>\n",
       "    .dataframe tbody tr th:only-of-type {\n",
       "        vertical-align: middle;\n",
       "    }\n",
       "\n",
       "    .dataframe tbody tr th {\n",
       "        vertical-align: top;\n",
       "    }\n",
       "\n",
       "    .dataframe thead th {\n",
       "        text-align: right;\n",
       "    }\n",
       "</style>\n",
       "<table border=\"1\" class=\"dataframe\">\n",
       "  <thead>\n",
       "    <tr style=\"text-align: right;\">\n",
       "      <th></th>\n",
       "      <th>review_id</th>\n",
       "      <th>book_id</th>\n",
       "      <th>username</th>\n",
       "      <th>text</th>\n",
       "    </tr>\n",
       "  </thead>\n",
       "  <tbody>\n",
       "    <tr>\n",
       "      <th>1533</th>\n",
       "      <td>1532</td>\n",
       "      <td>556</td>\n",
       "      <td>roberto26</td>\n",
       "      <td>People floor assume like new knowledge yet. Re...</td>\n",
       "    </tr>\n",
       "    <tr>\n",
       "      <th>2392</th>\n",
       "      <td>2392</td>\n",
       "      <td>860</td>\n",
       "      <td>fharris</td>\n",
       "      <td>Walk would relate worker two because financial...</td>\n",
       "    </tr>\n",
       "    <tr>\n",
       "      <th>502</th>\n",
       "      <td>788</td>\n",
       "      <td>292</td>\n",
       "      <td>nicoleburns</td>\n",
       "      <td>Bag early hotel. Foot fly quality.</td>\n",
       "    </tr>\n",
       "    <tr>\n",
       "      <th>1515</th>\n",
       "      <td>1514</td>\n",
       "      <td>549</td>\n",
       "      <td>ryanfranco</td>\n",
       "      <td>Hit hotel meet through cause standard behind. ...</td>\n",
       "    </tr>\n",
       "    <tr>\n",
       "      <th>1858</th>\n",
       "      <td>1857</td>\n",
       "      <td>674</td>\n",
       "      <td>edwardbrown</td>\n",
       "      <td>Change forward during current. Writer ready po...</td>\n",
       "    </tr>\n",
       "  </tbody>\n",
       "</table>\n",
       "</div>"
      ],
      "text/plain": [
       "      review_id  book_id     username  \\\n",
       "1533       1532      556    roberto26   \n",
       "2392       2392      860      fharris   \n",
       "502         788      292  nicoleburns   \n",
       "1515       1514      549   ryanfranco   \n",
       "1858       1857      674  edwardbrown   \n",
       "\n",
       "                                                   text  \n",
       "1533  People floor assume like new knowledge yet. Re...  \n",
       "2392  Walk would relate worker two because financial...  \n",
       "502                  Bag early hotel. Foot fly quality.  \n",
       "1515  Hit hotel meet through cause standard behind. ...  \n",
       "1858  Change forward during current. Writer ready po...  "
      ]
     },
     "metadata": {},
     "output_type": "display_data"
    },
    {
     "name": "stdout",
     "output_type": "stream",
     "text": [
      "**************************************************\n",
      "Общая информация о базе данных\n",
      "<class 'pandas.core.frame.DataFrame'>\n",
      "RangeIndex: 2793 entries, 0 to 2792\n",
      "Data columns (total 4 columns):\n",
      " #   Column     Non-Null Count  Dtype \n",
      "---  ------     --------------  ----- \n",
      " 0   review_id  2793 non-null   int64 \n",
      " 1   book_id    2793 non-null   int64 \n",
      " 2   username   2793 non-null   object\n",
      " 3   text       2793 non-null   object\n",
      "dtypes: int64(2), object(2)\n",
      "memory usage: 87.4+ KB\n",
      "**************************************************\n",
      "Пропущенных значений в строках:\n",
      "review_id    0\n",
      "book_id      0\n",
      "username     0\n",
      "text         0\n",
      "dtype: int64\n",
      "**************************************************\n",
      "Явных дубликатов в базе данных: 0\n",
      "**************************************************\n"
     ]
    }
   ],
   "source": [
    "print('База данных книг (books)')\n",
    "database_check(books)\n",
    "\n",
    "print('База данных авторов (authors)')\n",
    "database_check(authors)\n",
    "\n",
    "print('База данных извательств (publishers)')\n",
    "database_check(publishers)\n",
    "\n",
    "print('База данных пользовательских рейтингов (ratings)')\n",
    "database_check(ratings)\n",
    "\n",
    "print('База данных пользовательских обзоров (reviews)')\n",
    "database_check(reviews)"
   ]
  },
  {
   "cell_type": "markdown",
   "metadata": {},
   "source": [
    "**Вывод**\n",
    "\n",
    "Информация представлена в 5 базах данных. Пропущенных и дублирующихся занчений нет, все данные представлены в нужном формате. Предобработка данных не требуется"
   ]
  },
  {
   "cell_type": "markdown",
   "metadata": {},
   "source": [
    "<a id=\"query\"></a>\n",
    "\n",
    "## Формирование запросов"
   ]
  },
  {
   "cell_type": "markdown",
   "metadata": {},
   "source": [
    "<a id=\"1\"></a>\n",
    "\n",
    "### Зарпос №1"
   ]
  },
  {
   "cell_type": "markdown",
   "metadata": {},
   "source": [
    "Сколько книг вышло после 1 января 2000 года"
   ]
  },
  {
   "cell_type": "code",
   "execution_count": 6,
   "metadata": {},
   "outputs": [
    {
     "name": "stdout",
     "output_type": "stream",
     "text": [
      "После 1 января 2000 года вышло 819 книг\n"
     ]
    }
   ],
   "source": [
    "query_books =   '''\n",
    "                    SELECT\n",
    "                        COUNT(book_id)\n",
    "                    FROM\n",
    "                        books\n",
    "                    WHERE  \n",
    "                        publication_date::date > '2000-01-01'\n",
    "                    ''' \n",
    "query_books = pd.io.sql.read_sql(query_books, con = engine)  \n",
    "\n",
    "print(f'После 1 января 2000 года вышло {query_books[\"count\"][0]} книг')"
   ]
  },
  {
   "cell_type": "markdown",
   "metadata": {},
   "source": [
    "<a id=\"2\"></a>\n",
    "\n",
    "### Зарпос №2"
   ]
  },
  {
   "cell_type": "markdown",
   "metadata": {},
   "source": [
    "Для каждой книги посчитаем количество обзоров и среднюю оценку"
   ]
  },
  {
   "cell_type": "code",
   "execution_count": 9,
   "metadata": {},
   "outputs": [
    {
     "name": "stdout",
     "output_type": "stream",
     "text": [
      "Количество обзоров и средняя оценка каждой книги\n"
     ]
    },
    {
     "data": {
      "text/html": [
       "<div>\n",
       "<style scoped>\n",
       "    .dataframe tbody tr th:only-of-type {\n",
       "        vertical-align: middle;\n",
       "    }\n",
       "\n",
       "    .dataframe tbody tr th {\n",
       "        vertical-align: top;\n",
       "    }\n",
       "\n",
       "    .dataframe thead th {\n",
       "        text-align: right;\n",
       "    }\n",
       "</style>\n",
       "<table border=\"1\" class=\"dataframe\">\n",
       "  <thead>\n",
       "    <tr style=\"text-align: right;\">\n",
       "      <th></th>\n",
       "      <th>book_id</th>\n",
       "      <th>title</th>\n",
       "      <th>review_count</th>\n",
       "      <th>avg_rating</th>\n",
       "    </tr>\n",
       "  </thead>\n",
       "  <tbody>\n",
       "    <tr>\n",
       "      <th>0</th>\n",
       "      <td>1</td>\n",
       "      <td>'Salem's Lot</td>\n",
       "      <td>2</td>\n",
       "      <td>3.67</td>\n",
       "    </tr>\n",
       "    <tr>\n",
       "      <th>1</th>\n",
       "      <td>2</td>\n",
       "      <td>1 000 Places to See Before You Die</td>\n",
       "      <td>1</td>\n",
       "      <td>2.50</td>\n",
       "    </tr>\n",
       "    <tr>\n",
       "      <th>2</th>\n",
       "      <td>3</td>\n",
       "      <td>13 Little Blue Envelopes (Little Blue Envelope...</td>\n",
       "      <td>3</td>\n",
       "      <td>4.67</td>\n",
       "    </tr>\n",
       "    <tr>\n",
       "      <th>3</th>\n",
       "      <td>4</td>\n",
       "      <td>1491: New Revelations of the Americas Before C...</td>\n",
       "      <td>2</td>\n",
       "      <td>4.50</td>\n",
       "    </tr>\n",
       "    <tr>\n",
       "      <th>4</th>\n",
       "      <td>5</td>\n",
       "      <td>1776</td>\n",
       "      <td>4</td>\n",
       "      <td>4.00</td>\n",
       "    </tr>\n",
       "    <tr>\n",
       "      <th>...</th>\n",
       "      <td>...</td>\n",
       "      <td>...</td>\n",
       "      <td>...</td>\n",
       "      <td>...</td>\n",
       "    </tr>\n",
       "    <tr>\n",
       "      <th>995</th>\n",
       "      <td>996</td>\n",
       "      <td>Wyrd Sisters (Discworld  #6; Witches #2)</td>\n",
       "      <td>3</td>\n",
       "      <td>3.67</td>\n",
       "    </tr>\n",
       "    <tr>\n",
       "      <th>996</th>\n",
       "      <td>997</td>\n",
       "      <td>Xenocide (Ender's Saga  #3)</td>\n",
       "      <td>3</td>\n",
       "      <td>3.40</td>\n",
       "    </tr>\n",
       "    <tr>\n",
       "      <th>997</th>\n",
       "      <td>998</td>\n",
       "      <td>Year of Wonders</td>\n",
       "      <td>4</td>\n",
       "      <td>3.20</td>\n",
       "    </tr>\n",
       "    <tr>\n",
       "      <th>998</th>\n",
       "      <td>999</td>\n",
       "      <td>You Suck (A Love Story  #2)</td>\n",
       "      <td>2</td>\n",
       "      <td>4.50</td>\n",
       "    </tr>\n",
       "    <tr>\n",
       "      <th>999</th>\n",
       "      <td>1000</td>\n",
       "      <td>Zen and the Art of Motorcycle Maintenance: An ...</td>\n",
       "      <td>4</td>\n",
       "      <td>3.83</td>\n",
       "    </tr>\n",
       "  </tbody>\n",
       "</table>\n",
       "<p>1000 rows × 4 columns</p>\n",
       "</div>"
      ],
      "text/plain": [
       "     book_id                                              title  review_count  \\\n",
       "0          1                                       'Salem's Lot             2   \n",
       "1          2                 1 000 Places to See Before You Die             1   \n",
       "2          3  13 Little Blue Envelopes (Little Blue Envelope...             3   \n",
       "3          4  1491: New Revelations of the Americas Before C...             2   \n",
       "4          5                                               1776             4   \n",
       "..       ...                                                ...           ...   \n",
       "995      996           Wyrd Sisters (Discworld  #6; Witches #2)             3   \n",
       "996      997                        Xenocide (Ender's Saga  #3)             3   \n",
       "997      998                                    Year of Wonders             4   \n",
       "998      999                        You Suck (A Love Story  #2)             2   \n",
       "999     1000  Zen and the Art of Motorcycle Maintenance: An ...             4   \n",
       "\n",
       "     avg_rating  \n",
       "0          3.67  \n",
       "1          2.50  \n",
       "2          4.67  \n",
       "3          4.50  \n",
       "4          4.00  \n",
       "..          ...  \n",
       "995        3.67  \n",
       "996        3.40  \n",
       "997        3.20  \n",
       "998        4.50  \n",
       "999        3.83  \n",
       "\n",
       "[1000 rows x 4 columns]"
      ]
     },
     "execution_count": 9,
     "metadata": {},
     "output_type": "execute_result"
    }
   ],
   "source": [
    "query_reviews = '''\n",
    "            WITH book_reviews AS\n",
    "                    (SELECT books.book_id AS book_id, \n",
    "                    COUNT(reviews.text) AS review_count,\n",
    "                    books.title\n",
    "                FROM reviews\n",
    "                RIGHT JOIN books on reviews.book_id = books.book_id\n",
    "                GROUP BY books.book_id),\n",
    "                book_rating AS\n",
    "                    (SELECT books.book_id AS book_id, \n",
    "                    AVG(ratings.rating) AS avg_rating,\n",
    "                    books.title\n",
    "                FROM ratings\n",
    "                RIGHT JOIN books on ratings.book_id = books.book_id\n",
    "                GROUP BY books.book_id)            \n",
    "            SELECT book_rating.book_id AS book_id,\n",
    "                    book_rating.title AS title,\n",
    "                    book_reviews.review_count AS review_count,\n",
    "                    book_rating.avg_rating AS avg_rating                    \n",
    "            FROM book_reviews\n",
    "            INNER JOIN book_rating ON book_reviews.book_id = book_rating.book_id\n",
    "                    ''' \n",
    "\n",
    "query_reviews = pd.io.sql.read_sql(query_reviews, con = engine)    \n",
    "\n",
    "print('Количество обзоров и средняя оценка каждой книги')\n",
    "query_reviews"
   ]
  },
  {
   "cell_type": "markdown",
   "metadata": {},
   "source": [
    "<a id=\"3\"></a>\n",
    "\n",
    "### Зарпос №3"
   ]
  },
  {
   "cell_type": "markdown",
   "metadata": {},
   "source": [
    "Определим издательство, которое выпустило наибольшее число книг толще 50 страниц"
   ]
  },
  {
   "cell_type": "code",
   "execution_count": 10,
   "metadata": {},
   "outputs": [
    {
     "name": "stdout",
     "output_type": "stream",
     "text": [
      "Издательство Penguin Books выпустило больше всего книг - 42\n"
     ]
    }
   ],
   "source": [
    "query_publishers = '''\n",
    "                        SELECT\n",
    "                            publishers.publisher_id AS publisher_id,\n",
    "                            publishers.publisher AS publisher_name,\n",
    "                            COUNT(DISTINCT(books.book_id)) AS count_books\n",
    "                        FROM\n",
    "                            publishers\n",
    "                        INNER JOIN books ON books.publisher_id = publishers.publisher_id\n",
    "                        WHERE\n",
    "                            books.num_pages > 50\n",
    "                        GROUP BY\n",
    "                            publishers.publisher_id, publishers.publisher\n",
    "                        ORDER BY\n",
    "                            count_books DESC\n",
    "\n",
    "\n",
    "                        '''\n",
    "query_publishers = pd.io.sql.read_sql(query_publishers, con = engine)\n",
    "\n",
    "\n",
    "print(f'Издательство {query_publishers[\"publisher_name\"][0]} выпустило больше всего книг - {query_publishers[\"count_books\"][0]}')"
   ]
  },
  {
   "cell_type": "markdown",
   "metadata": {},
   "source": [
    "<a id=\"4\"></a>\n",
    "\n",
    "### Зарпос №4"
   ]
  },
  {
   "cell_type": "markdown",
   "metadata": {},
   "source": [
    "Определим автора с самой высокой средней оценкой книг (при учете только книг с 50 и более оценками)"
   ]
  },
  {
   "cell_type": "code",
   "execution_count": 11,
   "metadata": {},
   "outputs": [
    {
     "name": "stdout",
     "output_type": "stream",
     "text": [
      "Среди авторов с высокорейтинговыми книгами J.K. Rowling/Mary GrandPré имеют самый высокий средний рейтинг - 4.283844\n"
     ]
    }
   ],
   "source": [
    "query_authors = '''\n",
    "                    SELECT\n",
    "                        rating_books.author_id AS author_id,\n",
    "                        rating_books.author_name AS author_name,\n",
    "                        AVG(rating_books.avg_rating) AS author_avg_rating\n",
    "                    FROM\n",
    "                        (SELECT    \n",
    "                            books.author_id AS author_id,\n",
    "                            authors.author AS author_name,\n",
    "                            ratings.book_id AS book_id,\n",
    "                            AVG(ratings.rating) AS avg_rating    \n",
    "                        FROM\n",
    "                            ratings\n",
    "                        INNER JOIN\n",
    "                            books ON books.book_id = ratings.book_id\n",
    "                        INNER JOIN\n",
    "                            authors ON authors.author_id = books.author_id    \n",
    "                        GROUP BY\n",
    "                            ratings.book_id, books.author_id, authors.author\n",
    "                        HAVING\n",
    "                            COUNT(ratings.rating_id) > 49) AS rating_books\n",
    "                    GROUP BY\n",
    "                        rating_books.author_id, rating_books.author_name\n",
    "                    ORDER BY\n",
    "                        author_avg_rating DESC\n",
    "\n",
    "                    '''\n",
    "query_authors = pd.io.sql.read_sql(query_authors, con = engine)      \n",
    "\n",
    "print(f'Среди авторов с высокорейтинговыми книгами {query_authors[\"author_name\"][0]} имеют самый высокий средний рейтинг - {query_authors[\"author_avg_rating\"][0]:.6f}')"
   ]
  },
  {
   "cell_type": "markdown",
   "metadata": {},
   "source": [
    "<a id=\"5\"></a>\n",
    "\n",
    "### Зарпос №5"
   ]
  },
  {
   "cell_type": "markdown",
   "metadata": {},
   "source": [
    "Посчитаем среднее количество обзоров от пользователей, которые поставили больше 50 оценок"
   ]
  },
  {
   "cell_type": "code",
   "execution_count": 12,
   "metadata": {},
   "outputs": [
    {
     "name": "stdout",
     "output_type": "stream",
     "text": [
      "Среднее количество обзоров от пользователей, которые поставили больше 50 оценок -  24 штуки\n"
     ]
    }
   ],
   "source": [
    "query_avg_reviews = '''\n",
    "                        SELECT \n",
    "                            AVG(user_reviews.review_number) AS avg_review_number\n",
    "                        FROM\n",
    "                            (SELECT \n",
    "                                username AS username,\n",
    "                                COUNT(review_id) AS review_number\n",
    "                             FROM \n",
    "                                reviews\n",
    "                             WHERE \n",
    "                                username IN\n",
    "                                     (SELECT \n",
    "                                         username AS username\n",
    "                                      FROM \n",
    "                                         ratings\n",
    "                                      GROUP BY \n",
    "                                         username\n",
    "                                      HAVING \n",
    "                                          COUNT(rating_id) > 50)\n",
    "                             GROUP BY \n",
    "                                 username\n",
    "                             ) AS user_reviews\n",
    "\n",
    "                            '''\n",
    "\n",
    "query_avg_reviews = pd.io.sql.read_sql(query_avg_reviews, con=engine)\n",
    "\n",
    "print(f'Среднее количество обзоров от пользователей, которые поставили больше 50 оценок -  {query_avg_reviews[\"avg_review_number\"][0]:.0f} штуки')"
   ]
  },
  {
   "cell_type": "markdown",
   "metadata": {},
   "source": [
    "<a id=\"conclusion\"></a>\n",
    "\n",
    "## Выводы"
   ]
  },
  {
   "cell_type": "markdown",
   "metadata": {},
   "source": [
    "- После 1 января 2020 года вышло 819 книг\n",
    "- Книги в базе данных имеют от 0 до 8 отзывов и рейтинг от 1.5 до 5 пунктов\n",
    "- Больше всего книг (42) выпустило издательство Penguin Books\n",
    "- Самый высокий средний рейтинг (4.28) имеют два автора: Дж.К.Роулинг и Мери ГранПре\n",
    "- Среднее количество отзывов от пользователей, которые поставили больше 50 оценок -  24"
   ]
  }
 ],
 "metadata": {
  "ExecuteTimeLog": [
   {
    "duration": 526,
    "start_time": "2022-09-30T15:00:13.102Z"
   },
   {
    "duration": 8225,
    "start_time": "2022-09-30T15:00:27.057Z"
   },
   {
    "duration": 91,
    "start_time": "2022-09-30T15:01:03.678Z"
   },
   {
    "duration": 4,
    "start_time": "2022-09-30T15:01:59.657Z"
   },
   {
    "duration": 103,
    "start_time": "2022-09-30T15:04:37.054Z"
   },
   {
    "duration": 15,
    "start_time": "2022-09-30T15:19:23.918Z"
   },
   {
    "duration": 11,
    "start_time": "2022-09-30T15:19:32.183Z"
   },
   {
    "duration": 9,
    "start_time": "2022-09-30T15:19:45.211Z"
   },
   {
    "duration": 97,
    "start_time": "2022-09-30T15:19:57.860Z"
   },
   {
    "duration": 10,
    "start_time": "2022-09-30T15:20:00.407Z"
   },
   {
    "duration": 13,
    "start_time": "2022-09-30T15:20:08.101Z"
   },
   {
    "duration": 190,
    "start_time": "2022-09-30T15:20:45.245Z"
   },
   {
    "duration": 98,
    "start_time": "2022-09-30T15:20:53.712Z"
   },
   {
    "duration": 39,
    "start_time": "2022-09-30T15:21:00.450Z"
   },
   {
    "duration": 27,
    "start_time": "2022-09-30T15:24:46.855Z"
   },
   {
    "duration": 3,
    "start_time": "2022-09-30T15:25:10.511Z"
   },
   {
    "duration": 23,
    "start_time": "2022-09-30T15:25:14.807Z"
   },
   {
    "duration": 26,
    "start_time": "2022-09-30T15:25:43.327Z"
   },
   {
    "duration": 26,
    "start_time": "2022-09-30T15:26:12.332Z"
   },
   {
    "duration": 16,
    "start_time": "2022-09-30T15:30:37.144Z"
   },
   {
    "duration": 12,
    "start_time": "2022-09-30T15:31:36.259Z"
   },
   {
    "duration": 13,
    "start_time": "2022-09-30T15:32:45.608Z"
   },
   {
    "duration": 12,
    "start_time": "2022-09-30T15:32:56.335Z"
   },
   {
    "duration": 916,
    "start_time": "2022-09-30T15:40:33.550Z"
   },
   {
    "duration": 19,
    "start_time": "2022-09-30T15:40:42.410Z"
   },
   {
    "duration": 33,
    "start_time": "2022-09-30T15:44:31.292Z"
   },
   {
    "duration": 20,
    "start_time": "2022-09-30T15:45:17.816Z"
   },
   {
    "duration": 14,
    "start_time": "2022-09-30T15:48:03.335Z"
   },
   {
    "duration": 16,
    "start_time": "2022-09-30T15:51:40.778Z"
   },
   {
    "duration": 13,
    "start_time": "2022-09-30T15:53:11.646Z"
   },
   {
    "duration": 14,
    "start_time": "2022-09-30T15:57:56.678Z"
   },
   {
    "duration": 14,
    "start_time": "2022-09-30T16:00:59.874Z"
   },
   {
    "duration": 13,
    "start_time": "2022-09-30T16:01:54.710Z"
   },
   {
    "duration": 12,
    "start_time": "2022-09-30T16:02:04.210Z"
   },
   {
    "duration": 22,
    "start_time": "2022-09-30T16:02:07.193Z"
   },
   {
    "duration": 13,
    "start_time": "2022-09-30T16:02:17.310Z"
   },
   {
    "duration": 538,
    "start_time": "2022-09-30T16:03:25.289Z"
   },
   {
    "duration": 8524,
    "start_time": "2022-09-30T16:03:25.830Z"
   },
   {
    "duration": 97,
    "start_time": "2022-09-30T16:03:34.356Z"
   },
   {
    "duration": 5,
    "start_time": "2022-09-30T16:03:34.455Z"
   },
   {
    "duration": 89,
    "start_time": "2022-09-30T16:03:34.462Z"
   },
   {
    "duration": 9,
    "start_time": "2022-09-30T16:03:34.552Z"
   },
   {
    "duration": 45,
    "start_time": "2022-09-30T16:03:34.563Z"
   },
   {
    "duration": 11,
    "start_time": "2022-09-30T16:03:34.609Z"
   },
   {
    "duration": 19,
    "start_time": "2022-09-30T16:03:34.622Z"
   },
   {
    "duration": 11,
    "start_time": "2022-09-30T16:03:34.643Z"
   },
   {
    "duration": 499,
    "start_time": "2022-09-30T16:54:58.552Z"
   },
   {
    "duration": 8774,
    "start_time": "2022-09-30T16:54:59.053Z"
   },
   {
    "duration": 99,
    "start_time": "2022-09-30T16:55:07.828Z"
   },
   {
    "duration": 4,
    "start_time": "2022-09-30T16:55:07.929Z"
   },
   {
    "duration": 109,
    "start_time": "2022-09-30T16:55:07.935Z"
   },
   {
    "duration": 12,
    "start_time": "2022-09-30T16:55:08.046Z"
   },
   {
    "duration": 46,
    "start_time": "2022-09-30T16:55:08.060Z"
   },
   {
    "duration": 12,
    "start_time": "2022-09-30T16:55:08.108Z"
   },
   {
    "duration": 14,
    "start_time": "2022-09-30T16:55:08.122Z"
   },
   {
    "duration": 11,
    "start_time": "2022-09-30T16:55:08.138Z"
   },
   {
    "duration": 14,
    "start_time": "2022-09-30T16:55:20.109Z"
   },
   {
    "duration": 24,
    "start_time": "2022-09-30T16:58:17.480Z"
   },
   {
    "duration": 26,
    "start_time": "2022-09-30T16:58:23.457Z"
   },
   {
    "duration": 161,
    "start_time": "2022-09-30T16:58:51.284Z"
   },
   {
    "duration": 26,
    "start_time": "2022-09-30T16:59:10.737Z"
   },
   {
    "duration": 13,
    "start_time": "2022-09-30T17:17:26.697Z"
   },
   {
    "duration": 14,
    "start_time": "2022-09-30T17:18:05.116Z"
   },
   {
    "duration": 65,
    "start_time": "2022-09-30T17:33:51.281Z"
   },
   {
    "duration": 14,
    "start_time": "2022-09-30T17:33:54.085Z"
   },
   {
    "duration": 19,
    "start_time": "2022-09-30T17:36:00.031Z"
   },
   {
    "duration": 18,
    "start_time": "2022-09-30T17:36:12.140Z"
   },
   {
    "duration": 99,
    "start_time": "2022-09-30T17:37:45.383Z"
   },
   {
    "duration": 17,
    "start_time": "2022-09-30T17:37:56.856Z"
   },
   {
    "duration": 89,
    "start_time": "2022-09-30T17:49:41.756Z"
   },
   {
    "duration": 94,
    "start_time": "2022-09-30T17:52:08.979Z"
   },
   {
    "duration": 89,
    "start_time": "2022-09-30T17:53:07.131Z"
   },
   {
    "duration": 105,
    "start_time": "2022-09-30T17:53:58.700Z"
   },
   {
    "duration": 98,
    "start_time": "2022-09-30T17:56:50.888Z"
   },
   {
    "duration": 117,
    "start_time": "2022-09-30T17:58:38.061Z"
   },
   {
    "duration": 125,
    "start_time": "2022-09-30T18:01:14.952Z"
   },
   {
    "duration": 118,
    "start_time": "2022-09-30T18:01:42.113Z"
   },
   {
    "duration": 95,
    "start_time": "2022-09-30T18:04:07.957Z"
   },
   {
    "duration": 24,
    "start_time": "2022-09-30T18:04:21.452Z"
   },
   {
    "duration": 23,
    "start_time": "2022-09-30T18:05:34.457Z"
   },
   {
    "duration": 97,
    "start_time": "2022-09-30T18:08:58.890Z"
   },
   {
    "duration": 108,
    "start_time": "2022-09-30T18:09:53.438Z"
   },
   {
    "duration": 116,
    "start_time": "2022-09-30T18:10:13.286Z"
   },
   {
    "duration": 20,
    "start_time": "2022-09-30T18:11:31.409Z"
   },
   {
    "duration": 103,
    "start_time": "2022-09-30T18:11:49.049Z"
   },
   {
    "duration": 101,
    "start_time": "2022-09-30T18:12:58.981Z"
   },
   {
    "duration": 90,
    "start_time": "2022-09-30T18:13:17.425Z"
   },
   {
    "duration": 96,
    "start_time": "2022-09-30T18:13:33.229Z"
   },
   {
    "duration": 93,
    "start_time": "2022-09-30T18:13:40.979Z"
   },
   {
    "duration": 112,
    "start_time": "2022-09-30T18:14:38.028Z"
   },
   {
    "duration": 95,
    "start_time": "2022-09-30T18:15:05.514Z"
   },
   {
    "duration": 2525,
    "start_time": "2022-09-30T18:16:12.129Z"
   },
   {
    "duration": 19,
    "start_time": "2022-09-30T18:20:20.573Z"
   },
   {
    "duration": 34,
    "start_time": "2022-09-30T18:22:02.972Z"
   },
   {
    "duration": 27,
    "start_time": "2022-09-30T18:23:53.708Z"
   },
   {
    "duration": 37,
    "start_time": "2022-09-30T18:24:16.978Z"
   },
   {
    "duration": 26,
    "start_time": "2022-09-30T18:24:26.229Z"
   },
   {
    "duration": 42,
    "start_time": "2022-09-30T18:25:39.129Z"
   },
   {
    "duration": 27,
    "start_time": "2022-09-30T18:25:58.305Z"
   },
   {
    "duration": 27,
    "start_time": "2022-09-30T18:28:03.969Z"
   },
   {
    "duration": 27,
    "start_time": "2022-09-30T18:28:27.873Z"
   },
   {
    "duration": 102,
    "start_time": "2022-09-30T18:29:57.635Z"
   },
   {
    "duration": 27,
    "start_time": "2022-09-30T18:30:12.509Z"
   },
   {
    "duration": 28,
    "start_time": "2022-09-30T18:30:33.263Z"
   },
   {
    "duration": 27,
    "start_time": "2022-09-30T18:30:44.090Z"
   },
   {
    "duration": 28,
    "start_time": "2022-09-30T18:34:27.648Z"
   },
   {
    "duration": 4,
    "start_time": "2022-09-30T18:37:57.347Z"
   },
   {
    "duration": 6,
    "start_time": "2022-09-30T18:38:14.023Z"
   },
   {
    "duration": 11,
    "start_time": "2022-09-30T18:38:37.674Z"
   },
   {
    "duration": 565,
    "start_time": "2022-10-01T05:48:41.366Z"
   },
   {
    "duration": 5987,
    "start_time": "2022-10-01T05:48:41.932Z"
   },
   {
    "duration": 626,
    "start_time": "2022-10-01T05:48:47.920Z"
   },
   {
    "duration": 6,
    "start_time": "2022-10-01T05:48:48.550Z"
   },
   {
    "duration": 127,
    "start_time": "2022-10-01T05:48:48.559Z"
   },
   {
    "duration": 74,
    "start_time": "2022-10-01T05:48:48.688Z"
   },
   {
    "duration": 92,
    "start_time": "2022-10-01T05:48:48.764Z"
   },
   {
    "duration": 11,
    "start_time": "2022-10-01T05:48:48.858Z"
   },
   {
    "duration": 94,
    "start_time": "2022-10-01T05:48:48.871Z"
   },
   {
    "duration": 75,
    "start_time": "2022-10-01T05:48:48.968Z"
   },
   {
    "duration": 80,
    "start_time": "2022-10-01T05:48:49.045Z"
   },
   {
    "duration": 77,
    "start_time": "2022-10-01T05:48:49.127Z"
   }
  ],
  "kernelspec": {
   "display_name": "Python 3 (ipykernel)",
   "language": "python",
   "name": "python3"
  },
  "language_info": {
   "codemirror_mode": {
    "name": "ipython",
    "version": 3
   },
   "file_extension": ".py",
   "mimetype": "text/x-python",
   "name": "python",
   "nbconvert_exporter": "python",
   "pygments_lexer": "ipython3",
   "version": "3.9.12"
  },
  "toc": {
   "base_numbering": 1,
   "nav_menu": {},
   "number_sections": true,
   "sideBar": true,
   "skip_h1_title": true,
   "title_cell": "Table of Contents",
   "title_sidebar": "Contents",
   "toc_cell": false,
   "toc_position": {
    "height": "calc(100% - 180px)",
    "left": "10px",
    "top": "150px",
    "width": "286.075px"
   },
   "toc_section_display": true,
   "toc_window_display": false
  }
 },
 "nbformat": 4,
 "nbformat_minor": 2
}
