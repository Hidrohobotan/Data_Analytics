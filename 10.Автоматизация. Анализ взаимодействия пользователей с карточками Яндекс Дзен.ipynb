{
 "cells": [
  {
   "cell_type": "markdown",
   "id": "1b1b6e89",
   "metadata": {},
   "source": [
    "# Автоматизация\n",
    "\n",
    "# Проект \"Анализ взаимодействия пользователей с карточками Яндекс.Дзен\""
   ]
  },
  {
   "cell_type": "markdown",
   "id": "0533e712",
   "metadata": {},
   "source": [
    "1. [Описание проекта](#intro)\n",
    "2. [Дашборд](#dashboard)   \n",
    "3. [Презентация](#presentation) "
   ]
  },
  {
   "cell_type": "markdown",
   "id": "d57087f5",
   "metadata": {},
   "source": [
    "<a id=\"intro\"></a>\n",
    "\n",
    "## Описание проекта "
   ]
  },
  {
   "cell_type": "markdown",
   "id": "03605e96",
   "metadata": {},
   "source": [
    "В сервисе Яндекс.Дзен пользователь постоянно взаимодействует с карточками. Каждую карточку определяют её тема и источник (у него тоже есть тема). Примеры тем: «Красота и здоровье», «Россия», «Путешествия». Пользователей системы характеризует возрастная категория (нарпимер, «26-30» или «45+»).\n",
    "\n",
    "Есть три способа взаимодействия пользователей с системой:\n",
    "\n",
    "    - Карточка отображена для пользователя (show);\n",
    "    - Пользователь кликнул на карточку (click);\n",
    "    - Пользователь просмотрел статью карточки (view).\n",
    "\n",
    "Дата-инженеры разработали пайплайн, который берет данные из таблицы, в которых хранятся сырые данные, трансформирует данные и укладывает их в агрегирующую таблицу.\n",
    "\n",
    "**Цель проекта:** Построение дашборда для анализа взаимодействия пользователей с карточками Яндекс.Дзен\n",
    "\n",
    "**Техническое задание**\n",
    "\n",
    "1. Насколько часто предполагается пользоваться дашбордом: не реже, чем раз в неделю;\n",
    "2. Кто будет основным пользователем дашборда: менеджеры по анализу контента;\n",
    "3. Состав данных для дашборда:\n",
    "    - История событий по темам карточек (два графика - абсолютные числа и процентное соотношение);\n",
    "    - Разбивка событий по темам источников;\n",
    "    - Таблица соответствия тем источников темам карточек;\n",
    "4. По каким параметрам данные должны группироваться:\n",
    "    - Дата и время;\n",
    "    - Тема карточки;\n",
    "    - Тема источника;\n",
    "    - Возрастная группа;\n",
    "5. Характер данных:\n",
    "    - История событий по темам карточек — абсолютные величины с разбивкой по минутам;\n",
    "    - Разбивка событий по темам источников — относительные величины (% событий);\n",
    "    - Соответствия тем источников темам карточек - абсолютные величины;\n",
    "6. Важность: все графики имеют равную важность;\n",
    "7. Источники данных для дашборда: cырые данные о событиях взаимодействия пользователей с карточками (таблица log_raw);\n",
    "8. База данных, в которой будут храниться агрегированные данные: дополнительные агрегированные таблицы в БД zen;\n",
    "9. Частота обновления данных: один раз в сутки, в полночь по UTC.\n",
    "\n",
    "**Задачи**\n",
    "\n",
    "1. Загрузить данные в среде python\n",
    "2. Создать дашборд в среде Tableau\n",
    "3. Подготовить презентацию созданного дашборда"
   ]
  },
  {
   "cell_type": "markdown",
   "id": "0b053971",
   "metadata": {},
   "source": [
    "<a id=\"data\"></a>\n",
    "\n",
    "## Загрузка и предобработка данных "
   ]
  },
  {
   "cell_type": "code",
   "execution_count": 1,
   "id": "71e4572a",
   "metadata": {},
   "outputs": [],
   "source": [
    "# Загрузим данные в проект\n",
    "\n",
    "# импортируем библиотеки\n",
    "import pandas as pd\n",
    "from sqlalchemy import create_engine\n",
    "\n",
    "# Загрузим данные из базы данных SQL в python\n",
    "db_config = {'user': 'praktikum_student', # имя пользователя\n",
    "            'pwd': 'Sdf4$2;d-d30pp', # пароль\n",
    "            'host': 'rc1b-wcoijxj3yxfsf3fs.mdb.yandexcloud.net',\n",
    "            'port': 6432, # порт подключения\n",
    "            'db': 'data-analyst-zen-project-db'} # название базы данных\n",
    "\n",
    "connection_string = 'postgresql://{}:{}@{}:{}/{}'.format(db_config['user'],\n",
    "                                                db_config['pwd'],\n",
    "                                                db_config['host'],\n",
    "                                                db_config['port'],\n",
    "                                                db_config['db'])\n",
    "\n",
    "engine = create_engine(connection_string) \n",
    "\n",
    "query = ''' SELECT *\n",
    "            FROM dash_visits\n",
    "        '''\n",
    "\n",
    "dash_visits = pd.io.sql.read_sql(query, con = engine) "
   ]
  },
  {
   "cell_type": "markdown",
   "id": "a0732822",
   "metadata": {},
   "source": [
    "Проверим полноту и корректность данных"
   ]
  },
  {
   "cell_type": "code",
   "execution_count": 8,
   "id": "7e6c0e98",
   "metadata": {},
   "outputs": [
    {
     "name": "stdout",
     "output_type": "stream",
     "text": [
      "<class 'pandas.core.frame.DataFrame'>\n",
      "RangeIndex: 30745 entries, 0 to 30744\n",
      "Data columns (total 6 columns):\n",
      " #   Column        Non-Null Count  Dtype         \n",
      "---  ------        --------------  -----         \n",
      " 0   record_id     30745 non-null  int64         \n",
      " 1   item_topic    30745 non-null  object        \n",
      " 2   source_topic  30745 non-null  object        \n",
      " 3   age_segment   30745 non-null  object        \n",
      " 4   dt            30745 non-null  datetime64[ns]\n",
      " 5   visits        30745 non-null  int64         \n",
      "dtypes: datetime64[ns](1), int64(2), object(3)\n",
      "memory usage: 1.4+ MB\n"
     ]
    }
   ],
   "source": [
    "dash_visits.info()"
   ]
  },
  {
   "cell_type": "code",
   "execution_count": 17,
   "id": "5c71dd45",
   "metadata": {},
   "outputs": [
    {
     "name": "stdout",
     "output_type": "stream",
     "text": [
      "Явных дубликатов в базе данных: 0\n",
      "---\n",
      "Пропущенных значений в базе данных\n",
      "record_id       0\n",
      "item_topic      0\n",
      "source_topic    0\n",
      "age_segment     0\n",
      "dt              0\n",
      "visits          0\n",
      "dtype: int64\n",
      "---\n",
      "Уникальные значения поля item_topic\n",
      "['Деньги' 'Дети' 'Женская психология' 'Женщины' 'Здоровье' 'Знаменитости'\n",
      " 'Интересные факты' 'Искусство' 'История' 'Красота' 'Культура' 'Наука'\n",
      " 'Общество' 'Отношения' 'Подборки' 'Полезные советы' 'Психология'\n",
      " 'Путешествия' 'Рассказы' 'Россия' 'Семья' 'Скандалы' 'Туризм' 'Шоу'\n",
      " 'Юмор']\n",
      "---\n",
      "Уникальные значения поля source_topic\n",
      "['Авто' 'Деньги' 'Дети' 'Еда' 'Здоровье' 'Знаменитости' 'Интерьеры'\n",
      " 'Искусство' 'История' 'Кино' 'Музыка' 'Одежда' 'Полезные советы'\n",
      " 'Политика' 'Психология' 'Путешествия' 'Ремонт' 'Россия' 'Сад и дача'\n",
      " 'Сделай сам' 'Семейные отношения' 'Семья' 'Спорт' 'Строительство'\n",
      " 'Технологии' 'Финансы']\n",
      "---\n",
      "Уникальные значения поля age_segment\n",
      "['18-25' '26-30' '31-35' '36-40' '41-45' '45+']\n",
      "---\n",
      "Выгрузка данных осуществлена за период с 2019-09-24 18:28:00 по 2019-09-24 19:00:00\n"
     ]
    }
   ],
   "source": [
    "# Проверка данных на дубликаты и пропуски\n",
    "print('Явных дубликатов в базе данных:', dash_visits.duplicated().sum())\n",
    "print('---')\n",
    "print('Пропущенных значений в базе данных')\n",
    "print(dash_visits.isna().sum())\n",
    "print('---')\n",
    "print('Уникальные значения поля item_topic')\n",
    "print(dash_visits['item_topic'].unique())\n",
    "print('---')\n",
    "print('Уникальные значения поля source_topic')\n",
    "print(dash_visits['source_topic'].unique())\n",
    "print('---')\n",
    "print('Уникальные значения поля age_segment')\n",
    "print(dash_visits['age_segment'].unique())\n",
    "print('---')\n",
    "print(f\"Выгрузка данных осуществлена за период с {dash_visits['dt'].min()} по {dash_visits['dt'].max()}\")"
   ]
  },
  {
   "cell_type": "markdown",
   "id": "46d210c4",
   "metadata": {},
   "source": [
    "**Вывод:** Данные представлены в корректном виде, без явных и скрытых дубликатов и пропусков значений"
   ]
  },
  {
   "cell_type": "code",
   "execution_count": 16,
   "id": "fd50832e",
   "metadata": {},
   "outputs": [],
   "source": [
    "# Выгрузка даных в файл\n",
    "dash_visits.to_csv('dash_visits.csv')"
   ]
  },
  {
   "cell_type": "markdown",
   "id": "5b612733",
   "metadata": {},
   "source": [
    "<a id=\"dashboard\"></a>\n",
    "\n",
    "## Дашборд"
   ]
  },
  {
   "cell_type": "markdown",
   "id": "50e3efe8",
   "metadata": {},
   "source": [
    "Дашборд выполнен в среде Tableau Public и доступен по ссылке\n",
    "\n",
    "https://public.tableau.com/views/dash_visits_16613528794840/Dashboard1?:language=en-US&:display_count=n&:origin=viz_share_link![%D0%B8%D0%B7%D0%BE%D0%B1%D1%80%D0%B0%D0%B6%D0%B5%D0%BD%D0%B8%D0%B5.png](attachment:%D0%B8%D0%B7%D0%BE%D0%B1%D1%80%D0%B0%D0%B6%D0%B5%D0%BD%D0%B8%D0%B5.png)"
   ]
  },
  {
   "cell_type": "markdown",
   "id": "df37338c",
   "metadata": {},
   "source": [
    "<a id=\"presentation\"></a>\n",
    "\n",
    "## Презентация"
   ]
  },
  {
   "cell_type": "markdown",
   "id": "aa287c06",
   "metadata": {},
   "source": [
    "Презентация дашборда доступна по ссылке\n",
    "\n",
    "https://disk.yandex.ru/i/nBiVkkds5ETyzQ"
   ]
  }
 ],
 "metadata": {
  "ExecuteTimeLog": [
   {
    "duration": 17643,
    "start_time": "2022-08-24T13:05:12.337Z"
   },
   {
    "duration": 10,
    "start_time": "2022-08-24T13:05:29.982Z"
   },
   {
    "duration": 79,
    "start_time": "2022-08-24T13:07:34.659Z"
   },
   {
    "duration": 5,
    "start_time": "2022-08-24T13:11:59.050Z"
   },
   {
    "duration": 318,
    "start_time": "2022-08-24T13:12:00.684Z"
   },
   {
    "duration": 145,
    "start_time": "2022-08-24T13:12:19.422Z"
   },
   {
    "duration": 4,
    "start_time": "2022-08-24T13:13:24.455Z"
   },
   {
    "duration": 341,
    "start_time": "2022-08-24T13:13:26.133Z"
   },
   {
    "duration": 322,
    "start_time": "2022-08-24T13:13:37.929Z"
   },
   {
    "duration": 376,
    "start_time": "2022-08-24T13:13:50.865Z"
   },
   {
    "duration": 312,
    "start_time": "2022-08-24T13:13:57.159Z"
   },
   {
    "duration": 296,
    "start_time": "2022-08-24T13:15:26.898Z"
   },
   {
    "duration": 363,
    "start_time": "2022-08-24T13:20:13.248Z"
   },
   {
    "duration": 516,
    "start_time": "2022-08-24T13:20:30.609Z"
   },
   {
    "duration": 19,
    "start_time": "2022-08-24T13:20:36.512Z"
   },
   {
    "duration": 313,
    "start_time": "2022-08-24T13:23:00.210Z"
   },
   {
    "duration": 430,
    "start_time": "2022-08-24T13:26:36.730Z"
   },
   {
    "duration": 13,
    "start_time": "2022-08-24T13:26:38.630Z"
   },
   {
    "duration": 8708,
    "start_time": "2022-08-24T19:08:14.311Z"
   },
   {
    "duration": 30,
    "start_time": "2022-08-24T19:08:23.047Z"
   },
   {
    "duration": 23,
    "start_time": "2022-08-24T19:08:40.421Z"
   },
   {
    "duration": 83,
    "start_time": "2022-08-24T19:08:44.432Z"
   },
   {
    "duration": 22,
    "start_time": "2022-08-24T19:08:47.016Z"
   },
   {
    "duration": 10,
    "start_time": "2022-08-24T19:08:56.251Z"
   },
   {
    "duration": 28,
    "start_time": "2022-08-24T19:09:08.530Z"
   },
   {
    "duration": 27,
    "start_time": "2022-08-24T19:09:59.245Z"
   },
   {
    "duration": 31,
    "start_time": "2022-08-24T19:10:28.018Z"
   },
   {
    "duration": 47,
    "start_time": "2022-08-24T19:11:08.658Z"
   },
   {
    "duration": 80,
    "start_time": "2022-08-24T19:14:02.489Z"
   },
   {
    "duration": 76,
    "start_time": "2022-08-24T19:14:33.625Z"
   },
   {
    "duration": 41,
    "start_time": "2022-08-24T19:14:38.584Z"
   },
   {
    "duration": 49,
    "start_time": "2022-08-24T19:15:05.197Z"
   },
   {
    "duration": 48,
    "start_time": "2022-08-24T19:15:29.588Z"
   },
   {
    "duration": 38,
    "start_time": "2022-08-24T19:15:37.183Z"
   }
  ],
  "kernelspec": {
   "display_name": "Python 3 (ipykernel)",
   "language": "python",
   "name": "python3"
  },
  "language_info": {
   "codemirror_mode": {
    "name": "ipython",
    "version": 3
   },
   "file_extension": ".py",
   "mimetype": "text/x-python",
   "name": "python",
   "nbconvert_exporter": "python",
   "pygments_lexer": "ipython3",
   "version": "3.9.12"
  },
  "toc": {
   "base_numbering": 1,
   "nav_menu": {},
   "number_sections": true,
   "sideBar": true,
   "skip_h1_title": true,
   "title_cell": "Table of Contents",
   "title_sidebar": "Contents",
   "toc_cell": false,
   "toc_position": {},
   "toc_section_display": true,
   "toc_window_display": false
  }
 },
 "nbformat": 4,
 "nbformat_minor": 5
}
