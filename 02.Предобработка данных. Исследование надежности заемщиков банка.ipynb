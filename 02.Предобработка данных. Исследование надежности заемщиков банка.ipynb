{
 "cells": [
  {
   "cell_type": "markdown",
   "id": "1dc2a3b1",
   "metadata": {},
   "source": [
    "# Предобработка данных.\n",
    "\n",
    "# Проект \"Исследование надежности заемщиков банка\""
   ]
  },
  {
   "cell_type": "markdown",
   "id": "cb4e296b",
   "metadata": {},
   "source": [
    "1. [Описание проекта](#intro)    \n",
    "2. [Загрузка и изучение данных](#data)        \n",
    "    2.1. [Вывод](#conclusion1)     \n",
    "3. [Предобработка данных](#preprocessing)    \n",
    "    3.1. [Обработка пропусков](#gaps)    \n",
    "    3.2. [Обработка аномалий](#anomalies)    \n",
    "    3.3. [Обработка типов данных](#types)    \n",
    "    3.4. [Удаление дубликатов](#duplicates)    \n",
    "    3.5. [Исключение дублирующейся информации](#id)    \n",
    "    3.6. [Категоризация клиентов по уровню дохода](#income)    \n",
    "    3.7. [Категоризация клиентов по цели кредита](#purpose)    \n",
    "    3.8. [Вывод](#conclusion2)    \n",
    "4. [Исследовательский анализ данных](#eda)        \n",
    "    4.1. [Вывод](#conclusion3)    \n",
    "5. [Выводы и рекомендации](#conclusion_all)    "
   ]
  },
  {
   "cell_type": "markdown",
   "id": "39e538b0",
   "metadata": {},
   "source": [
    "<a id=\"intro\"></a>\n",
    "\n",
    "## Описание проекта \n",
    "\n",
    "Заказчик — кредитный отдел банка. Необходимо изучить, как влияют различные параметры клиентов на вероятность возврата кредита в срок. Результаты исследования будут учтены при построении модели кредитного скоринга — специальной системы, которая оценивает способность потенциального заёмщика вернуть кредит банку.\n",
    "\n",
    "**Цель:**\n",
    "Изучить влияение семейного положения, количества детей, уровня дохода и цели кредита клиента на факт погашения кредита в срок\n",
    "\n",
    "**Задачи:**\n",
    "1. Изучить данные\n",
    "2. Провести тщательную предобработку данных, включающую в себя:\n",
    "    - Анализ пропусков\n",
    "    - Поиск артефактов (аномалий)\n",
    "    - Проверка типов записи данных\n",
    "    - Поиск дубликатов\n",
    "3. Заменить строковые переменные идентификаторами\n",
    "4. Провести категоризацию клиентов по уровню дохода\n",
    "5. Провести категоризацию клиентов по цели открытия кредита\n",
    "\n",
    "\n",
    "**Описание данных**\n",
    "\n",
    "Входные данные от банка — статистика о платёжеспособности клиентов\n",
    " \n",
    "- children — количество детей в семье\n",
    "- days_employed — общий трудовой стаж в днях\n",
    "- dob_years — возраст клиента в годах\n",
    "- education — уровень образования клиента\n",
    "- education_id — идентификатор уровня образования\n",
    "- family_status — семейное положение\n",
    "- family_status_id — идентификатор семейного положения\n",
    "- gender — пол клиента\n",
    "- income_type — тип занятости\n",
    "- debt — имел ли задолженность по возврату кредитов\n",
    "- total_income — ежемесячный доход\n",
    "- purpose — цель получения кредита\n",
    "\n",
    "**Инструментарий:**\n",
    "\n",
    "- *библиотеки:* pandas\n",
    "- *работа с данными:* read_csv, info, try-except, isna, sum, fillna, duplicated, drop_duplicated, reset_index, sort_values, groupby, len, transform, loc, value_counts, abs, astype, str.lower, dropna, apply, pivot_table, merge\n",
    "- *циклы for, определение функций, конструкция if-else*"
   ]
  },
  {
   "cell_type": "markdown",
   "id": "141fca2f",
   "metadata": {},
   "source": [
    "<a id=\"data\"></a>\n",
    "\n",
    "## Обзор и изучение данных"
   ]
  },
  {
   "cell_type": "markdown",
   "id": "7adb515c",
   "metadata": {},
   "source": [
    "Импортируем библиотеки и выключим отображение предупреждений"
   ]
  },
  {
   "cell_type": "code",
   "execution_count": 26,
   "id": "cdfc59dd",
   "metadata": {},
   "outputs": [],
   "source": [
    "import pandas as pd\n",
    "import warnings"
   ]
  },
  {
   "cell_type": "code",
   "execution_count": 27,
   "id": "96e33e48",
   "metadata": {},
   "outputs": [],
   "source": [
    "# Выключение отображения предупреждений\n",
    "warnings.filterwarnings('ignore')"
   ]
  },
  {
   "cell_type": "markdown",
   "id": "b8079e46",
   "metadata": {},
   "source": [
    "Загрузим базу данных из файла"
   ]
  },
  {
   "cell_type": "code",
   "execution_count": 2,
   "id": "c2b0a407",
   "metadata": {},
   "outputs": [],
   "source": [
    "# чтение файла с данными и сохранение в data с сервера или локального компьютера\n",
    "try:\n",
    "    data = pd.read_csv('/datasets/data.csv')\n",
    "except:\n",
    "    data = pd.read_csv('E:/IT/Yandex/Projects/datasets/bank_credit.csv')"
   ]
  },
  {
   "cell_type": "code",
   "execution_count": 21,
   "id": "0cbed4b5",
   "metadata": {},
   "outputs": [],
   "source": [
    "# Определим функцию для знакомства с базой данных и проверки её на явные дубликаты\n",
    "def database_check(db):\n",
    "    print('Случайные 5 строк базы данных')\n",
    "    display(db.sample(5, random_state=0))\n",
    "    print('---')\n",
    "    print('Общая информация о базе данных')\n",
    "    db.info()\n",
    "    print('---')\n",
    "    print('Пропущенных значений в строках:')\n",
    "    print(db.isna().sum())\n",
    "    print('---')\n",
    "    print('Явных дубликатов в базе данных:', db.duplicated().sum())"
   ]
  },
  {
   "cell_type": "markdown",
   "id": "8d15597e",
   "metadata": {},
   "source": [
    "Изучим базу данных"
   ]
  },
  {
   "cell_type": "code",
   "execution_count": 24,
   "id": "fabc81cf",
   "metadata": {},
   "outputs": [
    {
     "name": "stdout",
     "output_type": "stream",
     "text": [
      "Случайные 5 строк базы данных\n"
     ]
    },
    {
     "data": {
      "text/html": [
       "<div>\n",
       "<style scoped>\n",
       "    .dataframe tbody tr th:only-of-type {\n",
       "        vertical-align: middle;\n",
       "    }\n",
       "\n",
       "    .dataframe tbody tr th {\n",
       "        vertical-align: top;\n",
       "    }\n",
       "\n",
       "    .dataframe thead th {\n",
       "        text-align: right;\n",
       "    }\n",
       "</style>\n",
       "<table border=\"1\" class=\"dataframe\">\n",
       "  <thead>\n",
       "    <tr style=\"text-align: right;\">\n",
       "      <th></th>\n",
       "      <th>children</th>\n",
       "      <th>days_employed</th>\n",
       "      <th>dob_years</th>\n",
       "      <th>education_id</th>\n",
       "      <th>family_status_id</th>\n",
       "      <th>gender</th>\n",
       "      <th>income_type</th>\n",
       "      <th>debt</th>\n",
       "      <th>total_income</th>\n",
       "      <th>purpose</th>\n",
       "      <th>total_income_category</th>\n",
       "      <th>purpose_category</th>\n",
       "    </tr>\n",
       "  </thead>\n",
       "  <tbody>\n",
       "    <tr>\n",
       "      <th>1514</th>\n",
       "      <td>0</td>\n",
       "      <td>269</td>\n",
       "      <td>26</td>\n",
       "      <td>1</td>\n",
       "      <td>0</td>\n",
       "      <td>M</td>\n",
       "      <td>сотрудник</td>\n",
       "      <td>1</td>\n",
       "      <td>126414</td>\n",
       "      <td>операции с жильем</td>\n",
       "      <td>C</td>\n",
       "      <td>операции с недвижимостью</td>\n",
       "    </tr>\n",
       "    <tr>\n",
       "      <th>1191</th>\n",
       "      <td>0</td>\n",
       "      <td>1630</td>\n",
       "      <td>61</td>\n",
       "      <td>1</td>\n",
       "      <td>0</td>\n",
       "      <td>F</td>\n",
       "      <td>пенсионер</td>\n",
       "      <td>0</td>\n",
       "      <td>118514</td>\n",
       "      <td>операции с недвижимостью</td>\n",
       "      <td>C</td>\n",
       "      <td>операции с недвижимостью</td>\n",
       "    </tr>\n",
       "    <tr>\n",
       "      <th>9806</th>\n",
       "      <td>1</td>\n",
       "      <td>1630</td>\n",
       "      <td>38</td>\n",
       "      <td>0</td>\n",
       "      <td>0</td>\n",
       "      <td>M</td>\n",
       "      <td>сотрудник</td>\n",
       "      <td>0</td>\n",
       "      <td>142594</td>\n",
       "      <td>операции со своей недвижимостью</td>\n",
       "      <td>C</td>\n",
       "      <td>операции с недвижимостью</td>\n",
       "    </tr>\n",
       "    <tr>\n",
       "      <th>20662</th>\n",
       "      <td>0</td>\n",
       "      <td>550</td>\n",
       "      <td>61</td>\n",
       "      <td>1</td>\n",
       "      <td>0</td>\n",
       "      <td>F</td>\n",
       "      <td>компаньон</td>\n",
       "      <td>0</td>\n",
       "      <td>64115</td>\n",
       "      <td>ремонт жилью</td>\n",
       "      <td>C</td>\n",
       "      <td>операции с недвижимостью</td>\n",
       "    </tr>\n",
       "    <tr>\n",
       "      <th>1748</th>\n",
       "      <td>0</td>\n",
       "      <td>229</td>\n",
       "      <td>45</td>\n",
       "      <td>0</td>\n",
       "      <td>0</td>\n",
       "      <td>F</td>\n",
       "      <td>сотрудник</td>\n",
       "      <td>0</td>\n",
       "      <td>151347</td>\n",
       "      <td>получение образования</td>\n",
       "      <td>C</td>\n",
       "      <td>получение образования</td>\n",
       "    </tr>\n",
       "  </tbody>\n",
       "</table>\n",
       "</div>"
      ],
      "text/plain": [
       "       children  days_employed  dob_years  education_id  family_status_id  \\\n",
       "1514          0            269         26             1                 0   \n",
       "1191          0           1630         61             1                 0   \n",
       "9806          1           1630         38             0                 0   \n",
       "20662         0            550         61             1                 0   \n",
       "1748          0            229         45             0                 0   \n",
       "\n",
       "      gender income_type  debt  total_income                          purpose  \\\n",
       "1514       M   сотрудник     1        126414                операции с жильем   \n",
       "1191       F   пенсионер     0        118514         операции с недвижимостью   \n",
       "9806       M   сотрудник     0        142594  операции со своей недвижимостью   \n",
       "20662      F   компаньон     0         64115                     ремонт жилью   \n",
       "1748       F   сотрудник     0        151347            получение образования   \n",
       "\n",
       "      total_income_category          purpose_category  \n",
       "1514                      C  операции с недвижимостью  \n",
       "1191                      C  операции с недвижимостью  \n",
       "9806                      C  операции с недвижимостью  \n",
       "20662                     C  операции с недвижимостью  \n",
       "1748                      C     получение образования  "
      ]
     },
     "metadata": {},
     "output_type": "display_data"
    },
    {
     "name": "stdout",
     "output_type": "stream",
     "text": [
      "---\n",
      "Общая информация о базе данных\n",
      "<class 'pandas.core.frame.DataFrame'>\n",
      "RangeIndex: 21454 entries, 0 to 21453\n",
      "Data columns (total 12 columns):\n",
      " #   Column                 Non-Null Count  Dtype \n",
      "---  ------                 --------------  ----- \n",
      " 0   children               21454 non-null  int64 \n",
      " 1   days_employed          21454 non-null  int32 \n",
      " 2   dob_years              21454 non-null  int64 \n",
      " 3   education_id           21454 non-null  int64 \n",
      " 4   family_status_id       21454 non-null  int64 \n",
      " 5   gender                 21454 non-null  object\n",
      " 6   income_type            21454 non-null  object\n",
      " 7   debt                   21454 non-null  int64 \n",
      " 8   total_income           21454 non-null  int32 \n",
      " 9   purpose                21454 non-null  object\n",
      " 10  total_income_category  21454 non-null  object\n",
      " 11  purpose_category       21454 non-null  object\n",
      "dtypes: int32(2), int64(5), object(5)\n",
      "memory usage: 1.8+ MB\n",
      "---\n",
      "Пропущенных значений в строках:\n",
      "children                 0\n",
      "days_employed            0\n",
      "dob_years                0\n",
      "education_id             0\n",
      "family_status_id         0\n",
      "gender                   0\n",
      "income_type              0\n",
      "debt                     0\n",
      "total_income             0\n",
      "purpose                  0\n",
      "total_income_category    0\n",
      "purpose_category         0\n",
      "dtype: int64\n",
      "---\n",
      "Явных дубликатов в базе данных: 0\n"
     ]
    }
   ],
   "source": [
    "database_check(data)"
   ]
  },
  {
   "cell_type": "markdown",
   "id": "181ece9a",
   "metadata": {},
   "source": [
    "<a id=\"conclusion1\"></a>\n",
    "\n",
    "### Вывод"
   ]
  },
  {
   "cell_type": "markdown",
   "id": "f64d6a00",
   "metadata": {},
   "source": [
    "Названия столбцов записаны верно. В столбцах days_employed и total_income пропущено по 2174 значений. Также указанные поля имеют тип данных float64, что значительно повышает размер данных, при этом целесообразность записи этих значений действительными числами, возможно, не оправдана и можно их записать через целочисленные значения. \n",
    "\n",
    "В таблице присутствует 54 явных дубликата, которые необходимо будет удалить.    "
   ]
  },
  {
   "cell_type": "markdown",
   "id": "e2eaff57",
   "metadata": {},
   "source": [
    "<a id=\"preprocessing\"></a>\n",
    "\n",
    "## Предобработка данных"
   ]
  },
  {
   "cell_type": "markdown",
   "id": "3db79e8e",
   "metadata": {},
   "source": [
    "<a id=\"gaps\"></a>\n",
    "\n",
    "### Обработка пропусков"
   ]
  },
  {
   "cell_type": "markdown",
   "id": "2bda43fd",
   "metadata": {},
   "source": [
    "Изучим, в каких столбцах данные пропущены и как лучше поступить, чтобы уменьшить их долю"
   ]
  },
  {
   "cell_type": "code",
   "execution_count": 5,
   "id": "7b29aff4",
   "metadata": {},
   "outputs": [
    {
     "name": "stdout",
     "output_type": "stream",
     "text": [
      "Всего значений в таблице: 21525\n",
      "---\n",
      "Пропущенных значений в таблице:\n"
     ]
    },
    {
     "data": {
      "text/plain": [
       "children               0\n",
       "days_employed       2174\n",
       "dob_years              0\n",
       "education              0\n",
       "education_id           0\n",
       "family_status          0\n",
       "family_status_id       0\n",
       "gender                 0\n",
       "income_type            0\n",
       "debt                   0\n",
       "total_income        2174\n",
       "purpose                0\n",
       "dtype: int64"
      ]
     },
     "metadata": {},
     "output_type": "display_data"
    },
    {
     "name": "stdout",
     "output_type": "stream",
     "text": [
      "---\n",
      "Доля пропущенных значений: 10%\n"
     ]
    }
   ],
   "source": [
    "print('Всего значений в таблице:', len(data))\n",
    "print('---')\n",
    "print('Пропущенных значений в таблице:')\n",
    "display(data.isnull().sum())\n",
    "percentage_na = int(data['days_employed'].isnull().sum() / len(data) * 100)\n",
    "print('---')\n",
    "print(f'Доля пропущенных значений: {percentage_na}%')"
   ]
  },
  {
   "cell_type": "markdown",
   "id": "67e7eac3",
   "metadata": {},
   "source": [
    "В столбцах days_employed и total_income пропущено 2174 строки, что составляет 10% от общего количества записей.\n",
    "Видимых причин связи пропущенных данных с данными в других столбцах не обнаружено, поэтому наиболее вероятная причина пропусков - человеческий фактор.\n",
    "Проверим, сколько записей соответствует каждому виду занятости"
   ]
  },
  {
   "cell_type": "code",
   "execution_count": 6,
   "id": "273f8fe6",
   "metadata": {},
   "outputs": [
    {
     "name": "stdout",
     "output_type": "stream",
     "text": [
      "Количество записей, сгруппированных по типу дохода и показатель их среднего количества дней стажа и дохода\n"
     ]
    },
    {
     "data": {
      "text/html": [
       "<div>\n",
       "<style scoped>\n",
       "    .dataframe tbody tr th:only-of-type {\n",
       "        vertical-align: middle;\n",
       "    }\n",
       "\n",
       "    .dataframe tbody tr th {\n",
       "        vertical-align: top;\n",
       "    }\n",
       "\n",
       "    .dataframe thead tr th {\n",
       "        text-align: left;\n",
       "    }\n",
       "\n",
       "    .dataframe thead tr:last-of-type th {\n",
       "        text-align: right;\n",
       "    }\n",
       "</style>\n",
       "<table border=\"1\" class=\"dataframe\">\n",
       "  <thead>\n",
       "    <tr>\n",
       "      <th></th>\n",
       "      <th>income_type</th>\n",
       "      <th>days_employed</th>\n",
       "      <th>total_income</th>\n",
       "    </tr>\n",
       "    <tr>\n",
       "      <th></th>\n",
       "      <th>count</th>\n",
       "      <th>median</th>\n",
       "      <th>median</th>\n",
       "    </tr>\n",
       "    <tr>\n",
       "      <th>income_type</th>\n",
       "      <th></th>\n",
       "      <th></th>\n",
       "      <th></th>\n",
       "    </tr>\n",
       "  </thead>\n",
       "  <tbody>\n",
       "    <tr>\n",
       "      <th>безработный</th>\n",
       "      <td>2</td>\n",
       "      <td>366413.652744</td>\n",
       "      <td>131339.751676</td>\n",
       "    </tr>\n",
       "    <tr>\n",
       "      <th>в декрете</th>\n",
       "      <td>1</td>\n",
       "      <td>-3296.759962</td>\n",
       "      <td>53829.130729</td>\n",
       "    </tr>\n",
       "    <tr>\n",
       "      <th>госслужащий</th>\n",
       "      <td>1459</td>\n",
       "      <td>-2689.368353</td>\n",
       "      <td>150447.935283</td>\n",
       "    </tr>\n",
       "    <tr>\n",
       "      <th>компаньон</th>\n",
       "      <td>5085</td>\n",
       "      <td>-1547.382223</td>\n",
       "      <td>172357.950966</td>\n",
       "    </tr>\n",
       "    <tr>\n",
       "      <th>пенсионер</th>\n",
       "      <td>3856</td>\n",
       "      <td>365213.306266</td>\n",
       "      <td>118514.486412</td>\n",
       "    </tr>\n",
       "    <tr>\n",
       "      <th>предприниматель</th>\n",
       "      <td>2</td>\n",
       "      <td>-520.848083</td>\n",
       "      <td>499163.144947</td>\n",
       "    </tr>\n",
       "    <tr>\n",
       "      <th>сотрудник</th>\n",
       "      <td>11119</td>\n",
       "      <td>-1574.202821</td>\n",
       "      <td>142594.396847</td>\n",
       "    </tr>\n",
       "    <tr>\n",
       "      <th>студент</th>\n",
       "      <td>1</td>\n",
       "      <td>-578.751554</td>\n",
       "      <td>98201.625314</td>\n",
       "    </tr>\n",
       "  </tbody>\n",
       "</table>\n",
       "</div>"
      ],
      "text/plain": [
       "                income_type  days_employed   total_income\n",
       "                      count         median         median\n",
       "income_type                                              \n",
       "безработный               2  366413.652744  131339.751676\n",
       "в декрете                 1   -3296.759962   53829.130729\n",
       "госслужащий            1459   -2689.368353  150447.935283\n",
       "компаньон              5085   -1547.382223  172357.950966\n",
       "пенсионер              3856  365213.306266  118514.486412\n",
       "предприниматель           2    -520.848083  499163.144947\n",
       "сотрудник             11119   -1574.202821  142594.396847\n",
       "студент                   1    -578.751554   98201.625314"
      ]
     },
     "metadata": {},
     "output_type": "display_data"
    }
   ],
   "source": [
    "print('Количество записей, сгруппированных по типу дохода и показатель их среднего количества дней стажа и дохода')\n",
    "display(data.groupby(['income_type']).agg({'income_type': ['count'],'days_employed': ['median'], 'total_income': ['median']}))"
   ]
  },
  {
   "cell_type": "markdown",
   "id": "f4d62451",
   "metadata": {},
   "source": [
    "Для заполнения пропусков в столбце total_income лучше использовать медианные значения, потому что так данные не подвержены аномальным очень высоким или низких значениям, значит, лучше предоставляют информацию о средних значениях."
   ]
  },
  {
   "cell_type": "code",
   "execution_count": 7,
   "id": "402cec82",
   "metadata": {
    "scrolled": false
   },
   "outputs": [
    {
     "name": "stdout",
     "output_type": "stream",
     "text": [
      "Пропущенных значений в графе среднего дохода: 0\n"
     ]
    }
   ],
   "source": [
    "#Заменим пропущенные значения медианными значениями в каждой из групп по типу заработка: \n",
    "data['total_income'] = data['total_income'].fillna(data.groupby('income_type')['total_income'].transform(\"median\"))\n",
    "\n",
    "#Проверим, что все пропущенные значения заменены на средние\n",
    "print('Пропущенных значений в графе среднего дохода:', data['total_income'].isnull().sum())"
   ]
  },
  {
   "cell_type": "markdown",
   "id": "560783cc",
   "metadata": {},
   "source": [
    "<a id=\"anomalies\"></a>\n",
    "\n",
    "### Обработка аномалий"
   ]
  },
  {
   "cell_type": "markdown",
   "id": "6c887949",
   "metadata": {},
   "source": [
    "Группировка данных по медианному значению дней стажа у каждой группы по типу занятости выявила, что положительные значения наблюдаются у безработных и пенсионеров. Посколькду эти группы не принадлежат к работающим, то количество дней стажа для них не играет роли, и его можно приравнять к среднему значению.\n",
    "Природу появления отрицательных значений для остальных групп понять невозможно, но если перевести дни в года, то получаются в целом логичные значения. За неимением другой информации, можем предположить, что произошла системная ошибка и все положительные значения поменялись на отрицательные, следовательно, чтобы восстановить логику в данных, домножим все отрицательные значения на -1, чтобы получить положительные значения.\n",
    "Все пропущенные значения заменим медианным средним по выборке."
   ]
  },
  {
   "cell_type": "code",
   "execution_count": 8,
   "id": "f5e3eb61",
   "metadata": {
    "scrolled": true
   },
   "outputs": [
    {
     "name": "stdout",
     "output_type": "stream",
     "text": [
      "Пропущенных значений в графе трудового стажа: 0\n"
     ]
    }
   ],
   "source": [
    "#Домножаем все значения в столбце средних зарплат на -1\n",
    "data['days_employed'] = data['days_employed']*(-1)\n",
    "#Расчитываем среднее значение трудового стажа\n",
    "median_days_employed = data.loc[data['days_employed'] > 0, 'days_employed'].median()\n",
    "#Заменяем все значения для пенсионеров и безработных средним значением\n",
    "data.loc[data['days_employed'] < 0, 'days_employed'] = median_days_employed\n",
    "#Заменяем все пропущенные значения средним значением\n",
    "data['days_employed'] = data['days_employed'].fillna(value=median_days_employed)\n",
    "\n",
    "print('Пропущенных значений в графе трудового стажа:', data['days_employed'].isnull().sum())"
   ]
  },
  {
   "cell_type": "code",
   "execution_count": 9,
   "id": "71576b38",
   "metadata": {},
   "outputs": [
    {
     "name": "stdout",
     "output_type": "stream",
     "text": [
      "Количество детей у заёмщиков\n"
     ]
    },
    {
     "data": {
      "text/plain": [
       " 0     14149\n",
       " 1      4818\n",
       " 2      2055\n",
       " 3       330\n",
       " 20       76\n",
       "-1        47\n",
       " 4        41\n",
       " 5         9\n",
       "Name: children, dtype: int64"
      ]
     },
     "metadata": {},
     "output_type": "display_data"
    }
   ],
   "source": [
    "#Проверим графу дети\n",
    "print('Количество детей у заёмщиков')\n",
    "display(data['children'].value_counts())"
   ]
  },
  {
   "cell_type": "markdown",
   "id": "5d9a1757",
   "metadata": {},
   "source": [
    "Значения -1 и 20 явные аномалии. Можем предположить, что данные записаны некоректно, и -1 означает 1, а 20 - 2. Заменим значения в базе данных"
   ]
  },
  {
   "cell_type": "code",
   "execution_count": 10,
   "id": "5386656c",
   "metadata": {},
   "outputs": [],
   "source": [
    "data.loc[data['children'] == 20, 'children'] = 2\n",
    "data['children'] = abs(data['children'])"
   ]
  },
  {
   "cell_type": "markdown",
   "id": "4c5862b4",
   "metadata": {},
   "source": [
    "<a id=\"types\"></a>\n",
    "\n",
    "### Обработка типов данных"
   ]
  },
  {
   "cell_type": "markdown",
   "id": "a2107b27",
   "metadata": {},
   "source": [
    "Данные в столбцах days_employed и total_income представлены в формате float64, что расходует ресурсы памяти, при этом не привнося значительной информации. Для экономиии ресурсов и удобности прочтения, можно заменить тип данных в этих столбцах на целочисленный"
   ]
  },
  {
   "cell_type": "code",
   "execution_count": 11,
   "id": "80b03594",
   "metadata": {},
   "outputs": [],
   "source": [
    "#Замена дней стажа на целочисленные значения\n",
    "data['days_employed'] = data['days_employed'].astype(int)\n",
    "#Замена дохода на целочисленные значения\n",
    "data['total_income'] = data['total_income'].astype(int)"
   ]
  },
  {
   "cell_type": "markdown",
   "id": "0743b9d1",
   "metadata": {},
   "source": [
    "<a id=\"duplicates\"></a>\n",
    "\n",
    "### Удаление дубликатов"
   ]
  },
  {
   "cell_type": "markdown",
   "id": "58cb1b9a",
   "metadata": {},
   "source": [
    "Чтобы найти дубликаты, в начале нужно исследовать данные. Качественные переменные, в которых наиболее вероятно могут быть встречены ошибки ввода, присутствуют в следующих столбцах: education, family_status, income_type, purpose. Проверим уникальные значения, которые встречаются в этих столбцах"
   ]
  },
  {
   "cell_type": "code",
   "execution_count": 12,
   "id": "f0e12722",
   "metadata": {},
   "outputs": [
    {
     "name": "stdout",
     "output_type": "stream",
     "text": [
      "Значения в столбце уровень образования клиента:\n"
     ]
    },
    {
     "data": {
      "text/plain": [
       "среднее                13750\n",
       "высшее                  4718\n",
       "СРЕДНЕЕ                  772\n",
       "Среднее                  711\n",
       "неоконченное высшее      668\n",
       "ВЫСШЕЕ                   274\n",
       "Высшее                   268\n",
       "начальное                250\n",
       "Неоконченное высшее       47\n",
       "НЕОКОНЧЕННОЕ ВЫСШЕЕ       29\n",
       "НАЧАЛЬНОЕ                 17\n",
       "Начальное                 15\n",
       "ученая степень             4\n",
       "Ученая степень             1\n",
       "УЧЕНАЯ СТЕПЕНЬ             1\n",
       "Name: education, dtype: int64"
      ]
     },
     "metadata": {},
     "output_type": "display_data"
    },
    {
     "name": "stdout",
     "output_type": "stream",
     "text": [
      "-----\n",
      "Значения в столбце семейное положение:\n"
     ]
    },
    {
     "data": {
      "text/plain": [
       "женат / замужем          12380\n",
       "гражданский брак          4177\n",
       "Не женат / не замужем     2813\n",
       "в разводе                 1195\n",
       "вдовец / вдова             960\n",
       "Name: family_status, dtype: int64"
      ]
     },
     "metadata": {},
     "output_type": "display_data"
    },
    {
     "name": "stdout",
     "output_type": "stream",
     "text": [
      "-----\n",
      "Значения в столбце тип занятости:\n"
     ]
    },
    {
     "data": {
      "text/plain": [
       "сотрудник          11119\n",
       "компаньон           5085\n",
       "пенсионер           3856\n",
       "госслужащий         1459\n",
       "безработный            2\n",
       "предприниматель        2\n",
       "студент                1\n",
       "в декрете              1\n",
       "Name: income_type, dtype: int64"
      ]
     },
     "metadata": {},
     "output_type": "display_data"
    },
    {
     "name": "stdout",
     "output_type": "stream",
     "text": [
      "-----\n",
      "Значения в столбце цель получения кредита:\n"
     ]
    },
    {
     "data": {
      "text/plain": [
       "свадьба                                   797\n",
       "на проведение свадьбы                     777\n",
       "сыграть свадьбу                           774\n",
       "операции с недвижимостью                  676\n",
       "покупка коммерческой недвижимости         664\n",
       "покупка жилья для сдачи                   653\n",
       "операции с жильем                         653\n",
       "операции с коммерческой недвижимостью     651\n",
       "покупка жилья                             647\n",
       "жилье                                     647\n",
       "покупка жилья для семьи                   641\n",
       "строительство собственной недвижимости    635\n",
       "недвижимость                              634\n",
       "операции со своей недвижимостью           630\n",
       "строительство жилой недвижимости          626\n",
       "покупка недвижимости                      624\n",
       "строительство недвижимости                620\n",
       "покупка своего жилья                      620\n",
       "ремонт жилью                              612\n",
       "покупка жилой недвижимости                607\n",
       "на покупку своего автомобиля              505\n",
       "заняться высшим образованием              496\n",
       "автомобиль                                495\n",
       "сделка с подержанным автомобилем          489\n",
       "свой автомобиль                           480\n",
       "на покупку подержанного автомобиля        479\n",
       "автомобили                                478\n",
       "на покупку автомобиля                     472\n",
       "дополнительное образование                462\n",
       "приобретение автомобиля                   462\n",
       "сделка с автомобилем                      455\n",
       "высшее образование                        453\n",
       "образование                               447\n",
       "получение дополнительного образования     447\n",
       "получение образования                     443\n",
       "профильное образование                    436\n",
       "получение высшего образования             426\n",
       "заняться образованием                     412\n",
       "Name: purpose, dtype: int64"
      ]
     },
     "metadata": {},
     "output_type": "display_data"
    }
   ],
   "source": [
    "print('Значения в столбце уровень образования клиента:')\n",
    "display(data['education'].value_counts())\n",
    "print('-----')\n",
    "print('Значения в столбце семейное положение:')\n",
    "display(data['family_status'].value_counts())\n",
    "print('-----')\n",
    "print('Значения в столбце тип занятости:')\n",
    "display(data['income_type'].value_counts())\n",
    "print('-----')\n",
    "print('Значения в столбце цель получения кредита:')\n",
    "display(data['purpose'].value_counts())"
   ]
  },
  {
   "cell_type": "markdown",
   "id": "9362dcdc",
   "metadata": {},
   "source": [
    "В столбце уровень образования множество дубликатов, связанных с регистром. В столбцах семейное положение и тип занятости дубликатов нет, в столбце цель получения кредита имеются разные формулировки одних и тех же целей.\n",
    "Удалим явные дубликаты и дубликаты, связанные с регистром записи графы образование"
   ]
  },
  {
   "cell_type": "code",
   "execution_count": 13,
   "id": "652fe538",
   "metadata": {},
   "outputs": [
    {
     "name": "stdout",
     "output_type": "stream",
     "text": [
      "Дубликатов в таблице было: 71\n",
      "Дубликатов в таблице стало: 0\n"
     ]
    }
   ],
   "source": [
    "#Переведем все значения столбца образование в нижний регистр\n",
    "data['education'] = data['education'].str.lower()\n",
    "#Заодно унифицируем регистр в столбце семейного положения\n",
    "data['family_status'] = data['family_status'].str.lower()\n",
    "#Удалим дубликаты\n",
    "print('Дубликатов в таблице было:', data.duplicated().sum())\n",
    "data = data.drop_duplicates().dropna().reset_index(drop=True)\n",
    "print('Дубликатов в таблице стало:', data.duplicated().sum())"
   ]
  },
  {
   "cell_type": "markdown",
   "id": "6ac47042",
   "metadata": {},
   "source": [
    "Для поиска и удаления дубликатов был применен метод drop_duplicates в совокупности с методом dropna, что позволило вычислить явные дубликаты, очистить их значения и удалить очищенные ячейки. Чтобы индексация после удаления была без пропусков, дополнительно был применен метод reset_index. Выполнение операции проверено методом duplicated.\n",
    "Появление дубликатов можно объяснить ошибкой ввода (человеческий фактор), когда один и тот же человек ввел свои данные два раза при регистрации. И технической ошибкой, например, при переносе из одной базы данных в другую, где-то по умолчанию мог стоять верхний регистр в записи атрибутов, а где-то нижний. Но общее количество дубликатов (71 запись из 21252) говорит о высоком качестве предоставленной базы данных и что эти дубликаты не оказывают существенного влияния на способ решения поставленной задачи."
   ]
  },
  {
   "cell_type": "markdown",
   "id": "9cd8e853",
   "metadata": {},
   "source": [
    "<a id=\"id\"></a>\n",
    "\n",
    "### Исключение дублирующейся информации"
   ]
  },
  {
   "cell_type": "markdown",
   "id": "34fdc236",
   "metadata": {},
   "source": [
    "Сформируем дополнительные датафреймы \"словарей\" для полей education и family_status и удалим описательные данные в исходной базе, оставив только категориальные."
   ]
  },
  {
   "cell_type": "code",
   "execution_count": 14,
   "id": "e5d27207",
   "metadata": {},
   "outputs": [],
   "source": [
    "#Создание 'словаря' для уровня образования\n",
    "education_dict = data[['education', 'education_id']]\n",
    "education_dict = education_dict.drop_duplicates().reset_index(drop=True)\n",
    "#Создание 'словаря' для семейного положения\n",
    "family_dict = data[['family_status', 'family_status_id']]\n",
    "family_dict = family_dict.drop_duplicates().reset_index(drop=True)\n",
    "#Удаление столбцов education и family_status из исходной таблицы\n",
    "data = data.drop('education', 1)\n",
    "data = data.drop('family_status', 1)"
   ]
  },
  {
   "cell_type": "markdown",
   "id": "ee9f4f80",
   "metadata": {},
   "source": [
    "<a id=\"income\"></a>\n",
    "\n",
    "### Категоризация клиентов по уровню дохода"
   ]
  },
  {
   "cell_type": "markdown",
   "id": "f453c866",
   "metadata": {},
   "source": [
    "Проведем категоризацию клиентов банка по уровню дохода, выделив 5 групп"
   ]
  },
  {
   "cell_type": "code",
   "execution_count": 15,
   "id": "1091ac47",
   "metadata": {},
   "outputs": [],
   "source": [
    "#Функция для категоризации дохода\n",
    "def income_category_func(income):\n",
    "    if (income > 30000 and income <= 50000):\n",
    "        return 'D'\n",
    "    elif (income > 50000 and income <= 200000):\n",
    "        return 'C'\n",
    "    elif (income > 200000 and income <= 1000000):\n",
    "        return 'B'\n",
    "    elif (income > 1000000):\n",
    "        return 'A'\n",
    "    else:\n",
    "        return 'E'\n",
    "    \n",
    "#Применение функции в новом столбце total_income_category\n",
    "data['total_income_category'] = data['total_income'].apply(income_category_func)"
   ]
  },
  {
   "cell_type": "markdown",
   "id": "eb4e6cb3",
   "metadata": {},
   "source": [
    "<a id=\"purpose\"></a>\n",
    "\n",
    "### Категоризация клиентов по цели кредита"
   ]
  },
  {
   "cell_type": "markdown",
   "id": "b2e8e631",
   "metadata": {},
   "source": [
    "Проведем категоризацию клиентов банка по уровню дохода, выделив 5 групп:\n",
    "- Свадьба\n",
    "- Недвижимость\n",
    "- Автомобиль\n",
    "- Образование\n",
    "- Другое"
   ]
  },
  {
   "cell_type": "code",
   "execution_count": 16,
   "id": "66373f0e",
   "metadata": {},
   "outputs": [],
   "source": [
    "#Функция для категоризации целей получения кредита\n",
    "def purpose_category_func(purpose):\n",
    "    if 'свадьб' in purpose:\n",
    "        return 'проведение свадьбы'\n",
    "    elif 'недвижимост' in purpose or 'жиль' in purpose:\n",
    "        return 'операции с недвижимостью'\n",
    "    elif 'автомоб' in purpose:\n",
    "        return 'операции с автомобилем'\n",
    "    elif 'образов' in purpose:\n",
    "        return 'получение образования'\n",
    "    else:\n",
    "        return 'другое'\n",
    "\n",
    "#Применение функции к столбцу целей и запись в новый столбец\n",
    "data['purpose_category'] = data['purpose'].apply(purpose_category_func)"
   ]
  },
  {
   "cell_type": "markdown",
   "id": "10cd78d7",
   "metadata": {},
   "source": [
    "<a id=\"conclusion1\"></a>\n",
    "\n",
    "### Вывод"
   ]
  },
  {
   "cell_type": "markdown",
   "id": "24f48c10",
   "metadata": {},
   "source": [
    "В столбцах days_employed и total_income содержалось по 2174 пропущенных записей (10% от общего числа), которые были заменены на медианные значения по типу дохода. В столбце children содержались аномальные значения (-1, 20), которые были заменены на 1 и 2, сооветственно. Тип данных в столбцах days_employed и total_income был заменен на целочисленный без потери количества информации. В столбцах education и family_status различные записи данных были унифицированы, что позволило выявить ещё 71 неявный дубликат, после чего дубликаты были удалены из базы данных.\n",
    "\n",
    "Столбцы education и education_id, а так же family_status и family_status_id содержат дублирующуюся информацию. Для более компактного отображения, для этих столбцов были созданы \"словари\" соответствия и строковые столбцы удалены из рабочей базы данных.\n",
    "\n",
    "Для удобства анализа, данные о доходе клиентов и цели взятия кредита были категоризированны в 5 групп. "
   ]
  },
  {
   "cell_type": "markdown",
   "id": "cb9c673a",
   "metadata": {},
   "source": [
    "<a id=\"eda\"></a>\n",
    "\n",
    "## Исследовательский анализ данных"
   ]
  },
  {
   "cell_type": "markdown",
   "id": "d3e23af3",
   "metadata": {},
   "source": [
    "Сравним показатель возврата кредита в срок (debt) с интересующими нас параметрами: \n",
    "- количество детей, \n",
    "- семейное положение, \n",
    "- уровень дохода,\n",
    "- цель кредита."
   ]
  },
  {
   "cell_type": "markdown",
   "id": "ecdd7083",
   "metadata": {},
   "source": [
    "Проверим связь показателя невозврата долгов с количеством детей"
   ]
  },
  {
   "cell_type": "code",
   "execution_count": 17,
   "id": "42c5cf2a",
   "metadata": {},
   "outputs": [
    {
     "name": "stdout",
     "output_type": "stream",
     "text": [
      "Процент заёмщиков, имеющих просрочку по кредиту, от общего числа клиентов. Группировка по количеству детей\n"
     ]
    },
    {
     "data": {
      "text/plain": [
       "children\n",
       "4    9.756098\n",
       "2    9.492481\n",
       "1    9.165808\n",
       "3    8.181818\n",
       "0    7.543822\n",
       "5         NaN\n",
       "Name: children_ratio_debt, dtype: float64"
      ]
     },
     "metadata": {},
     "output_type": "display_data"
    }
   ],
   "source": [
    "# Сгруппируем данные по количеству детей\n",
    "data_pivot_children = data.pivot_table(index=['children'], columns= 'debt', values='days_employed', aggfunc='count')\n",
    "# Рассчитаем процент заёмщиков в каждой группе, кто не вернул долг\n",
    "data_pivot_children['children_ratio_debt'] = data_pivot_children[1] / (data_pivot_children[0] + data_pivot_children[1]) * 100\n",
    "print('Процент заёмщиков, имеющих просрочку по кредиту, от общего числа клиентов. Группировка по количеству детей')\n",
    "display(data_pivot_children['children_ratio_debt'].sort_values(ascending=False))"
   ]
  },
  {
   "cell_type": "markdown",
   "id": "a32efbee",
   "metadata": {},
   "source": [
    "Чтобы понять, какие данные репрезентативны для сравнения, можно сравнить количество записей, соответствующих каждому параметру. В связи с тем, что данные с количеством детей от 0 до 2 на порядок больше, чем остальных значений, то имеет смысл делать выводы в первую очередь опираясь на них.\n",
    "\n",
    "Если сравнивать 3 репрезентативные группы (без детей, 1 ребенок или 2 ребенка), то вырисовывается четкая связь параметра с долгами по кредиту: чем больше детей, тем больше вероятность появления долга. При этом риск просрочки кредита у людей с детьми примерно одинаковый и заметно выше (на 2%), чем у тех, кто без детей."
   ]
  },
  {
   "cell_type": "markdown",
   "id": "c7c15280",
   "metadata": {},
   "source": [
    "Остальные ключевые параметры представлены качественными категориями, а не количественными показателями, поэтому можно предположить, что выборки в них репрезентативны для всех категорий.\n",
    "\n",
    "Проверим связь показателя невозврата долгов с семейным положением"
   ]
  },
  {
   "cell_type": "code",
   "execution_count": 18,
   "id": "6a808649",
   "metadata": {
    "scrolled": true
   },
   "outputs": [
    {
     "name": "stdout",
     "output_type": "stream",
     "text": [
      "Процент заёмщиков, имеющих просрочку по кредиту, от общего числа клиентов. Группировка по семейному положению\n"
     ]
    },
    {
     "data": {
      "text/html": [
       "<div>\n",
       "<style scoped>\n",
       "    .dataframe tbody tr th:only-of-type {\n",
       "        vertical-align: middle;\n",
       "    }\n",
       "\n",
       "    .dataframe tbody tr th {\n",
       "        vertical-align: top;\n",
       "    }\n",
       "\n",
       "    .dataframe thead th {\n",
       "        text-align: right;\n",
       "    }\n",
       "</style>\n",
       "<table border=\"1\" class=\"dataframe\">\n",
       "  <thead>\n",
       "    <tr style=\"text-align: right;\">\n",
       "      <th></th>\n",
       "      <th>family_status</th>\n",
       "      <th>family_ratio_debt</th>\n",
       "    </tr>\n",
       "  </thead>\n",
       "  <tbody>\n",
       "    <tr>\n",
       "      <th>4</th>\n",
       "      <td>не женат / не замужем</td>\n",
       "      <td>9.750890</td>\n",
       "    </tr>\n",
       "    <tr>\n",
       "      <th>1</th>\n",
       "      <td>гражданский брак</td>\n",
       "      <td>9.347145</td>\n",
       "    </tr>\n",
       "    <tr>\n",
       "      <th>0</th>\n",
       "      <td>женат / замужем</td>\n",
       "      <td>7.545182</td>\n",
       "    </tr>\n",
       "    <tr>\n",
       "      <th>3</th>\n",
       "      <td>в разводе</td>\n",
       "      <td>7.112971</td>\n",
       "    </tr>\n",
       "    <tr>\n",
       "      <th>2</th>\n",
       "      <td>вдовец / вдова</td>\n",
       "      <td>6.569343</td>\n",
       "    </tr>\n",
       "  </tbody>\n",
       "</table>\n",
       "</div>"
      ],
      "text/plain": [
       "           family_status  family_ratio_debt\n",
       "4  не женат / не замужем           9.750890\n",
       "1       гражданский брак           9.347145\n",
       "0        женат / замужем           7.545182\n",
       "3              в разводе           7.112971\n",
       "2         вдовец / вдова           6.569343"
      ]
     },
     "metadata": {},
     "output_type": "display_data"
    }
   ],
   "source": [
    "#Группировка данных по семейному положению\n",
    "data_pivot_family = data.pivot_table(index=['family_status_id'], columns='debt', values='days_employed', aggfunc='count')\n",
    "#Расчет доли невозврата долгов\n",
    "data_pivot_family['family_ratio_debt'] = data_pivot_family[1] / (data_pivot_family[0] + data_pivot_family[1]) * 100\n",
    "data_pivot_family = data_pivot_family.merge(family_dict, on='family_status_id', how='left')\n",
    "data_pivot_family = data_pivot_family[['family_status', 'family_ratio_debt']]\n",
    "\n",
    "print('Процент заёмщиков, имеющих просрочку по кредиту, от общего числа клиентов. Группировка по семейному положению')\n",
    "display(data_pivot_family.sort_values(by='family_ratio_debt', ascending=False))"
   ]
  },
  {
   "cell_type": "markdown",
   "id": "8a507dbe",
   "metadata": {},
   "source": [
    "Чёткой связи по параметру семейного положения не наблюдается. Можно условно поделить на две категории: 1) люди, не имевшие опыт юридически оформленного брака, 2) люди, имеющие или имевшие в прошлом такой опыт. В первой категории средний риск просрочки кредита на 2% выше, чем во второй."
   ]
  },
  {
   "cell_type": "markdown",
   "id": "662ab4d4",
   "metadata": {},
   "source": [
    "Проверим связь показателя невозврата долгов с уровнем дохода"
   ]
  },
  {
   "cell_type": "code",
   "execution_count": 19,
   "id": "54d94292",
   "metadata": {
    "scrolled": true
   },
   "outputs": [
    {
     "name": "stdout",
     "output_type": "stream",
     "text": [
      "Процент заёмщиков, имеющих просрочку по кредиту, от общего числа клиентов. Группировка по уровню дохода\n"
     ]
    },
    {
     "data": {
      "text/plain": [
       "total_income_category\n",
       "E    9.090909\n",
       "C    8.492039\n",
       "A    8.000000\n",
       "B    7.060690\n",
       "D    6.000000\n",
       "Name: income_ratio_debt, dtype: float64"
      ]
     },
     "metadata": {},
     "output_type": "display_data"
    }
   ],
   "source": [
    "#Группировка данных по уровню дохода\n",
    "data_pivot_income = data.pivot_table(index=['total_income_category'], columns= 'debt', values='days_employed', aggfunc='count')\n",
    "#Расчет доли невозврата по уровню дохода\n",
    "data_pivot_income['income_ratio_debt'] = data_pivot_income[1] / (data_pivot_income[0] + data_pivot_income[1]) * 100\n",
    "\n",
    "print('Процент заёмщиков, имеющих просрочку по кредиту, от общего числа клиентов. Группировка по уровню дохода')\n",
    "display(data_pivot_income['income_ratio_debt'].sort_values(ascending=False))"
   ]
  },
  {
   "cell_type": "markdown",
   "id": "e9bf6536",
   "metadata": {},
   "source": [
    "Как ни странно, по уровню дохода четкой связи тоже не наблюдается. Закономерно, в зоне наибольшего риска наименее обеспеченная группа граждан (категория E). При этом наиболее благонадежные граждане оказываются в группе D, то есть имеющие доход немногим выше минимального. Если судить по наиболее распространенным уровням дохода (категории В и С), то здесь наблюдается логика: в категории с более высоким уровнем дохода вероятность просрочки на 1,5% ниже, чем в категории с более низким уровнем."
   ]
  },
  {
   "cell_type": "markdown",
   "id": "0acb2d8a",
   "metadata": {},
   "source": [
    "Проверим связь показателя невозврата долгов с целью кредита"
   ]
  },
  {
   "cell_type": "code",
   "execution_count": 20,
   "id": "55c100d5",
   "metadata": {},
   "outputs": [
    {
     "name": "stdout",
     "output_type": "stream",
     "text": [
      "Процент заёмщиков, имеющих просрочку по кредиту, от общего числа клиентов. Группировка по цели кредита\n"
     ]
    },
    {
     "data": {
      "text/plain": [
       "purpose_category\n",
       "операции с автомобилем      9.359034\n",
       "получение образования       9.220035\n",
       "проведение свадьбы          8.003442\n",
       "операции с недвижимостью    7.233373\n",
       "Name: purpose_ratio_debt, dtype: float64"
      ]
     },
     "metadata": {},
     "output_type": "display_data"
    }
   ],
   "source": [
    "#Группировка данных по цели кредита\n",
    "data_pivot_purpose = data.pivot_table(index=['purpose_category'], columns= 'debt', values='days_employed', aggfunc='count')\n",
    "#Расчет доли невозврата\n",
    "data_pivot_purpose['purpose_ratio_debt'] = data_pivot_purpose[1] / (data_pivot_purpose[0] + data_pivot_purpose[1]) * 100\n",
    "\n",
    "print('Процент заёмщиков, имеющих просрочку по кредиту, от общего числа клиентов. Группировка по цели кредита')\n",
    "display(data_pivot_purpose['purpose_ratio_debt'].sort_values(ascending=False))"
   ]
  },
  {
   "cell_type": "markdown",
   "id": "0e58dad6",
   "metadata": {},
   "source": [
    "Цели кредита заметно влияют на риски просрочки. Наиболее рискованные займы люди берут на покупку автомобиля и получение образования. Вероятность просрочки по обязательствам более, чем на 1% выше, чем при кредите на проведение свадьбы и на 2% выше, чем на операции с недвижимостью. "
   ]
  },
  {
   "cell_type": "markdown",
   "id": "6325dc46",
   "metadata": {},
   "source": [
    "<a id=\"conclusion2\"></a>\n",
    "\n",
    "### Вывод"
   ]
  },
  {
   "cell_type": "markdown",
   "id": "c483498d",
   "metadata": {},
   "source": [
    "В ходе исследовательского анализа данных были сделаны следующие выводы:\n",
    "1. Количество детей у клиента влияет на вероятность просрочки по кредиту. Клиенты с детьми в среднем на 2% чаще имеют просрочку, чем бездетные\n",
    "2. Семейное положение влияет на вероятность просрочки по кредиту. Клиенты, имевшие опыт юридически оформленного брака в среднем на 2% чаще имеют просрочку по кредитам, чем не имеющие такого опыта\n",
    "3. Уровень дохода влияет на вероятность просрочки по кредиту. Клиенты, с более низким уровнем дохода в среднем на 1,5% чаще имеют просрочку, чем более обеспеченные клиенты\n",
    "4. Цели кредита влияют на вероятность просрочки. Клиенты, покупающие автомобиль и получающие образование в среднем на 1-2% чаще имеют просрочку, чем клиенты, берущие кредит на свадьбу или операции с недвижимостью"
   ]
  },
  {
   "cell_type": "markdown",
   "id": "d0e24cdd",
   "metadata": {},
   "source": [
    "<a id=\"conclusion_all\"></a>\n",
    "\n",
    "## Выводы и рекомендации"
   ]
  },
  {
   "cell_type": "markdown",
   "id": "440afc8c",
   "metadata": {},
   "source": [
    "**Данные**\n",
    "\n",
    "База данных содержит 21525 записей о клиентах банка в 12 колонках. Данные имеют пропуски (по 10% в полях days_employed и total_income), 54 явных и 71 не явный дубликат, аномалии (в полях days_employed и children), дублирующиеся столбцы (education и education_id, а так же family_status и family_status_id). \n",
    "\n",
    "На этапе предобработки данных, пропущенные значения были заменены на медианные значения, сгруппированные по типу занятости, аномальные значения заменены так же на средние или на наиболее близкие по смыслу. Тип данных в столбцах days_employed и total_income был заменен на целочисленный, дубликаты удалены (0,6% от размера базы данных), столбцы с дублирующейся информацией  education и family_status удалены. \n",
    "\n",
    "Данные о доходе клиентов и цели взятия кредита категоризированны в 5 групп.\n",
    "\n",
    "**Анализ данных**\n",
    "\n",
    "С целью выявления связи ряда параметров с вероятностью возврата кредита, было изучено несколько основных показателей: \n",
    "- количество детей, \n",
    "- семейное положение, \n",
    "- уровень дохода,\n",
    "- цель кредита.\n",
    "\n",
    "Диапазон значений по каждому оцениваемому параметру варьирует в пределах 2-3%, что говорит об отсутствии ярко выраженных контрастов в надежности тех или иных групп граждан.\n",
    "Тем не менее, все изученные параметры показали связь с целевой переменной - наличием просрочки по кредиту. \n",
    "\n",
    "**Рекомендации бизнесу**\n",
    "\n",
    "Наиболее рискованная группа клиентов, которые имеют немного повышенный риск просрочки по кредиту, имеет следующие параметры:\n",
    "- Наличие детей\n",
    "- Наличие брака в настоящем или прошлом\n",
    "- Низкий доход\n",
    "- Цель кредита - автомобить или образование\n",
    "\n",
    "Наименее рискованная группа клиентов имеет следующие параметры:\n",
    "- Нет детей\n",
    "- Не состоят и не состояли в браке\n",
    "- Доход выше среднего\n",
    "- Цель кредита - свдаьба или недвижимость"
   ]
  }
 ],
 "metadata": {
  "ExecuteTimeLog": [
   {
    "duration": 488,
    "start_time": "2022-04-07T12:49:05.447Z"
   },
   {
    "duration": 83,
    "start_time": "2022-04-07T12:53:15.917Z"
   },
   {
    "duration": 56,
    "start_time": "2022-04-07T12:54:38.404Z"
   },
   {
    "duration": 52,
    "start_time": "2022-04-07T12:55:07.398Z"
   },
   {
    "duration": 110,
    "start_time": "2022-04-07T12:55:20.977Z"
   },
   {
    "duration": 62,
    "start_time": "2022-04-07T12:55:27.815Z"
   },
   {
    "duration": 107,
    "start_time": "2022-04-07T12:55:32.381Z"
   },
   {
    "duration": 60,
    "start_time": "2022-04-07T12:55:44.308Z"
   },
   {
    "duration": 50,
    "start_time": "2022-04-07T12:55:58.725Z"
   },
   {
    "duration": 52,
    "start_time": "2022-04-07T12:58:04.078Z"
   },
   {
    "duration": 65,
    "start_time": "2022-04-07T12:58:11.633Z"
   },
   {
    "duration": 62,
    "start_time": "2022-04-07T12:58:22.452Z"
   },
   {
    "duration": 51,
    "start_time": "2022-04-07T12:59:10.488Z"
   },
   {
    "duration": 100,
    "start_time": "2022-04-07T13:02:24.294Z"
   },
   {
    "duration": 63,
    "start_time": "2022-04-07T13:02:38.151Z"
   },
   {
    "duration": 10,
    "start_time": "2022-04-07T13:02:39.972Z"
   },
   {
    "duration": 9,
    "start_time": "2022-04-07T13:06:28.237Z"
   },
   {
    "duration": 13,
    "start_time": "2022-04-07T13:06:41.262Z"
   },
   {
    "duration": 12,
    "start_time": "2022-04-07T13:07:21.513Z"
   },
   {
    "duration": 14,
    "start_time": "2022-04-07T13:07:51.315Z"
   },
   {
    "duration": 16,
    "start_time": "2022-04-07T13:08:04.092Z"
   },
   {
    "duration": 15,
    "start_time": "2022-04-07T13:08:08.819Z"
   },
   {
    "duration": 127,
    "start_time": "2022-04-07T13:08:33.208Z"
   },
   {
    "duration": 123,
    "start_time": "2022-04-07T13:09:26.124Z"
   },
   {
    "duration": 166,
    "start_time": "2022-04-07T13:09:36.777Z"
   },
   {
    "duration": 165,
    "start_time": "2022-04-07T13:10:15.820Z"
   },
   {
    "duration": 121,
    "start_time": "2022-04-07T13:10:28.677Z"
   },
   {
    "duration": 13,
    "start_time": "2022-04-07T13:11:35.892Z"
   },
   {
    "duration": 8,
    "start_time": "2022-04-07T13:12:05.861Z"
   },
   {
    "duration": 5,
    "start_time": "2022-04-07T13:12:09.057Z"
   },
   {
    "duration": 7,
    "start_time": "2022-04-07T13:12:24.550Z"
   },
   {
    "duration": 8,
    "start_time": "2022-04-07T13:12:35.584Z"
   },
   {
    "duration": 8,
    "start_time": "2022-04-07T13:12:43.074Z"
   },
   {
    "duration": 8,
    "start_time": "2022-04-07T13:12:50.377Z"
   },
   {
    "duration": 13,
    "start_time": "2022-04-07T13:12:55.049Z"
   },
   {
    "duration": 7,
    "start_time": "2022-04-07T13:13:32.026Z"
   },
   {
    "duration": 7,
    "start_time": "2022-04-07T13:13:42.309Z"
   },
   {
    "duration": 138,
    "start_time": "2022-04-07T13:13:58.055Z"
   },
   {
    "duration": 115,
    "start_time": "2022-04-07T13:14:02.205Z"
   },
   {
    "duration": 7,
    "start_time": "2022-04-07T13:14:11.720Z"
   },
   {
    "duration": 7,
    "start_time": "2022-04-07T13:14:22.480Z"
   },
   {
    "duration": 126,
    "start_time": "2022-04-07T13:15:05.576Z"
   },
   {
    "duration": 144,
    "start_time": "2022-04-07T13:15:09.203Z"
   },
   {
    "duration": 6,
    "start_time": "2022-04-07T13:15:11.583Z"
   },
   {
    "duration": 19,
    "start_time": "2022-04-07T13:15:57.287Z"
   },
   {
    "duration": 11,
    "start_time": "2022-04-07T13:16:20.491Z"
   },
   {
    "duration": 13,
    "start_time": "2022-04-07T13:17:10.876Z"
   },
   {
    "duration": 15,
    "start_time": "2022-04-07T13:17:31.176Z"
   },
   {
    "duration": 9,
    "start_time": "2022-04-07T13:29:51.649Z"
   },
   {
    "duration": 8,
    "start_time": "2022-04-07T13:30:02.238Z"
   },
   {
    "duration": 8,
    "start_time": "2022-04-07T13:30:05.491Z"
   },
   {
    "duration": 21,
    "start_time": "2022-04-07T13:31:00.685Z"
   },
   {
    "duration": 49,
    "start_time": "2022-04-07T16:39:21.340Z"
   },
   {
    "duration": 443,
    "start_time": "2022-04-07T16:39:27.758Z"
   },
   {
    "duration": 21,
    "start_time": "2022-04-07T16:39:29.831Z"
   },
   {
    "duration": 4,
    "start_time": "2022-04-07T16:39:40.651Z"
   },
   {
    "duration": 55,
    "start_time": "2022-04-07T16:39:52.818Z"
   },
   {
    "duration": 80,
    "start_time": "2022-04-07T16:39:53.994Z"
   },
   {
    "duration": 82,
    "start_time": "2022-04-07T16:39:58.142Z"
   },
   {
    "duration": 14,
    "start_time": "2022-04-07T16:40:05.140Z"
   },
   {
    "duration": 14,
    "start_time": "2022-04-07T16:43:09.546Z"
   },
   {
    "duration": 14,
    "start_time": "2022-04-07T16:43:33.747Z"
   },
   {
    "duration": 4,
    "start_time": "2022-04-07T16:44:57.347Z"
   },
   {
    "duration": 5,
    "start_time": "2022-04-07T16:45:08.217Z"
   },
   {
    "duration": 8,
    "start_time": "2022-04-07T16:51:00.099Z"
   },
   {
    "duration": 7,
    "start_time": "2022-04-07T16:52:31.289Z"
   },
   {
    "duration": 18,
    "start_time": "2022-04-07T17:06:26.818Z"
   },
   {
    "duration": 8,
    "start_time": "2022-04-07T17:07:29.233Z"
   },
   {
    "duration": 16,
    "start_time": "2022-04-07T17:08:44.694Z"
   },
   {
    "duration": 18,
    "start_time": "2022-04-07T17:09:11.342Z"
   },
   {
    "duration": 25,
    "start_time": "2022-04-07T17:10:08.439Z"
   },
   {
    "duration": 28,
    "start_time": "2022-04-07T17:10:32.566Z"
   },
   {
    "duration": 25,
    "start_time": "2022-04-07T17:10:57.648Z"
   },
   {
    "duration": 7,
    "start_time": "2022-04-07T17:11:02.369Z"
   },
   {
    "duration": 38,
    "start_time": "2022-04-07T17:11:37.894Z"
   },
   {
    "duration": 11,
    "start_time": "2022-04-07T17:11:58.283Z"
   },
   {
    "duration": 36,
    "start_time": "2022-04-07T17:14:33.121Z"
   },
   {
    "duration": 38,
    "start_time": "2022-04-07T17:15:28.700Z"
   },
   {
    "duration": 31,
    "start_time": "2022-04-07T17:15:33.169Z"
   },
   {
    "duration": 10,
    "start_time": "2022-04-07T17:16:15.259Z"
   },
   {
    "duration": 32,
    "start_time": "2022-04-07T17:16:19.405Z"
   },
   {
    "duration": 76,
    "start_time": "2022-04-07T17:16:33.965Z"
   },
   {
    "duration": 14,
    "start_time": "2022-04-07T17:16:38.358Z"
   },
   {
    "duration": 19,
    "start_time": "2022-04-07T17:17:35.802Z"
   },
   {
    "duration": 22,
    "start_time": "2022-04-07T17:17:53.000Z"
   },
   {
    "duration": 22,
    "start_time": "2022-04-07T17:18:06.196Z"
   },
   {
    "duration": 25,
    "start_time": "2022-04-07T17:18:36.949Z"
   },
   {
    "duration": 26,
    "start_time": "2022-04-07T17:19:42.918Z"
   },
   {
    "duration": 25,
    "start_time": "2022-04-07T17:19:55.869Z"
   },
   {
    "duration": 25,
    "start_time": "2022-04-07T17:20:18.725Z"
   },
   {
    "duration": 18,
    "start_time": "2022-04-07T17:20:30.596Z"
   },
   {
    "duration": 121,
    "start_time": "2022-04-07T17:21:07.018Z"
   },
   {
    "duration": 19,
    "start_time": "2022-04-07T17:21:20.806Z"
   },
   {
    "duration": 22,
    "start_time": "2022-04-07T17:22:30.786Z"
   },
   {
    "duration": 22,
    "start_time": "2022-04-07T17:28:36.418Z"
   },
   {
    "duration": 31,
    "start_time": "2022-04-07T17:30:23.981Z"
   },
   {
    "duration": 5,
    "start_time": "2022-04-07T17:31:22.376Z"
   },
   {
    "duration": 30,
    "start_time": "2022-04-07T17:31:39.891Z"
   },
   {
    "duration": 33,
    "start_time": "2022-04-07T17:48:43.401Z"
   },
   {
    "duration": 37,
    "start_time": "2022-04-07T17:48:55.911Z"
   },
   {
    "duration": 35,
    "start_time": "2022-04-07T18:59:49.849Z"
   },
   {
    "duration": 39,
    "start_time": "2022-04-07T19:00:02.992Z"
   },
   {
    "duration": 9,
    "start_time": "2022-04-07T19:01:41.953Z"
   },
   {
    "duration": 11,
    "start_time": "2022-04-07T19:01:46.215Z"
   },
   {
    "duration": 1297,
    "start_time": "2022-04-07T19:02:14.257Z"
   },
   {
    "duration": 1429,
    "start_time": "2022-04-07T19:02:17.419Z"
   },
   {
    "duration": 1334,
    "start_time": "2022-04-07T19:02:19.142Z"
   },
   {
    "duration": 11,
    "start_time": "2022-04-07T19:03:16.080Z"
   },
   {
    "duration": 15,
    "start_time": "2022-04-07T19:03:23.525Z"
   },
   {
    "duration": 59,
    "start_time": "2022-04-07T19:03:28.762Z"
   },
   {
    "duration": 13,
    "start_time": "2022-04-07T19:03:31.379Z"
   },
   {
    "duration": 12,
    "start_time": "2022-04-07T19:03:34.673Z"
   },
   {
    "duration": 8,
    "start_time": "2022-04-07T19:03:45.901Z"
   },
   {
    "duration": 5,
    "start_time": "2022-04-07T19:04:03.206Z"
   },
   {
    "duration": 7,
    "start_time": "2022-04-07T19:04:39.361Z"
   },
   {
    "duration": 6,
    "start_time": "2022-04-07T19:05:02.340Z"
   },
   {
    "duration": 6,
    "start_time": "2022-04-07T19:05:12.054Z"
   },
   {
    "duration": 4,
    "start_time": "2022-04-07T19:05:29.160Z"
   },
   {
    "duration": 52,
    "start_time": "2022-04-07T19:05:33.026Z"
   },
   {
    "duration": 13,
    "start_time": "2022-04-07T19:05:35.213Z"
   },
   {
    "duration": 4,
    "start_time": "2022-04-07T19:05:42.750Z"
   },
   {
    "duration": 4,
    "start_time": "2022-04-07T19:12:27.278Z"
   },
   {
    "duration": 4,
    "start_time": "2022-04-07T19:12:29.431Z"
   },
   {
    "duration": 24,
    "start_time": "2022-04-07T19:12:36.527Z"
   },
   {
    "duration": 19,
    "start_time": "2022-04-07T19:12:53.292Z"
   },
   {
    "duration": 12,
    "start_time": "2022-04-07T19:13:44.056Z"
   },
   {
    "duration": 8,
    "start_time": "2022-04-07T19:13:51.331Z"
   },
   {
    "duration": 8,
    "start_time": "2022-04-07T19:14:19.831Z"
   },
   {
    "duration": 84,
    "start_time": "2022-04-07T19:18:21.191Z"
   },
   {
    "duration": 4,
    "start_time": "2022-04-07T19:18:25.112Z"
   },
   {
    "duration": 10,
    "start_time": "2022-04-07T19:18:27.164Z"
   },
   {
    "duration": 10,
    "start_time": "2022-04-07T19:18:40.297Z"
   },
   {
    "duration": 13,
    "start_time": "2022-04-07T19:18:46.253Z"
   },
   {
    "duration": 14,
    "start_time": "2022-04-07T19:20:00.143Z"
   },
   {
    "duration": 13,
    "start_time": "2022-04-07T19:20:08.233Z"
   },
   {
    "duration": 7,
    "start_time": "2022-04-07T19:25:36.659Z"
   },
   {
    "duration": 8,
    "start_time": "2022-04-07T19:25:40.972Z"
   },
   {
    "duration": 13,
    "start_time": "2022-04-07T19:26:04.483Z"
   },
   {
    "duration": 14,
    "start_time": "2022-04-07T19:26:45.311Z"
   },
   {
    "duration": 27,
    "start_time": "2022-04-07T19:28:32.547Z"
   },
   {
    "duration": 19,
    "start_time": "2022-04-07T19:28:44.600Z"
   },
   {
    "duration": 84,
    "start_time": "2022-04-07T19:32:54.242Z"
   },
   {
    "duration": 511,
    "start_time": "2022-04-07T19:33:06.219Z"
   },
   {
    "duration": 458,
    "start_time": "2022-04-07T19:33:36.447Z"
   },
   {
    "duration": 22,
    "start_time": "2022-04-07T19:34:07.773Z"
   },
   {
    "duration": 21,
    "start_time": "2022-04-07T19:35:43.624Z"
   },
   {
    "duration": 13,
    "start_time": "2022-04-07T19:37:15.183Z"
   },
   {
    "duration": 16,
    "start_time": "2022-04-07T19:38:02.977Z"
   },
   {
    "duration": 16,
    "start_time": "2022-04-07T19:38:57.471Z"
   },
   {
    "duration": 13,
    "start_time": "2022-04-07T19:41:07.630Z"
   },
   {
    "duration": 23,
    "start_time": "2022-04-07T19:41:32.179Z"
   },
   {
    "duration": 24,
    "start_time": "2022-04-07T19:43:21.326Z"
   },
   {
    "duration": 28,
    "start_time": "2022-04-07T19:43:42.718Z"
   },
   {
    "duration": 16,
    "start_time": "2022-04-07T19:44:39.847Z"
   },
   {
    "duration": 17,
    "start_time": "2022-04-07T19:49:49.518Z"
   },
   {
    "duration": 10,
    "start_time": "2022-04-07T19:52:01.577Z"
   },
   {
    "duration": 318,
    "start_time": "2022-04-07T19:52:07.332Z"
   },
   {
    "duration": 6,
    "start_time": "2022-04-07T20:06:59.709Z"
   },
   {
    "duration": 20,
    "start_time": "2022-04-07T20:07:19.050Z"
   },
   {
    "duration": 19,
    "start_time": "2022-04-07T20:11:00.842Z"
   },
   {
    "duration": 19,
    "start_time": "2022-04-07T20:11:53.842Z"
   },
   {
    "duration": 7,
    "start_time": "2022-04-07T20:18:24.778Z"
   },
   {
    "duration": 5,
    "start_time": "2022-04-07T20:18:33.614Z"
   },
   {
    "duration": 4,
    "start_time": "2022-04-07T20:18:38.156Z"
   },
   {
    "duration": 8,
    "start_time": "2022-04-07T20:19:07.143Z"
   },
   {
    "duration": 7,
    "start_time": "2022-04-07T20:19:16.464Z"
   },
   {
    "duration": 9,
    "start_time": "2022-04-07T20:21:46.924Z"
   },
   {
    "duration": 7,
    "start_time": "2022-04-07T20:22:10.224Z"
   },
   {
    "duration": 19,
    "start_time": "2022-04-07T20:24:40.506Z"
   },
   {
    "duration": 10,
    "start_time": "2022-04-07T20:25:33.521Z"
   },
   {
    "duration": 10,
    "start_time": "2022-04-07T20:25:51.561Z"
   },
   {
    "duration": 20,
    "start_time": "2022-04-07T20:26:00.509Z"
   },
   {
    "duration": 4,
    "start_time": "2022-04-07T20:27:01.706Z"
   },
   {
    "duration": 4,
    "start_time": "2022-04-07T20:27:23.456Z"
   },
   {
    "duration": 4,
    "start_time": "2022-04-07T20:27:31.716Z"
   },
   {
    "duration": 4,
    "start_time": "2022-04-07T20:27:50.948Z"
   },
   {
    "duration": 4,
    "start_time": "2022-04-07T20:28:02.902Z"
   },
   {
    "duration": 21,
    "start_time": "2022-04-07T20:28:23.132Z"
   },
   {
    "duration": 9,
    "start_time": "2022-04-07T20:28:32.062Z"
   },
   {
    "duration": 23,
    "start_time": "2022-04-07T20:28:42.259Z"
   },
   {
    "duration": 9,
    "start_time": "2022-04-07T20:29:06.072Z"
   },
   {
    "duration": 8,
    "start_time": "2022-04-07T20:29:13.240Z"
   },
   {
    "duration": 79,
    "start_time": "2022-04-07T20:29:18.029Z"
   },
   {
    "duration": 10,
    "start_time": "2022-04-07T20:29:21.276Z"
   },
   {
    "duration": 1248,
    "start_time": "2022-04-07T20:34:04.602Z"
   },
   {
    "duration": 1402,
    "start_time": "2022-04-07T20:34:06.304Z"
   },
   {
    "duration": 1298,
    "start_time": "2022-04-07T20:34:47.454Z"
   },
   {
    "duration": 1280,
    "start_time": "2022-04-07T20:35:19.697Z"
   },
   {
    "duration": 15,
    "start_time": "2022-04-07T20:39:13.425Z"
   },
   {
    "duration": 3,
    "start_time": "2022-04-07T20:40:23.163Z"
   },
   {
    "duration": 19,
    "start_time": "2022-04-07T20:41:10.247Z"
   },
   {
    "duration": 6,
    "start_time": "2022-04-07T20:41:26.249Z"
   },
   {
    "duration": 8,
    "start_time": "2022-04-07T20:41:36.658Z"
   },
   {
    "duration": 9,
    "start_time": "2022-04-07T20:41:54.971Z"
   },
   {
    "duration": 10,
    "start_time": "2022-04-07T20:41:58.202Z"
   },
   {
    "duration": 10,
    "start_time": "2022-04-07T20:42:00.505Z"
   },
   {
    "duration": 9,
    "start_time": "2022-04-07T20:42:09.120Z"
   },
   {
    "duration": 9,
    "start_time": "2022-04-07T20:42:11.649Z"
   },
   {
    "duration": 10,
    "start_time": "2022-04-07T20:42:15.475Z"
   },
   {
    "duration": 21,
    "start_time": "2022-04-07T20:42:19.341Z"
   },
   {
    "duration": 12,
    "start_time": "2022-04-07T20:43:10.088Z"
   },
   {
    "duration": 12,
    "start_time": "2022-04-07T20:43:14.928Z"
   },
   {
    "duration": 13,
    "start_time": "2022-04-07T20:43:19.946Z"
   },
   {
    "duration": 8,
    "start_time": "2022-04-07T20:44:19.165Z"
   },
   {
    "duration": 30,
    "start_time": "2022-04-07T20:50:31.675Z"
   },
   {
    "duration": 28,
    "start_time": "2022-04-07T20:50:54.814Z"
   },
   {
    "duration": 29,
    "start_time": "2022-04-07T20:51:34.456Z"
   },
   {
    "duration": 30,
    "start_time": "2022-04-07T20:51:50.945Z"
   },
   {
    "duration": 23,
    "start_time": "2022-04-07T20:52:03.913Z"
   },
   {
    "duration": 9,
    "start_time": "2022-04-07T20:53:01.798Z"
   },
   {
    "duration": 1402,
    "start_time": "2022-04-07T21:00:10.482Z"
   },
   {
    "duration": 1341,
    "start_time": "2022-04-07T21:00:38.814Z"
   },
   {
    "duration": 1278,
    "start_time": "2022-04-07T21:00:42.542Z"
   },
   {
    "duration": 1223,
    "start_time": "2022-04-07T21:00:55.002Z"
   },
   {
    "duration": 22,
    "start_time": "2022-04-07T21:01:07.152Z"
   },
   {
    "duration": 8,
    "start_time": "2022-04-07T21:01:29.529Z"
   },
   {
    "duration": 25,
    "start_time": "2022-04-07T21:02:57.300Z"
   },
   {
    "duration": 18,
    "start_time": "2022-04-07T21:03:27.502Z"
   },
   {
    "duration": 64,
    "start_time": "2022-04-07T21:03:32.016Z"
   },
   {
    "duration": 13,
    "start_time": "2022-04-07T21:03:34.310Z"
   },
   {
    "duration": 20,
    "start_time": "2022-04-07T21:03:37.018Z"
   },
   {
    "duration": 22,
    "start_time": "2022-04-07T21:06:54.340Z"
   },
   {
    "duration": 38,
    "start_time": "2022-04-07T21:09:15.594Z"
   },
   {
    "duration": 38,
    "start_time": "2022-04-07T21:09:51.183Z"
   },
   {
    "duration": 44,
    "start_time": "2022-04-07T21:11:25.623Z"
   },
   {
    "duration": 39,
    "start_time": "2022-04-07T21:12:06.709Z"
   },
   {
    "duration": 38,
    "start_time": "2022-04-07T21:12:47.978Z"
   },
   {
    "duration": 29,
    "start_time": "2022-04-07T21:12:58.866Z"
   },
   {
    "duration": 29,
    "start_time": "2022-04-07T21:13:19.715Z"
   },
   {
    "duration": 31,
    "start_time": "2022-04-07T21:13:58.319Z"
   },
   {
    "duration": 34,
    "start_time": "2022-04-07T21:14:27.957Z"
   },
   {
    "duration": 41,
    "start_time": "2022-04-07T21:14:35.998Z"
   },
   {
    "duration": 41,
    "start_time": "2022-04-07T21:15:22.302Z"
   },
   {
    "duration": 41,
    "start_time": "2022-04-07T21:16:43.792Z"
   },
   {
    "duration": 44,
    "start_time": "2022-04-07T21:17:30.973Z"
   },
   {
    "duration": 35,
    "start_time": "2022-04-07T21:19:36.881Z"
   },
   {
    "duration": 1355,
    "start_time": "2022-04-07T21:20:55.788Z"
   },
   {
    "duration": 27,
    "start_time": "2022-04-07T21:21:02.973Z"
   },
   {
    "duration": 97,
    "start_time": "2022-04-07T21:21:13.730Z"
   },
   {
    "duration": 82,
    "start_time": "2022-04-07T21:21:21.548Z"
   },
   {
    "duration": 1244,
    "start_time": "2022-04-07T21:21:40.180Z"
   },
   {
    "duration": 26,
    "start_time": "2022-04-07T21:21:46.400Z"
   },
   {
    "duration": 1284,
    "start_time": "2022-04-07T21:22:01.329Z"
   },
   {
    "duration": 1397,
    "start_time": "2022-04-07T21:22:49.710Z"
   },
   {
    "duration": 38,
    "start_time": "2022-04-07T21:23:43.799Z"
   },
   {
    "duration": 37,
    "start_time": "2022-04-07T21:23:59.763Z"
   },
   {
    "duration": 40,
    "start_time": "2022-04-07T21:24:11.824Z"
   },
   {
    "duration": 27,
    "start_time": "2022-04-07T21:27:29.018Z"
   },
   {
    "duration": 26,
    "start_time": "2022-04-07T21:28:17.582Z"
   },
   {
    "duration": 27,
    "start_time": "2022-04-07T21:28:25.654Z"
   },
   {
    "duration": 25,
    "start_time": "2022-04-07T21:28:32.397Z"
   },
   {
    "duration": 39,
    "start_time": "2022-04-07T21:29:05.482Z"
   },
   {
    "duration": 40,
    "start_time": "2022-04-07T21:29:37.807Z"
   },
   {
    "duration": 74,
    "start_time": "2022-04-08T06:13:18.433Z"
   },
   {
    "duration": 584,
    "start_time": "2022-04-08T06:13:26.637Z"
   },
   {
    "duration": 33,
    "start_time": "2022-04-08T06:13:28.904Z"
   },
   {
    "duration": 32,
    "start_time": "2022-04-08T06:13:31.475Z"
   },
   {
    "duration": 61,
    "start_time": "2022-04-08T06:13:34.220Z"
   },
   {
    "duration": 71,
    "start_time": "2022-04-08T06:17:57.453Z"
   },
   {
    "duration": 2180,
    "start_time": "2022-04-08T06:19:37.017Z"
   },
   {
    "duration": 3563,
    "start_time": "2022-04-08T06:20:20.508Z"
   },
   {
    "duration": 40,
    "start_time": "2022-04-08T06:21:39.699Z"
   },
   {
    "duration": 39,
    "start_time": "2022-04-08T06:21:49.975Z"
   },
   {
    "duration": 32,
    "start_time": "2022-04-08T06:21:53.000Z"
   },
   {
    "duration": 77,
    "start_time": "2022-04-08T06:21:56.546Z"
   },
   {
    "duration": 37,
    "start_time": "2022-04-08T06:21:59.767Z"
   },
   {
    "duration": 36,
    "start_time": "2022-04-08T06:22:38.386Z"
   },
   {
    "duration": 34,
    "start_time": "2022-04-08T06:22:41.587Z"
   },
   {
    "duration": 39,
    "start_time": "2022-04-08T06:22:48.430Z"
   },
   {
    "duration": 35,
    "start_time": "2022-04-08T06:22:51.484Z"
   },
   {
    "duration": 84,
    "start_time": "2022-04-08T06:22:53.947Z"
   },
   {
    "duration": 22,
    "start_time": "2022-04-08T06:22:54.258Z"
   },
   {
    "duration": 31,
    "start_time": "2022-04-08T06:22:54.545Z"
   },
   {
    "duration": 61,
    "start_time": "2022-04-08T06:22:55.126Z"
   },
   {
    "duration": 43,
    "start_time": "2022-04-08T06:23:09.823Z"
   },
   {
    "duration": 65,
    "start_time": "2022-04-08T06:23:29.910Z"
   },
   {
    "duration": 35,
    "start_time": "2022-04-08T06:23:33.327Z"
   },
   {
    "duration": 70,
    "start_time": "2022-04-08T06:23:38.783Z"
   },
   {
    "duration": 18,
    "start_time": "2022-04-08T06:23:39.069Z"
   },
   {
    "duration": 30,
    "start_time": "2022-04-08T06:23:39.349Z"
   },
   {
    "duration": 35,
    "start_time": "2022-04-08T06:23:43.678Z"
   },
   {
    "duration": 71,
    "start_time": "2022-04-08T06:23:56.621Z"
   },
   {
    "duration": 21,
    "start_time": "2022-04-08T06:23:56.917Z"
   },
   {
    "duration": 28,
    "start_time": "2022-04-08T06:23:57.211Z"
   },
   {
    "duration": 62,
    "start_time": "2022-04-08T06:23:58.205Z"
   },
   {
    "duration": 80,
    "start_time": "2022-04-08T06:24:29.408Z"
   },
   {
    "duration": 2883,
    "start_time": "2022-04-08T06:24:43.723Z"
   },
   {
    "duration": 55,
    "start_time": "2022-04-08T06:25:29.758Z"
   },
   {
    "duration": 3143,
    "start_time": "2022-04-08T06:25:44.163Z"
   },
   {
    "duration": 3089,
    "start_time": "2022-04-08T06:25:49.543Z"
   },
   {
    "duration": 3355,
    "start_time": "2022-04-08T06:25:56.636Z"
   },
   {
    "duration": 81,
    "start_time": "2022-04-08T06:26:05.571Z"
   },
   {
    "duration": 17,
    "start_time": "2022-04-08T06:26:06.183Z"
   },
   {
    "duration": 28,
    "start_time": "2022-04-08T06:26:06.535Z"
   },
   {
    "duration": 3420,
    "start_time": "2022-04-08T06:26:07.411Z"
   },
   {
    "duration": 38,
    "start_time": "2022-04-08T06:49:44.853Z"
   },
   {
    "duration": 39,
    "start_time": "2022-04-08T06:49:51.414Z"
   },
   {
    "duration": 33,
    "start_time": "2022-04-08T06:50:05.134Z"
   },
   {
    "duration": 2774,
    "start_time": "2022-04-08T06:50:11.017Z"
   },
   {
    "duration": 2667,
    "start_time": "2022-04-08T06:50:22.152Z"
   },
   {
    "duration": 36,
    "start_time": "2022-04-08T06:50:36.276Z"
   },
   {
    "duration": 36,
    "start_time": "2022-04-08T06:50:46.065Z"
   },
   {
    "duration": 39,
    "start_time": "2022-04-08T06:51:09.853Z"
   },
   {
    "duration": 39,
    "start_time": "2022-04-08T06:51:12.260Z"
   },
   {
    "duration": 3619,
    "start_time": "2022-04-08T06:51:42.520Z"
   },
   {
    "duration": 39,
    "start_time": "2022-04-08T06:51:53.086Z"
   },
   {
    "duration": 42,
    "start_time": "2022-04-08T06:51:55.156Z"
   },
   {
    "duration": 3673,
    "start_time": "2022-04-08T06:52:07.316Z"
   },
   {
    "duration": 57,
    "start_time": "2022-04-08T09:23:52.660Z"
   },
   {
    "duration": 36,
    "start_time": "2022-04-08T09:23:58.467Z"
   },
   {
    "duration": 37,
    "start_time": "2022-04-08T09:24:06.449Z"
   },
   {
    "duration": 36,
    "start_time": "2022-04-08T09:24:12.197Z"
   },
   {
    "duration": 39,
    "start_time": "2022-04-08T09:24:24.984Z"
   },
   {
    "duration": 35,
    "start_time": "2022-04-08T09:24:29.183Z"
   },
   {
    "duration": 37,
    "start_time": "2022-04-08T09:24:33.711Z"
   },
   {
    "duration": 54,
    "start_time": "2022-04-08T09:24:50.429Z"
   },
   {
    "duration": 2887,
    "start_time": "2022-04-08T09:24:53.971Z"
   },
   {
    "duration": 40,
    "start_time": "2022-04-08T09:25:09.899Z"
   },
   {
    "duration": 41,
    "start_time": "2022-04-08T09:25:15.506Z"
   },
   {
    "duration": 36,
    "start_time": "2022-04-08T09:25:33.726Z"
   },
   {
    "duration": 49,
    "start_time": "2022-04-08T09:26:02.440Z"
   },
   {
    "duration": 54,
    "start_time": "2022-04-08T09:26:11.424Z"
   },
   {
    "duration": 3678,
    "start_time": "2022-04-08T09:27:16.712Z"
   },
   {
    "duration": 2881,
    "start_time": "2022-04-08T09:27:42.381Z"
   },
   {
    "duration": 165,
    "start_time": "2022-04-08T10:05:13.751Z"
   },
   {
    "duration": 3690,
    "start_time": "2022-04-08T10:05:25.080Z"
   },
   {
    "duration": 3722,
    "start_time": "2022-04-08T12:16:06.992Z"
   },
   {
    "duration": 3635,
    "start_time": "2022-04-08T12:16:16.698Z"
   },
   {
    "duration": 2989,
    "start_time": "2022-04-08T12:16:28.714Z"
   },
   {
    "duration": 3452,
    "start_time": "2022-04-08T18:33:26.973Z"
   },
   {
    "duration": 4043,
    "start_time": "2022-04-08T18:34:27.870Z"
   },
   {
    "duration": 38,
    "start_time": "2022-04-08T18:34:42.209Z"
   },
   {
    "duration": 0,
    "start_time": "2022-04-08T18:35:22.218Z"
   },
   {
    "duration": 5046,
    "start_time": "2022-04-08T18:35:33.712Z"
   },
   {
    "duration": 35,
    "start_time": "2022-04-08T18:36:19.376Z"
   },
   {
    "duration": 35,
    "start_time": "2022-04-08T18:36:55.916Z"
   },
   {
    "duration": 57,
    "start_time": "2022-04-08T18:37:03.015Z"
   },
   {
    "duration": 27,
    "start_time": "2022-04-08T18:37:21.261Z"
   },
   {
    "duration": 31,
    "start_time": "2022-04-08T18:37:28.937Z"
   },
   {
    "duration": 79,
    "start_time": "2022-04-08T18:37:31.711Z"
   },
   {
    "duration": 20,
    "start_time": "2022-04-08T18:37:32.104Z"
   },
   {
    "duration": 28,
    "start_time": "2022-04-08T18:37:32.376Z"
   },
   {
    "duration": 56,
    "start_time": "2022-04-08T18:37:34.038Z"
   },
   {
    "duration": 41,
    "start_time": "2022-04-08T18:39:46.649Z"
   },
   {
    "duration": 219,
    "start_time": "2022-04-08T18:41:33.383Z"
   },
   {
    "duration": 29,
    "start_time": "2022-04-08T18:42:16.745Z"
   },
   {
    "duration": 81,
    "start_time": "2022-04-08T18:42:20.265Z"
   },
   {
    "duration": 18,
    "start_time": "2022-04-08T18:42:20.562Z"
   },
   {
    "duration": 29,
    "start_time": "2022-04-08T18:42:20.849Z"
   },
   {
    "duration": 2652,
    "start_time": "2022-04-08T18:42:22.565Z"
   },
   {
    "duration": 3331,
    "start_time": "2022-04-08T18:43:05.064Z"
   },
   {
    "duration": 29,
    "start_time": "2022-04-08T18:44:09.308Z"
   },
   {
    "duration": 32,
    "start_time": "2022-04-08T18:44:54.376Z"
   },
   {
    "duration": 74,
    "start_time": "2022-04-08T18:44:58.420Z"
   },
   {
    "duration": 17,
    "start_time": "2022-04-08T18:44:58.727Z"
   },
   {
    "duration": 27,
    "start_time": "2022-04-08T18:44:58.985Z"
   },
   {
    "duration": 2838,
    "start_time": "2022-04-08T18:44:59.645Z"
   },
   {
    "duration": 2808,
    "start_time": "2022-04-08T18:45:22.054Z"
   },
   {
    "duration": 27,
    "start_time": "2022-04-08T18:45:39.740Z"
   },
   {
    "duration": 30,
    "start_time": "2022-04-08T18:45:41.802Z"
   },
   {
    "duration": 3039,
    "start_time": "2022-04-08T18:45:44.443Z"
   },
   {
    "duration": 74,
    "start_time": "2022-04-08T18:46:06.147Z"
   },
   {
    "duration": 18,
    "start_time": "2022-04-08T18:46:07.820Z"
   },
   {
    "duration": 27,
    "start_time": "2022-04-08T18:46:11.806Z"
   },
   {
    "duration": 2667,
    "start_time": "2022-04-08T18:46:16.111Z"
   },
   {
    "duration": 85,
    "start_time": "2022-04-08T18:50:07.554Z"
   },
   {
    "duration": 18,
    "start_time": "2022-04-08T18:50:08.374Z"
   },
   {
    "duration": 29,
    "start_time": "2022-04-08T18:50:09.552Z"
   },
   {
    "duration": 3306,
    "start_time": "2022-04-08T18:50:11.032Z"
   },
   {
    "duration": 2706,
    "start_time": "2022-04-08T18:50:34.050Z"
   },
   {
    "duration": 2621,
    "start_time": "2022-04-08T18:50:51.098Z"
   },
   {
    "duration": 31,
    "start_time": "2022-04-08T18:51:03.283Z"
   },
   {
    "duration": 2947,
    "start_time": "2022-04-08T18:51:13.867Z"
   },
   {
    "duration": 18,
    "start_time": "2022-04-08T18:51:26.106Z"
   },
   {
    "duration": 49,
    "start_time": "2022-04-08T18:51:33.337Z"
   },
   {
    "duration": 27,
    "start_time": "2022-04-08T18:51:58.678Z"
   },
   {
    "duration": 30,
    "start_time": "2022-04-08T18:52:13.154Z"
   },
   {
    "duration": 38,
    "start_time": "2022-04-08T18:52:15.517Z"
   },
   {
    "duration": 67,
    "start_time": "2022-04-08T18:52:17.863Z"
   },
   {
    "duration": 17,
    "start_time": "2022-04-08T18:52:18.261Z"
   },
   {
    "duration": 29,
    "start_time": "2022-04-08T18:52:18.518Z"
   },
   {
    "duration": 46,
    "start_time": "2022-04-08T18:52:19.084Z"
   },
   {
    "duration": 38,
    "start_time": "2022-04-08T18:52:34.204Z"
   },
   {
    "duration": 29,
    "start_time": "2022-04-08T18:52:41.841Z"
   },
   {
    "duration": 31,
    "start_time": "2022-04-08T18:52:44.997Z"
   },
   {
    "duration": 30,
    "start_time": "2022-04-08T18:52:49.793Z"
   },
   {
    "duration": 68,
    "start_time": "2022-04-08T18:52:51.760Z"
   },
   {
    "duration": 20,
    "start_time": "2022-04-08T18:52:52.025Z"
   },
   {
    "duration": 28,
    "start_time": "2022-04-08T18:52:52.254Z"
   },
   {
    "duration": 38,
    "start_time": "2022-04-08T18:52:52.794Z"
   },
   {
    "duration": 47,
    "start_time": "2022-04-08T18:53:44.739Z"
   },
   {
    "duration": 47,
    "start_time": "2022-04-08T18:53:58.590Z"
   },
   {
    "duration": 46,
    "start_time": "2022-04-08T18:54:17.203Z"
   },
   {
    "duration": 9,
    "start_time": "2022-04-08T18:57:00.985Z"
   },
   {
    "duration": 14,
    "start_time": "2022-04-08T18:57:15.103Z"
   },
   {
    "duration": 66,
    "start_time": "2022-04-08T18:57:18.164Z"
   },
   {
    "duration": 18,
    "start_time": "2022-04-08T18:57:18.406Z"
   },
   {
    "duration": 27,
    "start_time": "2022-04-08T18:57:18.671Z"
   },
   {
    "duration": 28,
    "start_time": "2022-04-08T18:57:22.240Z"
   },
   {
    "duration": 68,
    "start_time": "2022-04-08T18:59:03.648Z"
   },
   {
    "duration": 17,
    "start_time": "2022-04-08T18:59:03.977Z"
   },
   {
    "duration": 27,
    "start_time": "2022-04-08T18:59:04.582Z"
   },
   {
    "duration": 19,
    "start_time": "2022-04-08T18:59:05.813Z"
   },
   {
    "duration": 18,
    "start_time": "2022-04-08T18:59:07.408Z"
   },
   {
    "duration": 19,
    "start_time": "2022-04-08T18:59:09.255Z"
   },
   {
    "duration": 27,
    "start_time": "2022-04-08T18:59:42.367Z"
   },
   {
    "duration": 6,
    "start_time": "2022-04-08T18:59:52.262Z"
   },
   {
    "duration": 6,
    "start_time": "2022-04-08T18:59:54.797Z"
   },
   {
    "duration": 28,
    "start_time": "2022-04-08T19:12:39.237Z"
   },
   {
    "duration": 11,
    "start_time": "2022-04-08T19:14:48.311Z"
   },
   {
    "duration": 22,
    "start_time": "2022-04-08T19:15:15.600Z"
   },
   {
    "duration": 12,
    "start_time": "2022-04-08T19:15:37.893Z"
   },
   {
    "duration": 12,
    "start_time": "2022-04-08T19:16:45.891Z"
   },
   {
    "duration": 11,
    "start_time": "2022-04-08T19:16:47.507Z"
   },
   {
    "duration": 12,
    "start_time": "2022-04-08T19:17:21.921Z"
   },
   {
    "duration": 11,
    "start_time": "2022-04-08T19:17:29.102Z"
   },
   {
    "duration": 2745,
    "start_time": "2022-04-08T19:17:58.412Z"
   },
   {
    "duration": 2791,
    "start_time": "2022-04-08T19:19:20.465Z"
   },
   {
    "duration": 2858,
    "start_time": "2022-04-08T19:19:41.711Z"
   },
   {
    "duration": 21,
    "start_time": "2022-04-08T19:25:31.453Z"
   },
   {
    "duration": 30,
    "start_time": "2022-04-08T19:25:37.223Z"
   },
   {
    "duration": 47,
    "start_time": "2022-04-08T19:27:54.805Z"
   },
   {
    "duration": 50,
    "start_time": "2022-04-08T19:34:24.312Z"
   },
   {
    "duration": 50,
    "start_time": "2022-04-08T19:34:38.611Z"
   },
   {
    "duration": 82,
    "start_time": "2022-04-08T19:34:47.096Z"
   },
   {
    "duration": 18,
    "start_time": "2022-04-08T19:34:47.997Z"
   },
   {
    "duration": 27,
    "start_time": "2022-04-08T19:34:49.119Z"
   },
   {
    "duration": 52,
    "start_time": "2022-04-08T19:34:50.879Z"
   },
   {
    "duration": 53,
    "start_time": "2022-04-08T19:35:50.452Z"
   },
   {
    "duration": 51,
    "start_time": "2022-04-08T19:43:55.276Z"
   },
   {
    "duration": 75,
    "start_time": "2022-04-08T19:44:05.878Z"
   },
   {
    "duration": 54,
    "start_time": "2022-04-08T19:46:20.362Z"
   },
   {
    "duration": 56,
    "start_time": "2022-04-08T19:47:30.368Z"
   },
   {
    "duration": 55,
    "start_time": "2022-04-08T19:48:17.039Z"
   },
   {
    "duration": 15,
    "start_time": "2022-04-08T20:14:40.012Z"
   },
   {
    "duration": 45,
    "start_time": "2022-04-08T20:17:18.678Z"
   },
   {
    "duration": 35,
    "start_time": "2022-04-08T20:17:25.525Z"
   },
   {
    "duration": 33,
    "start_time": "2022-04-08T20:18:11.959Z"
   },
   {
    "duration": 31,
    "start_time": "2022-04-08T20:18:31.898Z"
   },
   {
    "duration": 68,
    "start_time": "2022-04-08T20:18:35.294Z"
   },
   {
    "duration": 18,
    "start_time": "2022-04-08T20:18:35.577Z"
   },
   {
    "duration": 29,
    "start_time": "2022-04-08T20:18:35.832Z"
   },
   {
    "duration": 54,
    "start_time": "2022-04-08T20:18:36.481Z"
   },
   {
    "duration": 30,
    "start_time": "2022-04-08T20:18:40.292Z"
   },
   {
    "duration": 31,
    "start_time": "2022-04-08T20:19:05.014Z"
   },
   {
    "duration": 72,
    "start_time": "2022-04-08T20:19:27.407Z"
   },
   {
    "duration": 17,
    "start_time": "2022-04-08T20:19:27.672Z"
   },
   {
    "duration": 28,
    "start_time": "2022-04-08T20:19:27.928Z"
   },
   {
    "duration": 54,
    "start_time": "2022-04-08T20:19:28.506Z"
   },
   {
    "duration": 31,
    "start_time": "2022-04-08T20:19:30.360Z"
   },
   {
    "duration": 40,
    "start_time": "2022-04-08T20:19:50.478Z"
   },
   {
    "duration": 31,
    "start_time": "2022-04-08T20:21:28.758Z"
   },
   {
    "duration": 31,
    "start_time": "2022-04-08T20:27:00.120Z"
   },
   {
    "duration": 30,
    "start_time": "2022-04-08T20:27:15.265Z"
   },
   {
    "duration": 69,
    "start_time": "2022-04-08T20:27:20.712Z"
   },
   {
    "duration": 18,
    "start_time": "2022-04-08T20:27:20.966Z"
   },
   {
    "duration": 27,
    "start_time": "2022-04-08T20:27:21.375Z"
   },
   {
    "duration": 52,
    "start_time": "2022-04-08T20:27:22.752Z"
   },
   {
    "duration": 30,
    "start_time": "2022-04-08T20:27:28.173Z"
   },
   {
    "duration": 11,
    "start_time": "2022-04-08T20:28:13.636Z"
   },
   {
    "duration": 11,
    "start_time": "2022-04-08T20:28:33.938Z"
   },
   {
    "duration": 169,
    "start_time": "2022-04-08T20:28:56.102Z"
   },
   {
    "duration": 11,
    "start_time": "2022-04-08T20:29:12.814Z"
   },
   {
    "duration": 30,
    "start_time": "2022-04-08T20:29:15.910Z"
   },
   {
    "duration": 83,
    "start_time": "2022-04-08T20:29:21.477Z"
   },
   {
    "duration": 17,
    "start_time": "2022-04-08T20:29:21.736Z"
   },
   {
    "duration": 29,
    "start_time": "2022-04-08T20:29:22.013Z"
   },
   {
    "duration": 60,
    "start_time": "2022-04-08T20:29:22.282Z"
   },
   {
    "duration": 30,
    "start_time": "2022-04-08T20:29:23.537Z"
   },
   {
    "duration": 10,
    "start_time": "2022-04-08T20:30:45.433Z"
   },
   {
    "duration": 72,
    "start_time": "2022-04-08T20:30:56.594Z"
   },
   {
    "duration": 19,
    "start_time": "2022-04-08T20:30:57.054Z"
   },
   {
    "duration": 30,
    "start_time": "2022-04-08T20:30:57.321Z"
   },
   {
    "duration": 53,
    "start_time": "2022-04-08T20:30:57.927Z"
   },
   {
    "duration": 11,
    "start_time": "2022-04-08T20:30:59.016Z"
   },
   {
    "duration": 11,
    "start_time": "2022-04-08T20:31:18.738Z"
   },
   {
    "duration": 71,
    "start_time": "2022-04-08T20:31:22.564Z"
   },
   {
    "duration": 17,
    "start_time": "2022-04-08T20:31:22.863Z"
   },
   {
    "duration": 27,
    "start_time": "2022-04-08T20:31:23.186Z"
   },
   {
    "duration": 54,
    "start_time": "2022-04-08T20:31:23.455Z"
   },
   {
    "duration": 11,
    "start_time": "2022-04-08T20:31:23.986Z"
   },
   {
    "duration": 527,
    "start_time": "2022-04-09T11:54:19.751Z"
   },
   {
    "duration": 22,
    "start_time": "2022-04-09T11:54:20.801Z"
   },
   {
    "duration": 24,
    "start_time": "2022-04-09T11:54:22.014Z"
   },
   {
    "duration": 46,
    "start_time": "2022-04-09T11:54:23.055Z"
   },
   {
    "duration": 12,
    "start_time": "2022-04-09T11:54:23.805Z"
   },
   {
    "duration": 13,
    "start_time": "2022-04-09T11:55:22.234Z"
   },
   {
    "duration": 13,
    "start_time": "2022-04-09T11:59:22.152Z"
   },
   {
    "duration": 5,
    "start_time": "2022-04-09T11:59:31.097Z"
   },
   {
    "duration": 19,
    "start_time": "2022-04-09T12:01:00.305Z"
   },
   {
    "duration": 15,
    "start_time": "2022-04-09T12:02:48.139Z"
   },
   {
    "duration": 67,
    "start_time": "2022-04-09T12:03:59.346Z"
   },
   {
    "duration": 7,
    "start_time": "2022-04-09T12:04:07.960Z"
   },
   {
    "duration": 7,
    "start_time": "2022-04-09T12:04:49.418Z"
   },
   {
    "duration": 23,
    "start_time": "2022-04-09T12:05:13.236Z"
   },
   {
    "duration": 21,
    "start_time": "2022-04-09T12:08:02.460Z"
   },
   {
    "duration": 18,
    "start_time": "2022-04-09T12:08:22.509Z"
   },
   {
    "duration": 18,
    "start_time": "2022-04-09T12:08:28.017Z"
   },
   {
    "duration": 19,
    "start_time": "2022-04-09T12:08:38.825Z"
   },
   {
    "duration": 10,
    "start_time": "2022-04-09T12:12:19.629Z"
   },
   {
    "duration": 9,
    "start_time": "2022-04-09T12:13:36.976Z"
   },
   {
    "duration": 61,
    "start_time": "2022-04-09T12:13:41.349Z"
   },
   {
    "duration": 17,
    "start_time": "2022-04-09T12:13:41.617Z"
   },
   {
    "duration": 23,
    "start_time": "2022-04-09T12:13:41.848Z"
   },
   {
    "duration": 43,
    "start_time": "2022-04-09T12:13:42.090Z"
   },
   {
    "duration": 10,
    "start_time": "2022-04-09T12:13:42.471Z"
   },
   {
    "duration": 17,
    "start_time": "2022-04-09T12:13:43.138Z"
   },
   {
    "duration": 24,
    "start_time": "2022-04-09T12:13:44.572Z"
   },
   {
    "duration": 10,
    "start_time": "2022-04-09T12:13:46.576Z"
   },
   {
    "duration": 38,
    "start_time": "2022-04-09T12:14:16.550Z"
   },
   {
    "duration": 36,
    "start_time": "2022-04-09T12:15:05.245Z"
   },
   {
    "duration": 9,
    "start_time": "2022-04-09T12:15:50.336Z"
   },
   {
    "duration": 24,
    "start_time": "2022-04-09T12:16:13.769Z"
   },
   {
    "duration": 43,
    "start_time": "2022-04-09T12:20:57.357Z"
   },
   {
    "duration": 44,
    "start_time": "2022-04-09T12:21:47.686Z"
   },
   {
    "duration": 73,
    "start_time": "2022-04-09T12:23:16.361Z"
   },
   {
    "duration": 82,
    "start_time": "2022-04-09T12:23:33.356Z"
   },
   {
    "duration": 92,
    "start_time": "2022-04-09T12:25:01.343Z"
   },
   {
    "duration": 19,
    "start_time": "2022-04-09T12:25:08.460Z"
   },
   {
    "duration": 86,
    "start_time": "2022-04-09T12:25:10.409Z"
   },
   {
    "duration": 63,
    "start_time": "2022-04-09T12:25:13.666Z"
   },
   {
    "duration": 15,
    "start_time": "2022-04-09T12:25:14.144Z"
   },
   {
    "duration": 21,
    "start_time": "2022-04-09T12:25:14.521Z"
   },
   {
    "duration": 39,
    "start_time": "2022-04-09T12:25:14.935Z"
   },
   {
    "duration": 9,
    "start_time": "2022-04-09T12:25:15.982Z"
   },
   {
    "duration": 14,
    "start_time": "2022-04-09T12:25:16.959Z"
   },
   {
    "duration": 19,
    "start_time": "2022-04-09T12:25:18.200Z"
   },
   {
    "duration": 81,
    "start_time": "2022-04-09T12:25:19.334Z"
   },
   {
    "duration": 10,
    "start_time": "2022-04-09T12:27:26.518Z"
   },
   {
    "duration": 22,
    "start_time": "2022-04-09T12:27:57.124Z"
   },
   {
    "duration": 64,
    "start_time": "2022-04-09T12:28:05.670Z"
   },
   {
    "duration": 14,
    "start_time": "2022-04-09T12:28:06.001Z"
   },
   {
    "duration": 20,
    "start_time": "2022-04-09T12:28:06.416Z"
   },
   {
    "duration": 49,
    "start_time": "2022-04-09T12:28:07.132Z"
   },
   {
    "duration": 8,
    "start_time": "2022-04-09T12:28:08.294Z"
   },
   {
    "duration": 15,
    "start_time": "2022-04-09T12:28:09.573Z"
   },
   {
    "duration": 22,
    "start_time": "2022-04-09T12:28:10.753Z"
   },
   {
    "duration": 26,
    "start_time": "2022-04-09T12:28:55.758Z"
   },
   {
    "duration": 16,
    "start_time": "2022-04-09T12:48:05.971Z"
   },
   {
    "duration": 13,
    "start_time": "2022-04-09T12:50:21.386Z"
   },
   {
    "duration": 58,
    "start_time": "2022-04-09T12:50:26.810Z"
   },
   {
    "duration": 14,
    "start_time": "2022-04-09T12:50:27.116Z"
   },
   {
    "duration": 20,
    "start_time": "2022-04-09T12:50:27.430Z"
   },
   {
    "duration": 42,
    "start_time": "2022-04-09T12:50:27.826Z"
   },
   {
    "duration": 10,
    "start_time": "2022-04-09T12:50:28.121Z"
   },
   {
    "duration": 14,
    "start_time": "2022-04-09T12:50:28.490Z"
   },
   {
    "duration": 25,
    "start_time": "2022-04-09T12:50:28.939Z"
   },
   {
    "duration": 77,
    "start_time": "2022-04-09T12:50:29.532Z"
   },
   {
    "duration": 13,
    "start_time": "2022-04-09T12:50:31.915Z"
   },
   {
    "duration": 23,
    "start_time": "2022-04-09T12:51:54.940Z"
   },
   {
    "duration": 24,
    "start_time": "2022-04-09T12:56:40.543Z"
   },
   {
    "duration": 28,
    "start_time": "2022-04-09T12:56:45.704Z"
   },
   {
    "duration": 12,
    "start_time": "2022-04-09T12:56:59.642Z"
   },
   {
    "duration": 12,
    "start_time": "2022-04-09T12:57:02.545Z"
   },
   {
    "duration": 1841,
    "start_time": "2022-04-09T12:57:16.348Z"
   },
   {
    "duration": 59,
    "start_time": "2022-04-09T12:57:19.123Z"
   },
   {
    "duration": 15,
    "start_time": "2022-04-09T12:57:19.500Z"
   },
   {
    "duration": 26,
    "start_time": "2022-04-09T12:57:19.768Z"
   },
   {
    "duration": 46,
    "start_time": "2022-04-09T12:57:20.028Z"
   },
   {
    "duration": 10,
    "start_time": "2022-04-09T12:57:20.307Z"
   },
   {
    "duration": 15,
    "start_time": "2022-04-09T12:57:20.714Z"
   },
   {
    "duration": 31,
    "start_time": "2022-04-09T12:57:21.004Z"
   },
   {
    "duration": 84,
    "start_time": "2022-04-09T12:57:22.122Z"
   },
   {
    "duration": 28,
    "start_time": "2022-04-09T12:57:28.175Z"
   },
   {
    "duration": 14,
    "start_time": "2022-04-09T12:57:42.551Z"
   },
   {
    "duration": 13,
    "start_time": "2022-04-09T12:57:47.114Z"
   },
   {
    "duration": 54,
    "start_time": "2022-04-09T12:58:11.773Z"
   },
   {
    "duration": 463,
    "start_time": "2022-04-09T12:58:21.893Z"
   },
   {
    "duration": 20,
    "start_time": "2022-04-09T12:58:22.358Z"
   },
   {
    "duration": 22,
    "start_time": "2022-04-09T12:58:22.380Z"
   },
   {
    "duration": 62,
    "start_time": "2022-04-09T12:58:22.404Z"
   },
   {
    "duration": 9,
    "start_time": "2022-04-09T12:58:22.469Z"
   },
   {
    "duration": 15,
    "start_time": "2022-04-09T12:58:22.479Z"
   },
   {
    "duration": 54,
    "start_time": "2022-04-09T12:58:22.495Z"
   },
   {
    "duration": 101,
    "start_time": "2022-04-09T12:58:22.551Z"
   },
   {
    "duration": 21,
    "start_time": "2022-04-09T12:58:22.653Z"
   },
   {
    "duration": 17,
    "start_time": "2022-04-09T14:52:09.474Z"
   },
   {
    "duration": 17,
    "start_time": "2022-04-09T14:52:20.343Z"
   },
   {
    "duration": 19,
    "start_time": "2022-04-09T14:52:29.709Z"
   },
   {
    "duration": 500,
    "start_time": "2022-04-09T14:53:17.032Z"
   },
   {
    "duration": 20,
    "start_time": "2022-04-09T14:53:17.534Z"
   },
   {
    "duration": 22,
    "start_time": "2022-04-09T14:53:17.556Z"
   },
   {
    "duration": 64,
    "start_time": "2022-04-09T14:53:17.581Z"
   },
   {
    "duration": 10,
    "start_time": "2022-04-09T14:53:17.647Z"
   },
   {
    "duration": 32,
    "start_time": "2022-04-09T14:53:17.658Z"
   },
   {
    "duration": 30,
    "start_time": "2022-04-09T14:53:17.691Z"
   },
   {
    "duration": 96,
    "start_time": "2022-04-09T14:53:17.723Z"
   },
   {
    "duration": 34,
    "start_time": "2022-04-09T14:53:17.821Z"
   },
   {
    "duration": 20,
    "start_time": "2022-04-09T14:53:17.857Z"
   },
   {
    "duration": 19,
    "start_time": "2022-04-09T14:53:21.561Z"
   },
   {
    "duration": 21,
    "start_time": "2022-04-09T14:54:40.969Z"
   },
   {
    "duration": 20,
    "start_time": "2022-04-09T14:54:52.727Z"
   },
   {
    "duration": 19,
    "start_time": "2022-04-09T14:55:08.518Z"
   },
   {
    "duration": 21,
    "start_time": "2022-04-09T14:55:32.818Z"
   },
   {
    "duration": 23,
    "start_time": "2022-04-09T14:55:39.160Z"
   },
   {
    "duration": 11,
    "start_time": "2022-04-09T14:56:56.302Z"
   },
   {
    "duration": 1767,
    "start_time": "2022-04-09T14:58:26.906Z"
   },
   {
    "duration": 1742,
    "start_time": "2022-04-09T14:58:31.739Z"
   },
   {
    "duration": 1704,
    "start_time": "2022-04-09T14:58:46.946Z"
   },
   {
    "duration": 2131,
    "start_time": "2022-04-09T14:58:52.773Z"
   },
   {
    "duration": 8,
    "start_time": "2022-04-09T14:59:01.459Z"
   },
   {
    "duration": 1070,
    "start_time": "2022-04-09T15:07:40.754Z"
   },
   {
    "duration": 853,
    "start_time": "2022-04-09T15:07:48.845Z"
   },
   {
    "duration": 870,
    "start_time": "2022-04-09T15:07:54.000Z"
   },
   {
    "duration": 8,
    "start_time": "2022-04-09T15:08:06.447Z"
   },
   {
    "duration": 9,
    "start_time": "2022-04-09T15:08:10.845Z"
   },
   {
    "duration": 9,
    "start_time": "2022-04-09T15:12:25.299Z"
   },
   {
    "duration": 19,
    "start_time": "2022-04-09T15:14:57.117Z"
   },
   {
    "duration": 28,
    "start_time": "2022-04-09T15:15:10.016Z"
   },
   {
    "duration": 103,
    "start_time": "2022-04-09T15:17:49.610Z"
   },
   {
    "duration": 27,
    "start_time": "2022-04-09T15:17:58.333Z"
   },
   {
    "duration": 118,
    "start_time": "2022-04-09T15:18:26.825Z"
   },
   {
    "duration": 28,
    "start_time": "2022-04-09T15:18:30.518Z"
   },
   {
    "duration": 31,
    "start_time": "2022-04-09T15:19:05.666Z"
   },
   {
    "duration": 30,
    "start_time": "2022-04-09T15:22:15.124Z"
   },
   {
    "duration": 16,
    "start_time": "2022-04-09T15:23:41.328Z"
   },
   {
    "duration": 15,
    "start_time": "2022-04-09T15:23:58.268Z"
   },
   {
    "duration": 16,
    "start_time": "2022-04-09T15:24:11.446Z"
   },
   {
    "duration": 14,
    "start_time": "2022-04-09T15:25:15.164Z"
   },
   {
    "duration": 11,
    "start_time": "2022-04-09T15:25:30.087Z"
   },
   {
    "duration": 19,
    "start_time": "2022-04-09T15:27:09.411Z"
   },
   {
    "duration": 14,
    "start_time": "2022-04-09T15:29:48.499Z"
   },
   {
    "duration": 16,
    "start_time": "2022-04-09T15:44:22.452Z"
   },
   {
    "duration": 14,
    "start_time": "2022-04-09T15:45:08.585Z"
   },
   {
    "duration": 13,
    "start_time": "2022-04-09T15:45:28.551Z"
   },
   {
    "duration": 221,
    "start_time": "2022-04-09T15:45:41.013Z"
   },
   {
    "duration": 16,
    "start_time": "2022-04-09T15:46:07.861Z"
   },
   {
    "duration": 17,
    "start_time": "2022-04-09T15:46:11.555Z"
   },
   {
    "duration": 212,
    "start_time": "2022-04-09T15:46:28.275Z"
   },
   {
    "duration": 6,
    "start_time": "2022-04-09T15:47:17.827Z"
   },
   {
    "duration": 11,
    "start_time": "2022-04-09T15:48:00.552Z"
   },
   {
    "duration": 11,
    "start_time": "2022-04-09T15:49:21.341Z"
   },
   {
    "duration": 9,
    "start_time": "2022-04-09T15:59:14.936Z"
   },
   {
    "duration": 7,
    "start_time": "2022-04-09T15:59:22.671Z"
   },
   {
    "duration": 10,
    "start_time": "2022-04-09T16:00:18.397Z"
   },
   {
    "duration": 17,
    "start_time": "2022-04-09T16:00:19.152Z"
   },
   {
    "duration": 1739,
    "start_time": "2022-04-09T16:00:20.158Z"
   },
   {
    "duration": 456,
    "start_time": "2022-04-09T16:00:29.090Z"
   },
   {
    "duration": 21,
    "start_time": "2022-04-09T16:00:29.549Z"
   },
   {
    "duration": 23,
    "start_time": "2022-04-09T16:00:29.572Z"
   },
   {
    "duration": 68,
    "start_time": "2022-04-09T16:00:29.597Z"
   },
   {
    "duration": 9,
    "start_time": "2022-04-09T16:00:29.667Z"
   },
   {
    "duration": 19,
    "start_time": "2022-04-09T16:00:29.678Z"
   },
   {
    "duration": 50,
    "start_time": "2022-04-09T16:00:29.699Z"
   },
   {
    "duration": 106,
    "start_time": "2022-04-09T16:00:29.751Z"
   },
   {
    "duration": 22,
    "start_time": "2022-04-09T16:00:29.859Z"
   },
   {
    "duration": 11,
    "start_time": "2022-04-09T16:00:29.884Z"
   },
   {
    "duration": 18,
    "start_time": "2022-04-09T16:00:29.897Z"
   },
   {
    "duration": 242,
    "start_time": "2022-04-09T16:00:29.918Z"
   },
   {
    "duration": 79,
    "start_time": "2022-04-09T16:08:05.436Z"
   },
   {
    "duration": 220,
    "start_time": "2022-04-09T16:08:09.870Z"
   },
   {
    "duration": 9,
    "start_time": "2022-04-09T16:08:36.039Z"
   },
   {
    "duration": 16,
    "start_time": "2022-04-09T16:08:41.588Z"
   },
   {
    "duration": 11,
    "start_time": "2022-04-09T16:08:50.960Z"
   },
   {
    "duration": 219,
    "start_time": "2022-04-09T16:09:05.300Z"
   },
   {
    "duration": 15,
    "start_time": "2022-04-09T16:15:37.018Z"
   },
   {
    "duration": 14,
    "start_time": "2022-04-09T16:15:47.811Z"
   },
   {
    "duration": 16,
    "start_time": "2022-04-09T16:16:21.282Z"
   },
   {
    "duration": 18,
    "start_time": "2022-04-09T16:16:34.390Z"
   },
   {
    "duration": 19,
    "start_time": "2022-04-09T16:19:58.495Z"
   },
   {
    "duration": 26,
    "start_time": "2022-04-09T16:21:25.338Z"
   },
   {
    "duration": 18,
    "start_time": "2022-04-09T16:21:33.658Z"
   },
   {
    "duration": 2095,
    "start_time": "2022-04-09T16:31:47.841Z"
   },
   {
    "duration": 1887,
    "start_time": "2022-04-09T16:32:00.550Z"
   },
   {
    "duration": 1860,
    "start_time": "2022-04-09T16:32:40.674Z"
   },
   {
    "duration": 9,
    "start_time": "2022-04-09T16:32:58.860Z"
   },
   {
    "duration": 11,
    "start_time": "2022-04-09T16:33:44.147Z"
   },
   {
    "duration": 8,
    "start_time": "2022-04-09T16:33:57.977Z"
   },
   {
    "duration": 9,
    "start_time": "2022-04-09T17:30:36.934Z"
   },
   {
    "duration": 10,
    "start_time": "2022-04-09T17:31:05.074Z"
   },
   {
    "duration": 9,
    "start_time": "2022-04-09T17:31:10.919Z"
   },
   {
    "duration": 9,
    "start_time": "2022-04-09T17:31:28.620Z"
   },
   {
    "duration": 1480,
    "start_time": "2022-04-09T17:36:39.458Z"
   },
   {
    "duration": 18,
    "start_time": "2022-04-09T17:37:41.422Z"
   },
   {
    "duration": 22,
    "start_time": "2022-04-09T17:39:16.365Z"
   },
   {
    "duration": 20,
    "start_time": "2022-04-09T17:39:55.750Z"
   },
   {
    "duration": 21,
    "start_time": "2022-04-09T17:40:03.809Z"
   },
   {
    "duration": 20,
    "start_time": "2022-04-09T17:40:12.378Z"
   },
   {
    "duration": 19,
    "start_time": "2022-04-09T17:40:26.361Z"
   },
   {
    "duration": 30,
    "start_time": "2022-04-09T17:40:50.648Z"
   },
   {
    "duration": 21,
    "start_time": "2022-04-09T17:41:00.904Z"
   },
   {
    "duration": 21,
    "start_time": "2022-04-09T17:41:08.026Z"
   },
   {
    "duration": 23,
    "start_time": "2022-04-09T17:50:27.972Z"
   },
   {
    "duration": 20,
    "start_time": "2022-04-09T17:51:10.395Z"
   },
   {
    "duration": 20,
    "start_time": "2022-04-09T17:51:23.747Z"
   },
   {
    "duration": 21,
    "start_time": "2022-04-09T17:51:27.385Z"
   },
   {
    "duration": 21,
    "start_time": "2022-04-09T17:51:29.567Z"
   },
   {
    "duration": 23,
    "start_time": "2022-04-09T17:51:32.663Z"
   },
   {
    "duration": 22,
    "start_time": "2022-04-09T17:51:55.063Z"
   },
   {
    "duration": 24,
    "start_time": "2022-04-09T17:52:05.766Z"
   },
   {
    "duration": 21,
    "start_time": "2022-04-09T17:52:45.485Z"
   },
   {
    "duration": 18,
    "start_time": "2022-04-09T17:53:02.540Z"
   },
   {
    "duration": 18,
    "start_time": "2022-04-09T17:54:11.663Z"
   },
   {
    "duration": 20,
    "start_time": "2022-04-09T17:55:05.974Z"
   },
   {
    "duration": 20,
    "start_time": "2022-04-09T17:57:22.915Z"
   },
   {
    "duration": 8,
    "start_time": "2022-04-09T18:08:22.003Z"
   },
   {
    "duration": 16,
    "start_time": "2022-04-09T18:08:29.599Z"
   },
   {
    "duration": 18,
    "start_time": "2022-04-09T18:10:10.295Z"
   },
   {
    "duration": 1717,
    "start_time": "2022-04-09T18:10:34.441Z"
   },
   {
    "duration": 1687,
    "start_time": "2022-04-09T18:10:39.955Z"
   },
   {
    "duration": 19,
    "start_time": "2022-04-09T18:10:44.818Z"
   },
   {
    "duration": 20,
    "start_time": "2022-04-09T18:10:46.892Z"
   },
   {
    "duration": 17,
    "start_time": "2022-04-09T18:10:53.827Z"
   },
   {
    "duration": 22,
    "start_time": "2022-04-09T18:13:55.966Z"
   },
   {
    "duration": 2001,
    "start_time": "2022-04-09T18:14:53.241Z"
   },
   {
    "duration": 99,
    "start_time": "2022-04-09T18:14:59.661Z"
   },
   {
    "duration": 24,
    "start_time": "2022-04-09T18:15:01.855Z"
   },
   {
    "duration": 23,
    "start_time": "2022-04-09T18:15:07.652Z"
   },
   {
    "duration": 1641,
    "start_time": "2022-04-09T18:15:14.588Z"
   },
   {
    "duration": 24,
    "start_time": "2022-04-09T18:15:37.751Z"
   },
   {
    "duration": 24,
    "start_time": "2022-04-09T18:15:39.645Z"
   },
   {
    "duration": 25,
    "start_time": "2022-04-09T18:15:54.270Z"
   },
   {
    "duration": 24,
    "start_time": "2022-04-09T18:15:56.092Z"
   },
   {
    "duration": 457,
    "start_time": "2022-04-09T18:16:07.688Z"
   },
   {
    "duration": 21,
    "start_time": "2022-04-09T18:16:08.147Z"
   },
   {
    "duration": 22,
    "start_time": "2022-04-09T18:16:08.170Z"
   },
   {
    "duration": 70,
    "start_time": "2022-04-09T18:16:08.194Z"
   },
   {
    "duration": 10,
    "start_time": "2022-04-09T18:16:08.266Z"
   },
   {
    "duration": 14,
    "start_time": "2022-04-09T18:16:08.278Z"
   },
   {
    "duration": 54,
    "start_time": "2022-04-09T18:16:08.294Z"
   },
   {
    "duration": 103,
    "start_time": "2022-04-09T18:16:08.349Z"
   },
   {
    "duration": 21,
    "start_time": "2022-04-09T18:16:08.453Z"
   },
   {
    "duration": 11,
    "start_time": "2022-04-09T18:16:08.476Z"
   },
   {
    "duration": 28,
    "start_time": "2022-04-09T18:16:08.489Z"
   },
   {
    "duration": 29,
    "start_time": "2022-04-09T18:16:08.519Z"
   },
   {
    "duration": 93,
    "start_time": "2022-04-09T18:16:08.550Z"
   },
   {
    "duration": 0,
    "start_time": "2022-04-09T18:16:08.644Z"
   },
   {
    "duration": 19,
    "start_time": "2022-04-09T18:16:32.542Z"
   },
   {
    "duration": 21,
    "start_time": "2022-04-09T18:16:46.196Z"
   },
   {
    "duration": 20,
    "start_time": "2022-04-09T18:16:54.942Z"
   },
   {
    "duration": 1924,
    "start_time": "2022-04-09T18:17:29.464Z"
   },
   {
    "duration": 24,
    "start_time": "2022-04-09T18:17:37.640Z"
   },
   {
    "duration": 25,
    "start_time": "2022-04-09T18:18:49.927Z"
   },
   {
    "duration": 18,
    "start_time": "2022-04-09T18:21:40.347Z"
   },
   {
    "duration": 24,
    "start_time": "2022-04-09T18:21:49.851Z"
   },
   {
    "duration": 37,
    "start_time": "2022-04-09T18:26:10.159Z"
   },
   {
    "duration": 35,
    "start_time": "2022-04-09T18:26:19.175Z"
   },
   {
    "duration": 31,
    "start_time": "2022-04-09T18:26:48.798Z"
   },
   {
    "duration": 33,
    "start_time": "2022-04-09T18:28:26.178Z"
   },
   {
    "duration": 30,
    "start_time": "2022-04-09T18:29:55.100Z"
   },
   {
    "duration": 21,
    "start_time": "2022-04-09T18:32:12.595Z"
   },
   {
    "duration": 12,
    "start_time": "2022-04-09T18:35:46.247Z"
   },
   {
    "duration": 16,
    "start_time": "2022-04-09T18:36:06.283Z"
   },
   {
    "duration": 20,
    "start_time": "2022-04-09T18:36:55.778Z"
   },
   {
    "duration": 9,
    "start_time": "2022-04-09T18:41:17.421Z"
   },
   {
    "duration": 2248,
    "start_time": "2022-04-09T18:42:03.845Z"
   },
   {
    "duration": 109,
    "start_time": "2022-04-09T18:42:17.171Z"
   },
   {
    "duration": 15,
    "start_time": "2022-04-09T18:42:23.951Z"
   },
   {
    "duration": 8,
    "start_time": "2022-04-09T18:43:43.936Z"
   },
   {
    "duration": 15,
    "start_time": "2022-04-09T18:44:47.990Z"
   },
   {
    "duration": 20,
    "start_time": "2022-04-09T18:44:52.637Z"
   },
   {
    "duration": 8,
    "start_time": "2022-04-09T18:45:16.567Z"
   },
   {
    "duration": 23,
    "start_time": "2022-04-09T18:46:00.209Z"
   },
   {
    "duration": 18,
    "start_time": "2022-04-09T18:46:08.612Z"
   },
   {
    "duration": 8,
    "start_time": "2022-04-09T18:46:27.284Z"
   },
   {
    "duration": 8,
    "start_time": "2022-04-09T18:46:42.513Z"
   },
   {
    "duration": 8,
    "start_time": "2022-04-09T18:47:51.047Z"
   },
   {
    "duration": 13,
    "start_time": "2022-04-09T19:04:38.749Z"
   },
   {
    "duration": 7,
    "start_time": "2022-04-09T19:04:56.650Z"
   },
   {
    "duration": 10,
    "start_time": "2022-04-09T19:11:09.719Z"
   },
   {
    "duration": 9,
    "start_time": "2022-04-09T19:11:19.091Z"
   },
   {
    "duration": 7,
    "start_time": "2022-04-09T19:11:25.954Z"
   },
   {
    "duration": 8,
    "start_time": "2022-04-09T19:11:34.282Z"
   },
   {
    "duration": 20,
    "start_time": "2022-04-09T19:11:47.063Z"
   },
   {
    "duration": 6,
    "start_time": "2022-04-09T19:12:04.536Z"
   },
   {
    "duration": 14,
    "start_time": "2022-04-09T19:12:08.254Z"
   },
   {
    "duration": 22,
    "start_time": "2022-04-09T19:12:55.092Z"
   },
   {
    "duration": 37,
    "start_time": "2022-04-09T19:13:11.533Z"
   },
   {
    "duration": 15,
    "start_time": "2022-04-09T19:13:33.747Z"
   },
   {
    "duration": 13,
    "start_time": "2022-04-09T19:13:48.689Z"
   },
   {
    "duration": 24,
    "start_time": "2022-04-09T19:14:02.013Z"
   },
   {
    "duration": 499,
    "start_time": "2022-04-09T19:20:19.297Z"
   },
   {
    "duration": 20,
    "start_time": "2022-04-09T19:20:19.798Z"
   },
   {
    "duration": 31,
    "start_time": "2022-04-09T19:20:19.820Z"
   },
   {
    "duration": 43,
    "start_time": "2022-04-09T19:20:19.854Z"
   },
   {
    "duration": 10,
    "start_time": "2022-04-09T19:20:19.899Z"
   },
   {
    "duration": 40,
    "start_time": "2022-04-09T19:20:19.911Z"
   },
   {
    "duration": 24,
    "start_time": "2022-04-09T19:20:19.953Z"
   },
   {
    "duration": 115,
    "start_time": "2022-04-09T19:20:19.978Z"
   },
   {
    "duration": 21,
    "start_time": "2022-04-09T19:20:20.095Z"
   },
   {
    "duration": 29,
    "start_time": "2022-04-09T19:20:20.119Z"
   },
   {
    "duration": 36,
    "start_time": "2022-04-09T19:20:20.150Z"
   },
   {
    "duration": 36,
    "start_time": "2022-04-09T19:20:20.188Z"
   },
   {
    "duration": 6,
    "start_time": "2022-04-09T19:20:20.226Z"
   },
   {
    "duration": 47,
    "start_time": "2022-04-09T19:20:20.234Z"
   },
   {
    "duration": 19,
    "start_time": "2022-04-09T19:20:20.283Z"
   },
   {
    "duration": 21,
    "start_time": "2022-04-09T19:20:20.304Z"
   },
   {
    "duration": 8,
    "start_time": "2022-04-09T19:21:11.677Z"
   },
   {
    "duration": 10,
    "start_time": "2022-04-09T19:28:05.934Z"
   },
   {
    "duration": 4,
    "start_time": "2022-04-09T19:28:15.268Z"
   },
   {
    "duration": 42,
    "start_time": "2022-04-09T19:51:36.068Z"
   },
   {
    "duration": 4,
    "start_time": "2022-04-09T19:52:14.384Z"
   },
   {
    "duration": 4,
    "start_time": "2022-04-09T19:53:13.294Z"
   },
   {
    "duration": 51,
    "start_time": "2022-04-10T06:19:55.453Z"
   },
   {
    "duration": 482,
    "start_time": "2022-04-10T06:20:34.318Z"
   },
   {
    "duration": 20,
    "start_time": "2022-04-10T06:20:34.802Z"
   },
   {
    "duration": 23,
    "start_time": "2022-04-10T06:20:34.823Z"
   },
   {
    "duration": 61,
    "start_time": "2022-04-10T06:20:34.848Z"
   },
   {
    "duration": 10,
    "start_time": "2022-04-10T06:20:34.911Z"
   },
   {
    "duration": 6,
    "start_time": "2022-04-10T06:20:34.923Z"
   },
   {
    "duration": 34,
    "start_time": "2022-04-10T06:20:34.931Z"
   },
   {
    "duration": 121,
    "start_time": "2022-04-10T06:20:34.967Z"
   },
   {
    "duration": 29,
    "start_time": "2022-04-10T06:20:35.090Z"
   },
   {
    "duration": 11,
    "start_time": "2022-04-10T06:20:35.121Z"
   },
   {
    "duration": 12,
    "start_time": "2022-04-10T06:20:35.134Z"
   },
   {
    "duration": 20,
    "start_time": "2022-04-10T06:20:35.148Z"
   },
   {
    "duration": 39,
    "start_time": "2022-04-10T06:20:35.170Z"
   },
   {
    "duration": 23,
    "start_time": "2022-04-10T06:20:35.212Z"
   },
   {
    "duration": 19,
    "start_time": "2022-04-10T06:20:35.237Z"
   },
   {
    "duration": 19,
    "start_time": "2022-04-10T06:20:35.257Z"
   },
   {
    "duration": 643,
    "start_time": "2022-04-19T14:16:53.767Z"
   },
   {
    "duration": 28,
    "start_time": "2022-04-19T14:16:54.412Z"
   },
   {
    "duration": 27,
    "start_time": "2022-04-19T14:16:54.442Z"
   },
   {
    "duration": 82,
    "start_time": "2022-04-19T14:16:54.471Z"
   },
   {
    "duration": 8,
    "start_time": "2022-04-19T14:16:54.556Z"
   },
   {
    "duration": 5,
    "start_time": "2022-04-19T14:16:54.566Z"
   },
   {
    "duration": 52,
    "start_time": "2022-04-19T14:16:54.574Z"
   },
   {
    "duration": 103,
    "start_time": "2022-04-19T14:16:54.627Z"
   },
   {
    "duration": 16,
    "start_time": "2022-04-19T14:16:54.732Z"
   },
   {
    "duration": 9,
    "start_time": "2022-04-19T14:16:54.750Z"
   },
   {
    "duration": 15,
    "start_time": "2022-04-19T14:16:54.761Z"
   },
   {
    "duration": 43,
    "start_time": "2022-04-19T14:16:54.777Z"
   },
   {
    "duration": 6,
    "start_time": "2022-04-19T14:16:54.822Z"
   },
   {
    "duration": 30,
    "start_time": "2022-04-19T14:16:54.831Z"
   },
   {
    "duration": 17,
    "start_time": "2022-04-19T14:16:54.862Z"
   },
   {
    "duration": 20,
    "start_time": "2022-04-19T14:16:54.904Z"
   },
   {
    "duration": 13,
    "start_time": "2022-04-19T14:26:53.654Z"
   },
   {
    "duration": 15,
    "start_time": "2022-04-19T14:33:36.254Z"
   },
   {
    "duration": 524,
    "start_time": "2022-04-19T18:36:59.118Z"
   },
   {
    "duration": 75,
    "start_time": "2022-04-19T18:38:06.289Z"
   },
   {
    "duration": 69,
    "start_time": "2022-04-19T18:38:11.812Z"
   },
   {
    "duration": 6,
    "start_time": "2022-04-19T18:50:25.245Z"
   },
   {
    "duration": 5,
    "start_time": "2022-04-19T18:50:32.256Z"
   },
   {
    "duration": 5,
    "start_time": "2022-04-19T18:50:43.983Z"
   },
   {
    "duration": 142,
    "start_time": "2022-04-19T18:56:24.642Z"
   },
   {
    "duration": 64,
    "start_time": "2022-04-19T18:57:06.835Z"
   },
   {
    "duration": 62,
    "start_time": "2022-04-19T18:57:09.717Z"
   },
   {
    "duration": 73,
    "start_time": "2022-04-19T18:57:12.551Z"
   },
   {
    "duration": 72,
    "start_time": "2022-04-19T18:57:16.728Z"
   },
   {
    "duration": 71,
    "start_time": "2022-04-19T18:57:19.950Z"
   },
   {
    "duration": 72,
    "start_time": "2022-04-19T18:57:26.193Z"
   },
   {
    "duration": 75,
    "start_time": "2022-04-19T18:58:23.316Z"
   },
   {
    "duration": 82,
    "start_time": "2022-04-19T18:58:29.684Z"
   },
   {
    "duration": 80,
    "start_time": "2022-04-19T18:58:59.559Z"
   },
   {
    "duration": 84,
    "start_time": "2022-04-19T18:59:16.489Z"
   },
   {
    "duration": 18,
    "start_time": "2022-04-19T19:01:12.540Z"
   },
   {
    "duration": 15,
    "start_time": "2022-04-19T19:01:23.551Z"
   },
   {
    "duration": 11,
    "start_time": "2022-04-19T19:01:33.640Z"
   },
   {
    "duration": 6,
    "start_time": "2022-04-19T19:09:21.256Z"
   },
   {
    "duration": 6,
    "start_time": "2022-04-19T19:09:57.719Z"
   },
   {
    "duration": 6,
    "start_time": "2022-04-19T19:10:14.546Z"
   },
   {
    "duration": 404,
    "start_time": "2022-04-19T19:28:52.122Z"
   },
   {
    "duration": 95,
    "start_time": "2022-04-19T19:28:52.528Z"
   },
   {
    "duration": 19,
    "start_time": "2022-04-19T19:28:52.625Z"
   },
   {
    "duration": 22,
    "start_time": "2022-04-19T19:28:52.646Z"
   },
   {
    "duration": 45,
    "start_time": "2022-04-19T19:28:52.692Z"
   },
   {
    "duration": 1812,
    "start_time": "2022-04-19T19:28:52.738Z"
   },
   {
    "duration": 0,
    "start_time": "2022-04-19T19:28:54.553Z"
   },
   {
    "duration": 0,
    "start_time": "2022-04-19T19:28:54.555Z"
   },
   {
    "duration": 0,
    "start_time": "2022-04-19T19:28:54.556Z"
   },
   {
    "duration": 0,
    "start_time": "2022-04-19T19:28:54.557Z"
   },
   {
    "duration": 0,
    "start_time": "2022-04-19T19:28:54.558Z"
   },
   {
    "duration": 0,
    "start_time": "2022-04-19T19:28:54.559Z"
   },
   {
    "duration": 0,
    "start_time": "2022-04-19T19:28:54.560Z"
   },
   {
    "duration": 0,
    "start_time": "2022-04-19T19:28:54.561Z"
   },
   {
    "duration": 0,
    "start_time": "2022-04-19T19:28:54.562Z"
   },
   {
    "duration": 0,
    "start_time": "2022-04-19T19:28:54.563Z"
   },
   {
    "duration": 0,
    "start_time": "2022-04-19T19:28:54.564Z"
   },
   {
    "duration": 0,
    "start_time": "2022-04-19T19:28:54.566Z"
   },
   {
    "duration": 417,
    "start_time": "2022-04-19T20:04:22.913Z"
   },
   {
    "duration": 81,
    "start_time": "2022-04-19T20:04:23.332Z"
   },
   {
    "duration": 15,
    "start_time": "2022-04-19T20:04:23.414Z"
   },
   {
    "duration": 18,
    "start_time": "2022-04-19T20:04:23.431Z"
   },
   {
    "duration": 56,
    "start_time": "2022-04-19T20:04:23.450Z"
   },
   {
    "duration": 3046,
    "start_time": "2022-04-19T20:04:23.508Z"
   },
   {
    "duration": 0,
    "start_time": "2022-04-19T20:04:26.555Z"
   },
   {
    "duration": 0,
    "start_time": "2022-04-19T20:04:26.556Z"
   },
   {
    "duration": 0,
    "start_time": "2022-04-19T20:04:26.557Z"
   },
   {
    "duration": 0,
    "start_time": "2022-04-19T20:04:26.559Z"
   },
   {
    "duration": 0,
    "start_time": "2022-04-19T20:04:26.560Z"
   },
   {
    "duration": 0,
    "start_time": "2022-04-19T20:04:26.561Z"
   },
   {
    "duration": 0,
    "start_time": "2022-04-19T20:04:26.561Z"
   },
   {
    "duration": 0,
    "start_time": "2022-04-19T20:04:26.563Z"
   },
   {
    "duration": 0,
    "start_time": "2022-04-19T20:04:26.564Z"
   },
   {
    "duration": 0,
    "start_time": "2022-04-19T20:04:26.565Z"
   },
   {
    "duration": 0,
    "start_time": "2022-04-19T20:04:26.565Z"
   },
   {
    "duration": 0,
    "start_time": "2022-04-19T20:04:26.566Z"
   },
   {
    "duration": 5,
    "start_time": "2022-04-19T20:06:39.396Z"
   },
   {
    "duration": 14,
    "start_time": "2022-04-19T20:08:02.056Z"
   },
   {
    "duration": 390,
    "start_time": "2022-04-28T20:11:27.079Z"
   },
   {
    "duration": 70,
    "start_time": "2022-04-28T20:11:27.470Z"
   },
   {
    "duration": 15,
    "start_time": "2022-04-28T20:11:27.542Z"
   },
   {
    "duration": 18,
    "start_time": "2022-04-28T20:11:27.559Z"
   },
   {
    "duration": 59,
    "start_time": "2022-04-28T20:11:27.579Z"
   },
   {
    "duration": 1838,
    "start_time": "2022-04-28T20:11:27.640Z"
   },
   {
    "duration": 0,
    "start_time": "2022-04-28T20:11:29.479Z"
   },
   {
    "duration": 0,
    "start_time": "2022-04-28T20:11:29.481Z"
   },
   {
    "duration": 0,
    "start_time": "2022-04-28T20:11:29.481Z"
   },
   {
    "duration": 0,
    "start_time": "2022-04-28T20:11:29.482Z"
   },
   {
    "duration": 0,
    "start_time": "2022-04-28T20:11:29.483Z"
   },
   {
    "duration": 0,
    "start_time": "2022-04-28T20:11:29.484Z"
   },
   {
    "duration": 0,
    "start_time": "2022-04-28T20:11:29.485Z"
   },
   {
    "duration": 0,
    "start_time": "2022-04-28T20:11:29.486Z"
   },
   {
    "duration": 0,
    "start_time": "2022-04-28T20:11:29.487Z"
   },
   {
    "duration": 0,
    "start_time": "2022-04-28T20:11:29.488Z"
   },
   {
    "duration": 0,
    "start_time": "2022-04-28T20:11:29.489Z"
   },
   {
    "duration": 0,
    "start_time": "2022-04-28T20:11:29.490Z"
   },
   {
    "duration": 353,
    "start_time": "2022-04-28T20:11:53.673Z"
   },
   {
    "duration": 72,
    "start_time": "2022-04-28T20:11:54.028Z"
   },
   {
    "duration": 24,
    "start_time": "2022-04-28T20:11:54.102Z"
   },
   {
    "duration": 30,
    "start_time": "2022-04-28T20:11:54.128Z"
   },
   {
    "duration": 78,
    "start_time": "2022-04-28T20:11:54.160Z"
   },
   {
    "duration": 1768,
    "start_time": "2022-04-28T20:11:54.240Z"
   },
   {
    "duration": 0,
    "start_time": "2022-04-28T20:11:56.011Z"
   },
   {
    "duration": 0,
    "start_time": "2022-04-28T20:11:56.013Z"
   },
   {
    "duration": 0,
    "start_time": "2022-04-28T20:11:56.014Z"
   },
   {
    "duration": 0,
    "start_time": "2022-04-28T20:11:56.016Z"
   },
   {
    "duration": 0,
    "start_time": "2022-04-28T20:11:56.017Z"
   },
   {
    "duration": 0,
    "start_time": "2022-04-28T20:11:56.019Z"
   },
   {
    "duration": 0,
    "start_time": "2022-04-28T20:11:56.020Z"
   },
   {
    "duration": 0,
    "start_time": "2022-04-28T20:11:56.022Z"
   },
   {
    "duration": 0,
    "start_time": "2022-04-28T20:11:56.023Z"
   },
   {
    "duration": 0,
    "start_time": "2022-04-28T20:11:56.025Z"
   },
   {
    "duration": 0,
    "start_time": "2022-04-28T20:11:56.026Z"
   },
   {
    "duration": 0,
    "start_time": "2022-04-28T20:11:56.028Z"
   }
  ],
  "kernelspec": {
   "display_name": "Python 3 (ipykernel)",
   "language": "python",
   "name": "python3"
  },
  "language_info": {
   "codemirror_mode": {
    "name": "ipython",
    "version": 3
   },
   "file_extension": ".py",
   "mimetype": "text/x-python",
   "name": "python",
   "nbconvert_exporter": "python",
   "pygments_lexer": "ipython3",
   "version": "3.9.12"
  },
  "toc": {
   "base_numbering": 1,
   "nav_menu": {},
   "number_sections": true,
   "sideBar": true,
   "skip_h1_title": true,
   "title_cell": "Table of Contents",
   "title_sidebar": "Contents",
   "toc_cell": false,
   "toc_position": {},
   "toc_section_display": true,
   "toc_window_display": false
  }
 },
 "nbformat": 4,
 "nbformat_minor": 5
}
