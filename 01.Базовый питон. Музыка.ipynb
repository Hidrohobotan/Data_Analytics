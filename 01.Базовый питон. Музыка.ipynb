{
 "cells": [
  {
   "cell_type": "markdown",
   "metadata": {
    "id": "E0vqbgi9ay0H"
   },
   "source": [
    "# Базовый Python.\n",
    "\n",
    "# Проект \"Яндекс.Музыка\""
   ]
  },
  {
   "cell_type": "markdown",
   "metadata": {
    "id": "VUC88oWjTJw2"
   },
   "source": [
    "**Цель исследования** — проверить три гипотезы:\n",
    "1. Активность пользователей зависит от дня недели. Причём в Москве и Петербурге это проявляется по-разному.\n",
    "2. В понедельник утром в Москве преобладают одни жанры, а в Петербурге — другие. Так же и вечером пятницы преобладают разные жанры — в зависимости от города. \n",
    "3. Москва и Петербург предпочитают разные жанры музыки. В Москве чаще слушают поп-музыку, в Петербурге — русский рэп.\n",
    "\n",
    "**Ход исследования**\n",
    "\n",
    " 1. Обзор данных.\n",
    " 2. Предобработка данных.\n",
    " 3. Проверка гипотез.\n",
    " \n",
    " **Инструментарий:**\n",
    "\n",
    "- *библиотеки:* pandas\n",
    "- *работа с данными:* read_csv, info, try-except, isna, sum, fillna, duplicated, drop_duplicated, reset_index, sort_values, unique, replace, count, groupby, DataFrame\n",
    "- *циклы for, определение функций*"
   ]
  },
  {
   "cell_type": "markdown",
   "metadata": {
    "id": "Ml1hmfXC_Zcs"
   },
   "source": [
    "## Обзор данных"
   ]
  },
  {
   "cell_type": "code",
   "execution_count": 1,
   "metadata": {
    "id": "AXN7PHPN_Zcs"
   },
   "outputs": [],
   "source": [
    "# импорт библиотеки pandas\n",
    "import pandas as pd"
   ]
  },
  {
   "cell_type": "markdown",
   "metadata": {
    "id": "SG23P8tt_Zcs"
   },
   "source": [
    "Прочитаем файл `yandex_music_project.csv` и сохраним его в переменной `df`:"
   ]
  },
  {
   "cell_type": "code",
   "execution_count": 2,
   "metadata": {
    "id": "fFVu7vqh_Zct"
   },
   "outputs": [],
   "source": [
    "# чтение файла с данными и сохранение в df\n",
    "try:\n",
    "    df = pd.read_csv('datasets\\yandex_music_project.csv')\n",
    "except:\n",
    "    df = pd.read_csv('E:\\IT\\Yandex\\Projects\\datasets\\yandex_music_project.csv')"
   ]
  },
  {
   "cell_type": "markdown",
   "metadata": {
    "id": "rDoOMd3uTqnZ"
   },
   "source": [
    "Изучим данные"
   ]
  },
  {
   "cell_type": "code",
   "execution_count": 3,
   "metadata": {
    "id": "oWTVX3gW_Zct",
    "scrolled": false
   },
   "outputs": [
    {
     "data": {
      "text/html": [
       "<div>\n",
       "<style scoped>\n",
       "    .dataframe tbody tr th:only-of-type {\n",
       "        vertical-align: middle;\n",
       "    }\n",
       "\n",
       "    .dataframe tbody tr th {\n",
       "        vertical-align: top;\n",
       "    }\n",
       "\n",
       "    .dataframe thead th {\n",
       "        text-align: right;\n",
       "    }\n",
       "</style>\n",
       "<table border=\"1\" class=\"dataframe\">\n",
       "  <thead>\n",
       "    <tr style=\"text-align: right;\">\n",
       "      <th></th>\n",
       "      <th>userID</th>\n",
       "      <th>Track</th>\n",
       "      <th>artist</th>\n",
       "      <th>genre</th>\n",
       "      <th>City</th>\n",
       "      <th>time</th>\n",
       "      <th>Day</th>\n",
       "    </tr>\n",
       "  </thead>\n",
       "  <tbody>\n",
       "    <tr>\n",
       "      <th>0</th>\n",
       "      <td>FFB692EC</td>\n",
       "      <td>Kamigata To Boots</td>\n",
       "      <td>The Mass Missile</td>\n",
       "      <td>rock</td>\n",
       "      <td>Saint-Petersburg</td>\n",
       "      <td>20:28:33</td>\n",
       "      <td>Wednesday</td>\n",
       "    </tr>\n",
       "    <tr>\n",
       "      <th>1</th>\n",
       "      <td>55204538</td>\n",
       "      <td>Delayed Because of Accident</td>\n",
       "      <td>Andreas Rönnberg</td>\n",
       "      <td>rock</td>\n",
       "      <td>Moscow</td>\n",
       "      <td>14:07:09</td>\n",
       "      <td>Friday</td>\n",
       "    </tr>\n",
       "    <tr>\n",
       "      <th>2</th>\n",
       "      <td>20EC38</td>\n",
       "      <td>Funiculì funiculà</td>\n",
       "      <td>Mario Lanza</td>\n",
       "      <td>pop</td>\n",
       "      <td>Saint-Petersburg</td>\n",
       "      <td>20:58:07</td>\n",
       "      <td>Wednesday</td>\n",
       "    </tr>\n",
       "    <tr>\n",
       "      <th>3</th>\n",
       "      <td>A3DD03C9</td>\n",
       "      <td>Dragons in the Sunset</td>\n",
       "      <td>Fire + Ice</td>\n",
       "      <td>folk</td>\n",
       "      <td>Saint-Petersburg</td>\n",
       "      <td>08:37:09</td>\n",
       "      <td>Monday</td>\n",
       "    </tr>\n",
       "    <tr>\n",
       "      <th>4</th>\n",
       "      <td>E2DC1FAE</td>\n",
       "      <td>Soul People</td>\n",
       "      <td>Space Echo</td>\n",
       "      <td>dance</td>\n",
       "      <td>Moscow</td>\n",
       "      <td>08:34:34</td>\n",
       "      <td>Monday</td>\n",
       "    </tr>\n",
       "    <tr>\n",
       "      <th>5</th>\n",
       "      <td>842029A1</td>\n",
       "      <td>Преданная</td>\n",
       "      <td>IMPERVTOR</td>\n",
       "      <td>rusrap</td>\n",
       "      <td>Saint-Petersburg</td>\n",
       "      <td>13:09:41</td>\n",
       "      <td>Friday</td>\n",
       "    </tr>\n",
       "    <tr>\n",
       "      <th>6</th>\n",
       "      <td>4CB90AA5</td>\n",
       "      <td>True</td>\n",
       "      <td>Roman Messer</td>\n",
       "      <td>dance</td>\n",
       "      <td>Moscow</td>\n",
       "      <td>13:00:07</td>\n",
       "      <td>Wednesday</td>\n",
       "    </tr>\n",
       "    <tr>\n",
       "      <th>7</th>\n",
       "      <td>F03E1C1F</td>\n",
       "      <td>Feeling This Way</td>\n",
       "      <td>Polina Griffith</td>\n",
       "      <td>dance</td>\n",
       "      <td>Moscow</td>\n",
       "      <td>20:47:49</td>\n",
       "      <td>Wednesday</td>\n",
       "    </tr>\n",
       "    <tr>\n",
       "      <th>8</th>\n",
       "      <td>8FA1D3BE</td>\n",
       "      <td>И вновь продолжается бой</td>\n",
       "      <td>NaN</td>\n",
       "      <td>ruspop</td>\n",
       "      <td>Moscow</td>\n",
       "      <td>09:17:40</td>\n",
       "      <td>Friday</td>\n",
       "    </tr>\n",
       "    <tr>\n",
       "      <th>9</th>\n",
       "      <td>E772D5C0</td>\n",
       "      <td>Pessimist</td>\n",
       "      <td>NaN</td>\n",
       "      <td>dance</td>\n",
       "      <td>Saint-Petersburg</td>\n",
       "      <td>21:20:49</td>\n",
       "      <td>Wednesday</td>\n",
       "    </tr>\n",
       "  </tbody>\n",
       "</table>\n",
       "</div>"
      ],
      "text/plain": [
       "     userID                        Track            artist   genre  \\\n",
       "0  FFB692EC            Kamigata To Boots  The Mass Missile    rock   \n",
       "1  55204538  Delayed Because of Accident  Andreas Rönnberg    rock   \n",
       "2    20EC38            Funiculì funiculà       Mario Lanza     pop   \n",
       "3  A3DD03C9        Dragons in the Sunset        Fire + Ice    folk   \n",
       "4  E2DC1FAE                  Soul People        Space Echo   dance   \n",
       "5  842029A1                    Преданная         IMPERVTOR  rusrap   \n",
       "6  4CB90AA5                         True      Roman Messer   dance   \n",
       "7  F03E1C1F             Feeling This Way   Polina Griffith   dance   \n",
       "8  8FA1D3BE     И вновь продолжается бой               NaN  ruspop   \n",
       "9  E772D5C0                    Pessimist               NaN   dance   \n",
       "\n",
       "             City        time        Day  \n",
       "0  Saint-Petersburg  20:28:33  Wednesday  \n",
       "1            Moscow  14:07:09     Friday  \n",
       "2  Saint-Petersburg  20:58:07  Wednesday  \n",
       "3  Saint-Petersburg  08:37:09     Monday  \n",
       "4            Moscow  08:34:34     Monday  \n",
       "5  Saint-Petersburg  13:09:41     Friday  \n",
       "6            Moscow  13:00:07  Wednesday  \n",
       "7            Moscow  20:47:49  Wednesday  \n",
       "8            Moscow  09:17:40     Friday  \n",
       "9  Saint-Petersburg  21:20:49  Wednesday  "
      ]
     },
     "metadata": {},
     "output_type": "display_data"
    }
   ],
   "source": [
    "# получение первых 10 строк таблицы df\n",
    "display(df.head(10))"
   ]
  },
  {
   "cell_type": "code",
   "execution_count": 4,
   "metadata": {
    "id": "DSf2kIb-_Zct"
   },
   "outputs": [
    {
     "name": "stdout",
     "output_type": "stream",
     "text": [
      "<class 'pandas.core.frame.DataFrame'>\n",
      "RangeIndex: 65079 entries, 0 to 65078\n",
      "Data columns (total 7 columns):\n",
      " #   Column    Non-Null Count  Dtype \n",
      "---  ------    --------------  ----- \n",
      " 0     userID  65079 non-null  object\n",
      " 1   Track     63848 non-null  object\n",
      " 2   artist    57876 non-null  object\n",
      " 3   genre     63881 non-null  object\n",
      " 4     City    65079 non-null  object\n",
      " 5   time      65079 non-null  object\n",
      " 6   Day       65079 non-null  object\n",
      "dtypes: object(7)\n",
      "memory usage: 3.5+ MB\n"
     ]
    }
   ],
   "source": [
    "# получение общей информации о данных в таблице df\n",
    "df.info()"
   ]
  },
  {
   "cell_type": "markdown",
   "metadata": {
    "id": "TaQ2Iwbr_Zct"
   },
   "source": [
    "Итак, в таблице семь столбцов. Тип данных во всех столбцах — `object`.\n",
    "\n",
    "Согласно документации к данным:\n",
    "* `userID` — идентификатор пользователя;\n",
    "* `Track` — название трека;  \n",
    "* `artist` — имя исполнителя;\n",
    "* `genre` — название жанра;\n",
    "* `City` — город пользователя;\n",
    "* `time` — время начала прослушивания;\n",
    "* `Day` — день недели.\n",
    "\n",
    "В названиях колонок видны три нарушения стиля:\n",
    "1. Строчные буквы сочетаются с прописными.\n",
    "2. Встречаются пробелы.\n",
    "3. \"ВерблюжийРегистр\" вместо \"змеиного\"\n",
    "\n",
    "\n",
    "\n",
    "Количество значений в столбцах различается. Значит, в данных есть пропущенные значения.\n"
   ]
  },
  {
   "cell_type": "markdown",
   "metadata": {
    "id": "MCB6-dXG_Zct"
   },
   "source": [
    "**Выводы**\n",
    "\n",
    "В каждой строке таблицы — данные о прослушанном треке. Часть колонок описывает саму композицию: название, исполнителя и жанр. Остальные данные рассказывают о пользователе: из какого он города, когда он слушал музыку. \n",
    "\n",
    "Предварительно можно утверждать, что, данных достаточно для проверки гипотез. Но встречаются пропуски в данных, а в названиях колонок — расхождения с хорошим стилем.\n",
    "\n",
    "Чтобы двигаться дальше, нужно устранить проблемы в данных."
   ]
  },
  {
   "cell_type": "markdown",
   "metadata": {
    "id": "SjYF6Ub9_Zct"
   },
   "source": [
    "## Предобработка данных"
   ]
  },
  {
   "cell_type": "markdown",
   "metadata": {
    "id": "dIaKXr29_Zct"
   },
   "source": [
    "### Стиль заголовков"
   ]
  },
  {
   "cell_type": "code",
   "execution_count": 5,
   "metadata": {
    "id": "oKOTdF_Q_Zct"
   },
   "outputs": [
    {
     "data": {
      "text/plain": [
       "Index(['  userID', 'Track', 'artist', 'genre', '  City  ', 'time', 'Day'], dtype='object')"
      ]
     },
     "execution_count": 5,
     "metadata": {},
     "output_type": "execute_result"
    }
   ],
   "source": [
    "# перечень названий столбцов таблицы df\n",
    "df.columns"
   ]
  },
  {
   "cell_type": "markdown",
   "metadata": {
    "id": "zj5534cv_Zct"
   },
   "source": [
    "Приведите названия в соответствие с хорошим стилем, для чего переименуем колонки так:\n",
    "* `'  userID'` → `'user_id'`;\n",
    "* `'Track'` → `'track'`;\n",
    "* `'  City  '` → `'city'`;\n",
    "* `'Day'` → `'day'`."
   ]
  },
  {
   "cell_type": "code",
   "execution_count": 6,
   "metadata": {
    "id": "ISlFqs5y_Zct"
   },
   "outputs": [],
   "source": [
    "# переименование столбцов\n",
    "df = df.rename(columns={'  userID': 'user_id', 'Track': 'track', '  City  ': 'city', 'Day': 'day'})"
   ]
  },
  {
   "cell_type": "markdown",
   "metadata": {
    "id": "1dqbh00J_Zct"
   },
   "source": [
    "Проверим результат:"
   ]
  },
  {
   "cell_type": "code",
   "execution_count": 7,
   "metadata": {
    "id": "d4NOAmTW_Zct"
   },
   "outputs": [
    {
     "data": {
      "text/plain": [
       "Index(['user_id', 'track', 'artist', 'genre', 'city', 'time', 'day'], dtype='object')"
      ]
     },
     "execution_count": 7,
     "metadata": {},
     "output_type": "execute_result"
    }
   ],
   "source": [
    "# проверка результатов - перечень названий столбцов\n",
    "df.columns"
   ]
  },
  {
   "cell_type": "markdown",
   "metadata": {
    "id": "5ISfbcfY_Zct"
   },
   "source": [
    "### Пропуски значений\n",
    "Сначала посчитаем, сколько в таблице пропущенных значений"
   ]
  },
  {
   "cell_type": "code",
   "execution_count": 8,
   "metadata": {
    "id": "RskX29qr_Zct"
   },
   "outputs": [
    {
     "data": {
      "text/plain": [
       "user_id       0\n",
       "track      1231\n",
       "artist     7203\n",
       "genre      1198\n",
       "city          0\n",
       "time          0\n",
       "day           0\n",
       "dtype: int64"
      ]
     },
     "execution_count": 8,
     "metadata": {},
     "output_type": "execute_result"
    }
   ],
   "source": [
    "# подсчёт пропусков по колонкам\n",
    "df.isna().sum()"
   ]
  },
  {
   "cell_type": "markdown",
   "metadata": {
    "id": "qubhgnlO_Zct"
   },
   "source": [
    "Не все пропущенные значения влияют на исследование. Так в `track` и `artist` пропуски не важны для нашей работы. Достаточно заменить их явными обозначениями.\n",
    "\n",
    "Но пропуски в `genre` могут помешать сравнению музыкальных вкусов в Москве и Санкт-Петербурге. На практике было бы правильно установить причину пропусков и восстановить данные. Такой возможности нет в учебном проекте. Придётся:\n",
    "* заполнить и эти пропуски явными обозначениями,\n",
    "* оценить, насколько они повредят расчётам. "
   ]
  },
  {
   "cell_type": "markdown",
   "metadata": {
    "id": "fSv2laPA_Zct"
   },
   "source": [
    "Заменим пропущенные значения в столбцах `track`, `artist` и `genre` на строку `'unknown'`. Для этого создадим список `columns_to_replace`:"
   ]
  },
  {
   "cell_type": "code",
   "execution_count": 9,
   "metadata": {
    "id": "KplB5qWs_Zct"
   },
   "outputs": [],
   "source": [
    "# перебор названий столбцов в цикле и замена пропущенных значений на 'unknown'\n",
    "columns_to_replace = ['track', 'artist', 'genre']\n",
    "for column in columns_to_replace:\n",
    "    df[column] = df[column].fillna('unknown')"
   ]
  },
  {
   "cell_type": "markdown",
   "metadata": {
    "id": "Ilsm-MZo_Zct"
   },
   "source": [
    "Убедимся, что в таблице не осталось пропусков"
   ]
  },
  {
   "cell_type": "code",
   "execution_count": 10,
   "metadata": {
    "id": "Tq4nYRX4_Zct"
   },
   "outputs": [
    {
     "data": {
      "text/plain": [
       "user_id    0\n",
       "track      0\n",
       "artist     0\n",
       "genre      0\n",
       "city       0\n",
       "time       0\n",
       "day        0\n",
       "dtype: int64"
      ]
     },
     "execution_count": 10,
     "metadata": {},
     "output_type": "execute_result"
    }
   ],
   "source": [
    "# подсчёт пропусков\n",
    "df.isna().sum()"
   ]
  },
  {
   "cell_type": "markdown",
   "metadata": {
    "id": "BWKRtBJ3_Zct"
   },
   "source": [
    "### Дубликаты\n",
    "Посчитаем явные дубликаты в таблице:"
   ]
  },
  {
   "cell_type": "code",
   "execution_count": 11,
   "metadata": {
    "id": "36eES_S0_Zct"
   },
   "outputs": [
    {
     "data": {
      "text/plain": [
       "3826"
      ]
     },
     "execution_count": 11,
     "metadata": {},
     "output_type": "execute_result"
    }
   ],
   "source": [
    "# подсчёт явных дубликатов\n",
    "df.duplicated().sum()"
   ]
  },
  {
   "cell_type": "markdown",
   "metadata": {
    "id": "Ot25h6XR_Zct"
   },
   "source": [
    "Удалим явные дубликаты:"
   ]
  },
  {
   "cell_type": "code",
   "execution_count": 12,
   "metadata": {
    "id": "exFHq6tt_Zct"
   },
   "outputs": [],
   "source": [
    "# удаление явных дубликатов (с удалением старых индексов и формированием новых)\n",
    "df = df.drop_duplicates().reset_index(drop=True)"
   ]
  },
  {
   "cell_type": "markdown",
   "metadata": {
    "id": "Im2YwBEG_Zct"
   },
   "source": [
    "Убедимся, что явных дубликатов не осталось:"
   ]
  },
  {
   "cell_type": "code",
   "execution_count": 13,
   "metadata": {
    "id": "-8PuNWQ0_Zct"
   },
   "outputs": [
    {
     "data": {
      "text/plain": [
       "0"
      ]
     },
     "execution_count": 13,
     "metadata": {},
     "output_type": "execute_result"
    }
   ],
   "source": [
    "# проверка на отсутствие дубликатов\n",
    "df.duplicated().sum()"
   ]
  },
  {
   "cell_type": "markdown",
   "metadata": {
    "id": "QlFBsxAr_Zct"
   },
   "source": [
    "Теперь избавимся от неявных дубликатов в колонке `genre`. Например, название одного и того же жанра может быть записано немного по-разному. Такие ошибки тоже повлияют на результат исследования."
   ]
  },
  {
   "cell_type": "markdown",
   "metadata": {
    "id": "eSjWwsOh_Zct"
   },
   "source": [
    "Выведем на экран список уникальных названий жанров, отсортированный в алфавитном порядке"
   ]
  },
  {
   "cell_type": "code",
   "execution_count": 14,
   "metadata": {
    "id": "JIUcqzZN_Zct",
    "scrolled": false
   },
   "outputs": [
    {
     "data": {
      "text/plain": [
       "array(['acid', 'acoustic', 'action', 'adult', 'africa', 'afrikaans',\n",
       "       'alternative', 'alternativepunk', 'ambient', 'americana',\n",
       "       'animated', 'anime', 'arabesk', 'arabic', 'arena',\n",
       "       'argentinetango', 'art', 'audiobook', 'author', 'avantgarde',\n",
       "       'axé', 'baile', 'balkan', 'beats', 'bigroom', 'black', 'bluegrass',\n",
       "       'blues', 'bollywood', 'bossa', 'brazilian', 'breakbeat', 'breaks',\n",
       "       'broadway', 'cantautori', 'cantopop', 'canzone', 'caribbean',\n",
       "       'caucasian', 'celtic', 'chamber', 'chanson', 'children', 'chill',\n",
       "       'chinese', 'choral', 'christian', 'christmas', 'classical',\n",
       "       'classicmetal', 'club', 'colombian', 'comedy', 'conjazz',\n",
       "       'contemporary', 'country', 'cuban', 'dance', 'dancehall',\n",
       "       'dancepop', 'dark', 'death', 'deep', 'deutschrock', 'deutschspr',\n",
       "       'dirty', 'disco', 'dnb', 'documentary', 'downbeat', 'downtempo',\n",
       "       'drum', 'dub', 'dubstep', 'eastern', 'easy', 'electronic',\n",
       "       'electropop', 'emo', 'entehno', 'epicmetal', 'estrada', 'ethnic',\n",
       "       'eurofolk', 'european', 'experimental', 'extrememetal', 'fado',\n",
       "       'fairytail', 'film', 'fitness', 'flamenco', 'folk', 'folklore',\n",
       "       'folkmetal', 'folkrock', 'folktronica', 'forró', 'frankreich',\n",
       "       'französisch', 'french', 'funk', 'future', 'gangsta', 'garage',\n",
       "       'german', 'ghazal', 'gitarre', 'glitch', 'gospel', 'gothic',\n",
       "       'grime', 'grunge', 'gypsy', 'handsup', \"hard'n'heavy\", 'hardcore',\n",
       "       'hardstyle', 'hardtechno', 'hip', 'hip-hop', 'hiphop',\n",
       "       'historisch', 'holiday', 'hop', 'horror', 'house', 'hymn', 'idm',\n",
       "       'independent', 'indian', 'indie', 'indipop', 'industrial',\n",
       "       'inspirational', 'instrumental', 'international', 'irish', 'jam',\n",
       "       'japanese', 'jazz', 'jewish', 'jpop', 'jungle', 'k-pop',\n",
       "       'karadeniz', 'karaoke', 'kayokyoku', 'korean', 'laiko', 'latin',\n",
       "       'latino', 'leftfield', 'local', 'lounge', 'loungeelectronic',\n",
       "       'lovers', 'malaysian', 'mandopop', 'marschmusik', 'meditative',\n",
       "       'mediterranean', 'melodic', 'metal', 'metalcore', 'mexican',\n",
       "       'middle', 'minimal', 'miscellaneous', 'modern', 'mood', 'mpb',\n",
       "       'muslim', 'native', 'neoklassik', 'neue', 'new', 'newage',\n",
       "       'newwave', 'nu', 'nujazz', 'numetal', 'oceania', 'old', 'opera',\n",
       "       'orchestral', 'other', 'piano', 'podcasts', 'pop', 'popdance',\n",
       "       'popelectronic', 'popeurodance', 'poprussian', 'post',\n",
       "       'posthardcore', 'postrock', 'power', 'progmetal', 'progressive',\n",
       "       'psychedelic', 'punjabi', 'punk', 'quebecois', 'ragga', 'ram',\n",
       "       'rancheras', 'rap', 'rave', 'reggae', 'reggaeton', 'regional',\n",
       "       'relax', 'religious', 'retro', 'rhythm', 'rnb', 'rnr', 'rock',\n",
       "       'rockabilly', 'rockalternative', 'rockindie', 'rockother',\n",
       "       'romance', 'roots', 'ruspop', 'rusrap', 'rusrock', 'russian',\n",
       "       'salsa', 'samba', 'scenic', 'schlager', 'self', 'sertanejo',\n",
       "       'shanson', 'shoegazing', 'showtunes', 'singer', 'ska', 'skarock',\n",
       "       'slow', 'smooth', 'soft', 'soul', 'soulful', 'sound', 'soundtrack',\n",
       "       'southern', 'specialty', 'speech', 'spiritual', 'sport',\n",
       "       'stonerrock', 'surf', 'swing', 'synthpop', 'synthrock',\n",
       "       'sängerportrait', 'tango', 'tanzorchester', 'taraftar', 'tatar',\n",
       "       'tech', 'techno', 'teen', 'thrash', 'top', 'traditional',\n",
       "       'tradjazz', 'trance', 'tribal', 'trip', 'triphop', 'tropical',\n",
       "       'türk', 'türkçe', 'ukrrock', 'unknown', 'urban', 'uzbek',\n",
       "       'variété', 'vi', 'videogame', 'vocal', 'western', 'world',\n",
       "       'worldbeat', 'ïîï', 'электроника'], dtype=object)"
      ]
     },
     "execution_count": 14,
     "metadata": {},
     "output_type": "execute_result"
    }
   ],
   "source": [
    "# Просмотр уникальных названий жанров\n",
    "df['genre'].sort_values().unique()"
   ]
  },
  {
   "cell_type": "markdown",
   "metadata": {
    "id": "qej-Qmuo_Zct"
   },
   "source": [
    "В жанрах есть неявные дубликаты стиля hiphop:\n",
    "* *hip*,\n",
    "* *hop*,\n",
    "* *hip-hop*.\n",
    "\n",
    "Чтобы очистить от них таблицу, напишем функцию `replace_wrong_genres()` с двумя параметрами: \n",
    "* `wrong_genres` — список дубликатов,\n",
    "* `correct_genre` — строка с правильным значением.\n",
    "\n",
    "Функция должна исправить колонку `genre` в таблице `df`: заменить каждое значение из списка `wrong_genres` на значение из `correct_genre`."
   ]
  },
  {
   "cell_type": "code",
   "execution_count": 15,
   "metadata": {
    "id": "ErNDkmns_Zct"
   },
   "outputs": [],
   "source": [
    "# Функция для замены неявных дубликатов\n",
    "def replace_wrong_genres(wrong_genres, correct_genre):\n",
    "    for wrong_genre in wrong_genres:\n",
    "        df['genre'] = df['genre'].replace(wrong_genre, correct_genre)"
   ]
  },
  {
   "cell_type": "markdown",
   "metadata": {
    "id": "aDoBJxbA_Zct"
   },
   "source": [
    "Вызовим функцию `replace_wrong_genres()`, чтобы заменить все неверные значения на `hiphop`:"
   ]
  },
  {
   "cell_type": "code",
   "execution_count": 16,
   "metadata": {
    "id": "YN5i2hpmSo09"
   },
   "outputs": [],
   "source": [
    "# Устранение неявных дубликатов\n",
    "wrong_genres = ['hip', 'hop', 'hip-hop']\n",
    "correct_genre = 'hiphop'\n",
    "\n",
    "replace_wrong_genres(wrong_genres, correct_genre)"
   ]
  },
  {
   "cell_type": "code",
   "execution_count": 17,
   "metadata": {
    "id": "wvixALnFG15m"
   },
   "outputs": [
    {
     "data": {
      "text/plain": [
       "array(['acid', 'acoustic', 'action', 'adult', 'africa', 'afrikaans',\n",
       "       'alternative', 'alternativepunk', 'ambient', 'americana',\n",
       "       'animated', 'anime', 'arabesk', 'arabic', 'arena',\n",
       "       'argentinetango', 'art', 'audiobook', 'author', 'avantgarde',\n",
       "       'axé', 'baile', 'balkan', 'beats', 'bigroom', 'black', 'bluegrass',\n",
       "       'blues', 'bollywood', 'bossa', 'brazilian', 'breakbeat', 'breaks',\n",
       "       'broadway', 'cantautori', 'cantopop', 'canzone', 'caribbean',\n",
       "       'caucasian', 'celtic', 'chamber', 'chanson', 'children', 'chill',\n",
       "       'chinese', 'choral', 'christian', 'christmas', 'classical',\n",
       "       'classicmetal', 'club', 'colombian', 'comedy', 'conjazz',\n",
       "       'contemporary', 'country', 'cuban', 'dance', 'dancehall',\n",
       "       'dancepop', 'dark', 'death', 'deep', 'deutschrock', 'deutschspr',\n",
       "       'dirty', 'disco', 'dnb', 'documentary', 'downbeat', 'downtempo',\n",
       "       'drum', 'dub', 'dubstep', 'eastern', 'easy', 'electronic',\n",
       "       'electropop', 'emo', 'entehno', 'epicmetal', 'estrada', 'ethnic',\n",
       "       'eurofolk', 'european', 'experimental', 'extrememetal', 'fado',\n",
       "       'fairytail', 'film', 'fitness', 'flamenco', 'folk', 'folklore',\n",
       "       'folkmetal', 'folkrock', 'folktronica', 'forró', 'frankreich',\n",
       "       'französisch', 'french', 'funk', 'future', 'gangsta', 'garage',\n",
       "       'german', 'ghazal', 'gitarre', 'glitch', 'gospel', 'gothic',\n",
       "       'grime', 'grunge', 'gypsy', 'handsup', \"hard'n'heavy\", 'hardcore',\n",
       "       'hardstyle', 'hardtechno', 'hiphop', 'historisch', 'holiday',\n",
       "       'horror', 'house', 'hymn', 'idm', 'independent', 'indian', 'indie',\n",
       "       'indipop', 'industrial', 'inspirational', 'instrumental',\n",
       "       'international', 'irish', 'jam', 'japanese', 'jazz', 'jewish',\n",
       "       'jpop', 'jungle', 'k-pop', 'karadeniz', 'karaoke', 'kayokyoku',\n",
       "       'korean', 'laiko', 'latin', 'latino', 'leftfield', 'local',\n",
       "       'lounge', 'loungeelectronic', 'lovers', 'malaysian', 'mandopop',\n",
       "       'marschmusik', 'meditative', 'mediterranean', 'melodic', 'metal',\n",
       "       'metalcore', 'mexican', 'middle', 'minimal', 'miscellaneous',\n",
       "       'modern', 'mood', 'mpb', 'muslim', 'native', 'neoklassik', 'neue',\n",
       "       'new', 'newage', 'newwave', 'nu', 'nujazz', 'numetal', 'oceania',\n",
       "       'old', 'opera', 'orchestral', 'other', 'piano', 'podcasts', 'pop',\n",
       "       'popdance', 'popelectronic', 'popeurodance', 'poprussian', 'post',\n",
       "       'posthardcore', 'postrock', 'power', 'progmetal', 'progressive',\n",
       "       'psychedelic', 'punjabi', 'punk', 'quebecois', 'ragga', 'ram',\n",
       "       'rancheras', 'rap', 'rave', 'reggae', 'reggaeton', 'regional',\n",
       "       'relax', 'religious', 'retro', 'rhythm', 'rnb', 'rnr', 'rock',\n",
       "       'rockabilly', 'rockalternative', 'rockindie', 'rockother',\n",
       "       'romance', 'roots', 'ruspop', 'rusrap', 'rusrock', 'russian',\n",
       "       'salsa', 'samba', 'scenic', 'schlager', 'self', 'sertanejo',\n",
       "       'shanson', 'shoegazing', 'showtunes', 'singer', 'ska', 'skarock',\n",
       "       'slow', 'smooth', 'soft', 'soul', 'soulful', 'sound', 'soundtrack',\n",
       "       'southern', 'specialty', 'speech', 'spiritual', 'sport',\n",
       "       'stonerrock', 'surf', 'swing', 'synthpop', 'synthrock',\n",
       "       'sängerportrait', 'tango', 'tanzorchester', 'taraftar', 'tatar',\n",
       "       'tech', 'techno', 'teen', 'thrash', 'top', 'traditional',\n",
       "       'tradjazz', 'trance', 'tribal', 'trip', 'triphop', 'tropical',\n",
       "       'türk', 'türkçe', 'ukrrock', 'unknown', 'urban', 'uzbek',\n",
       "       'variété', 'vi', 'videogame', 'vocal', 'western', 'world',\n",
       "       'worldbeat', 'ïîï', 'электроника'], dtype=object)"
      ]
     },
     "execution_count": 17,
     "metadata": {},
     "output_type": "execute_result"
    }
   ],
   "source": [
    "# Проверка на неявные дубликаты\n",
    "df['genre'].sort_values().unique()"
   ]
  },
  {
   "cell_type": "markdown",
   "metadata": {
    "id": "jz6a9-7HQUDd"
   },
   "source": [
    "**Выводы**\n",
    "\n",
    "Предобработка обнаружила три проблемы в данных:\n",
    "\n",
    "- нарушения в стиле заголовков,\n",
    "- пропущенные значения,\n",
    "- дубликаты — явные и неявные.\n",
    "\n",
    "Пропущенные значения мы заменили на `'unknown'`, явные дубликаты удалили"
   ]
  },
  {
   "cell_type": "markdown",
   "metadata": {
    "id": "WttZHXH0SqKk"
   },
   "source": [
    "## Проверка гипотез"
   ]
  },
  {
   "cell_type": "markdown",
   "metadata": {
    "id": "Im936VVi_Zcu"
   },
   "source": [
    "### Сравнение поведения пользователей двух столиц"
   ]
  },
  {
   "cell_type": "markdown",
   "metadata": {
    "id": "nwt_MuaL_Zcu"
   },
   "source": [
    "Первая гипотеза утверждает, что пользователи по-разному слушают музыку в Москве и Санкт-Петербурге. Проверим это предположение по данным о трёх днях недели — понедельнике, среде и пятнице. Для этого:\n",
    "\n",
    "* Разделим пользователей Москвы и Санкт-Петербурга\n",
    "* Сравним, сколько треков послушала каждая группа пользователей в понедельник, среду и пятницу."
   ]
  },
  {
   "cell_type": "markdown",
   "metadata": {
    "id": "8Dw_YMmT_Zcu"
   },
   "source": [
    "Оценим активность пользователей в каждом городе. Сгруппируем данные по городу и посчитаем прослушивания в каждой группе."
   ]
  },
  {
   "cell_type": "code",
   "execution_count": 18,
   "metadata": {
    "id": "0_Qs96oh_Zcu"
   },
   "outputs": [
    {
     "name": "stdout",
     "output_type": "stream",
     "text": [
      "city\n",
      "Moscow              42741\n",
      "Saint-Petersburg    18512\n",
      "Name: user_id, dtype: int64\n"
     ]
    }
   ],
   "source": [
    "# Подсчёт прослушиваний в каждом городе\n",
    "print(df.groupby('city')['user_id'].count())"
   ]
  },
  {
   "cell_type": "markdown",
   "metadata": {
    "id": "dzli3w8o_Zcu"
   },
   "source": [
    "В Москве прослушиваний больше, чем в Петербурге. Из этого не следует, что московские пользователи чаще слушают музыку. Просто самих пользователей в Москве больше.\n",
    "\n",
    "Теперь сгруппируем данные по дню недели и подсчитаем прослушивания в понедельник, среду и пятницу. Учтем, что в данных есть информация о прослушиваниях только за эти дни."
   ]
  },
  {
   "cell_type": "code",
   "execution_count": 19,
   "metadata": {
    "id": "uZMKjiJz_Zcu"
   },
   "outputs": [
    {
     "name": "stdout",
     "output_type": "stream",
     "text": [
      "day\n",
      "Friday       21840\n",
      "Monday       21354\n",
      "Wednesday    18059\n",
      "Name: day, dtype: int64\n"
     ]
    }
   ],
   "source": [
    "# Подсчёт прослушиваний в каждый из трёх дней\n",
    "print(df.groupby('day')['day'].count())"
   ]
  },
  {
   "cell_type": "markdown",
   "metadata": {
    "id": "cC2tNrlL_Zcu"
   },
   "source": [
    "В среднем пользователи из двух городов менее активны по средам. Но картина может измениться, если рассмотреть каждый город в отдельности."
   ]
  },
  {
   "cell_type": "markdown",
   "metadata": {
    "id": "POzs8bGa_Zcu"
   },
   "source": [
    "Создадим функцию `number_tracks()`, которая посчитает прослушивания для заданного дня и города. Ей понадобятся два параметра:\n",
    "* день недели,\n",
    "* название города.\n",
    "\n",
    "В функции сохраним в переменную строки исходной таблицы, у которых значение:\n",
    "  * в колонке `day` равно параметру `day`,\n",
    "  * в колонке `city` равно параметру `city`.\n",
    "\n",
    "Для этого применим последовательную фильтрацию с логической индексацией.\n",
    "\n",
    "Затем посчитаем значения в столбце `user_id` получившейся таблицы. Результат сохраним в новую переменную"
   ]
  },
  {
   "cell_type": "code",
   "execution_count": 20,
   "metadata": {
    "id": "Nz3GdQB1_Zcu"
   },
   "outputs": [],
   "source": [
    "# <создание функции number_tracks()>\n",
    "# Объявляется функция с двумя параметрами: day, city.\n",
    "# В переменной track_list сохраняются те строки таблицы df, для которых \n",
    "# значение в столбце 'day' равно параметру day и одновременно значение\n",
    "# в столбце 'city' равно параметру city (используйте последовательную фильтрацию\n",
    "# с помощью логической индексации).\n",
    "# В переменной track_list_count сохраняется число значений столбца 'user_id',\n",
    "# рассчитанное методом count() для таблицы track_list.\n",
    "# Функция возвращает число - значение track_list_count.\n",
    "\n",
    "# Функция для подсчёта прослушиваний для конкретного города и дня.\n",
    "# С помощью последовательной фильтрации с логической индексацией она \n",
    "# сначала получит из исходной таблицы строки с нужным днём,\n",
    "# затем из результата отфильтрует строки с нужным городом,\n",
    "# методом count() посчитает количество значений в колонке user_id. \n",
    "# Это количество функция вернёт в качестве результата\n",
    "\n",
    "def number_tracks(day, city):\n",
    "    track_list = df[df['day'] == day]\n",
    "    track_list = track_list[track_list['city'] == city]\n",
    "    track_list_count = track_list['user_id'].count()\n",
    "    return track_list_count"
   ]
  },
  {
   "cell_type": "markdown",
   "metadata": {
    "id": "ytf7xFrFJQ2r"
   },
   "source": [
    "Вызовем `number_tracks()` шесть раз, меняя значение параметров — так, чтобы получить данные для каждого города в каждый из трёх дней."
   ]
  },
  {
   "cell_type": "code",
   "execution_count": 21,
   "metadata": {
    "id": "rJcRATNQ_Zcu"
   },
   "outputs": [
    {
     "name": "stdout",
     "output_type": "stream",
     "text": [
      "Количество прослушиваний в Москве по понедельникам: 15740\n"
     ]
    }
   ],
   "source": [
    "print('Количество прослушиваний в Москве по понедельникам:', number_tracks('Monday', 'Moscow'))"
   ]
  },
  {
   "cell_type": "code",
   "execution_count": 22,
   "metadata": {
    "id": "hq_ncZ5T_Zcu"
   },
   "outputs": [
    {
     "name": "stdout",
     "output_type": "stream",
     "text": [
      "Количество прослушиваний в Санкт-Петербурге по понедельникам: 5614\n"
     ]
    }
   ],
   "source": [
    "print('Количество прослушиваний в Санкт-Петербурге по понедельникам:', number_tracks('Monday', 'Saint-Petersburg'))"
   ]
  },
  {
   "cell_type": "code",
   "execution_count": 23,
   "metadata": {
    "id": "_NTy2VPU_Zcu"
   },
   "outputs": [
    {
     "name": "stdout",
     "output_type": "stream",
     "text": [
      "Количество прослушиваний в Москве по средам: 11056\n"
     ]
    }
   ],
   "source": [
    "print('Количество прослушиваний в Москве по средам:', number_tracks('Wednesday', 'Moscow'))"
   ]
  },
  {
   "cell_type": "code",
   "execution_count": 24,
   "metadata": {
    "id": "j2y3TAwo_Zcu"
   },
   "outputs": [
    {
     "name": "stdout",
     "output_type": "stream",
     "text": [
      "Количество прослушиваний в Санкт-Петербурге по средам: 7003\n"
     ]
    }
   ],
   "source": [
    "print('Количество прослушиваний в Санкт-Петербурге по средам:', number_tracks('Wednesday', 'Saint-Petersburg'))"
   ]
  },
  {
   "cell_type": "code",
   "execution_count": 25,
   "metadata": {
    "id": "vYDw5u_K_Zcu"
   },
   "outputs": [
    {
     "name": "stdout",
     "output_type": "stream",
     "text": [
      "Количество прослушиваний в Москве по пятницам: 15945\n"
     ]
    }
   ],
   "source": [
    "print('Количество прослушиваний в Москве по пятницам:', number_tracks('Friday', 'Moscow'))"
   ]
  },
  {
   "cell_type": "code",
   "execution_count": 26,
   "metadata": {
    "id": "8_yzFtW3_Zcu"
   },
   "outputs": [
    {
     "name": "stdout",
     "output_type": "stream",
     "text": [
      "Количество прослушиваний в Санкт-Петербурге по пятницам: 5895\n"
     ]
    }
   ],
   "source": [
    "print('Количество прослушиваний в Санкт-Петербурге по пятницам:', number_tracks('Friday', 'Saint-Petersburg'))"
   ]
  },
  {
   "cell_type": "markdown",
   "metadata": {
    "id": "7QXffbO-_Zcu"
   },
   "source": [
    "Создим c помощью конструктора `pd.DataFrame` таблицу, где\n",
    "* названия колонок — `['city', 'monday', 'wednesday', 'friday']`;\n",
    "* данные — результаты, которые вы получили с помощью `number_tracks`."
   ]
  },
  {
   "cell_type": "code",
   "execution_count": 27,
   "metadata": {
    "id": "APAcLpOr_Zcu"
   },
   "outputs": [
    {
     "data": {
      "text/html": [
       "<div>\n",
       "<style scoped>\n",
       "    .dataframe tbody tr th:only-of-type {\n",
       "        vertical-align: middle;\n",
       "    }\n",
       "\n",
       "    .dataframe tbody tr th {\n",
       "        vertical-align: top;\n",
       "    }\n",
       "\n",
       "    .dataframe thead th {\n",
       "        text-align: right;\n",
       "    }\n",
       "</style>\n",
       "<table border=\"1\" class=\"dataframe\">\n",
       "  <thead>\n",
       "    <tr style=\"text-align: right;\">\n",
       "      <th></th>\n",
       "      <th>city</th>\n",
       "      <th>monday</th>\n",
       "      <th>wednesday</th>\n",
       "      <th>friday</th>\n",
       "    </tr>\n",
       "  </thead>\n",
       "  <tbody>\n",
       "    <tr>\n",
       "      <th>0</th>\n",
       "      <td>Moscow</td>\n",
       "      <td>15740</td>\n",
       "      <td>11056</td>\n",
       "      <td>15945</td>\n",
       "    </tr>\n",
       "    <tr>\n",
       "      <th>1</th>\n",
       "      <td>Saint-Petersburg</td>\n",
       "      <td>5614</td>\n",
       "      <td>7003</td>\n",
       "      <td>5895</td>\n",
       "    </tr>\n",
       "  </tbody>\n",
       "</table>\n",
       "</div>"
      ],
      "text/plain": [
       "               city  monday  wednesday  friday\n",
       "0            Moscow   15740      11056   15945\n",
       "1  Saint-Petersburg    5614       7003    5895"
      ]
     },
     "metadata": {},
     "output_type": "display_data"
    }
   ],
   "source": [
    "# Таблица с результатами\n",
    "listen_by_day_city = pd.DataFrame(data=[['Moscow', 15740, 11056, 15945], ['Saint-Petersburg', 5614, 7003, 5895]], columns=['city', 'monday', 'wednesday', 'friday'])\n",
    "display(listen_by_day_city)"
   ]
  },
  {
   "cell_type": "markdown",
   "metadata": {
    "id": "-EgPIHYu_Zcu"
   },
   "source": [
    "**Выводы**\n",
    "\n",
    "Данные показывают разницу поведения пользователей:\n",
    "\n",
    "- В Москве пик прослушиваний приходится на понедельник и пятницу, а в среду заметен спад.\n",
    "- В Петербурге, наоборот, больше слушают музыку по средам. Активность в понедельник и пятницу здесь почти в равной мере уступает среде.\n",
    "\n",
    "Значит, данные говорят в пользу первой гипотезы."
   ]
  },
  {
   "cell_type": "markdown",
   "metadata": {
    "id": "atZAxtq4_Zcu"
   },
   "source": [
    "### Музыка в начале и в конце недели"
   ]
  },
  {
   "cell_type": "markdown",
   "metadata": {
    "id": "eXrQqXFH_Zcu"
   },
   "source": [
    "Согласно второй гипотезе, утром в понедельник в Москве преобладают одни жанры, а в Петербурге — другие. Так же и вечером пятницы преобладают разные жанры — в зависимости от города."
   ]
  },
  {
   "cell_type": "markdown",
   "metadata": {
    "id": "S8UcW6Hw_Zcu"
   },
   "source": [
    "Сохраним таблицы с данными в две переменные:\n",
    "* по Москве — в `moscow_general`;\n",
    "* по Санкт-Петербургу — в `spb_general`."
   ]
  },
  {
   "cell_type": "code",
   "execution_count": 28,
   "metadata": {
    "id": "qeaFfM_P_Zcu"
   },
   "outputs": [],
   "source": [
    "# получение таблицы moscow_general из тех строк таблицы df, \n",
    "# для которых значение в столбце 'city' равно 'Moscow'\n",
    "moscow_general = df[df['city'] == 'Moscow']"
   ]
  },
  {
   "cell_type": "code",
   "execution_count": 29,
   "metadata": {
    "id": "ORaVRKto_Zcu"
   },
   "outputs": [],
   "source": [
    "# получение таблицы spb_general из тех строк таблицы df,\n",
    "# для которых значение в столбце 'city' равно 'Saint-Petersburg'\n",
    "spb_general = df[df['city'] == 'Saint-Petersburg']"
   ]
  },
  {
   "cell_type": "markdown",
   "metadata": {
    "id": "MEJV-CX2_Zcu"
   },
   "source": [
    "Создадим функцию `genre_weekday()` с четырьмя параметрами:\n",
    "* таблица (датафрейм) с данными,\n",
    "* день недели,\n",
    "* начальная временная метка в формате 'hh:mm', \n",
    "* последняя временная метка в формате 'hh:mm'.\n",
    "\n",
    "Функция должна вернуть информацию о топ-10 жанров тех треков, которые прослушивали в указанный день, в промежутке между двумя отметками времени."
   ]
  },
  {
   "cell_type": "code",
   "execution_count": 30,
   "metadata": {
    "id": "laJT9BYl_Zcu"
   },
   "outputs": [],
   "source": [
    "# Объявление функции genre_weekday() с параметрами table, day, time1, time2,\n",
    "# которая возвращает информацию о самых популярных жанрах в указанный день в\n",
    "# заданное время:\n",
    "# 1) в переменную genre_df сохраняются те строки переданного датафрейма table, для\n",
    "#    которых одновременно:\n",
    "#    - значение в столбце day равно значению аргумента day\n",
    "#    - значение в столбце time больше значения аргумента time1\n",
    "#    - значение в столбце time меньше значения аргумента time2\n",
    "#    Используйте последовательную фильтрацию с помощью логической индексации.\n",
    "# 2) сгруппировать датафрейм genre_df по столбцу genre, взять один из его\n",
    "#    столбцов и посчитать методом count() количество записей для каждого из\n",
    "#    присутствующих жанров, получившийся Series записать в переменную\n",
    "#    genre_df_count\n",
    "# 3) отсортировать genre_df_count по убыванию встречаемости и сохранить\n",
    "#    в переменную genre_df_sorted\n",
    "# 4) вернуть Series из 10 первых значений genre_df_sorted, это будут топ-10\n",
    "#    популярных жанров (в указанный день, в заданное время)\n",
    "\n",
    "def genre_weekday(table, day, time1, time2):\n",
    "    genre_df = table[table['day'] == day]\n",
    "    genre_df = genre_df[genre_df['time'] > time1]\n",
    "    genre_df = genre_df[genre_df['time'] < time2]\n",
    "    genre_df_count = genre_df.groupby('genre')['genre'].count()\n",
    "    genre_df_sorted = genre_df_count.sort_values(ascending = False)\n",
    "    return genre_df_sorted.head(10)"
   ]
  },
  {
   "cell_type": "markdown",
   "metadata": {
    "id": "la2s2_PF_Zcu"
   },
   "source": [
    "Cравним результаты функции `genre_weekday()` для Москвы и Санкт-Петербурга в понедельник утром (с 7:00 до 11:00) и в пятницу вечером (с 17:00 до 23:00):"
   ]
  },
  {
   "cell_type": "code",
   "execution_count": 31,
   "metadata": {
    "id": "yz7itPUQ_Zcu"
   },
   "outputs": [
    {
     "name": "stdout",
     "output_type": "stream",
     "text": [
      "Утро понедельника в Москве\n"
     ]
    },
    {
     "data": {
      "text/plain": [
       "genre\n",
       "pop            781\n",
       "dance          549\n",
       "electronic     480\n",
       "rock           474\n",
       "hiphop         286\n",
       "ruspop         186\n",
       "world          181\n",
       "rusrap         175\n",
       "alternative    164\n",
       "unknown        161\n",
       "Name: genre, dtype: int64"
      ]
     },
     "execution_count": 31,
     "metadata": {},
     "output_type": "execute_result"
    }
   ],
   "source": [
    "# вызов функции для утра понедельника в Москве\n",
    "# объекты, хранящие время, являются строками и сравниваются как строки\n",
    "# пример вызова: genre_weekday(moscow_general, 'Monday', '07:00', '11:00')\n",
    "print('Утро понедельника в Москве')\n",
    "genre_weekday(moscow_general, 'Monday', '07:00', '11:00')"
   ]
  },
  {
   "cell_type": "code",
   "execution_count": 32,
   "metadata": {
    "id": "kwUcHPdy_Zcu"
   },
   "outputs": [
    {
     "name": "stdout",
     "output_type": "stream",
     "text": [
      "Утро понедельника в Петербурге\n"
     ]
    },
    {
     "data": {
      "text/plain": [
       "genre\n",
       "pop            218\n",
       "dance          182\n",
       "rock           162\n",
       "electronic     147\n",
       "hiphop          80\n",
       "ruspop          64\n",
       "alternative     58\n",
       "rusrap          55\n",
       "jazz            44\n",
       "classical       40\n",
       "Name: genre, dtype: int64"
      ]
     },
     "execution_count": 32,
     "metadata": {},
     "output_type": "execute_result"
    }
   ],
   "source": [
    "# вызов функции для утра понедельника в Петербурге\n",
    "print('Утро понедельника в Петербурге')\n",
    "genre_weekday(spb_general, 'Monday', '07:00', '11:00')"
   ]
  },
  {
   "cell_type": "code",
   "execution_count": 33,
   "metadata": {
    "id": "EzXVRE1o_Zcu"
   },
   "outputs": [
    {
     "name": "stdout",
     "output_type": "stream",
     "text": [
      "Вечер пятницы в Москве\n"
     ]
    },
    {
     "data": {
      "text/plain": [
       "genre\n",
       "pop            713\n",
       "rock           517\n",
       "dance          495\n",
       "electronic     482\n",
       "hiphop         273\n",
       "world          208\n",
       "ruspop         170\n",
       "alternative    163\n",
       "classical      163\n",
       "rusrap         142\n",
       "Name: genre, dtype: int64"
      ]
     },
     "execution_count": 33,
     "metadata": {},
     "output_type": "execute_result"
    }
   ],
   "source": [
    "# вызов функции для вечера пятницы в Москве\n",
    "print('Вечер пятницы в Москве')\n",
    "genre_weekday(moscow_general, 'Friday', '17:00', '23:00')"
   ]
  },
  {
   "cell_type": "code",
   "execution_count": 34,
   "metadata": {
    "id": "JZaEKu5v_Zcu"
   },
   "outputs": [
    {
     "name": "stdout",
     "output_type": "stream",
     "text": [
      "Вечер пятницы в Петербурге\n"
     ]
    },
    {
     "data": {
      "text/plain": [
       "genre\n",
       "pop            256\n",
       "electronic     216\n",
       "rock           216\n",
       "dance          210\n",
       "hiphop          97\n",
       "alternative     63\n",
       "jazz            61\n",
       "classical       60\n",
       "rusrap          59\n",
       "world           54\n",
       "Name: genre, dtype: int64"
      ]
     },
     "execution_count": 34,
     "metadata": {},
     "output_type": "execute_result"
    }
   ],
   "source": [
    "# вызов функции для вечера пятницы в Петербурге\n",
    "print('Вечер пятницы в Петербурге')\n",
    "genre_weekday(spb_general, 'Friday', '17:00', '23:00')"
   ]
  },
  {
   "cell_type": "markdown",
   "metadata": {
    "id": "wrCe4MNX_Zcu"
   },
   "source": [
    "**Выводы**\n",
    "\n",
    "Если сравнить топ-10 жанров в понедельник утром, можно сделать такие выводы:\n",
    "\n",
    "1. В Москве и Петербурге слушают похожую музыку. Единственное отличие — в московский рейтинг вошёл жанр “world”, а в петербургский — джаз и классика.\n",
    "\n",
    "2. В Москве пропущенных значений оказалось так много, что значение `'unknown'` заняло десятое место среди самых популярных жанров. Значит, пропущенные значения занимают существенную долю в данных и угрожают достоверности исследования.\n",
    "\n",
    "Вечер пятницы не меняет эту картину. Некоторые жанры поднимаются немного выше, другие спускаются, но в целом топ-10 остаётся тем же самым.\n",
    "\n",
    "Таким образом, вторая гипотеза подтвердилась лишь частично:\n",
    "* Пользователи слушают похожую музыку в начале недели и в конце.\n",
    "* Разница между Москвой и Петербургом не слишком выражена. В Москве чаще слушают русскую популярную музыку, в Петербурге — джаз.\n",
    "\n",
    "Однако пропуски в данных ставят под сомнение этот результат. В Москве их так много, что рейтинг топ-10 мог бы выглядеть иначе, если бы не утерянные  данные о жанрах."
   ]
  },
  {
   "cell_type": "markdown",
   "metadata": {
    "id": "JolODAqr_Zcu"
   },
   "source": [
    "### Жанровые предпочтения в Москве и Петербурге\n",
    "\n",
    "Гипотеза: Петербург — столица рэпа, музыку этого жанра там слушают чаще, чем в Москве.  А Москва — город контрастов, в котором, тем не менее, преобладает поп-музыка."
   ]
  },
  {
   "cell_type": "markdown",
   "metadata": {
    "id": "DlegSvaT_Zcu"
   },
   "source": [
    "Сгруппируем таблицу `moscow_general` по жанру и посчитаем прослушивания треков каждого жанра методом `count()`. Затем отсортируем результат в порядке убывания и сохраним его в таблице `moscow_genres`."
   ]
  },
  {
   "cell_type": "code",
   "execution_count": 35,
   "metadata": {
    "id": "r19lIPke_Zcu"
   },
   "outputs": [],
   "source": [
    "# группировка таблицы moscow_general по столбцу 'genre', \n",
    "# подсчёт числа значений 'genre' в этой группировке методом count(), \n",
    "# сортировка получившегося Series в порядке убывания и сохранение в moscow_genres\n",
    "moscow_genres = moscow_general.groupby('genre')['genre'].count().sort_values(ascending = False)"
   ]
  },
  {
   "cell_type": "markdown",
   "metadata": {
    "id": "6kMuomxTiIr8"
   },
   "source": [
    "Выведем на экран первые десять строк `moscow_genres`:"
   ]
  },
  {
   "cell_type": "code",
   "execution_count": 36,
   "metadata": {
    "id": "WhCSooF8_Zcv"
   },
   "outputs": [
    {
     "data": {
      "text/plain": [
       "genre\n",
       "pop            5892\n",
       "dance          4435\n",
       "rock           3965\n",
       "electronic     3786\n",
       "hiphop         2096\n",
       "classical      1616\n",
       "world          1432\n",
       "alternative    1379\n",
       "ruspop         1372\n",
       "rusrap         1161\n",
       "Name: genre, dtype: int64"
      ]
     },
     "metadata": {},
     "output_type": "display_data"
    }
   ],
   "source": [
    "# просмотр первых 10 строк moscow_genres\n",
    "display(moscow_genres.head(10))"
   ]
  },
  {
   "cell_type": "markdown",
   "metadata": {
    "id": "cnPG2vnN_Zcv"
   },
   "source": [
    "Теперь повторим то же и для Петербурга.\n",
    "\n",
    "Сгруппируем таблицу `spb_general` по жанру. Посчитаем прослушивания треков каждого жанра. Результат отсортируем в порядке убывания и сохраним в таблице `spb_genres`:"
   ]
  },
  {
   "cell_type": "code",
   "execution_count": 37,
   "metadata": {
    "id": "gluLIpE7_Zcv"
   },
   "outputs": [],
   "source": [
    "# группировка таблицы spb_general по столбцу 'genre', \n",
    "# подсчёт числа значений 'genre' в этой группировке методом count(), \n",
    "# сортировка получившегося Series в порядке убывания и сохранение в spb_genres\n",
    "spb_genres = spb_general.groupby('genre')['genre'].count().sort_values(ascending = False)"
   ]
  },
  {
   "cell_type": "markdown",
   "metadata": {
    "id": "5Doha_ODgyQ8"
   },
   "source": [
    "Выведем на экран первые десять строк `spb_genres`:"
   ]
  },
  {
   "cell_type": "code",
   "execution_count": 38,
   "metadata": {
    "id": "uaGJHjVU_Zcv"
   },
   "outputs": [
    {
     "data": {
      "text/plain": [
       "genre\n",
       "pop            2431\n",
       "dance          1932\n",
       "rock           1879\n",
       "electronic     1736\n",
       "hiphop          960\n",
       "alternative     649\n",
       "classical       646\n",
       "rusrap          564\n",
       "ruspop          538\n",
       "world           515\n",
       "Name: genre, dtype: int64"
      ]
     },
     "execution_count": 38,
     "metadata": {},
     "output_type": "execute_result"
    }
   ],
   "source": [
    "# просмотр первых 10 строк spb_genres\n",
    "spb_genres.head(10)"
   ]
  },
  {
   "cell_type": "markdown",
   "metadata": {
    "id": "RY51YJYu_Zcv"
   },
   "source": [
    "**Выводы**"
   ]
  },
  {
   "cell_type": "markdown",
   "metadata": {
    "id": "nVhnJEm__Zcv"
   },
   "source": [
    "Гипотеза частично подтвердилась:\n",
    "* Поп-музыка — самый популярный жанр в Москве, как и предполагала гипотеза. Более того, в топ-10 жанров встречается близкий жанр — русская популярная музыка.\n",
    "* Вопреки ожиданиям, рэп одинаково популярен в Москве и Петербурге. \n"
   ]
  },
  {
   "cell_type": "markdown",
   "metadata": {
    "id": "ykKQ0N65_Zcv"
   },
   "source": [
    "## Итоги исследования"
   ]
  },
  {
   "cell_type": "markdown",
   "metadata": {
    "id": "tjUwbHb3_Zcv"
   },
   "source": [
    "Мы проверили три гипотезы и установили:\n",
    "\n",
    "1. День недели по-разному влияет на активность пользователей в Москве и Петербурге. \n",
    "\n",
    "Первая гипотеза полностью подтвердилась.\n",
    "\n",
    "2. Музыкальные предпочтения не сильно меняются в течение недели — будь то Москва или Петербург. Небольшие различия заметны в начале недели, по понедельникам:\n",
    "* в Москве слушают музыку жанра “world”,\n",
    "* в Петербурге — джаз и классику.\n",
    "\n",
    "Таким образом, вторая гипотеза подтвердилась лишь отчасти. Этот результат мог оказаться иным, если бы не пропуски в данных.\n",
    "\n",
    "3. Во вкусах пользователей Москвы и Петербурга больше общего чем различий. Вопреки ожиданиям, предпочтения жанров в Петербурге напоминают московские.\n",
    "\n",
    "Третья гипотеза не подтвердилась. Если различия в предпочтениях и существуют, на основной массе пользователей они незаметны."
   ]
  }
 ],
 "metadata": {
  "ExecuteTimeLog": [
   {
    "duration": 409,
    "start_time": "2022-03-25T20:10:46.821Z"
   },
   {
    "duration": 163,
    "start_time": "2022-03-25T20:15:09.121Z"
   },
   {
    "duration": 73,
    "start_time": "2022-03-25T20:15:14.232Z"
   },
   {
    "duration": 647,
    "start_time": "2022-03-25T20:16:13.894Z"
   },
   {
    "duration": 19,
    "start_time": "2022-03-25T20:16:33.762Z"
   },
   {
    "duration": 9,
    "start_time": "2022-03-25T20:16:51.385Z"
   },
   {
    "duration": 10,
    "start_time": "2022-03-25T20:17:01.243Z"
   },
   {
    "duration": 11,
    "start_time": "2022-03-25T20:17:15.137Z"
   },
   {
    "duration": 5,
    "start_time": "2022-03-25T20:20:11.222Z"
   },
   {
    "duration": 6,
    "start_time": "2022-03-25T20:23:13.648Z"
   },
   {
    "duration": 70,
    "start_time": "2022-03-25T20:24:46.835Z"
   },
   {
    "duration": 43,
    "start_time": "2022-03-25T20:24:57.328Z"
   },
   {
    "duration": 61,
    "start_time": "2022-03-25T20:25:00.287Z"
   },
   {
    "duration": 12,
    "start_time": "2022-03-25T20:25:28.890Z"
   },
   {
    "duration": 6,
    "start_time": "2022-03-25T20:25:42.839Z"
   },
   {
    "duration": 46,
    "start_time": "2022-03-25T20:26:56.867Z"
   },
   {
    "duration": 30,
    "start_time": "2022-03-25T20:27:17.491Z"
   },
   {
    "duration": 47,
    "start_time": "2022-03-25T20:28:01.064Z"
   },
   {
    "duration": 32,
    "start_time": "2022-03-25T20:28:07.525Z"
   },
   {
    "duration": 31,
    "start_time": "2022-03-25T20:28:12.642Z"
   },
   {
    "duration": 31,
    "start_time": "2022-03-25T20:28:25.929Z"
   },
   {
    "duration": 27,
    "start_time": "2022-03-25T20:34:28.278Z"
   },
   {
    "duration": 24,
    "start_time": "2022-03-25T20:36:38.626Z"
   },
   {
    "duration": 34,
    "start_time": "2022-03-25T20:36:41.400Z"
   },
   {
    "duration": 79,
    "start_time": "2022-03-25T20:36:59.897Z"
   },
   {
    "duration": 70,
    "start_time": "2022-03-25T20:37:05.764Z"
   },
   {
    "duration": 80,
    "start_time": "2022-03-25T20:37:42.958Z"
   },
   {
    "duration": 79,
    "start_time": "2022-03-25T20:38:00.981Z"
   },
   {
    "duration": 72,
    "start_time": "2022-03-25T20:38:04.994Z"
   },
   {
    "duration": 10,
    "start_time": "2022-03-25T20:39:17.878Z"
   },
   {
    "duration": 46,
    "start_time": "2022-03-25T20:40:06.140Z"
   },
   {
    "duration": 45,
    "start_time": "2022-03-25T20:40:27.146Z"
   },
   {
    "duration": 43,
    "start_time": "2022-03-25T20:40:34.258Z"
   },
   {
    "duration": 4,
    "start_time": "2022-03-25T20:44:38.272Z"
   },
   {
    "duration": 12,
    "start_time": "2022-03-25T20:46:11.823Z"
   },
   {
    "duration": 3,
    "start_time": "2022-03-25T20:46:25.365Z"
   },
   {
    "duration": 13,
    "start_time": "2022-03-25T20:46:27.038Z"
   },
   {
    "duration": 3,
    "start_time": "2022-03-25T20:49:07.152Z"
   },
   {
    "duration": 4,
    "start_time": "2022-03-25T20:49:43.362Z"
   },
   {
    "duration": 13,
    "start_time": "2022-03-25T20:49:45.223Z"
   },
   {
    "duration": 10,
    "start_time": "2022-03-25T20:49:47.271Z"
   },
   {
    "duration": 52,
    "start_time": "2022-03-25T20:50:31.737Z"
   },
   {
    "duration": 76,
    "start_time": "2022-03-26T14:30:02.678Z"
   },
   {
    "duration": 9,
    "start_time": "2022-03-26T14:30:13.783Z"
   },
   {
    "duration": 504,
    "start_time": "2022-03-26T14:30:29.083Z"
   },
   {
    "duration": 228,
    "start_time": "2022-03-26T14:30:31.236Z"
   },
   {
    "duration": 30,
    "start_time": "2022-03-26T14:30:34.104Z"
   },
   {
    "duration": 7,
    "start_time": "2022-03-26T14:30:34.937Z"
   },
   {
    "duration": 6,
    "start_time": "2022-03-26T14:30:36.542Z"
   },
   {
    "duration": 18,
    "start_time": "2022-03-26T14:30:37.313Z"
   },
   {
    "duration": 6,
    "start_time": "2022-03-26T14:30:37.804Z"
   },
   {
    "duration": 36,
    "start_time": "2022-03-26T14:30:38.338Z"
   },
   {
    "duration": 23,
    "start_time": "2022-03-26T14:30:39.616Z"
   },
   {
    "duration": 33,
    "start_time": "2022-03-26T14:30:40.255Z"
   },
   {
    "duration": 100,
    "start_time": "2022-03-26T14:30:41.018Z"
   },
   {
    "duration": 116,
    "start_time": "2022-03-26T14:30:41.844Z"
   },
   {
    "duration": 92,
    "start_time": "2022-03-26T14:30:42.719Z"
   },
   {
    "duration": 63,
    "start_time": "2022-03-26T14:30:44.032Z"
   },
   {
    "duration": 6,
    "start_time": "2022-03-26T14:30:46.022Z"
   },
   {
    "duration": 15,
    "start_time": "2022-03-26T14:30:46.801Z"
   },
   {
    "duration": 53,
    "start_time": "2022-03-26T14:30:47.504Z"
   },
   {
    "duration": 52,
    "start_time": "2022-03-26T14:30:52.385Z"
   },
   {
    "duration": 16,
    "start_time": "2022-03-26T14:31:30.808Z"
   },
   {
    "duration": 25,
    "start_time": "2022-03-26T14:32:04.802Z"
   },
   {
    "duration": 16,
    "start_time": "2022-03-26T14:32:37.301Z"
   },
   {
    "duration": 7,
    "start_time": "2022-03-26T14:42:49.566Z"
   },
   {
    "duration": 49,
    "start_time": "2022-03-26T14:44:32.943Z"
   },
   {
    "duration": 14,
    "start_time": "2022-03-26T14:45:00.185Z"
   },
   {
    "duration": 13,
    "start_time": "2022-03-26T14:45:03.060Z"
   },
   {
    "duration": 6,
    "start_time": "2022-03-26T14:45:14.462Z"
   },
   {
    "duration": 13,
    "start_time": "2022-03-26T14:45:17.017Z"
   },
   {
    "duration": 5,
    "start_time": "2022-03-26T14:45:33.853Z"
   },
   {
    "duration": 5,
    "start_time": "2022-03-26T14:45:35.838Z"
   },
   {
    "duration": 13,
    "start_time": "2022-03-26T14:45:37.827Z"
   },
   {
    "duration": 27,
    "start_time": "2022-03-26T14:47:16.547Z"
   },
   {
    "duration": 16,
    "start_time": "2022-03-26T14:47:20.938Z"
   },
   {
    "duration": 15,
    "start_time": "2022-03-26T14:47:27.731Z"
   },
   {
    "duration": 26,
    "start_time": "2022-03-26T14:47:35.690Z"
   },
   {
    "duration": 23,
    "start_time": "2022-03-26T14:47:46.392Z"
   },
   {
    "duration": 29,
    "start_time": "2022-03-26T14:47:48.840Z"
   },
   {
    "duration": 5,
    "start_time": "2022-03-26T14:47:53.793Z"
   },
   {
    "duration": 26,
    "start_time": "2022-03-26T14:47:55.466Z"
   },
   {
    "duration": 22,
    "start_time": "2022-03-26T14:48:04.162Z"
   },
   {
    "duration": 20,
    "start_time": "2022-03-26T14:48:13.192Z"
   },
   {
    "duration": 20,
    "start_time": "2022-03-26T14:48:46.315Z"
   },
   {
    "duration": 25,
    "start_time": "2022-03-26T14:48:50.050Z"
   },
   {
    "duration": 30,
    "start_time": "2022-03-26T14:48:53.012Z"
   },
   {
    "duration": 20,
    "start_time": "2022-03-26T14:48:56.087Z"
   },
   {
    "duration": 24,
    "start_time": "2022-03-26T14:52:54.517Z"
   },
   {
    "duration": 6,
    "start_time": "2022-03-26T14:55:50.724Z"
   },
   {
    "duration": 5,
    "start_time": "2022-03-26T14:55:52.555Z"
   },
   {
    "duration": 5,
    "start_time": "2022-03-26T14:55:54.264Z"
   },
   {
    "duration": 12,
    "start_time": "2022-03-26T14:56:03.894Z"
   },
   {
    "duration": 5,
    "start_time": "2022-03-26T14:56:10.099Z"
   },
   {
    "duration": 6,
    "start_time": "2022-03-26T14:56:57.782Z"
   },
   {
    "duration": 29,
    "start_time": "2022-03-26T14:59:43.566Z"
   },
   {
    "duration": 18,
    "start_time": "2022-03-26T14:59:56.819Z"
   },
   {
    "duration": 15,
    "start_time": "2022-03-26T15:00:19.874Z"
   },
   {
    "duration": 8,
    "start_time": "2022-03-26T15:10:54.413Z"
   },
   {
    "duration": 9,
    "start_time": "2022-03-26T15:11:00.076Z"
   },
   {
    "duration": 51,
    "start_time": "2022-03-26T15:11:56.146Z"
   },
   {
    "duration": 22,
    "start_time": "2022-03-26T15:12:18.498Z"
   },
   {
    "duration": 34,
    "start_time": "2022-03-26T15:12:46.800Z"
   },
   {
    "duration": 23,
    "start_time": "2022-03-26T15:12:49.216Z"
   },
   {
    "duration": 37,
    "start_time": "2022-03-26T15:14:32.934Z"
   },
   {
    "duration": 41,
    "start_time": "2022-03-26T15:14:40.012Z"
   },
   {
    "duration": 46,
    "start_time": "2022-03-26T15:14:49.883Z"
   },
   {
    "duration": 9,
    "start_time": "2022-03-26T15:14:59.995Z"
   },
   {
    "duration": 39,
    "start_time": "2022-03-26T15:15:07.804Z"
   },
   {
    "duration": 45,
    "start_time": "2022-03-26T15:15:15.762Z"
   },
   {
    "duration": 23,
    "start_time": "2022-03-26T15:15:18.359Z"
   },
   {
    "duration": 35,
    "start_time": "2022-03-26T15:15:20.138Z"
   },
   {
    "duration": 33,
    "start_time": "2022-03-26T15:15:22.499Z"
   },
   {
    "duration": 23,
    "start_time": "2022-03-26T15:22:39.086Z"
   },
   {
    "duration": 45,
    "start_time": "2022-03-26T15:23:04.437Z"
   },
   {
    "duration": 28,
    "start_time": "2022-03-26T15:23:08.319Z"
   },
   {
    "duration": 42,
    "start_time": "2022-03-26T15:23:12.471Z"
   },
   {
    "duration": 22,
    "start_time": "2022-03-26T15:23:15.530Z"
   },
   {
    "duration": 38,
    "start_time": "2022-03-26T15:23:26.955Z"
   },
   {
    "duration": 23,
    "start_time": "2022-03-26T15:23:34.287Z"
   },
   {
    "duration": 30,
    "start_time": "2022-03-26T15:24:36.228Z"
   },
   {
    "duration": 21,
    "start_time": "2022-03-26T15:24:39.111Z"
   },
   {
    "duration": 39,
    "start_time": "2022-03-26T15:24:42.366Z"
   },
   {
    "duration": 25,
    "start_time": "2022-03-26T15:24:44.316Z"
   },
   {
    "duration": 33,
    "start_time": "2022-03-26T15:27:09.826Z"
   },
   {
    "duration": 34,
    "start_time": "2022-03-26T15:27:39.221Z"
   },
   {
    "duration": 20,
    "start_time": "2022-03-26T15:27:58.724Z"
   },
   {
    "duration": 19,
    "start_time": "2022-03-26T15:37:46.029Z"
   },
   {
    "duration": 39,
    "start_time": "2022-03-26T15:37:48.074Z"
   },
   {
    "duration": 40,
    "start_time": "2022-03-26T15:37:54.598Z"
   },
   {
    "duration": 27,
    "start_time": "2022-03-26T15:38:00.110Z"
   },
   {
    "duration": 6,
    "start_time": "2022-03-26T15:38:41.007Z"
   },
   {
    "duration": 12,
    "start_time": "2022-03-26T15:40:48.667Z"
   },
   {
    "duration": 7,
    "start_time": "2022-03-26T15:41:03.586Z"
   },
   {
    "duration": 43,
    "start_time": "2022-03-26T17:26:45.482Z"
   },
   {
    "duration": 6,
    "start_time": "2022-03-26T17:26:47.300Z"
   },
   {
    "duration": 5,
    "start_time": "2022-03-26T17:26:48.757Z"
   },
   {
    "duration": 6,
    "start_time": "2022-03-26T17:26:53.918Z"
   },
   {
    "duration": 387,
    "start_time": "2022-03-26T17:27:18.645Z"
   },
   {
    "duration": 152,
    "start_time": "2022-03-26T17:27:19.642Z"
   },
   {
    "duration": 15,
    "start_time": "2022-03-26T17:27:19.933Z"
   },
   {
    "duration": 5,
    "start_time": "2022-03-26T17:27:20.214Z"
   },
   {
    "duration": 5,
    "start_time": "2022-03-26T17:27:21.018Z"
   },
   {
    "duration": 13,
    "start_time": "2022-03-26T17:27:21.470Z"
   },
   {
    "duration": 4,
    "start_time": "2022-03-26T17:27:21.805Z"
   },
   {
    "duration": 24,
    "start_time": "2022-03-26T17:27:22.125Z"
   },
   {
    "duration": 17,
    "start_time": "2022-03-26T17:27:22.641Z"
   },
   {
    "duration": 23,
    "start_time": "2022-03-26T17:27:22.968Z"
   },
   {
    "duration": 60,
    "start_time": "2022-03-26T17:27:23.326Z"
   },
   {
    "duration": 72,
    "start_time": "2022-03-26T17:27:23.669Z"
   },
   {
    "duration": 56,
    "start_time": "2022-03-26T17:27:24.015Z"
   },
   {
    "duration": 47,
    "start_time": "2022-03-26T17:27:24.526Z"
   },
   {
    "duration": 2,
    "start_time": "2022-03-26T17:27:24.869Z"
   },
   {
    "duration": 9,
    "start_time": "2022-03-26T17:27:25.222Z"
   },
   {
    "duration": 41,
    "start_time": "2022-03-26T17:27:25.552Z"
   },
   {
    "duration": 12,
    "start_time": "2022-03-26T17:27:26.579Z"
   },
   {
    "duration": 11,
    "start_time": "2022-03-26T17:27:26.883Z"
   },
   {
    "duration": 3,
    "start_time": "2022-03-26T17:27:27.385Z"
   },
   {
    "duration": 16,
    "start_time": "2022-03-26T17:27:27.708Z"
   },
   {
    "duration": 14,
    "start_time": "2022-03-26T17:27:27.853Z"
   },
   {
    "duration": 14,
    "start_time": "2022-03-26T17:27:28.012Z"
   },
   {
    "duration": 13,
    "start_time": "2022-03-26T17:27:28.183Z"
   },
   {
    "duration": 16,
    "start_time": "2022-03-26T17:27:28.352Z"
   },
   {
    "duration": 14,
    "start_time": "2022-03-26T17:27:28.520Z"
   },
   {
    "duration": 4,
    "start_time": "2022-03-26T17:27:28.850Z"
   },
   {
    "duration": 11,
    "start_time": "2022-03-26T17:27:29.676Z"
   },
   {
    "duration": 9,
    "start_time": "2022-03-26T17:27:29.845Z"
   },
   {
    "duration": 4,
    "start_time": "2022-03-26T17:27:30.192Z"
   },
   {
    "duration": 20,
    "start_time": "2022-03-26T17:27:30.502Z"
   },
   {
    "duration": 12,
    "start_time": "2022-03-26T17:27:30.671Z"
   },
   {
    "duration": 27,
    "start_time": "2022-03-26T17:27:30.845Z"
   },
   {
    "duration": 17,
    "start_time": "2022-03-26T17:27:31.439Z"
   },
   {
    "duration": 8,
    "start_time": "2022-03-26T17:27:32.150Z"
   },
   {
    "duration": 4,
    "start_time": "2022-03-26T17:27:32.593Z"
   },
   {
    "duration": 6,
    "start_time": "2022-03-26T17:27:32.936Z"
   },
   {
    "duration": 4,
    "start_time": "2022-03-26T17:27:33.286Z"
   },
   {
    "duration": 11,
    "start_time": "2022-03-26T17:30:29.403Z"
   },
   {
    "duration": 26,
    "start_time": "2022-03-26T17:32:05.083Z"
   },
   {
    "duration": 7,
    "start_time": "2022-03-26T17:32:09.385Z"
   },
   {
    "duration": 20,
    "start_time": "2022-03-26T17:32:21.261Z"
   },
   {
    "duration": 19,
    "start_time": "2022-03-26T17:32:27.193Z"
   },
   {
    "duration": 22,
    "start_time": "2022-03-26T17:32:44.777Z"
   },
   {
    "duration": 29,
    "start_time": "2022-03-26T17:32:57.081Z"
   },
   {
    "duration": 30,
    "start_time": "2022-03-26T17:33:53.986Z"
   },
   {
    "duration": 32,
    "start_time": "2022-03-26T17:34:10.494Z"
   },
   {
    "duration": 17,
    "start_time": "2022-03-26T17:34:19.294Z"
   },
   {
    "duration": 3,
    "start_time": "2022-03-26T17:35:23.301Z"
   },
   {
    "duration": 3,
    "start_time": "2022-03-26T17:35:35.968Z"
   },
   {
    "duration": 20,
    "start_time": "2022-03-26T17:37:40.177Z"
   },
   {
    "duration": 11,
    "start_time": "2022-03-26T17:37:51.796Z"
   },
   {
    "duration": 17,
    "start_time": "2022-03-26T17:37:57.903Z"
   },
   {
    "duration": 9,
    "start_time": "2022-03-26T17:38:04.802Z"
   },
   {
    "duration": 31,
    "start_time": "2022-03-26T17:40:44.525Z"
   },
   {
    "duration": 30,
    "start_time": "2022-03-26T17:41:06.995Z"
   },
   {
    "duration": 26,
    "start_time": "2022-03-26T17:41:20.277Z"
   },
   {
    "duration": 30,
    "start_time": "2022-03-26T17:42:18.917Z"
   },
   {
    "duration": 18,
    "start_time": "2022-03-26T17:42:37.742Z"
   },
   {
    "duration": 15,
    "start_time": "2022-03-26T17:42:51.577Z"
   },
   {
    "duration": 14,
    "start_time": "2022-03-26T17:42:53.574Z"
   },
   {
    "duration": 20,
    "start_time": "2022-03-26T17:43:09.841Z"
   },
   {
    "duration": 25,
    "start_time": "2022-03-26T17:43:21.820Z"
   },
   {
    "duration": 24,
    "start_time": "2022-03-26T17:43:35.507Z"
   },
   {
    "duration": 4,
    "start_time": "2022-03-26T17:43:56.426Z"
   },
   {
    "duration": 18,
    "start_time": "2022-03-26T17:43:58.675Z"
   },
   {
    "duration": 12,
    "start_time": "2022-03-26T17:44:01.119Z"
   },
   {
    "duration": 15,
    "start_time": "2022-03-26T17:44:03.001Z"
   },
   {
    "duration": 12,
    "start_time": "2022-03-26T17:44:07.051Z"
   },
   {
    "duration": 16,
    "start_time": "2022-03-26T17:44:10.761Z"
   },
   {
    "duration": 11,
    "start_time": "2022-03-26T17:44:12.743Z"
   },
   {
    "duration": 17,
    "start_time": "2022-03-26T17:44:14.777Z"
   },
   {
    "duration": 8,
    "start_time": "2022-03-26T17:44:39.905Z"
   },
   {
    "duration": 5,
    "start_time": "2022-03-26T17:44:43.351Z"
   },
   {
    "duration": 6,
    "start_time": "2022-03-26T17:44:46.556Z"
   },
   {
    "duration": 4,
    "start_time": "2022-03-26T17:44:48.393Z"
   },
   {
    "duration": 8,
    "start_time": "2022-03-26T17:47:17.897Z"
   },
   {
    "duration": 4,
    "start_time": "2022-03-26T17:47:28.213Z"
   },
   {
    "duration": 391,
    "start_time": "2022-04-05T17:29:15.450Z"
   },
   {
    "duration": 145,
    "start_time": "2022-04-05T17:29:15.843Z"
   },
   {
    "duration": 17,
    "start_time": "2022-04-05T17:29:15.989Z"
   },
   {
    "duration": 8,
    "start_time": "2022-04-05T17:29:16.008Z"
   },
   {
    "duration": 19,
    "start_time": "2022-04-05T17:29:16.018Z"
   },
   {
    "duration": 13,
    "start_time": "2022-04-05T17:29:16.039Z"
   },
   {
    "duration": 6,
    "start_time": "2022-04-05T17:29:16.054Z"
   },
   {
    "duration": 28,
    "start_time": "2022-04-05T17:29:16.062Z"
   },
   {
    "duration": 18,
    "start_time": "2022-04-05T17:29:16.092Z"
   },
   {
    "duration": 46,
    "start_time": "2022-04-05T17:29:16.111Z"
   },
   {
    "duration": 67,
    "start_time": "2022-04-05T17:29:16.158Z"
   },
   {
    "duration": 74,
    "start_time": "2022-04-05T17:29:16.238Z"
   },
   {
    "duration": 71,
    "start_time": "2022-04-05T17:29:16.313Z"
   },
   {
    "duration": 39,
    "start_time": "2022-04-05T17:29:16.387Z"
   },
   {
    "duration": 4,
    "start_time": "2022-04-05T17:29:16.438Z"
   },
   {
    "duration": 17,
    "start_time": "2022-04-05T17:29:16.443Z"
   },
   {
    "duration": 59,
    "start_time": "2022-04-05T17:29:16.461Z"
   },
   {
    "duration": 12,
    "start_time": "2022-04-05T17:29:16.522Z"
   },
   {
    "duration": 17,
    "start_time": "2022-04-05T17:29:16.538Z"
   },
   {
    "duration": 14,
    "start_time": "2022-04-05T17:29:16.557Z"
   },
   {
    "duration": 36,
    "start_time": "2022-04-05T17:29:16.573Z"
   },
   {
    "duration": 16,
    "start_time": "2022-04-05T17:29:16.610Z"
   },
   {
    "duration": 15,
    "start_time": "2022-04-05T17:29:16.628Z"
   },
   {
    "duration": 14,
    "start_time": "2022-04-05T17:29:16.645Z"
   },
   {
    "duration": 17,
    "start_time": "2022-04-05T17:29:16.661Z"
   },
   {
    "duration": 17,
    "start_time": "2022-04-05T17:29:16.680Z"
   },
   {
    "duration": 4,
    "start_time": "2022-04-05T17:29:16.699Z"
   },
   {
    "duration": 43,
    "start_time": "2022-04-05T17:29:16.704Z"
   },
   {
    "duration": 11,
    "start_time": "2022-04-05T17:29:16.749Z"
   },
   {
    "duration": 5,
    "start_time": "2022-04-05T17:29:16.761Z"
   },
   {
    "duration": 28,
    "start_time": "2022-04-05T17:29:16.767Z"
   },
   {
    "duration": 11,
    "start_time": "2022-04-05T17:29:16.796Z"
   },
   {
    "duration": 39,
    "start_time": "2022-04-05T17:29:16.809Z"
   },
   {
    "duration": 11,
    "start_time": "2022-04-05T17:29:16.850Z"
   },
   {
    "duration": 15,
    "start_time": "2022-04-05T17:29:16.863Z"
   },
   {
    "duration": 18,
    "start_time": "2022-04-05T17:29:16.881Z"
   },
   {
    "duration": 28,
    "start_time": "2022-04-05T17:29:16.901Z"
   },
   {
    "duration": 8,
    "start_time": "2022-04-05T17:29:16.931Z"
   },
   {
    "duration": 9,
    "start_time": "2022-04-05T17:29:31.018Z"
   },
   {
    "duration": 8,
    "start_time": "2022-04-05T17:31:44.179Z"
   },
   {
    "duration": 28,
    "start_time": "2022-04-05T17:31:46.590Z"
   }
  ],
  "colab": {
   "collapsed_sections": [
    "E0vqbgi9ay0H",
    "VUC88oWjTJw2"
   ],
   "name": "yandex_music_project.ipynb",
   "provenance": []
  },
  "kernelspec": {
   "display_name": "Python 3 (ipykernel)",
   "language": "python",
   "name": "python3"
  },
  "language_info": {
   "codemirror_mode": {
    "name": "ipython",
    "version": 3
   },
   "file_extension": ".py",
   "mimetype": "text/x-python",
   "name": "python",
   "nbconvert_exporter": "python",
   "pygments_lexer": "ipython3",
   "version": "3.9.13"
  },
  "toc": {
   "base_numbering": 1,
   "nav_menu": {},
   "number_sections": true,
   "sideBar": true,
   "skip_h1_title": true,
   "title_cell": "Table of Contents",
   "title_sidebar": "Contents",
   "toc_cell": false,
   "toc_position": {
    "height": "calc(100% - 180px)",
    "left": "10px",
    "top": "150px",
    "width": "177.594px"
   },
   "toc_section_display": true,
   "toc_window_display": true
  }
 },
 "nbformat": 4,
 "nbformat_minor": 1
}
