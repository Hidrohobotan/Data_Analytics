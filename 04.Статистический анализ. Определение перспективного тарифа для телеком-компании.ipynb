{
 "cells": [
  {
   "cell_type": "markdown",
   "metadata": {},
   "source": [
    "# Статистический анализ данных\n",
    "\n",
    "# Проект \"Определение перспективного тарифа для телеком-компании\""
   ]
  },
  {
   "cell_type": "markdown",
   "metadata": {
    "toc": true
   },
   "source": [
    "<div class=\"toc\"><ul class=\"toc-item\"><li><span><a href=\"#Изучение-данных-из-файла\" data-toc-modified-id=\"Изучение-данных-из-файла-1\"><span class=\"toc-item-num\">1&nbsp;&nbsp;</span>Изучение данных из файла</a></span><ul class=\"toc-item\"><li><span><a href=\"#Вывод\" data-toc-modified-id=\"Вывод-1.1\"><span class=\"toc-item-num\">1.1&nbsp;&nbsp;</span>Вывод</a></span></li></ul></li><li><span><a href=\"#Предобработка-данных\" data-toc-modified-id=\"Предобработка-данных-2\"><span class=\"toc-item-num\">2&nbsp;&nbsp;</span>Предобработка данных</a></span><ul class=\"toc-item\"><li><span><a href=\"#Вывод\" data-toc-modified-id=\"Вывод-2.1\"><span class=\"toc-item-num\">2.1&nbsp;&nbsp;</span>Вывод</a></span></li></ul></li><li><span><a href=\"#Расчёт-помесячной-выручки-с-каждого-пользователя\" data-toc-modified-id=\"Расчёт-помесячной-выручки-с-каждого-пользователя-3\"><span class=\"toc-item-num\">3&nbsp;&nbsp;</span>Расчёт помесячной выручки с каждого пользователя</a></span><ul class=\"toc-item\"><li><span><a href=\"#Вывод\" data-toc-modified-id=\"Вывод-3.1\"><span class=\"toc-item-num\">3.1&nbsp;&nbsp;</span>Вывод</a></span></li></ul></li><li><span><a href=\"#Анализ-данных\" data-toc-modified-id=\"Анализ-данных-4\"><span class=\"toc-item-num\">4&nbsp;&nbsp;</span>Анализ данных</a></span><ul class=\"toc-item\"><li><span><a href=\"#Вывод\" data-toc-modified-id=\"Вывод-4.1\"><span class=\"toc-item-num\">4.1&nbsp;&nbsp;</span>Вывод</a></span></li></ul></li><li><span><a href=\"#Проверка-гипотез\" data-toc-modified-id=\"Проверка-гипотез-5\"><span class=\"toc-item-num\">5&nbsp;&nbsp;</span>Проверка гипотез</a></span><ul class=\"toc-item\"><li><span><a href=\"#Вывод\" data-toc-modified-id=\"Вывод-5.1\"><span class=\"toc-item-num\">5.1&nbsp;&nbsp;</span>Вывод</a></span></li></ul></li><li><span><a href=\"#Общий-вывод\" data-toc-modified-id=\"Общий-вывод-6\"><span class=\"toc-item-num\">6&nbsp;&nbsp;</span>Общий вывод</a></span></li></ul></div>"
   ]
  },
  {
   "cell_type": "markdown",
   "metadata": {},
   "source": [
    "## Описание проекта\n",
    "\n",
    "«Мегалайн» — федеральный оператор сотовой связи. Клиентам предлагают два тарифных плана: «Смарт» и «Ультра». Чтобы скорректировать рекламный бюджет, коммерческий департамент хочет понять, какой тариф приносит больше денег.\n",
    "Нужно сделать предварительный анализ тарифов на небольшой выборке клиентов. В нашем распоряжении данные 500 пользователей «Мегалайна»: кто они, откуда, каким тарифом пользуются, сколько звонков и сообщений каждый отправил за 2018 год. \n",
    "\n",
    "**Цель проекта:** проанализировать поведение клиентов разных тарифов и дать рекомендации по оптимизации тарифных планов\n",
    "\n",
    "**Задачи**\n",
    "\n",
    "1. Изучить данные\n",
    "2. Проверсти предобработку данных  \n",
    "    - Анализ пропусков    \n",
    "    - Поиск артефактов (аномалий)    \n",
    "    - Проверка типов записи данных   \n",
    "    - Поиск дубликатов   \n",
    "3. Рассчитать производные параметры\n",
    "    - Количество сделанных звонков и израсходованных минут разговора по месяцам\n",
    "    - Количество отправленных сообщений по месяцам\n",
    "    - Объем израсходованного интернет-трафика по месяцам\n",
    "    - Помесячная выручка с каждого пользователя\n",
    "4. Провести исследовательский анализ данных\n",
    "    - Описать поведение клиентов оператора\n",
    "    - Сколько минут разговора, сколько сообщений и какой объём интернет-трафика требуется пользователям каждого тарифа в месяц\n",
    "5. Проверить статистические гипотезы:\n",
    "    - Средняя выручка пользователей тарифов «Ультра» и «Смарт» различаются\n",
    "    - Средняя выручка пользователей из Москвы отличается от выручки пользователей из других регионов\n",
    "\n",
    "**Описание тарифов**\n",
    "\n",
    "**Тариф «Смарт»**\n",
    "Ежемесячная плата: 550 рублей\n",
    "Включено 500 минут разговора, 50 сообщений и 15 Гб интернет-трафика\n",
    "Стоимость услуг сверх тарифного пакета:\n",
    "минута разговора: 3 рубля\n",
    "сообщение: 3 рубля\n",
    "1 Гб интернет-трафика: 200 рублей\n",
    "\n",
    "**Тариф «Ультра»**\n",
    "Ежемесячная плата: 1950 рублей\n",
    "Включено 3000 минут разговора, 1000 сообщений и 30 Гб интернет-трафика\n",
    "Стоимость услуг сверх тарифного пакета:\n",
    "минута разговора: 1 рубль\n",
    "сообщение: 1 рубль\n",
    "1 Гб интернет-трафика: 150 рублей\n",
    "\n",
    "\n",
    "*Примечание*\n",
    "\n",
    "«Мегалайн» всегда округляет секунды до минут, а мегабайты — до гигабайт. Каждый звонок округляется отдельно: даже если он длился всего 1 секунду, будет засчитан как 1 минута.\n",
    "Для веб-трафика отдельные сессии не считаются. Вместо этого общая сумма за месяц округляется в бо́льшую сторону. Если абонент использует 1025 мегабайт в этом месяце, с него возьмут плату за 2 гигабайта. Неиспользованные за предыдущий месяц звонки, смс, интернет на следующий месяц не переносятся.\n",
    "\n",
    "**Данные**\n",
    "\n",
    "- Таблица users (информация о пользователях):\n",
    "    - user_id — уникальный идентификатор пользователя\n",
    "    - first_name — имя пользователя\n",
    "    - last_name — фамилия пользователя\n",
    "    - age — возраст пользователя (годы)\n",
    "    - reg_date — дата подключения тарифа (день, месяц, год)\n",
    "    - churn_date — дата прекращения пользования тарифом (если значение пропущено, то тариф ещё действовал на момент выгрузки данных)\n",
    "    - city — город проживания пользователя\n",
    "    - tariff — название тарифного плана\n",
    "- Таблица calls (информация о звонках):\n",
    "    - id — уникальный номер звонка\n",
    "    - call_date — дата звонка\n",
    "    - duration — длительность звонка в минутах\n",
    "    - user_id — идентификатор пользователя, сделавшего звонок\n",
    "- Таблица messages (информация о сообщениях):\n",
    "    - id — уникальный номер сообщения\n",
    "    - message_date — дата сообщения\n",
    "    - user_id — идентификатор пользователя, отправившего сообщение\n",
    "- Таблица internet (информация об интернет-сессиях):\n",
    "    - id — уникальный номер сессии\n",
    "    - mb_used — объём потраченного за сессию интернет-трафика (в мегабайтах)\n",
    "    - session_date — дата интернет-сессии\n",
    "    - user_id — идентификатор пользователя\n",
    "- Таблица tariffs (информация о тарифах):\n",
    "    - tariff_name — название тарифа\n",
    "    - rub_monthly_fee — ежемесячная абонентская плата в рублях\n",
    "    - minutes_included — количество минут разговора в месяц, включённых в абонентскую плату\n",
    "    - messages_included — количество сообщений в месяц, включённых в абонентскую плату\n",
    "    - mb_per_month_included — объём интернет-трафика, включённого в абонентскую плату (в мегабайтах)\n",
    "    - rub_per_minute — стоимость минуты разговора сверх тарифного пакета (например, если в тарифе 100 минут разговора в месяц, то со 101 минуты будет взиматься плата)\n",
    "    - rub_per_message — стоимость отправки сообщения сверх тарифного пакета\n",
    "    - rub_per_gb — стоимость дополнительного гигабайта интернет-трафика сверх тарифного пакета (1 гигабайт = 1024 мегабайта)\n",
    "    \n",
    "**Инструментарий:**\n",
    "\n",
    "- *библиотеки:* pandas, matplotlib, numpy, functools, scipy\n",
    "- *работа с данными:* read_csv, info, try-except, set_option, isna, sum, fillna, duplicated, reset_index, groupby, len, loc, value_counts, astype,  drop, apply, pivot_table, rename, query, to_datetime, ceil, sort_values, count, describe, merge, reduce, var, std, unique\n",
    "- *статистический анализ:* ttest_ind\n",
    "- *работа с графиками:* hist, boxplot\n",
    "- *циклы for, определение функций, lambda-функции, конструкция if-else*"
   ]
  },
  {
   "cell_type": "markdown",
   "metadata": {},
   "source": [
    "## Изучение данных из файла"
   ]
  },
  {
   "cell_type": "markdown",
   "metadata": {},
   "source": [
    "Импорт библиотек и настройки отображения"
   ]
  },
  {
   "cell_type": "code",
   "execution_count": 1,
   "metadata": {},
   "outputs": [],
   "source": [
    "import pandas as pd\n",
    "import matplotlib.pyplot as plt\n",
    "import numpy as np\n",
    "from functools import reduce\n",
    "from scipy import stats as st"
   ]
  },
  {
   "cell_type": "code",
   "execution_count": 2,
   "metadata": {},
   "outputs": [],
   "source": [
    "#Показывать все колонки\n",
    "pd.set_option('display.max_columns', None)\n",
    "#Вещественные числа показывать в легко читаемом формате\n",
    "pd.options.display.float_format = '{: .2f}'.format"
   ]
  },
  {
   "cell_type": "markdown",
   "metadata": {},
   "source": [
    "Импорт данных"
   ]
  },
  {
   "cell_type": "code",
   "execution_count": 3,
   "metadata": {},
   "outputs": [],
   "source": [
    "try:\n",
    "    calls = pd.read_csv('/datasets/calls.csv')\n",
    "    internet = pd.read_csv('/datasets/internet.csv', index_col=0)\n",
    "    messages = pd.read_csv('/datasets/messages.csv')\n",
    "    tariffs = pd.read_csv('/datasets/tariffs.csv')\n",
    "    users = pd.read_csv('/datasets/users.csv')\n",
    "except:\n",
    "    calls = pd.read_csv('E:/IT/Yandex/Projects/datasets/stat_calls.csv')\n",
    "    internet = pd.read_csv('E:/IT/Yandex/Projects/datasets/stat_internet.csv')\n",
    "    messages = pd.read_csv('E:/IT/Yandex/Projects/datasets/stat_messages.csv')\n",
    "    tariffs = pd.read_csv('E:/IT/Yandex/Projects/datasets/stat_tariffs.csv')\n",
    "    users = pd.read_csv('E:/IT/Yandex/Projects/datasets/stat_users.csv')"
   ]
  },
  {
   "cell_type": "markdown",
   "metadata": {},
   "source": [
    "Знакомство с данными"
   ]
  },
  {
   "cell_type": "code",
   "execution_count": 4,
   "metadata": {},
   "outputs": [],
   "source": [
    "# Определим функцию для знакомства с базой данных и проверки её на явные дубликаты\n",
    "def database_check(db):\n",
    "    print('Случайные 2 строки базы данных')\n",
    "    display(db.sample(2, random_state=0))\n",
    "    print('---')\n",
    "    print('Общая информация о базе данных')\n",
    "    db.info()\n",
    "    print('---')\n",
    "    print('Пропущенных значений в строках:')\n",
    "    print(db.isna().sum())\n",
    "    print('---')\n",
    "    print('Явных дубликатов в базе данных:', db.duplicated().sum())"
   ]
  },
  {
   "cell_type": "code",
   "execution_count": 5,
   "metadata": {
    "scrolled": false
   },
   "outputs": [
    {
     "name": "stdout",
     "output_type": "stream",
     "text": [
      "База данных users\n",
      "Случайные 2 строки базы данных\n"
     ]
    },
    {
     "data": {
      "text/html": [
       "<div>\n",
       "<style scoped>\n",
       "    .dataframe tbody tr th:only-of-type {\n",
       "        vertical-align: middle;\n",
       "    }\n",
       "\n",
       "    .dataframe tbody tr th {\n",
       "        vertical-align: top;\n",
       "    }\n",
       "\n",
       "    .dataframe thead th {\n",
       "        text-align: right;\n",
       "    }\n",
       "</style>\n",
       "<table border=\"1\" class=\"dataframe\">\n",
       "  <thead>\n",
       "    <tr style=\"text-align: right;\">\n",
       "      <th></th>\n",
       "      <th>Unnamed: 0</th>\n",
       "      <th>user_id</th>\n",
       "      <th>age</th>\n",
       "      <th>churn_date</th>\n",
       "      <th>city</th>\n",
       "      <th>first_name</th>\n",
       "      <th>last_name</th>\n",
       "      <th>reg_date</th>\n",
       "      <th>tariff</th>\n",
       "    </tr>\n",
       "  </thead>\n",
       "  <tbody>\n",
       "    <tr>\n",
       "      <th>90</th>\n",
       "      <td>90</td>\n",
       "      <td>1090</td>\n",
       "      <td>54</td>\n",
       "      <td>2018-12-03</td>\n",
       "      <td>Череповец</td>\n",
       "      <td>Екатерина</td>\n",
       "      <td>Астафьева</td>\n",
       "      <td>2018-10-11</td>\n",
       "      <td>ultra</td>\n",
       "    </tr>\n",
       "    <tr>\n",
       "      <th>254</th>\n",
       "      <td>254</td>\n",
       "      <td>1254</td>\n",
       "      <td>75</td>\n",
       "      <td>2018-08-17</td>\n",
       "      <td>Москва</td>\n",
       "      <td>Александра</td>\n",
       "      <td>Сухарева</td>\n",
       "      <td>2018-01-04</td>\n",
       "      <td>ultra</td>\n",
       "    </tr>\n",
       "  </tbody>\n",
       "</table>\n",
       "</div>"
      ],
      "text/plain": [
       "     Unnamed: 0  user_id  age  churn_date       city  first_name  last_name  \\\n",
       "90           90     1090   54  2018-12-03  Череповец   Екатерина  Астафьева   \n",
       "254         254     1254   75  2018-08-17     Москва  Александра   Сухарева   \n",
       "\n",
       "       reg_date tariff  \n",
       "90   2018-10-11  ultra  \n",
       "254  2018-01-04  ultra  "
      ]
     },
     "metadata": {},
     "output_type": "display_data"
    },
    {
     "name": "stdout",
     "output_type": "stream",
     "text": [
      "---\n",
      "Общая информация о базе данных\n",
      "<class 'pandas.core.frame.DataFrame'>\n",
      "RangeIndex: 500 entries, 0 to 499\n",
      "Data columns (total 9 columns):\n",
      " #   Column      Non-Null Count  Dtype \n",
      "---  ------      --------------  ----- \n",
      " 0   Unnamed: 0  500 non-null    int64 \n",
      " 1   user_id     500 non-null    int64 \n",
      " 2   age         500 non-null    int64 \n",
      " 3   churn_date  38 non-null     object\n",
      " 4   city        500 non-null    object\n",
      " 5   first_name  500 non-null    object\n",
      " 6   last_name   500 non-null    object\n",
      " 7   reg_date    500 non-null    object\n",
      " 8   tariff      500 non-null    object\n",
      "dtypes: int64(3), object(6)\n",
      "memory usage: 35.3+ KB\n",
      "---\n",
      "Пропущенных значений в строках:\n",
      "Unnamed: 0      0\n",
      "user_id         0\n",
      "age             0\n",
      "churn_date    462\n",
      "city            0\n",
      "first_name      0\n",
      "last_name       0\n",
      "reg_date        0\n",
      "tariff          0\n",
      "dtype: int64\n",
      "---\n",
      "Явных дубликатов в базе данных: 0\n",
      "База данных calls\n",
      "Случайные 2 строки базы данных\n"
     ]
    },
    {
     "data": {
      "text/html": [
       "<div>\n",
       "<style scoped>\n",
       "    .dataframe tbody tr th:only-of-type {\n",
       "        vertical-align: middle;\n",
       "    }\n",
       "\n",
       "    .dataframe tbody tr th {\n",
       "        vertical-align: top;\n",
       "    }\n",
       "\n",
       "    .dataframe thead th {\n",
       "        text-align: right;\n",
       "    }\n",
       "</style>\n",
       "<table border=\"1\" class=\"dataframe\">\n",
       "  <thead>\n",
       "    <tr style=\"text-align: right;\">\n",
       "      <th></th>\n",
       "      <th>Unnamed: 0</th>\n",
       "      <th>id</th>\n",
       "      <th>call_date</th>\n",
       "      <th>duration</th>\n",
       "      <th>user_id</th>\n",
       "    </tr>\n",
       "  </thead>\n",
       "  <tbody>\n",
       "    <tr>\n",
       "      <th>40510</th>\n",
       "      <td>40510</td>\n",
       "      <td>1100_33</td>\n",
       "      <td>2018-09-23</td>\n",
       "      <td>0.00</td>\n",
       "      <td>1100</td>\n",
       "    </tr>\n",
       "    <tr>\n",
       "      <th>150407</th>\n",
       "      <td>150407</td>\n",
       "      <td>1377_1254</td>\n",
       "      <td>2018-04-03</td>\n",
       "      <td>12.26</td>\n",
       "      <td>1377</td>\n",
       "    </tr>\n",
       "  </tbody>\n",
       "</table>\n",
       "</div>"
      ],
      "text/plain": [
       "        Unnamed: 0         id   call_date  duration  user_id\n",
       "40510        40510    1100_33  2018-09-23      0.00     1100\n",
       "150407      150407  1377_1254  2018-04-03     12.26     1377"
      ]
     },
     "metadata": {},
     "output_type": "display_data"
    },
    {
     "name": "stdout",
     "output_type": "stream",
     "text": [
      "---\n",
      "Общая информация о базе данных\n",
      "<class 'pandas.core.frame.DataFrame'>\n",
      "RangeIndex: 202607 entries, 0 to 202606\n",
      "Data columns (total 5 columns):\n",
      " #   Column      Non-Null Count   Dtype  \n",
      "---  ------      --------------   -----  \n",
      " 0   Unnamed: 0  202607 non-null  int64  \n",
      " 1   id          202607 non-null  object \n",
      " 2   call_date   202607 non-null  object \n",
      " 3   duration    202607 non-null  float64\n",
      " 4   user_id     202607 non-null  int64  \n",
      "dtypes: float64(1), int64(2), object(2)\n",
      "memory usage: 7.7+ MB\n",
      "---\n",
      "Пропущенных значений в строках:\n",
      "Unnamed: 0    0\n",
      "id            0\n",
      "call_date     0\n",
      "duration      0\n",
      "user_id       0\n",
      "dtype: int64\n",
      "---\n",
      "Явных дубликатов в базе данных: 0\n",
      "База данных messages\n",
      "Случайные 2 строки базы данных\n"
     ]
    },
    {
     "data": {
      "text/html": [
       "<div>\n",
       "<style scoped>\n",
       "    .dataframe tbody tr th:only-of-type {\n",
       "        vertical-align: middle;\n",
       "    }\n",
       "\n",
       "    .dataframe tbody tr th {\n",
       "        vertical-align: top;\n",
       "    }\n",
       "\n",
       "    .dataframe thead th {\n",
       "        text-align: right;\n",
       "    }\n",
       "</style>\n",
       "<table border=\"1\" class=\"dataframe\">\n",
       "  <thead>\n",
       "    <tr style=\"text-align: right;\">\n",
       "      <th></th>\n",
       "      <th>Unnamed: 0</th>\n",
       "      <th>id</th>\n",
       "      <th>message_date</th>\n",
       "      <th>user_id</th>\n",
       "    </tr>\n",
       "  </thead>\n",
       "  <tbody>\n",
       "    <tr>\n",
       "      <th>94381</th>\n",
       "      <td>94381</td>\n",
       "      <td>1385_1090</td>\n",
       "      <td>2018-05-03</td>\n",
       "      <td>1385</td>\n",
       "    </tr>\n",
       "    <tr>\n",
       "      <th>109956</th>\n",
       "      <td>109956</td>\n",
       "      <td>1443_55</td>\n",
       "      <td>2018-12-02</td>\n",
       "      <td>1443</td>\n",
       "    </tr>\n",
       "  </tbody>\n",
       "</table>\n",
       "</div>"
      ],
      "text/plain": [
       "        Unnamed: 0         id message_date  user_id\n",
       "94381        94381  1385_1090   2018-05-03     1385\n",
       "109956      109956    1443_55   2018-12-02     1443"
      ]
     },
     "metadata": {},
     "output_type": "display_data"
    },
    {
     "name": "stdout",
     "output_type": "stream",
     "text": [
      "---\n",
      "Общая информация о базе данных\n",
      "<class 'pandas.core.frame.DataFrame'>\n",
      "RangeIndex: 123036 entries, 0 to 123035\n",
      "Data columns (total 4 columns):\n",
      " #   Column        Non-Null Count   Dtype \n",
      "---  ------        --------------   ----- \n",
      " 0   Unnamed: 0    123036 non-null  int64 \n",
      " 1   id            123036 non-null  object\n",
      " 2   message_date  123036 non-null  object\n",
      " 3   user_id       123036 non-null  int64 \n",
      "dtypes: int64(2), object(2)\n",
      "memory usage: 3.8+ MB\n",
      "---\n",
      "Пропущенных значений в строках:\n",
      "Unnamed: 0      0\n",
      "id              0\n",
      "message_date    0\n",
      "user_id         0\n",
      "dtype: int64\n",
      "---\n",
      "Явных дубликатов в базе данных: 0\n",
      "База данных internet\n",
      "Случайные 2 строки базы данных\n"
     ]
    },
    {
     "data": {
      "text/html": [
       "<div>\n",
       "<style scoped>\n",
       "    .dataframe tbody tr th:only-of-type {\n",
       "        vertical-align: middle;\n",
       "    }\n",
       "\n",
       "    .dataframe tbody tr th {\n",
       "        vertical-align: top;\n",
       "    }\n",
       "\n",
       "    .dataframe thead th {\n",
       "        text-align: right;\n",
       "    }\n",
       "</style>\n",
       "<table border=\"1\" class=\"dataframe\">\n",
       "  <thead>\n",
       "    <tr style=\"text-align: right;\">\n",
       "      <th></th>\n",
       "      <th>Unnamed: 0</th>\n",
       "      <th>id</th>\n",
       "      <th>mb_used</th>\n",
       "      <th>session_date</th>\n",
       "      <th>user_id</th>\n",
       "    </tr>\n",
       "  </thead>\n",
       "  <tbody>\n",
       "    <tr>\n",
       "      <th>26617</th>\n",
       "      <td>26617</td>\n",
       "      <td>1092_283</td>\n",
       "      <td>828.84</td>\n",
       "      <td>2018-08-02</td>\n",
       "      <td>1092</td>\n",
       "    </tr>\n",
       "    <tr>\n",
       "      <th>112390</th>\n",
       "      <td>112390</td>\n",
       "      <td>1380_519</td>\n",
       "      <td>912.76</td>\n",
       "      <td>2018-07-20</td>\n",
       "      <td>1380</td>\n",
       "    </tr>\n",
       "  </tbody>\n",
       "</table>\n",
       "</div>"
      ],
      "text/plain": [
       "        Unnamed: 0        id  mb_used session_date  user_id\n",
       "26617        26617  1092_283   828.84   2018-08-02     1092\n",
       "112390      112390  1380_519   912.76   2018-07-20     1380"
      ]
     },
     "metadata": {},
     "output_type": "display_data"
    },
    {
     "name": "stdout",
     "output_type": "stream",
     "text": [
      "---\n",
      "Общая информация о базе данных\n",
      "<class 'pandas.core.frame.DataFrame'>\n",
      "RangeIndex: 149396 entries, 0 to 149395\n",
      "Data columns (total 5 columns):\n",
      " #   Column        Non-Null Count   Dtype  \n",
      "---  ------        --------------   -----  \n",
      " 0   Unnamed: 0    149396 non-null  int64  \n",
      " 1   id            149396 non-null  object \n",
      " 2   mb_used       149396 non-null  float64\n",
      " 3   session_date  149396 non-null  object \n",
      " 4   user_id       149396 non-null  int64  \n",
      "dtypes: float64(1), int64(2), object(2)\n",
      "memory usage: 5.7+ MB\n",
      "---\n",
      "Пропущенных значений в строках:\n",
      "Unnamed: 0      0\n",
      "id              0\n",
      "mb_used         0\n",
      "session_date    0\n",
      "user_id         0\n",
      "dtype: int64\n",
      "---\n",
      "Явных дубликатов в базе данных: 0\n",
      "База данных tariffs\n",
      "Случайные 2 строки базы данных\n"
     ]
    },
    {
     "data": {
      "text/html": [
       "<div>\n",
       "<style scoped>\n",
       "    .dataframe tbody tr th:only-of-type {\n",
       "        vertical-align: middle;\n",
       "    }\n",
       "\n",
       "    .dataframe tbody tr th {\n",
       "        vertical-align: top;\n",
       "    }\n",
       "\n",
       "    .dataframe thead th {\n",
       "        text-align: right;\n",
       "    }\n",
       "</style>\n",
       "<table border=\"1\" class=\"dataframe\">\n",
       "  <thead>\n",
       "    <tr style=\"text-align: right;\">\n",
       "      <th></th>\n",
       "      <th>Unnamed: 0</th>\n",
       "      <th>messages_included</th>\n",
       "      <th>mb_per_month_included</th>\n",
       "      <th>minutes_included</th>\n",
       "      <th>rub_monthly_fee</th>\n",
       "      <th>rub_per_gb</th>\n",
       "      <th>rub_per_message</th>\n",
       "      <th>rub_per_minute</th>\n",
       "      <th>tariff_name</th>\n",
       "    </tr>\n",
       "  </thead>\n",
       "  <tbody>\n",
       "    <tr>\n",
       "      <th>1</th>\n",
       "      <td>1</td>\n",
       "      <td>1000</td>\n",
       "      <td>30720</td>\n",
       "      <td>3000</td>\n",
       "      <td>1950</td>\n",
       "      <td>150</td>\n",
       "      <td>1</td>\n",
       "      <td>1</td>\n",
       "      <td>ultra</td>\n",
       "    </tr>\n",
       "    <tr>\n",
       "      <th>0</th>\n",
       "      <td>0</td>\n",
       "      <td>50</td>\n",
       "      <td>15360</td>\n",
       "      <td>500</td>\n",
       "      <td>550</td>\n",
       "      <td>200</td>\n",
       "      <td>3</td>\n",
       "      <td>3</td>\n",
       "      <td>smart</td>\n",
       "    </tr>\n",
       "  </tbody>\n",
       "</table>\n",
       "</div>"
      ],
      "text/plain": [
       "   Unnamed: 0  messages_included  mb_per_month_included  minutes_included  \\\n",
       "1           1               1000                  30720              3000   \n",
       "0           0                 50                  15360               500   \n",
       "\n",
       "   rub_monthly_fee  rub_per_gb  rub_per_message  rub_per_minute tariff_name  \n",
       "1             1950         150                1               1       ultra  \n",
       "0              550         200                3               3       smart  "
      ]
     },
     "metadata": {},
     "output_type": "display_data"
    },
    {
     "name": "stdout",
     "output_type": "stream",
     "text": [
      "---\n",
      "Общая информация о базе данных\n",
      "<class 'pandas.core.frame.DataFrame'>\n",
      "RangeIndex: 2 entries, 0 to 1\n",
      "Data columns (total 9 columns):\n",
      " #   Column                 Non-Null Count  Dtype \n",
      "---  ------                 --------------  ----- \n",
      " 0   Unnamed: 0             2 non-null      int64 \n",
      " 1   messages_included      2 non-null      int64 \n",
      " 2   mb_per_month_included  2 non-null      int64 \n",
      " 3   minutes_included       2 non-null      int64 \n",
      " 4   rub_monthly_fee        2 non-null      int64 \n",
      " 5   rub_per_gb             2 non-null      int64 \n",
      " 6   rub_per_message        2 non-null      int64 \n",
      " 7   rub_per_minute         2 non-null      int64 \n",
      " 8   tariff_name            2 non-null      object\n",
      "dtypes: int64(8), object(1)\n",
      "memory usage: 272.0+ bytes\n",
      "---\n",
      "Пропущенных значений в строках:\n",
      "Unnamed: 0               0\n",
      "messages_included        0\n",
      "mb_per_month_included    0\n",
      "minutes_included         0\n",
      "rub_monthly_fee          0\n",
      "rub_per_gb               0\n",
      "rub_per_message          0\n",
      "rub_per_minute           0\n",
      "tariff_name              0\n",
      "dtype: int64\n",
      "---\n",
      "Явных дубликатов в базе данных: 0\n"
     ]
    }
   ],
   "source": [
    "# Определим список баз данных для проверки\n",
    "dtb = {\n",
    "    \"users\": users,\n",
    "    \"calls\": calls,\n",
    "    \"messages\": messages,\n",
    "    \"internet\": internet,\n",
    "    \"tariffs\": tariffs\n",
    "    }\n",
    "# Проведем знакомство с базами данных\n",
    "for name, database in dtb.items():\n",
    "    print('База данных', name)\n",
    "    database_check(database)"
   ]
  },
  {
   "cell_type": "markdown",
   "metadata": {},
   "source": [
    "Поверим временной охват данных"
   ]
  },
  {
   "cell_type": "code",
   "execution_count": 6,
   "metadata": {},
   "outputs": [
    {
     "name": "stdout",
     "output_type": "stream",
     "text": [
      "Данные охватывают период с 2018-01-01 по 2018-12-31\n"
     ]
    }
   ],
   "source": [
    "print('Данные охватывают период с {start} по {end}'.format(start=internet['session_date'].min(), end=internet['session_date'].max()))"
   ]
  },
  {
   "cell_type": "markdown",
   "metadata": {},
   "source": [
    "Данные охватывают ровно весь 2018 год"
   ]
  },
  {
   "cell_type": "markdown",
   "metadata": {},
   "source": [
    "### Вывод"
   ]
  },
  {
   "cell_type": "markdown",
   "metadata": {},
   "source": [
    "Исходные данные представлены в пяти таблицах. В колонке идентификаторов базы данных internet неверное прочтение имени колонки. Это исправлено в условиях импорта данных. В остальном данные хорошо подготовлены и не содержат пропусков или дубликатов. Единственное поле, которое частично заполнено значениями - это churn_date в таблице информации о пользователях, которое содержит информацию о дате прекращения пользования тарифом. Отсутствие данных указывает на то, что пользователи всё ещё пользуются выбранным тарифом, поэтому заполнять это поле значениями мы не будем.\n",
    "Из подготовительных мер можно перевести даты пользования услугами связи в формат datetime и значения времени телефонных звонков в целочисленный формат с округлением вверх. Можно было бы перевести и значения использованного интернет-трафика в целочисленные для удобства обработки и хранения данных, но возникает риск ошибочного учета или не учета дополнительных гигабайт сверх пакета при округлении значений, поэтому делать этого мы пока не будем."
   ]
  },
  {
   "cell_type": "markdown",
   "metadata": {},
   "source": [
    "## Предобработка данных"
   ]
  },
  {
   "cell_type": "markdown",
   "metadata": {},
   "source": [
    "Переведем формат полей в более подходящий"
   ]
  },
  {
   "cell_type": "code",
   "execution_count": 7,
   "metadata": {},
   "outputs": [],
   "source": [
    "#Изменим имя колонки tariff в таблице users, чтобы в дальнейшем было проще связать эти две таблицы\n",
    "users = users.rename(columns={'tariff': 'tariff_name'})\n",
    "#Перевод всех дат в формат datetime\n",
    "calls['call_date'] = pd.to_datetime(calls['call_date'], format='%Y-%m-%d')\n",
    "messages['message_date'] = pd.to_datetime(messages['message_date'], format='%Y-%m-%d')\n",
    "internet['session_date'] = pd.to_datetime(internet['session_date'], format='%Y-%m-%d')\n",
    "#Округление минут звонков в целочисленные значения\n",
    "calls['duration'] = np.ceil(calls['duration']).astype(int)"
   ]
  },
  {
   "cell_type": "markdown",
   "metadata": {},
   "source": [
    "Добавим отдельную колонку месяца пользования услугами связи, так как весь наш анализ строится по месяцам"
   ]
  },
  {
   "cell_type": "code",
   "execution_count": 8,
   "metadata": {},
   "outputs": [],
   "source": [
    "calls['month'] = calls['call_date'].astype('datetime64[M]')\n",
    "messages['month'] = messages['message_date'].astype('datetime64[M]')\n",
    "internet['month'] = internet['session_date'].astype('datetime64[M]')"
   ]
  },
  {
   "cell_type": "markdown",
   "metadata": {},
   "source": [
    "Проверим, как распределяются пользователи по городам"
   ]
  },
  {
   "cell_type": "code",
   "execution_count": 9,
   "metadata": {},
   "outputs": [
    {
     "data": {
      "text/plain": [
       "city\n",
       "Москва              99\n",
       "Санкт-Петербург     39\n",
       "Новосибирск         16\n",
       "Казань              14\n",
       "Омск                14\n",
       "Уфа                 12\n",
       "Набережные Челны    11\n",
       "Краснодар           11\n",
       "Екатеринбург        11\n",
       "Ульяновск           11\n",
       "Name: user_id, dtype: int64"
      ]
     },
     "execution_count": 9,
     "metadata": {},
     "output_type": "execute_result"
    }
   ],
   "source": [
    "users.groupby('city')['user_id'].count().sort_values(ascending=False).head(10)"
   ]
  },
  {
   "cell_type": "markdown",
   "metadata": {},
   "source": [
    "Закономерно, наибольшее относительное число пользователей в столицах, в остальных городах сильно меньше"
   ]
  },
  {
   "cell_type": "markdown",
   "metadata": {},
   "source": [
    "Построим гистограммы значений в таблицах, чтобы оценить нормальность распределения данных"
   ]
  },
  {
   "cell_type": "code",
   "execution_count": 10,
   "metadata": {
    "scrolled": false
   },
   "outputs": [
    {
     "data": {
      "image/png": "[encoded data removed]",
      "text/plain": [
       "<Figure size 432x288 with 1 Axes>"
      ]
     },
     "metadata": {
      "needs_background": "light"
     },
     "output_type": "display_data"
    }
   ],
   "source": [
    "users['age'].hist(bins=57)\n",
    "plt.title('Возраст пользователей')\n",
    "plt.xlabel('Возраст')\n",
    "plt.ylabel('Количество случаев')\n",
    "plt.show()"
   ]
  },
  {
   "cell_type": "markdown",
   "metadata": {},
   "source": [
    "Возраст распределён довольно странно и явно распределение отличается от нормального.\n",
    "Поскольку по умолчанию мы знаем, что пользователи разделены на две группы по использованию тарифного плана, посмотрим на их соотношение в плане возраста"
   ]
  },
  {
   "cell_type": "code",
   "execution_count": 11,
   "metadata": {
    "scrolled": false
   },
   "outputs": [
    {
     "data": {
      "image/png": "[encoded data removed]",
      "text/plain": [
       "<Figure size 432x288 with 1 Axes>"
      ]
     },
     "metadata": {
      "needs_background": "light"
     },
     "output_type": "display_data"
    },
    {
     "data": {
      "image/png": "[encoded data removed]",
      "text/plain": [
       "<Figure size 432x288 with 1 Axes>"
      ]
     },
     "metadata": {
      "needs_background": "light"
     },
     "output_type": "display_data"
    }
   ],
   "source": [
    "users.query('tariff_name == \"ultra\"')['age'].hist(bins=57)\n",
    "plt.title('Возраст пользователей тарифа Ultra')\n",
    "plt.xlabel('Возраст')\n",
    "plt.ylabel('Количество случаев')\n",
    "plt.show()\n",
    "\n",
    "users.query('tariff_name == \"smart\"')['age'].hist(bins=57)\n",
    "plt.title('Возраст пользователей тарифа Smart')\n",
    "plt.xlabel('Возраст')\n",
    "plt.ylabel('Количество случаев')\n",
    "plt.show()"
   ]
  },
  {
   "cell_type": "markdown",
   "metadata": {},
   "source": [
    "Разительной разницы в возрасте использования тарифных планов не наблюдается. Можно предположить, что генеральная совокупность данных была стратифицирована по возрасту и для каждой категории вычленена доля для выборки. "
   ]
  },
  {
   "cell_type": "markdown",
   "metadata": {},
   "source": [
    "Посмотрим, как распределяются пользователи по выбору тарифного плана"
   ]
  },
  {
   "cell_type": "code",
   "execution_count": 12,
   "metadata": {
    "scrolled": false
   },
   "outputs": [
    {
     "name": "stdout",
     "output_type": "stream",
     "text": [
      "Пользователей тарифом Ultra: 149\n",
      "Из них прекратили им пользоваться: 15\n",
      "\n",
      "Пользователей тарифом Smart: 351\n",
      "Из них прекратили им пользоваться: 23\n",
      "\n",
      "Процентная доля в выборке клиентов с тарифом Ultra: 30%, с тарифом Smart: 70%\n"
     ]
    }
   ],
   "source": [
    "print('Пользователей тарифом Ultra:', users.query('tariff_name == \"ultra\"')['user_id'].count())\n",
    "print('Из них прекратили им пользоваться:', users.query('tariff_name == \"ultra\"')['churn_date'].count())\n",
    "print('')\n",
    "print('Пользователей тарифом Smart:', users.query('tariff_name == \"smart\"')['user_id'].count())\n",
    "print('Из них прекратили им пользоваться:', users.query('tariff_name == \"smart\"')['churn_date'].count())\n",
    "print('')\n",
    "print('Процентная доля в выборке клиентов с тарифом Ultra: {one}%, с тарифом Smart: {two}%'.format(one=np.ceil(users.query('tariff_name == \"ultra\"')['user_id'].count() / len(users) * 100).astype(int), two=int(users.query('tariff_name == \"smart\"')['user_id'].count() / len(users) * 100)))"
   ]
  },
  {
   "cell_type": "markdown",
   "metadata": {},
   "source": [
    "Данные распределены вполне логично, что более дорогим тарифом пользуется меньше людей, чем более дешевым. Соотношение прекративших пользоваться тарифом в целом тоже логично."
   ]
  },
  {
   "cell_type": "markdown",
   "metadata": {},
   "source": [
    "Проверим гистограммы и описательную статистику основных численных показателей: суммарной продолжительности телефонных звонков, количестве отправленных сообщений и потраченных мегабайт интернет-трафика"
   ]
  },
  {
   "cell_type": "code",
   "execution_count": 13,
   "metadata": {
    "scrolled": false
   },
   "outputs": [
    {
     "data": {
      "image/png": "[encoded data removed]",
      "text/plain": [
       "<Figure size 432x288 with 1 Axes>"
      ]
     },
     "metadata": {
      "needs_background": "light"
     },
     "output_type": "display_data"
    },
    {
     "data": {
      "text/html": [
       "<div>\n",
       "<style scoped>\n",
       "    .dataframe tbody tr th:only-of-type {\n",
       "        vertical-align: middle;\n",
       "    }\n",
       "\n",
       "    .dataframe tbody tr th {\n",
       "        vertical-align: top;\n",
       "    }\n",
       "\n",
       "    .dataframe thead th {\n",
       "        text-align: right;\n",
       "    }\n",
       "</style>\n",
       "<table border=\"1\" class=\"dataframe\">\n",
       "  <thead>\n",
       "    <tr style=\"text-align: right;\">\n",
       "      <th></th>\n",
       "      <th>Unnamed: 0</th>\n",
       "      <th>duration</th>\n",
       "      <th>user_id</th>\n",
       "    </tr>\n",
       "  </thead>\n",
       "  <tbody>\n",
       "    <tr>\n",
       "      <th>count</th>\n",
       "      <td>162994.00</td>\n",
       "      <td>162994.00</td>\n",
       "      <td>162994.00</td>\n",
       "    </tr>\n",
       "    <tr>\n",
       "      <th>mean</th>\n",
       "      <td>101389.92</td>\n",
       "      <td>8.90</td>\n",
       "      <td>1254.15</td>\n",
       "    </tr>\n",
       "    <tr>\n",
       "      <th>std</th>\n",
       "      <td>58502.91</td>\n",
       "      <td>5.35</td>\n",
       "      <td>144.75</td>\n",
       "    </tr>\n",
       "    <tr>\n",
       "      <th>min</th>\n",
       "      <td>2.00</td>\n",
       "      <td>1.00</td>\n",
       "      <td>1000.00</td>\n",
       "    </tr>\n",
       "    <tr>\n",
       "      <th>25%</th>\n",
       "      <td>50726.25</td>\n",
       "      <td>5.00</td>\n",
       "      <td>1126.00</td>\n",
       "    </tr>\n",
       "    <tr>\n",
       "      <th>50%</th>\n",
       "      <td>101417.50</td>\n",
       "      <td>8.00</td>\n",
       "      <td>1261.00</td>\n",
       "    </tr>\n",
       "    <tr>\n",
       "      <th>75%</th>\n",
       "      <td>152104.75</td>\n",
       "      <td>12.00</td>\n",
       "      <td>1379.00</td>\n",
       "    </tr>\n",
       "    <tr>\n",
       "      <th>max</th>\n",
       "      <td>202606.00</td>\n",
       "      <td>38.00</td>\n",
       "      <td>1499.00</td>\n",
       "    </tr>\n",
       "  </tbody>\n",
       "</table>\n",
       "</div>"
      ],
      "text/plain": [
       "       Unnamed: 0   duration    user_id\n",
       "count   162994.00  162994.00  162994.00\n",
       "mean    101389.92       8.90    1254.15\n",
       "std      58502.91       5.35     144.75\n",
       "min          2.00       1.00    1000.00\n",
       "25%      50726.25       5.00    1126.00\n",
       "50%     101417.50       8.00    1261.00\n",
       "75%     152104.75      12.00    1379.00\n",
       "max     202606.00      38.00    1499.00"
      ]
     },
     "metadata": {},
     "output_type": "display_data"
    },
    {
     "data": {
      "image/png": "[encoded data removed]",
      "text/plain": [
       "<Figure size 432x288 with 1 Axes>"
      ]
     },
     "metadata": {
      "needs_background": "light"
     },
     "output_type": "display_data"
    },
    {
     "data": {
      "image/png": "[encoded data removed]",
      "text/plain": [
       "<Figure size 432x288 with 1 Axes>"
      ]
     },
     "metadata": {
      "needs_background": "light"
     },
     "output_type": "display_data"
    },
    {
     "data": {
      "text/html": [
       "<div>\n",
       "<style scoped>\n",
       "    .dataframe tbody tr th:only-of-type {\n",
       "        vertical-align: middle;\n",
       "    }\n",
       "\n",
       "    .dataframe tbody tr th {\n",
       "        vertical-align: top;\n",
       "    }\n",
       "\n",
       "    .dataframe thead th {\n",
       "        text-align: right;\n",
       "    }\n",
       "</style>\n",
       "<table border=\"1\" class=\"dataframe\">\n",
       "  <thead>\n",
       "    <tr style=\"text-align: right;\">\n",
       "      <th></th>\n",
       "      <th>Unnamed: 0</th>\n",
       "      <th>mb_used</th>\n",
       "      <th>user_id</th>\n",
       "    </tr>\n",
       "  </thead>\n",
       "  <tbody>\n",
       "    <tr>\n",
       "      <th>count</th>\n",
       "      <td>129798.00</td>\n",
       "      <td>129798.00</td>\n",
       "      <td>129798.00</td>\n",
       "    </tr>\n",
       "    <tr>\n",
       "      <th>mean</th>\n",
       "      <td>74978.64</td>\n",
       "      <td>426.09</td>\n",
       "      <td>1253.05</td>\n",
       "    </tr>\n",
       "    <tr>\n",
       "      <th>std</th>\n",
       "      <td>43047.14</td>\n",
       "      <td>255.60</td>\n",
       "      <td>143.78</td>\n",
       "    </tr>\n",
       "    <tr>\n",
       "      <th>min</th>\n",
       "      <td>0.00</td>\n",
       "      <td>0.03</td>\n",
       "      <td>1000.00</td>\n",
       "    </tr>\n",
       "    <tr>\n",
       "      <th>25%</th>\n",
       "      <td>37675.25</td>\n",
       "      <td>227.46</td>\n",
       "      <td>1132.00</td>\n",
       "    </tr>\n",
       "    <tr>\n",
       "      <th>50%</th>\n",
       "      <td>75253.00</td>\n",
       "      <td>400.54</td>\n",
       "      <td>1252.00</td>\n",
       "    </tr>\n",
       "    <tr>\n",
       "      <th>75%</th>\n",
       "      <td>112247.75</td>\n",
       "      <td>592.95</td>\n",
       "      <td>1380.00</td>\n",
       "    </tr>\n",
       "    <tr>\n",
       "      <th>max</th>\n",
       "      <td>149395.00</td>\n",
       "      <td>1724.83</td>\n",
       "      <td>1499.00</td>\n",
       "    </tr>\n",
       "  </tbody>\n",
       "</table>\n",
       "</div>"
      ],
      "text/plain": [
       "       Unnamed: 0    mb_used    user_id\n",
       "count   129798.00  129798.00  129798.00\n",
       "mean     74978.64     426.09    1253.05\n",
       "std      43047.14     255.60     143.78\n",
       "min          0.00       0.03    1000.00\n",
       "25%      37675.25     227.46    1132.00\n",
       "50%      75253.00     400.54    1252.00\n",
       "75%     112247.75     592.95    1380.00\n",
       "max     149395.00    1724.83    1499.00"
      ]
     },
     "metadata": {},
     "output_type": "display_data"
    }
   ],
   "source": [
    "calls['duration'].hist(bins=40)\n",
    "plt.title('Продолжительность телефонных звонков')\n",
    "plt.xlabel('Минуты')\n",
    "plt.ylabel('Количество случаев')\n",
    "plt.show()\n",
    "display(calls.query('duration > 0').describe())\n",
    "\n",
    "messages.pivot_table(index=['user_id', 'month'], values='id', aggfunc='count').reset_index()['id'].hist(bins=40)\n",
    "plt.title('Количество отправленных сообщений каждым пользователем')\n",
    "plt.xlabel('Сообщения')\n",
    "plt.ylabel('Количество случаев')\n",
    "plt.show()\n",
    "\n",
    "internet['mb_used'].hist(bins=40)\n",
    "plt.title('Использование интернет-трафика')\n",
    "plt.xlabel('Мегабайты трафика')\n",
    "plt.ylabel('Количество случаев')\n",
    "plt.show()\n",
    "display(internet.query('mb_used > 0').describe())"
   ]
  },
  {
   "cell_type": "markdown",
   "metadata": {},
   "source": [
    "Для звонков и пользования интернета очень велика доля нулевых значений, которая означает пропущенные звонки и отсутствие фактического пользования интернетом. В остальном диапазоне данные имеют нормальное распределение с уклоном вправо, что логично.\n",
    "В среднем в день пользователи звонят 9 минут и расходуют 400 Мб интернет-трафика.\n",
    "Количество смс-сообщений от каждого пользователя тоже распределено логично, хоть и не имеет классического вида нормального распределения. Большниство пользователей отправляют до 100 смс в месяц."
   ]
  },
  {
   "cell_type": "markdown",
   "metadata": {},
   "source": [
    "### Вывод"
   ]
  },
  {
   "cell_type": "markdown",
   "metadata": {},
   "source": [
    "Распредедение длительности звонков и потраченного интернет-трафика укладывается в нормальное распределение, за вычетом нулевых значений. Рассылка смс тоже выглядит логичной, в данных ошибок не обнаружено. Из 500 пользователей, по которым проведен анализ, большинство в относительном выражении из Москвы и СПб, также 2/3 имеют более дешевый тариф smart, а 1/3 более дорогой ultra, всё логично.\n",
    "Неправдоподобно выглядит выборка по возрасту пользователей, общая и по категориям тарифа, чьё распределение отличается от нормального. Можно предположить, что генеральная совокупность данных была стратифицирована по возрасту и для каждой категории вычленена доля для выборки. "
   ]
  },
  {
   "cell_type": "markdown",
   "metadata": {},
   "source": [
    "## Расчёт помесячной выручки с каждого пользователя"
   ]
  },
  {
   "cell_type": "markdown",
   "metadata": {},
   "source": [
    "Посчитаем для каждого пользователя:\n",
    "- количество сделанных звонков и израсходованных минут разговора по месяцам;\n",
    "- количество отправленных сообщений по месяцам;\n",
    "- объем израсходованного интернет-трафика по месяцам;\n",
    "- итоговую помесячную выручку с каждого пользователя."
   ]
  },
  {
   "cell_type": "code",
   "execution_count": 14,
   "metadata": {},
   "outputs": [
    {
     "data": {
      "text/html": [
       "<div>\n",
       "<style scoped>\n",
       "    .dataframe tbody tr th:only-of-type {\n",
       "        vertical-align: middle;\n",
       "    }\n",
       "\n",
       "    .dataframe tbody tr th {\n",
       "        vertical-align: top;\n",
       "    }\n",
       "\n",
       "    .dataframe thead th {\n",
       "        text-align: right;\n",
       "    }\n",
       "</style>\n",
       "<table border=\"1\" class=\"dataframe\">\n",
       "  <thead>\n",
       "    <tr style=\"text-align: right;\">\n",
       "      <th></th>\n",
       "      <th>user_id</th>\n",
       "      <th>month</th>\n",
       "      <th>call_count</th>\n",
       "      <th>call_sum</th>\n",
       "    </tr>\n",
       "  </thead>\n",
       "  <tbody>\n",
       "    <tr>\n",
       "      <th>0</th>\n",
       "      <td>1000</td>\n",
       "      <td>2018-05-01</td>\n",
       "      <td>22</td>\n",
       "      <td>159</td>\n",
       "    </tr>\n",
       "    <tr>\n",
       "      <th>1</th>\n",
       "      <td>1000</td>\n",
       "      <td>2018-06-01</td>\n",
       "      <td>43</td>\n",
       "      <td>172</td>\n",
       "    </tr>\n",
       "  </tbody>\n",
       "</table>\n",
       "</div>"
      ],
      "text/plain": [
       "   user_id      month  call_count  call_sum\n",
       "0     1000 2018-05-01          22       159\n",
       "1     1000 2018-06-01          43       172"
      ]
     },
     "metadata": {},
     "output_type": "display_data"
    },
    {
     "data": {
      "text/html": [
       "<div>\n",
       "<style scoped>\n",
       "    .dataframe tbody tr th:only-of-type {\n",
       "        vertical-align: middle;\n",
       "    }\n",
       "\n",
       "    .dataframe tbody tr th {\n",
       "        vertical-align: top;\n",
       "    }\n",
       "\n",
       "    .dataframe thead th {\n",
       "        text-align: right;\n",
       "    }\n",
       "</style>\n",
       "<table border=\"1\" class=\"dataframe\">\n",
       "  <thead>\n",
       "    <tr style=\"text-align: right;\">\n",
       "      <th></th>\n",
       "      <th>user_id</th>\n",
       "      <th>month</th>\n",
       "      <th>messages_count</th>\n",
       "    </tr>\n",
       "  </thead>\n",
       "  <tbody>\n",
       "    <tr>\n",
       "      <th>0</th>\n",
       "      <td>1000</td>\n",
       "      <td>2018-05-01</td>\n",
       "      <td>22</td>\n",
       "    </tr>\n",
       "    <tr>\n",
       "      <th>1</th>\n",
       "      <td>1000</td>\n",
       "      <td>2018-06-01</td>\n",
       "      <td>60</td>\n",
       "    </tr>\n",
       "  </tbody>\n",
       "</table>\n",
       "</div>"
      ],
      "text/plain": [
       "   user_id      month  messages_count\n",
       "0     1000 2018-05-01              22\n",
       "1     1000 2018-06-01              60"
      ]
     },
     "metadata": {},
     "output_type": "display_data"
    },
    {
     "data": {
      "text/html": [
       "<div>\n",
       "<style scoped>\n",
       "    .dataframe tbody tr th:only-of-type {\n",
       "        vertical-align: middle;\n",
       "    }\n",
       "\n",
       "    .dataframe tbody tr th {\n",
       "        vertical-align: top;\n",
       "    }\n",
       "\n",
       "    .dataframe thead th {\n",
       "        text-align: right;\n",
       "    }\n",
       "</style>\n",
       "<table border=\"1\" class=\"dataframe\">\n",
       "  <thead>\n",
       "    <tr style=\"text-align: right;\">\n",
       "      <th></th>\n",
       "      <th>user_id</th>\n",
       "      <th>month</th>\n",
       "      <th>inet_count</th>\n",
       "      <th>inet_sum</th>\n",
       "    </tr>\n",
       "  </thead>\n",
       "  <tbody>\n",
       "    <tr>\n",
       "      <th>0</th>\n",
       "      <td>1000</td>\n",
       "      <td>2018-05-01</td>\n",
       "      <td>5</td>\n",
       "      <td>2253.49</td>\n",
       "    </tr>\n",
       "    <tr>\n",
       "      <th>1</th>\n",
       "      <td>1000</td>\n",
       "      <td>2018-06-01</td>\n",
       "      <td>49</td>\n",
       "      <td>23233.77</td>\n",
       "    </tr>\n",
       "  </tbody>\n",
       "</table>\n",
       "</div>"
      ],
      "text/plain": [
       "   user_id      month  inet_count  inet_sum\n",
       "0     1000 2018-05-01           5   2253.49\n",
       "1     1000 2018-06-01          49  23233.77"
      ]
     },
     "metadata": {},
     "output_type": "display_data"
    }
   ],
   "source": [
    "#Группировка звонков по пользователям и месяцам\n",
    "calls_pivot = calls.pivot_table(index=['user_id', 'month'], values='duration', aggfunc=['count', 'sum']).reset_index()\n",
    "calls_pivot.columns=['user_id', 'month', 'call_count', 'call_sum']\n",
    "display(calls_pivot.head(2))\n",
    "#Группировка сообщений по пользователям и месяцам\n",
    "messages_pivot = messages.pivot_table(index=['user_id', 'month'], values='id', aggfunc='count').reset_index()\n",
    "messages_pivot.columns=['user_id', 'month', 'messages_count']\n",
    "display(messages_pivot.head(2))\n",
    "#Группировка интернет-трафика по пользователям и месяцам\n",
    "internet_pivot = internet.pivot_table(index=['user_id', 'month'], values='mb_used', aggfunc=['count', 'sum']).reset_index()\n",
    "internet_pivot.columns=['user_id', 'month', 'inet_count', 'inet_sum']\n",
    "display(internet_pivot.head(2))"
   ]
  },
  {
   "cell_type": "markdown",
   "metadata": {},
   "source": [
    "Используя временные переменные, соединим все 5 табличек в одну общую"
   ]
  },
  {
   "cell_type": "code",
   "execution_count": 15,
   "metadata": {},
   "outputs": [],
   "source": [
    "# Соединим сгруппированные таблицы методом reduce\n",
    "data_frames = [calls_pivot, messages_pivot, internet_pivot]\n",
    "data_merged = reduce(lambda  left,right: pd.merge(left,right,on=['user_id','month'], how='outer'), data_frames)\n",
    "# Присоединение базы данных users\n",
    "data_merged2 = data_merged.merge(users, on='user_id', how='outer') \n",
    "# Присоединение базы данных tariffs\n",
    "muser = data_merged2.merge(tariffs, on='tariff_name', how='outer') "
   ]
  },
  {
   "cell_type": "markdown",
   "metadata": {},
   "source": [
    "Проверим, имеются ли пользователи, которые никогда не пользовались услугами связи и удалим такие значения, если имеются"
   ]
  },
  {
   "cell_type": "code",
   "execution_count": 16,
   "metadata": {
    "scrolled": false
   },
   "outputs": [
    {
     "data": {
      "text/html": [
       "<div>\n",
       "<style scoped>\n",
       "    .dataframe tbody tr th:only-of-type {\n",
       "        vertical-align: middle;\n",
       "    }\n",
       "\n",
       "    .dataframe tbody tr th {\n",
       "        vertical-align: top;\n",
       "    }\n",
       "\n",
       "    .dataframe thead th {\n",
       "        text-align: right;\n",
       "    }\n",
       "</style>\n",
       "<table border=\"1\" class=\"dataframe\">\n",
       "  <thead>\n",
       "    <tr style=\"text-align: right;\">\n",
       "      <th></th>\n",
       "      <th>user_id</th>\n",
       "      <th>month</th>\n",
       "      <th>call_count</th>\n",
       "      <th>call_sum</th>\n",
       "      <th>messages_count</th>\n",
       "      <th>inet_count</th>\n",
       "      <th>inet_sum</th>\n",
       "      <th>Unnamed: 0_x</th>\n",
       "      <th>age</th>\n",
       "      <th>churn_date</th>\n",
       "      <th>city</th>\n",
       "      <th>first_name</th>\n",
       "      <th>last_name</th>\n",
       "      <th>reg_date</th>\n",
       "      <th>tariff_name</th>\n",
       "      <th>Unnamed: 0_y</th>\n",
       "      <th>messages_included</th>\n",
       "      <th>mb_per_month_included</th>\n",
       "      <th>minutes_included</th>\n",
       "      <th>rub_monthly_fee</th>\n",
       "      <th>rub_per_gb</th>\n",
       "      <th>rub_per_message</th>\n",
       "      <th>rub_per_minute</th>\n",
       "    </tr>\n",
       "  </thead>\n",
       "  <tbody>\n",
       "    <tr>\n",
       "      <th>985</th>\n",
       "      <td>1128</td>\n",
       "      <td>NaT</td>\n",
       "      <td>NaN</td>\n",
       "      <td>NaN</td>\n",
       "      <td>NaN</td>\n",
       "      <td>NaN</td>\n",
       "      <td>NaN</td>\n",
       "      <td>128</td>\n",
       "      <td>51</td>\n",
       "      <td>2018-12-23</td>\n",
       "      <td>Волжский</td>\n",
       "      <td>Ксения</td>\n",
       "      <td>Агаева</td>\n",
       "      <td>2018-12-15</td>\n",
       "      <td>ultra</td>\n",
       "      <td>1</td>\n",
       "      <td>1000</td>\n",
       "      <td>30720</td>\n",
       "      <td>3000</td>\n",
       "      <td>1950</td>\n",
       "      <td>150</td>\n",
       "      <td>1</td>\n",
       "      <td>1</td>\n",
       "    </tr>\n",
       "    <tr>\n",
       "      <th>3215</th>\n",
       "      <td>1371</td>\n",
       "      <td>NaT</td>\n",
       "      <td>NaN</td>\n",
       "      <td>NaN</td>\n",
       "      <td>NaN</td>\n",
       "      <td>NaN</td>\n",
       "      <td>NaN</td>\n",
       "      <td>371</td>\n",
       "      <td>50</td>\n",
       "      <td>2018-12-30</td>\n",
       "      <td>Омск</td>\n",
       "      <td>Ириней</td>\n",
       "      <td>Трофимов</td>\n",
       "      <td>2018-12-25</td>\n",
       "      <td>smart</td>\n",
       "      <td>0</td>\n",
       "      <td>50</td>\n",
       "      <td>15360</td>\n",
       "      <td>500</td>\n",
       "      <td>550</td>\n",
       "      <td>200</td>\n",
       "      <td>3</td>\n",
       "      <td>3</td>\n",
       "    </tr>\n",
       "  </tbody>\n",
       "</table>\n",
       "</div>"
      ],
      "text/plain": [
       "      user_id month  call_count  call_sum  messages_count  inet_count  \\\n",
       "985      1128   NaT         NaN       NaN             NaN         NaN   \n",
       "3215     1371   NaT         NaN       NaN             NaN         NaN   \n",
       "\n",
       "      inet_sum  Unnamed: 0_x  age  churn_date      city first_name last_name  \\\n",
       "985        NaN           128   51  2018-12-23  Волжский     Ксения    Агаева   \n",
       "3215       NaN           371   50  2018-12-30      Омск     Ириней  Трофимов   \n",
       "\n",
       "        reg_date tariff_name  Unnamed: 0_y  messages_included  \\\n",
       "985   2018-12-15       ultra             1               1000   \n",
       "3215  2018-12-25       smart             0                 50   \n",
       "\n",
       "      mb_per_month_included  minutes_included  rub_monthly_fee  rub_per_gb  \\\n",
       "985                   30720              3000             1950         150   \n",
       "3215                  15360               500              550         200   \n",
       "\n",
       "      rub_per_message  rub_per_minute  \n",
       "985                 1               1  \n",
       "3215                3               3  "
      ]
     },
     "metadata": {},
     "output_type": "display_data"
    }
   ],
   "source": [
    "display(muser[muser['month'].isnull()])"
   ]
  },
  {
   "cell_type": "code",
   "execution_count": 17,
   "metadata": {},
   "outputs": [],
   "source": [
    "muser = muser.drop(muser.query(\"month.isnull() == True\").reset_index()['index'])"
   ]
  },
  {
   "cell_type": "markdown",
   "metadata": {},
   "source": [
    "Заполним пропуски значений и оптимизируем формат хранения данных на целочисленный"
   ]
  },
  {
   "cell_type": "code",
   "execution_count": 18,
   "metadata": {},
   "outputs": [],
   "source": [
    "muser['call_count'] = muser['call_count'].fillna(0).astype(int)\n",
    "muser['call_sum'] = muser['call_sum'].fillna(0).astype(int)\n",
    "muser['messages_count'] = muser['messages_count'].fillna(0).astype(int)\n",
    "muser['inet_count'] = muser['inet_count'].fillna(0).astype(int)\n",
    "muser['inet_sum'] = muser['inet_sum'].fillna(0).astype(int)"
   ]
  },
  {
   "cell_type": "markdown",
   "metadata": {},
   "source": [
    "Расчитаем помесячную выручку с каждого пользователя"
   ]
  },
  {
   "cell_type": "code",
   "execution_count": 19,
   "metadata": {},
   "outputs": [],
   "source": [
    "#Расчёт разности между реально израсходованными ресурсами и количеством, включенным в пакет\n",
    "muser['calls_minus'] = muser['call_sum'] - muser['minutes_included']\n",
    "muser['messages_minus'] = muser['messages_count'] - muser['messages_included']\n",
    "muser['inet_minus'] = muser['inet_sum'] - muser['mb_per_month_included']\n",
    "#Обнуление всех значений, где лимит пакета услуг не был перерасходован\n",
    "muser.loc[muser['calls_minus'] < 0, 'calls_minus'] = 0\n",
    "muser.loc[muser['messages_minus'] < 0, 'messages_minus'] = 0\n",
    "muser.loc[muser['inet_minus'] < 0, 'inet_minus'] = 0\n",
    "#Расчёт дополнительной суммы, которую нужно заплатить пользователю за оказание услуг сверх пакета\n",
    "muser['call_pay'] = muser['calls_minus'] * muser['rub_per_minute']\n",
    "muser['message_pay'] = muser['messages_minus'] * muser['rub_per_message']\n",
    "muser['inet_pay'] = np.ceil(muser['inet_minus'] / 1024) * muser['rub_per_gb']\n",
    "muser['inet_pay'] = muser['inet_pay'].astype(int)\n",
    "#Расчёт итоговой оплаты услуг пользователем\n",
    "muser['pay'] = muser['call_pay'] + muser['message_pay'] + muser['inet_pay'] + muser['rub_monthly_fee']"
   ]
  },
  {
   "cell_type": "markdown",
   "metadata": {},
   "source": [
    "### Вывод"
   ]
  },
  {
   "cell_type": "markdown",
   "metadata": {},
   "source": [
    "Для звонков, сообщений и интернет-трафика были созданы сводные таблицы с объединением по пользователям и месяцам. В дальнейшнем эти таблицы были объединены в единую таблицу muser, где содержатся данные о пользователях, условиях тарифов, и пользовании услугами связи. Для каждого пользователя была расчитана помесячная выручка, включающая в себя абонентскую плату и плату за пользованием услугами связи сверх установленных тарифным планом лимитов. "
   ]
  },
  {
   "cell_type": "markdown",
   "metadata": {},
   "source": [
    "## Анализ данных"
   ]
  },
  {
   "cell_type": "markdown",
   "metadata": {},
   "source": [
    "В связи с тем, что наша задача - это понять, какой тариф более выгодный, разделим общую базу данных на две:\n",
    "- ultra_users - база данных всех пользователей тарифа ultra\n",
    "- smart_users - база данных всех пользователей тарифа smart"
   ]
  },
  {
   "cell_type": "code",
   "execution_count": 20,
   "metadata": {},
   "outputs": [],
   "source": [
    "ultra_users = muser.query('tariff_name == \"ultra\"')\n",
    "smart_users = muser.query('tariff_name == \"smart\"')"
   ]
  },
  {
   "cell_type": "markdown",
   "metadata": {},
   "source": [
    "Посмотрим на поведение клиентов, исходя из выборки. Сколько минут разговора, сколько сообщений и какой объём интернет-трафика требуется пользователям каждого тарифа в месяц. Посчитаем среднее количество, дисперсию и стандартное отклонение. Построим гистограммы. Опишем распределения."
   ]
  },
  {
   "cell_type": "code",
   "execution_count": 21,
   "metadata": {
    "scrolled": false
   },
   "outputs": [
    {
     "name": "stdout",
     "output_type": "stream",
     "text": [
      "Пользователи тарифа Ultra\n"
     ]
    },
    {
     "data": {
      "image/png": "[encoded data removed]",
      "text/plain": [
       "<Figure size 1080x1080 with 9 Axes>"
      ]
     },
     "metadata": {
      "needs_background": "light"
     },
     "output_type": "display_data"
    },
    {
     "data": {
      "text/html": [
       "<div>\n",
       "<style scoped>\n",
       "    .dataframe tbody tr th:only-of-type {\n",
       "        vertical-align: middle;\n",
       "    }\n",
       "\n",
       "    .dataframe tbody tr th {\n",
       "        vertical-align: top;\n",
       "    }\n",
       "\n",
       "    .dataframe thead th {\n",
       "        text-align: right;\n",
       "    }\n",
       "</style>\n",
       "<table border=\"1\" class=\"dataframe\">\n",
       "  <thead>\n",
       "    <tr style=\"text-align: right;\">\n",
       "      <th></th>\n",
       "      <th>call_sum</th>\n",
       "      <th>messages_count</th>\n",
       "      <th>inet_sum</th>\n",
       "      <th>call_pay</th>\n",
       "      <th>message_pay</th>\n",
       "      <th>inet_pay</th>\n",
       "      <th>pay</th>\n",
       "    </tr>\n",
       "  </thead>\n",
       "  <tbody>\n",
       "    <tr>\n",
       "      <th>count</th>\n",
       "      <td>985.00</td>\n",
       "      <td>985.00</td>\n",
       "      <td>985.00</td>\n",
       "      <td>985.00</td>\n",
       "      <td>985.00</td>\n",
       "      <td>985.00</td>\n",
       "      <td>985.00</td>\n",
       "    </tr>\n",
       "    <tr>\n",
       "      <th>mean</th>\n",
       "      <td>526.62</td>\n",
       "      <td>49.36</td>\n",
       "      <td>19468.33</td>\n",
       "      <td>0.00</td>\n",
       "      <td>0.00</td>\n",
       "      <td>120.15</td>\n",
       "      <td>2070.15</td>\n",
       "    </tr>\n",
       "    <tr>\n",
       "      <th>std</th>\n",
       "      <td>317.61</td>\n",
       "      <td>47.80</td>\n",
       "      <td>10087.17</td>\n",
       "      <td>0.00</td>\n",
       "      <td>0.00</td>\n",
       "      <td>376.19</td>\n",
       "      <td>376.19</td>\n",
       "    </tr>\n",
       "    <tr>\n",
       "      <th>min</th>\n",
       "      <td>0.00</td>\n",
       "      <td>0.00</td>\n",
       "      <td>0.00</td>\n",
       "      <td>0.00</td>\n",
       "      <td>0.00</td>\n",
       "      <td>0.00</td>\n",
       "      <td>1950.00</td>\n",
       "    </tr>\n",
       "    <tr>\n",
       "      <th>25%</th>\n",
       "      <td>284.00</td>\n",
       "      <td>6.00</td>\n",
       "      <td>11770.00</td>\n",
       "      <td>0.00</td>\n",
       "      <td>0.00</td>\n",
       "      <td>0.00</td>\n",
       "      <td>1950.00</td>\n",
       "    </tr>\n",
       "    <tr>\n",
       "      <th>50%</th>\n",
       "      <td>518.00</td>\n",
       "      <td>38.00</td>\n",
       "      <td>19308.00</td>\n",
       "      <td>0.00</td>\n",
       "      <td>0.00</td>\n",
       "      <td>0.00</td>\n",
       "      <td>1950.00</td>\n",
       "    </tr>\n",
       "    <tr>\n",
       "      <th>75%</th>\n",
       "      <td>752.00</td>\n",
       "      <td>79.00</td>\n",
       "      <td>26837.00</td>\n",
       "      <td>0.00</td>\n",
       "      <td>0.00</td>\n",
       "      <td>0.00</td>\n",
       "      <td>1950.00</td>\n",
       "    </tr>\n",
       "    <tr>\n",
       "      <th>max</th>\n",
       "      <td>1673.00</td>\n",
       "      <td>224.00</td>\n",
       "      <td>49745.00</td>\n",
       "      <td>0.00</td>\n",
       "      <td>0.00</td>\n",
       "      <td>2850.00</td>\n",
       "      <td>4800.00</td>\n",
       "    </tr>\n",
       "  </tbody>\n",
       "</table>\n",
       "</div>"
      ],
      "text/plain": [
       "       call_sum  messages_count  inet_sum  call_pay  message_pay  inet_pay  \\\n",
       "count    985.00          985.00    985.00    985.00       985.00    985.00   \n",
       "mean     526.62           49.36  19468.33      0.00         0.00    120.15   \n",
       "std      317.61           47.80  10087.17      0.00         0.00    376.19   \n",
       "min        0.00            0.00      0.00      0.00         0.00      0.00   \n",
       "25%      284.00            6.00  11770.00      0.00         0.00      0.00   \n",
       "50%      518.00           38.00  19308.00      0.00         0.00      0.00   \n",
       "75%      752.00           79.00  26837.00      0.00         0.00      0.00   \n",
       "max     1673.00          224.00  49745.00      0.00         0.00   2850.00   \n",
       "\n",
       "           pay  \n",
       "count   985.00  \n",
       "mean   2070.15  \n",
       "std     376.19  \n",
       "min    1950.00  \n",
       "25%    1950.00  \n",
       "50%    1950.00  \n",
       "75%    1950.00  \n",
       "max    4800.00  "
      ]
     },
     "metadata": {},
     "output_type": "display_data"
    },
    {
     "name": "stdout",
     "output_type": "stream",
     "text": [
      "Дисперсия значений платежей для пользователей тарифа Ultra: 141373\n",
      "-----\n",
      "Пользователи тарифа Smart\n"
     ]
    },
    {
     "data": {
      "image/png": "[encoded data removed]",
      "text/plain": [
       "<Figure size 1080x1080 with 9 Axes>"
      ]
     },
     "metadata": {
      "needs_background": "light"
     },
     "output_type": "display_data"
    },
    {
     "data": {
      "text/html": [
       "<div>\n",
       "<style scoped>\n",
       "    .dataframe tbody tr th:only-of-type {\n",
       "        vertical-align: middle;\n",
       "    }\n",
       "\n",
       "    .dataframe tbody tr th {\n",
       "        vertical-align: top;\n",
       "    }\n",
       "\n",
       "    .dataframe thead th {\n",
       "        text-align: right;\n",
       "    }\n",
       "</style>\n",
       "<table border=\"1\" class=\"dataframe\">\n",
       "  <thead>\n",
       "    <tr style=\"text-align: right;\">\n",
       "      <th></th>\n",
       "      <th>call_sum</th>\n",
       "      <th>messages_count</th>\n",
       "      <th>inet_sum</th>\n",
       "      <th>call_pay</th>\n",
       "      <th>message_pay</th>\n",
       "      <th>inet_pay</th>\n",
       "      <th>pay</th>\n",
       "    </tr>\n",
       "  </thead>\n",
       "  <tbody>\n",
       "    <tr>\n",
       "      <th>count</th>\n",
       "      <td>2229.00</td>\n",
       "      <td>2229.00</td>\n",
       "      <td>2229.00</td>\n",
       "      <td>2229.00</td>\n",
       "      <td>2229.00</td>\n",
       "      <td>2229.00</td>\n",
       "      <td>2229.00</td>\n",
       "    </tr>\n",
       "    <tr>\n",
       "      <th>mean</th>\n",
       "      <td>417.93</td>\n",
       "      <td>33.38</td>\n",
       "      <td>16207.88</td>\n",
       "      <td>124.82</td>\n",
       "      <td>17.40</td>\n",
       "      <td>597.76</td>\n",
       "      <td>1289.97</td>\n",
       "    </tr>\n",
       "    <tr>\n",
       "      <th>std</th>\n",
       "      <td>190.31</td>\n",
       "      <td>28.23</td>\n",
       "      <td>5870.48</td>\n",
       "      <td>254.04</td>\n",
       "      <td>40.33</td>\n",
       "      <td>736.56</td>\n",
       "      <td>818.40</td>\n",
       "    </tr>\n",
       "    <tr>\n",
       "      <th>min</th>\n",
       "      <td>0.00</td>\n",
       "      <td>0.00</td>\n",
       "      <td>0.00</td>\n",
       "      <td>0.00</td>\n",
       "      <td>0.00</td>\n",
       "      <td>0.00</td>\n",
       "      <td>550.00</td>\n",
       "    </tr>\n",
       "    <tr>\n",
       "      <th>25%</th>\n",
       "      <td>282.00</td>\n",
       "      <td>10.00</td>\n",
       "      <td>12643.00</td>\n",
       "      <td>0.00</td>\n",
       "      <td>0.00</td>\n",
       "      <td>0.00</td>\n",
       "      <td>550.00</td>\n",
       "    </tr>\n",
       "    <tr>\n",
       "      <th>50%</th>\n",
       "      <td>422.00</td>\n",
       "      <td>28.00</td>\n",
       "      <td>16506.00</td>\n",
       "      <td>0.00</td>\n",
       "      <td>0.00</td>\n",
       "      <td>400.00</td>\n",
       "      <td>1023.00</td>\n",
       "    </tr>\n",
       "    <tr>\n",
       "      <th>75%</th>\n",
       "      <td>545.00</td>\n",
       "      <td>51.00</td>\n",
       "      <td>20042.00</td>\n",
       "      <td>135.00</td>\n",
       "      <td>3.00</td>\n",
       "      <td>1000.00</td>\n",
       "      <td>1750.00</td>\n",
       "    </tr>\n",
       "    <tr>\n",
       "      <th>max</th>\n",
       "      <td>1435.00</td>\n",
       "      <td>143.00</td>\n",
       "      <td>38552.00</td>\n",
       "      <td>2805.00</td>\n",
       "      <td>279.00</td>\n",
       "      <td>4600.00</td>\n",
       "      <td>6770.00</td>\n",
       "    </tr>\n",
       "  </tbody>\n",
       "</table>\n",
       "</div>"
      ],
      "text/plain": [
       "       call_sum  messages_count  inet_sum  call_pay  message_pay  inet_pay  \\\n",
       "count   2229.00         2229.00   2229.00   2229.00      2229.00   2229.00   \n",
       "mean     417.93           33.38  16207.88    124.82        17.40    597.76   \n",
       "std      190.31           28.23   5870.48    254.04        40.33    736.56   \n",
       "min        0.00            0.00      0.00      0.00         0.00      0.00   \n",
       "25%      282.00           10.00  12643.00      0.00         0.00      0.00   \n",
       "50%      422.00           28.00  16506.00      0.00         0.00    400.00   \n",
       "75%      545.00           51.00  20042.00    135.00         3.00   1000.00   \n",
       "max     1435.00          143.00  38552.00   2805.00       279.00   4600.00   \n",
       "\n",
       "           pay  \n",
       "count  2229.00  \n",
       "mean   1289.97  \n",
       "std     818.40  \n",
       "min     550.00  \n",
       "25%     550.00  \n",
       "50%    1023.00  \n",
       "75%    1750.00  \n",
       "max    6770.00  "
      ]
     },
     "metadata": {},
     "output_type": "display_data"
    },
    {
     "name": "stdout",
     "output_type": "stream",
     "text": [
      "Дисперсия значений платежей для пользователей тарифа Smart: 669485\n"
     ]
    }
   ],
   "source": [
    "print('Пользователи тарифа Ultra')\n",
    "ultra_users[['call_sum', 'messages_count', 'inet_sum', 'call_pay', 'message_pay', 'inet_pay', 'pay']].hist(bins=30, figsize=(15,15))\n",
    "plt.show()\n",
    "display(ultra_users[['call_sum', 'messages_count', 'inet_sum', 'call_pay', 'message_pay', 'inet_pay', 'pay']].describe())\n",
    "print('Дисперсия значений платежей для пользователей тарифа Ultra:', int(np.var(ultra_users['pay'])))\n",
    "print('-----')\n",
    "\n",
    "print('Пользователи тарифа Smart')\n",
    "smart_users[['call_sum', 'messages_count', 'inet_sum', 'call_pay', 'message_pay', 'inet_pay', 'pay']].hist(bins=30, figsize=(15,15))\n",
    "plt.show()\n",
    "display(smart_users[['call_sum', 'messages_count', 'inet_sum', 'call_pay', 'message_pay', 'inet_pay', 'pay']].describe())\n",
    "print('Дисперсия значений платежей для пользователей тарифа Smart:', int(np.var(smart_users['pay'])))"
   ]
  },
  {
   "cell_type": "code",
   "execution_count": 22,
   "metadata": {
    "scrolled": true
   },
   "outputs": [
    {
     "name": "stdout",
     "output_type": "stream",
     "text": [
      "Процент случаев, когда пользователи тарифом ultra платили за связь больше, чем абонентскую плату: 14%\n",
      "Процент случаев, когда пользователи тарифом smart платили за связь больше, чем абонентскую плату: 75%\n"
     ]
    }
   ],
   "source": [
    "print('Процент случаев, когда пользователи тарифом ultra платили за связь больше, чем абонентскую плату: {0:.0f}%'.format(len(ultra_users[ultra_users['pay'] > ultra_users['rub_monthly_fee']]) / len(ultra_users['pay']) * 100))\n",
    "print('Процент случаев, когда пользователи тарифом smart платили за связь больше, чем абонентскую плату: {0:.0f}%'.format(len(smart_users[smart_users['pay'] > smart_users['rub_monthly_fee']]) / len(smart_users['pay']) * 100))"
   ]
  },
  {
   "cell_type": "markdown",
   "metadata": {},
   "source": [
    "Показатели двух групп пользователей значительно различаются.\n",
    "\n",
    "**По пользованию услугами связи:**\n",
    "\n",
    "1. Пользователи тарифа Ультра в среднем звонят 526 минут в месяц, Смарт всего на 20% меньше - 417 минут. При этом многие в тарифе Ультра не звонят совсем, в тарифе Смарт таких практически нет\n",
    "2. Пользователи Ультра в среднем пересылают 49 сообщений в месяц, Смарт - 33, то есть на 33% меньше, при этом в обоих группах высока доля тех, кто не пересылает ни одного сообщения вовсе\n",
    "3. Пользователи Ультра в среднем пользуются 20 Гб трафика, Смарт всего на 20% меньше - 16 Гб\n",
    "\n",
    "Стандартное отклонение высоко для всех тарифов: \n",
    "1. Звонки: Ультра 317 минут и Смарт 190 минут\n",
    "2. Сообщения: Ультра 48 сообщений и Смарт 28 сообщений\n",
    "3. Интернет: Ультра 10 Гб, Смарт 6 Гб\n",
    "\n",
    "Распределение большинства параметров близко к нормальному, для сообщений - с выраженной асимметрией вправо."
   ]
  },
  {
   "cell_type": "markdown",
   "metadata": {},
   "source": [
    "**По выручке группы тоже значительно различаются в деталях.**\n",
    "\n",
    "У пользователей тарифа Ультра нет переплат за звонки и сообщения, так как нет их перерасходывания. Интернета хватает подавляющему количеству пользователей, переплачивают только 14% клиентов сумму от 150 до 2000 рублей.\n",
    "\n",
    "У пользователей тарифа Смарт переплаты наоборот, крайне распространены. Больше половины клиентов не расходуют лимитов на звонки и сообщения вообще, а кто расходует, то не очень много, основная статья переплат состоит из пользования услугами интернета. Около половины пользователей расходуют интернета боьлше, чем предусмотрено, за что платят в среднем плюс 400-1000 рублей в месяц. \n",
    "Таким образом, 75% клиентов с тарифом Смарт расходуют в месяц помимо абонентской планы ещё 400-1200 рублей на дополнительный интернет, звонки и смс."
   ]
  },
  {
   "cell_type": "markdown",
   "metadata": {},
   "source": [
    "### Вывод"
   ]
  },
  {
   "cell_type": "markdown",
   "metadata": {},
   "source": [
    "По характеру использования, обе группы пользователей довольно похожи. В большинстве случаев наблюдается нормальный характер распределения значений выбранных характеристик. Только пользователи тарифом Ультра пользуются в среднем на 20-30% большим количеством услуг, чем пользователи тарифа Смарт. Интересно, что разница в абонентской плате между этими тарифами составляет 60%, то есть в 2-3 раза выше, чем разница в количестве предоставляемых услуг.\n",
    "\n",
    "В подавляющем количестве случаев клиентам тарифа Ультра (86% случаев) хватает предоставленного пакета услуг, ровно обратная ситуация для тех, кто выбрал тариф Смарт (только 25% случаев). \n",
    "Основная доля случаев оплаты дополнительных услуг пользователями обоих тарифов приходится на перерасход интернет-трафика. Судя по стандартному отклонению, пользователи тарифа Ультра расходуют трафик более вольготно, потому что им дан высокий лимит. При лимите трафика в 30 Гб и среднем пользованием интернетом в 20 Гб, стандартное отклонение составляет 10 Гб, то есть только совсем незначительное количество случаев приходится на превышение 30 Гб. В ту же очередь для тарифа Смарт лимит остановлен в 15 Гб, что совпадает со средними тратами пользователей и многие стараются из него выходить не сильно, в связи с чем стандартное отклонение расхода трафика почти в 2 раза меньше, чем у пользователей Ультра - 6 Гб.\n",
    "\n",
    "Общая вариативность платежей для двух тарифов различается почти в 5 раз. Судя по дисперсии значений платежей, пользователи тарифа Ультра имеют стабильный уровень платежей каждый месяц, а пользователи тарифа Смарт платят каждый месяц разные суммы."
   ]
  },
  {
   "cell_type": "markdown",
   "metadata": {},
   "source": [
    "## Проверка гипотез"
   ]
  },
  {
   "cell_type": "markdown",
   "metadata": {},
   "source": [
    "Перед проверкой гипотез необходимо ещё раз изучить базу данных на предмет выбросов. Это, скорее всего, реальные данные, без ошибок, но для проверки гипотез о равенстве среднего такие выбросы будут давать ложную картину, увеличивая дисперсию и среднее значение"
   ]
  },
  {
   "cell_type": "code",
   "execution_count": 23,
   "metadata": {},
   "outputs": [
    {
     "data": {
      "image/png": "[encoded data removed]",
      "text/plain": [
       "<Figure size 504x504 with 1 Axes>"
      ]
     },
     "metadata": {
      "needs_background": "light"
     },
     "output_type": "display_data"
    },
    {
     "data": {
      "text/plain": [
       "count    3214.00\n",
       "mean     1529.08\n",
       "std       798.25\n",
       "min       550.00\n",
       "25%       750.00\n",
       "50%      1653.50\n",
       "75%      1950.00\n",
       "max      6770.00\n",
       "Name: pay, dtype: float64"
      ]
     },
     "execution_count": 23,
     "metadata": {},
     "output_type": "execute_result"
    }
   ],
   "source": [
    "muser.boxplot('pay', figsize=(7,7))\n",
    "plt.title('Выручка с пользователей')\n",
    "plt.ylabel('Выручка, руб.')\n",
    "plt.show()\n",
    "muser['pay'].describe()"
   ]
  },
  {
   "cell_type": "markdown",
   "metadata": {},
   "source": [
    "Как можно увидеть на графике, медиана сильно смещена к высоким значениям, выбросов в первой квартили нет (так как абонентская плата имеется для всех тарифов по умолчанию), а вот в четвертой квартили - много. Применим правило 3 сигм для того, чтобы отфильтровать все выбивающиеся значения"
   ]
  },
  {
   "cell_type": "code",
   "execution_count": 24,
   "metadata": {
    "scrolled": false
   },
   "outputs": [
    {
     "name": "stdout",
     "output_type": "stream",
     "text": [
      "Значений исключено из базы данных:  24\n"
     ]
    }
   ],
   "source": [
    "outlier_up = int(muser['pay'].mean() + muser['pay'].std() * 3)\n",
    "print('Значений исключено из базы данных: ', muser.query('pay > @outlier_up')['pay'].count())\n",
    "muser = muser.query('pay <= @outlier_up')"
   ]
  },
  {
   "cell_type": "markdown",
   "metadata": {},
   "source": [
    "**Проверим следующие гипотезы:**\n",
    "1. Средняя выручка пользователей тарифов «Ультра» и «Смарт» различаются;\n",
    "2. Средняя выручка пользователей из Москвы отличается от выручки пользователей из других регионов."
   ]
  },
  {
   "cell_type": "markdown",
   "metadata": {},
   "source": [
    "Ещё раз сравним гистограммы распределения значений платежей двух групп пользователей услугами связи"
   ]
  },
  {
   "cell_type": "code",
   "execution_count": 25,
   "metadata": {},
   "outputs": [
    {
     "data": {
      "image/png": "[encoded data removed]",
      "text/plain": [
       "<Figure size 432x432 with 1 Axes>"
      ]
     },
     "metadata": {
      "needs_background": "light"
     },
     "output_type": "display_data"
    }
   ],
   "source": [
    "plt.figure(figsize=(6,6))\n",
    "plt.hist(ultra_users['pay'], bins=30, alpha=0.5, label=\"Ultra\")\n",
    "plt.hist(smart_users['pay'], bins=30, alpha=0.5, label=\"Smart\")\n",
    "plt.xlabel(\"Выручка\", size=14)\n",
    "plt.ylabel(\"Количество\", size=14)\n",
    "plt.title(\"Выручка от пользователей тарифами Ultra и Smart\")\n",
    "plt.legend(loc='upper right')\n",
    "plt.show()"
   ]
  },
  {
   "cell_type": "markdown",
   "metadata": {},
   "source": [
    "Очевидны максимумы в 550 и 1950 рублей, составляющие абонентскую плату для пользователей тарифами Smart и Ultra. Но подавляющее количество трат для обоих тарифов лежит в пределах 4000 рублей, причём видно, как в ценовом диапазоне 2000+ рублей пользователи тарифа Smart значительно больше переплачивают по сравнению с пользователями тарифа Ultra."
   ]
  },
  {
   "cell_type": "markdown",
   "metadata": {},
   "source": [
    "**Проверим гипотезу №1.** Средняя выручка пользователей тарифов Ультра и Смарт различаются.\n",
    "Запишем её следующим образом:\n",
    "\n",
    "H0 - Средняя выручка с пользователей тарифа Ультра равна средней выручке с пользователей тарифа Смарт\n",
    "\n",
    "Н1 - Средняя выручка с пользователей тарифа Ультра не равна средней выручке с пользователей тарифа Смарт"
   ]
  },
  {
   "cell_type": "code",
   "execution_count": 26,
   "metadata": {},
   "outputs": [],
   "source": [
    "#Создадим два отдельных массива с информацией только о выручке с каждого пользователя за каждый месяц\n",
    "ultra_pay = ultra_users['pay']\n",
    "smart_pay = smart_users['pay']"
   ]
  },
  {
   "cell_type": "markdown",
   "metadata": {},
   "source": [
    "В теории, если выборки не очень большие, то мы можем сравнить просто средние значений каждой выборки. Будем их иметь ввиду для контроля качества статистической проверки выборок"
   ]
  },
  {
   "cell_type": "code",
   "execution_count": 27,
   "metadata": {},
   "outputs": [
    {
     "name": "stdout",
     "output_type": "stream",
     "text": [
      "Средняя выручка с одного клиента тарифа Ultra за месяц, руб.: 2070\n",
      "Средняя выручка с одного клиента тарифа Smart за месяц, руб.: 1289\n",
      "\n",
      "Общая выручка со всех клиентов тарифа Ultra за все месяца, руб.: 2039100\n",
      "Общая выручка со всех клиентов тарифа Smart за все месяца, руб.: 2875351\n"
     ]
    }
   ],
   "source": [
    "print('Средняя выручка с одного клиента тарифа Ultra за месяц, руб.:', int(ultra_pay.mean()))\n",
    "print('Средняя выручка с одного клиента тарифа Smart за месяц, руб.:', int(smart_pay.mean()))\n",
    "print('')\n",
    "print('Общая выручка со всех клиентов тарифа Ultra за все месяца, руб.:', ultra_pay.sum())\n",
    "print('Общая выручка со всех клиентов тарифа Smart за все месяца, руб.:', smart_pay.sum())"
   ]
  },
  {
   "cell_type": "markdown",
   "metadata": {},
   "source": [
    "Проведем сравнение с помощью t-критерия Стьюдента для двух независимых выборок с разными дисперсиями. Поскольку выручка считается по большому количеству клиентов, нам нужна наиболее точная информация, для чего выставим пороговое значение в 5%"
   ]
  },
  {
   "cell_type": "code",
   "execution_count": 28,
   "metadata": {},
   "outputs": [
    {
     "name": "stdout",
     "output_type": "stream",
     "text": [
      "p-значение: 4.2606313931076085e-250\n",
      "Отвергаем нулевую гипотезу\n"
     ]
    }
   ],
   "source": [
    "#Зададим критерий значимости\n",
    "alpha = 0.05\n",
    "\n",
    "#Расчитаем p-значение\n",
    "results_pay_mean = st.ttest_ind(\n",
    "    ultra_pay, \n",
    "    smart_pay,\n",
    "    equal_var=False)\n",
    "\n",
    "print('p-значение:', results_pay_mean.pvalue)\n",
    "\n",
    "#Сравним полученный результат с критерием значимости\n",
    "if results_pay_mean.pvalue < alpha:\n",
    "    print(\"Отвергаем нулевую гипотезу\")\n",
    "else:\n",
    "    print(\"Не получилось отвергнуть нулевую гипотезу\") "
   ]
  },
  {
   "cell_type": "markdown",
   "metadata": {},
   "source": [
    "Оба метода показали, что средняя выручка с двух тарифов разная. Средний чек с пользователя тарифа Ультра почти на 40% больше, чем с пользователя тарифом Смарт, несмотря на то, что пользователи тарифа Смарт значительно переплачивают за дополнительный интернет трафик. Дело в высокой базовой стоимости тарифного плана Ультра (в 3,5 раза больше, чем тариф Смарт). \n",
    "Однако общая выручка со всех пользователей в итоге для тарифа Смарт выше из-за большей популярности тарифа. Доля выручек составляет 40% и 60% для Ультра и Смарт соответственно. "
   ]
  },
  {
   "cell_type": "markdown",
   "metadata": {},
   "source": [
    "**Проверим гипотезу №2.** Средняя выручка пользователей из Москвы отличается от выручки пользователей из других регионов.\n",
    "\n",
    "Запишем её следующим образом:\n",
    "\n",
    "H0 - Средняя выручка с пользователей в городе Москва равна средней выручке с пользователей в остальных городах\n",
    "\n",
    "Н1 - Средняя выручка с пользователей в городе Москва не равна средней выручке с пользователей в остальных городах"
   ]
  },
  {
   "cell_type": "markdown",
   "metadata": {},
   "source": [
    "Сначала проверим, нет ли дубликатов Москвы"
   ]
  },
  {
   "cell_type": "code",
   "execution_count": 29,
   "metadata": {},
   "outputs": [
    {
     "data": {
      "text/plain": [
       "array(['Краснодар', 'Москва', 'Новокузнецк', 'Иваново', 'Омск', 'Уфа',\n",
       "       'Томск', 'Санкт-Петербург', 'Тверь', 'Ярославль', 'Тюмень',\n",
       "       'Ростов-на-Дону', 'Калуга', 'Тула', 'Волгоград', 'Саранск',\n",
       "       'Иркутск', 'Череповец', 'Новосибирск', 'Брянск', 'Тольятти',\n",
       "       'Нижний Тагил', 'Воронеж', 'Махачкала', 'Пермь', 'Сургут', 'Пенза',\n",
       "       'Мурманск', 'Набережные Челны', 'Самара', 'Нижний Новгород',\n",
       "       'Кемерово', 'Кострома', 'Оренбург', 'Магнитогорск', 'Астрахань',\n",
       "       'Нижневартовск', 'Челябинск', 'Курган', 'Красноярск',\n",
       "       'Владивосток', 'Смоленск', 'Владимир', 'Казань', 'Саратов',\n",
       "       'Севастополь', 'Рязань', 'Екатеринбург', 'Стерлитамак',\n",
       "       'Ульяновск', 'Балашиха', 'Барнаул', 'Киров', 'Сочи', 'Вологда',\n",
       "       'Чебоксары', 'Чита', 'Петрозаводск', 'Хабаровск', 'Ставрополь',\n",
       "       'Улан-Удэ', 'Курск', 'Якутск', 'Химки', 'Владикавказ', 'Ижевск',\n",
       "       'Орёл', 'Белгород', 'Архангельск', 'Липецк', 'Волжский', 'Тамбов',\n",
       "       'Калининград', 'Новороссийск', 'Грозный', 'Подольск'], dtype=object)"
      ]
     },
     "execution_count": 29,
     "metadata": {},
     "output_type": "execute_result"
    }
   ],
   "source": [
    "muser['city'].unique()"
   ]
  },
  {
   "cell_type": "markdown",
   "metadata": {},
   "source": [
    "Дубликатов не найдено, Москва одна такая. Поделим базу данных на Москву и замкадье "
   ]
  },
  {
   "cell_type": "code",
   "execution_count": 30,
   "metadata": {},
   "outputs": [],
   "source": [
    "#Создадим два отдельных массива с информацией только о выручке с каждого пользователя за каждый месяц в Москве и остальных городах\n",
    "msk_pay = muser.query('city == \"Москва\"')['pay']\n",
    "nomsk_pay = muser.query('city != \"Москва\"')['pay']"
   ]
  },
  {
   "cell_type": "markdown",
   "metadata": {},
   "source": [
    "Как и при проверке первой гипотезы, расчитаем средние значения по выборкам, раз их размер позволяет это сделать"
   ]
  },
  {
   "cell_type": "code",
   "execution_count": 31,
   "metadata": {},
   "outputs": [
    {
     "name": "stdout",
     "output_type": "stream",
     "text": [
      "Средняя выручка с одного клиента в Москве за месяц, руб.: 1532\n",
      "Средняя выручка с одного клиента не в Москве за месяц, руб.: 1498\n",
      "\n",
      "Общая выручка со всех клиентов в Москве за все месяца, руб.: 931555\n",
      "Общая выручка со всех клиентов не в Москве за все месяца, руб.: 3870021\n"
     ]
    }
   ],
   "source": [
    "print('Средняя выручка с одного клиента в Москве за месяц, руб.:', int(msk_pay.mean()))\n",
    "print('Средняя выручка с одного клиента не в Москве за месяц, руб.:', int(nomsk_pay.mean()))\n",
    "print('')\n",
    "print('Общая выручка со всех клиентов в Москве за все месяца, руб.:', msk_pay.sum())\n",
    "print('Общая выручка со всех клиентов не в Москве за все месяца, руб.:', nomsk_pay.sum())"
   ]
  },
  {
   "cell_type": "markdown",
   "metadata": {},
   "source": [
    "Проверим статистическим методом, насколько значимо различие в средней выручке"
   ]
  },
  {
   "cell_type": "code",
   "execution_count": 32,
   "metadata": {},
   "outputs": [
    {
     "name": "stdout",
     "output_type": "stream",
     "text": [
      "p-значение: 0.31145103179503847\n",
      "Не получилось отвергнуть нулевую гипотезу\n"
     ]
    }
   ],
   "source": [
    "#Зададим критерий значимости\n",
    "alpha_msk = 0.05\n",
    "\n",
    "#Расчитаем p-значение\n",
    "results_pay_msk = st.ttest_ind(\n",
    "    msk_pay, \n",
    "    nomsk_pay,\n",
    "    equal_var=False)\n",
    "\n",
    "print('p-значение:', results_pay_msk.pvalue)\n",
    "\n",
    "#Сравним полученный результат с критерием значимости\n",
    "if results_pay_msk.pvalue < alpha_msk:\n",
    "    print(\"Отвергаем нулевую гипотезу\")\n",
    "else:\n",
    "    print(\"Не получилось отвергнуть нулевую гипотезу\") "
   ]
  },
  {
   "cell_type": "markdown",
   "metadata": {},
   "source": [
    "Статистическое сравнение двух выборок так же показало, что средняя выручка с клиентов из Москвы и из других регионов равна. А значит общая выручка с москвичей пропорциональна количеству пользователей из Москвы, не более."
   ]
  },
  {
   "cell_type": "markdown",
   "metadata": {},
   "source": [
    "### Вывод"
   ]
  },
  {
   "cell_type": "markdown",
   "metadata": {},
   "source": [
    "- Исследование показало, что средние значения платежей, поступающих от клиентов с разными тарифами, различаются почти на 40%; \n",
    "- Разницы между средним платежем от клиента из столицы и из региона практически не существует."
   ]
  },
  {
   "cell_type": "markdown",
   "metadata": {},
   "source": [
    "## Общий вывод"
   ]
  },
  {
   "cell_type": "markdown",
   "metadata": {},
   "source": [
    "**Данные**\n",
    "\n",
    "Исходные данные представлены в пяти таблицах, содержащих информацию о пользователях, выбранных ими тарифах, количеством потраченных минут разговоров, написанных сообщений и израсходованного интернет-трафика по дням. Данные хорошо подготовлены, не содержат дубликатов, пропущенных значений и откровенных выбросов. Большинство параметров имеют нормальное распределение, кроме параметра возраста клиента. Последнее, скорее всего, свидетельствует о направленной выборке из генеральной совокупности по возрастным категориям. \n",
    "В базах данных формат даты был переведен в datetime и формат части других столбцов был оптимизирован. Пять баз данных были собраны в одну базу данных - muser. В ней для каждого пользователя был расчитан показатель прибыльности для компании, по месяцам, который является суммой абонентской платы и доплат за пользованием услугами связи сверх включенного в тариф лимита. \n",
    "\n",
    "**Сравнение пользования услугами двух тарифных планов**\n",
    "\n",
    "В выборке присутствует 30% пользователей тарифа Ultra и 70% пользователей тарифа Smart. \n",
    "По характеру использования, обе группы пользователей довольно похожи, только пользователи тарифом Ultra пользуются в среднем на 20-30% большим количеством услуг, чем пользователи тарифа Smart. При этом в 86% случаев пользователям тарифа Ultra достаточно включенных в пакет услуг, в то время как пользователи тарифа Smart не используют дополнительные минуты, сообщения и мегабайты только в 25% случаев. Основная доля случаев оплаты дополнительных услуг пользователями обоих тарифов приходится на перерасход интернет-трафика.\n",
    "\n",
    "Таким образом, пользователи тарифа Ultra платят за связь по умолчанию в 3,5 раза больше, чем пользователи тарифа Smart, но при этом в подавляющем количестве случаев не доплачивают ничего сверх нормы. Пользователи тарифа Smart доплачивают в среднем до 100% абонентской платы из-за того, что стабильно не умещаются в выставленные тарифом лимиты, в первую очередь, по интернет-трафику.\n",
    "\n",
    "**Проверка гипотез о различиях в пользовании тарифами**\n",
    "\n",
    "Во время исследования было выдвинуто 2 гипотезы:\n",
    "1. Средняя выручка пользователей тарифов «Ультра» и «Смарт» различаются\n",
    "2. Средняя выручка пользователей из Москвы отличается от выручки пользователей из других регионов\n",
    "\n",
    "Первая гипотеза была подтверждена, средняя выручка с пользователей тарифа Ultra больше на 40% средней выручки тарифа Smart.\n",
    "\n",
    "Вторая гипотеза была опровергнута, средняя выручка с обоих тарифов не зависит от того, зарегистирован клиент в Москве или другом регионе.\n",
    "\n",
    "**Рекомендации оператору мобильной связи**\n",
    "\n",
    "1. Тариф Ultra имеет высокое избыточное количество включенных услуг. Судя по выборке, статистически (по правилу трех сигм) пользователи не тратят больше 1477 минут на звонки и 193 сообщений в месяц. Следовательно можно снизить лимиты на включенные услуги вплоть до 1500 минут и 200 сообщений в месяц, то есть в 2 и 5 раз соответственно. Количество включенного интернет-трафика расчитано хорошо, изменять его не стоит.\n",
    "2. Тариф Smart наоборот, имеет недостаточные лимиты включенных услуг, которые практически совпадают со средним значением использования. Даже одно стандартное отклонение в положительную сторону приводит к перерасходу включенных опций, что выливается в то, что 75% пользователей стабильно тратят больше денег в месяц на услуги связи, чем рассчитывают.\n",
    "3. Оптимизация тарифов могла бы выглядеть таким образом: тариф Ultra включает 1500 минут звонков, 200 смс и 30 Гб интернет-трафика за немного меньшую цену, чтобы привлечь новых клиентов и удержать старых. Тариф Smart включает 600 минут звонков, 100 смс и 20 Гб интернет-трафика за немного большую или ту же цену. Недополученные средства можно компенсировать увеличением тарифов на перерасход услуг выше лимита, что должно в теории не так сильно влиять на выбор клиента при решении о выборе тарифа."
   ]
  }
 ],
 "metadata": {
  "ExecuteTimeLog": [
   {
    "duration": 1676,
    "start_time": "2022-05-09T07:15:39.172Z"
   },
   {
    "duration": 481,
    "start_time": "2022-05-09T07:15:41.329Z"
   },
   {
    "duration": 24,
    "start_time": "2022-05-09T07:27:16.398Z"
   },
   {
    "duration": 18,
    "start_time": "2022-05-09T07:27:16.708Z"
   },
   {
    "duration": 30,
    "start_time": "2022-05-09T07:27:37.012Z"
   },
   {
    "duration": 477,
    "start_time": "2022-05-09T07:27:50.281Z"
   },
   {
    "duration": 30,
    "start_time": "2022-05-09T07:27:52.161Z"
   },
   {
    "duration": 495,
    "start_time": "2022-05-09T07:28:05.677Z"
   },
   {
    "duration": 43,
    "start_time": "2022-05-09T07:28:07.958Z"
   },
   {
    "duration": 127,
    "start_time": "2022-05-09T07:29:40.065Z"
   },
   {
    "duration": 159,
    "start_time": "2022-05-09T07:32:21.630Z"
   },
   {
    "duration": 110,
    "start_time": "2022-05-09T07:32:34.936Z"
   },
   {
    "duration": 123,
    "start_time": "2022-05-09T07:32:38.561Z"
   },
   {
    "duration": 44,
    "start_time": "2022-05-09T07:34:35.405Z"
   },
   {
    "duration": 320,
    "start_time": "2022-05-09T09:21:45.701Z"
   },
   {
    "duration": 137,
    "start_time": "2022-05-09T09:25:19.147Z"
   },
   {
    "duration": 336,
    "start_time": "2022-05-09T09:25:27.664Z"
   },
   {
    "duration": 138,
    "start_time": "2022-05-09T09:25:42.410Z"
   },
   {
    "duration": 123,
    "start_time": "2022-05-09T09:25:55.867Z"
   },
   {
    "duration": 134,
    "start_time": "2022-05-09T09:26:04.442Z"
   },
   {
    "duration": 195,
    "start_time": "2022-05-09T09:27:09.231Z"
   },
   {
    "duration": 136,
    "start_time": "2022-05-09T09:27:26.542Z"
   },
   {
    "duration": 165,
    "start_time": "2022-05-09T09:27:41.007Z"
   },
   {
    "duration": 13,
    "start_time": "2022-05-09T09:27:45.488Z"
   },
   {
    "duration": 14,
    "start_time": "2022-05-09T09:27:49.418Z"
   },
   {
    "duration": 14,
    "start_time": "2022-05-09T09:27:58.748Z"
   },
   {
    "duration": 14,
    "start_time": "2022-05-09T09:28:00.673Z"
   },
   {
    "duration": 339,
    "start_time": "2022-05-09T09:28:17.601Z"
   },
   {
    "duration": 309,
    "start_time": "2022-05-09T09:28:26.727Z"
   },
   {
    "duration": 154,
    "start_time": "2022-05-09T09:29:59.028Z"
   },
   {
    "duration": 153,
    "start_time": "2022-05-09T09:30:02.948Z"
   },
   {
    "duration": 442,
    "start_time": "2022-05-09T09:30:10.423Z"
   },
   {
    "duration": 311,
    "start_time": "2022-05-09T09:31:22.066Z"
   },
   {
    "duration": 152,
    "start_time": "2022-05-09T09:34:00.138Z"
   },
   {
    "duration": 410,
    "start_time": "2022-05-09T09:34:08.646Z"
   },
   {
    "duration": 412,
    "start_time": "2022-05-09T09:34:24.625Z"
   },
   {
    "duration": 413,
    "start_time": "2022-05-09T09:34:35.803Z"
   },
   {
    "duration": 322,
    "start_time": "2022-05-09T09:35:00.275Z"
   },
   {
    "duration": 321,
    "start_time": "2022-05-09T09:35:43.086Z"
   },
   {
    "duration": 58,
    "start_time": "2022-05-09T09:42:33.186Z"
   },
   {
    "duration": 166,
    "start_time": "2022-05-09T09:43:11.551Z"
   },
   {
    "duration": 319,
    "start_time": "2022-05-09T09:44:54.575Z"
   },
   {
    "duration": 8,
    "start_time": "2022-05-09T09:49:40.258Z"
   },
   {
    "duration": 12,
    "start_time": "2022-05-09T09:49:46.507Z"
   },
   {
    "duration": 12,
    "start_time": "2022-05-09T09:50:07.519Z"
   },
   {
    "duration": 17,
    "start_time": "2022-05-09T09:50:10.783Z"
   },
   {
    "duration": 2272,
    "start_time": "2022-05-09T09:50:37.869Z"
   },
   {
    "duration": 17,
    "start_time": "2022-05-09T09:50:47.581Z"
   },
   {
    "duration": 16,
    "start_time": "2022-05-09T09:50:53.242Z"
   },
   {
    "duration": 2323,
    "start_time": "2022-05-09T09:51:09.522Z"
   },
   {
    "duration": 19,
    "start_time": "2022-05-09T09:51:13.690Z"
   },
   {
    "duration": 19,
    "start_time": "2022-05-09T09:51:22.380Z"
   },
   {
    "duration": 30,
    "start_time": "2022-05-09T09:51:53.599Z"
   },
   {
    "duration": 18,
    "start_time": "2022-05-09T09:52:09.626Z"
   },
   {
    "duration": 10,
    "start_time": "2022-05-09T09:55:41.875Z"
   },
   {
    "duration": 14,
    "start_time": "2022-05-09T10:01:48.280Z"
   },
   {
    "duration": 12,
    "start_time": "2022-05-09T10:02:01.385Z"
   },
   {
    "duration": 27,
    "start_time": "2022-05-09T10:02:04.959Z"
   },
   {
    "duration": 23,
    "start_time": "2022-05-09T10:02:20.284Z"
   },
   {
    "duration": 715,
    "start_time": "2022-05-09T10:02:51.272Z"
   },
   {
    "duration": 24,
    "start_time": "2022-05-09T10:04:48.177Z"
   },
   {
    "duration": 24,
    "start_time": "2022-05-09T10:05:06.739Z"
   },
   {
    "duration": 24,
    "start_time": "2022-05-09T10:05:16.030Z"
   },
   {
    "duration": 26,
    "start_time": "2022-05-09T10:05:21.499Z"
   },
   {
    "duration": 34,
    "start_time": "2022-05-09T10:05:30.008Z"
   },
   {
    "duration": 37,
    "start_time": "2022-05-09T10:05:32.689Z"
   },
   {
    "duration": 47,
    "start_time": "2022-05-09T10:06:05.929Z"
   },
   {
    "duration": 47,
    "start_time": "2022-05-09T10:06:15.766Z"
   },
   {
    "duration": 80,
    "start_time": "2022-05-09T10:06:23.247Z"
   },
   {
    "duration": 86,
    "start_time": "2022-05-09T10:06:26.112Z"
   },
   {
    "duration": 39,
    "start_time": "2022-05-09T10:06:36.394Z"
   },
   {
    "duration": 25,
    "start_time": "2022-05-09T10:06:41.049Z"
   },
   {
    "duration": 25,
    "start_time": "2022-05-09T10:06:43.946Z"
   },
   {
    "duration": 27,
    "start_time": "2022-05-09T10:06:48.531Z"
   },
   {
    "duration": 25,
    "start_time": "2022-05-09T10:06:53.656Z"
   },
   {
    "duration": 26,
    "start_time": "2022-05-09T10:08:13.104Z"
   },
   {
    "duration": 26,
    "start_time": "2022-05-09T10:08:23.874Z"
   },
   {
    "duration": 22,
    "start_time": "2022-05-09T10:08:33.739Z"
   },
   {
    "duration": 35,
    "start_time": "2022-05-09T10:09:33.418Z"
   },
   {
    "duration": 24,
    "start_time": "2022-05-09T10:10:04.440Z"
   },
   {
    "duration": 34,
    "start_time": "2022-05-09T10:11:22.227Z"
   },
   {
    "duration": 7,
    "start_time": "2022-05-09T10:12:32.244Z"
   },
   {
    "duration": 44,
    "start_time": "2022-05-09T10:12:40.159Z"
   },
   {
    "duration": 42,
    "start_time": "2022-05-09T10:12:58.971Z"
   },
   {
    "duration": 25,
    "start_time": "2022-05-09T10:13:10.106Z"
   },
   {
    "duration": 29,
    "start_time": "2022-05-09T10:13:20.972Z"
   },
   {
    "duration": 30,
    "start_time": "2022-05-09T10:14:41.358Z"
   },
   {
    "duration": 29,
    "start_time": "2022-05-09T10:15:46.993Z"
   },
   {
    "duration": 35,
    "start_time": "2022-05-09T10:43:49.982Z"
   },
   {
    "duration": 37,
    "start_time": "2022-05-09T10:44:03.797Z"
   },
   {
    "duration": 37,
    "start_time": "2022-05-09T10:44:21.468Z"
   },
   {
    "duration": 11,
    "start_time": "2022-05-09T10:56:15.154Z"
   },
   {
    "duration": 13,
    "start_time": "2022-05-09T10:56:20.421Z"
   },
   {
    "duration": 12,
    "start_time": "2022-05-09T10:56:22.254Z"
   },
   {
    "duration": 60,
    "start_time": "2022-05-09T10:56:37.046Z"
   },
   {
    "duration": 25,
    "start_time": "2022-05-09T10:56:46.270Z"
   },
   {
    "duration": 4089,
    "start_time": "2022-05-09T10:57:43.267Z"
   },
   {
    "duration": 120,
    "start_time": "2022-05-09T10:58:05.226Z"
   },
   {
    "duration": 1492,
    "start_time": "2022-05-09T10:58:15.353Z"
   },
   {
    "duration": 499,
    "start_time": "2022-05-09T10:58:16.848Z"
   },
   {
    "duration": 284,
    "start_time": "2022-05-09T10:58:17.350Z"
   },
   {
    "duration": 493,
    "start_time": "2022-05-09T10:58:17.637Z"
   },
   {
    "duration": 124,
    "start_time": "2022-05-09T10:58:18.133Z"
   },
   {
    "duration": 191,
    "start_time": "2022-05-09T11:00:35.260Z"
   },
   {
    "duration": 62,
    "start_time": "2022-05-09T11:00:38.725Z"
   },
   {
    "duration": 5,
    "start_time": "2022-05-09T11:00:49.943Z"
   },
   {
    "duration": 117,
    "start_time": "2022-05-09T11:00:55.269Z"
   },
   {
    "duration": 61,
    "start_time": "2022-05-09T11:01:05.248Z"
   },
   {
    "duration": 61,
    "start_time": "2022-05-09T11:01:07.079Z"
   },
   {
    "duration": 60,
    "start_time": "2022-05-09T11:01:28.581Z"
   },
   {
    "duration": 131,
    "start_time": "2022-05-09T11:01:30.875Z"
   },
   {
    "duration": 63,
    "start_time": "2022-05-09T11:01:45.267Z"
   },
   {
    "duration": 1486,
    "start_time": "2022-05-09T11:01:55.932Z"
   },
   {
    "duration": 501,
    "start_time": "2022-05-09T11:01:57.421Z"
   },
   {
    "duration": 184,
    "start_time": "2022-05-09T11:01:57.925Z"
   },
   {
    "duration": 370,
    "start_time": "2022-05-09T11:01:58.112Z"
   },
   {
    "duration": 129,
    "start_time": "2022-05-09T11:01:58.485Z"
   },
   {
    "duration": 62,
    "start_time": "2022-05-09T11:03:35.198Z"
   },
   {
    "duration": 63,
    "start_time": "2022-05-09T11:03:48.083Z"
   },
   {
    "duration": 188,
    "start_time": "2022-05-09T11:04:02.007Z"
   },
   {
    "duration": 61,
    "start_time": "2022-05-09T11:04:06.060Z"
   },
   {
    "duration": 66,
    "start_time": "2022-05-09T11:04:10.406Z"
   },
   {
    "duration": 1525,
    "start_time": "2022-05-09T11:04:55.529Z"
   },
   {
    "duration": 486,
    "start_time": "2022-05-09T11:04:57.056Z"
   },
   {
    "duration": 185,
    "start_time": "2022-05-09T11:04:57.545Z"
   },
   {
    "duration": 356,
    "start_time": "2022-05-09T11:04:57.733Z"
   },
   {
    "duration": 132,
    "start_time": "2022-05-09T11:04:58.091Z"
   },
   {
    "duration": 66,
    "start_time": "2022-05-09T11:05:22.857Z"
   },
   {
    "duration": 64,
    "start_time": "2022-05-09T11:05:33.322Z"
   },
   {
    "duration": 109,
    "start_time": "2022-05-09T11:06:49.703Z"
   },
   {
    "duration": 15,
    "start_time": "2022-05-09T11:08:57.014Z"
   },
   {
    "duration": 205,
    "start_time": "2022-05-09T11:09:14.203Z"
   },
   {
    "duration": 380,
    "start_time": "2022-05-09T11:09:21.621Z"
   },
   {
    "duration": 318,
    "start_time": "2022-05-09T11:09:26.296Z"
   },
   {
    "duration": 1860,
    "start_time": "2022-05-09T11:10:13.143Z"
   },
   {
    "duration": 1932,
    "start_time": "2022-05-09T11:10:36.149Z"
   },
   {
    "duration": 21,
    "start_time": "2022-05-09T11:11:30.651Z"
   },
   {
    "duration": 145,
    "start_time": "2022-05-09T11:12:15.018Z"
   },
   {
    "duration": 10,
    "start_time": "2022-05-09T11:12:22.714Z"
   },
   {
    "duration": 11,
    "start_time": "2022-05-09T11:12:31.440Z"
   },
   {
    "duration": 207,
    "start_time": "2022-05-09T11:13:02.217Z"
   },
   {
    "duration": 7,
    "start_time": "2022-05-09T11:13:11.388Z"
   },
   {
    "duration": 11,
    "start_time": "2022-05-09T11:13:14.467Z"
   },
   {
    "duration": 9,
    "start_time": "2022-05-09T11:13:21.302Z"
   },
   {
    "duration": 10,
    "start_time": "2022-05-09T11:13:29.108Z"
   },
   {
    "duration": 305,
    "start_time": "2022-05-09T11:13:58.440Z"
   },
   {
    "duration": 41,
    "start_time": "2022-05-09T11:15:45.868Z"
   },
   {
    "duration": 21,
    "start_time": "2022-05-09T11:15:51.412Z"
   },
   {
    "duration": 21,
    "start_time": "2022-05-09T11:16:16.126Z"
   },
   {
    "duration": 15,
    "start_time": "2022-05-09T11:16:19.823Z"
   },
   {
    "duration": 11,
    "start_time": "2022-05-09T11:16:29.790Z"
   },
   {
    "duration": 13,
    "start_time": "2022-05-09T11:17:03.669Z"
   },
   {
    "duration": 212,
    "start_time": "2022-05-09T11:17:23.574Z"
   },
   {
    "duration": 421,
    "start_time": "2022-05-09T11:18:13.122Z"
   },
   {
    "duration": 427,
    "start_time": "2022-05-09T11:18:26.957Z"
   },
   {
    "duration": 423,
    "start_time": "2022-05-09T11:18:36.753Z"
   },
   {
    "duration": 481,
    "start_time": "2022-05-09T11:18:43.962Z"
   },
   {
    "duration": 43,
    "start_time": "2022-05-09T11:25:11.435Z"
   },
   {
    "duration": 2571,
    "start_time": "2022-05-09T11:25:34.350Z"
   },
   {
    "duration": 71,
    "start_time": "2022-05-09T11:25:51.414Z"
   },
   {
    "duration": 224,
    "start_time": "2022-05-09T11:28:13.507Z"
   },
   {
    "duration": 13,
    "start_time": "2022-05-09T11:30:52.614Z"
   },
   {
    "duration": 13,
    "start_time": "2022-05-09T11:30:57.763Z"
   },
   {
    "duration": 13,
    "start_time": "2022-05-09T11:31:09.434Z"
   },
   {
    "duration": 1979,
    "start_time": "2022-05-09T11:31:30.470Z"
   },
   {
    "duration": 8,
    "start_time": "2022-05-09T11:31:46.736Z"
   },
   {
    "duration": 5,
    "start_time": "2022-05-09T11:31:59.674Z"
   },
   {
    "duration": 6,
    "start_time": "2022-05-09T11:32:16.073Z"
   },
   {
    "duration": 6,
    "start_time": "2022-05-09T11:33:00.297Z"
   },
   {
    "duration": 6,
    "start_time": "2022-05-09T11:33:09.287Z"
   },
   {
    "duration": 14,
    "start_time": "2022-05-09T11:33:17.718Z"
   },
   {
    "duration": 14,
    "start_time": "2022-05-09T11:34:05.418Z"
   },
   {
    "duration": 692,
    "start_time": "2022-05-09T11:36:46.005Z"
   },
   {
    "duration": 225,
    "start_time": "2022-05-09T11:38:35.344Z"
   },
   {
    "duration": 263,
    "start_time": "2022-05-09T11:38:45.958Z"
   },
   {
    "duration": 13,
    "start_time": "2022-05-09T11:39:00.263Z"
   },
   {
    "duration": 12,
    "start_time": "2022-05-09T11:39:04.747Z"
   },
   {
    "duration": 244,
    "start_time": "2022-05-09T11:39:14.395Z"
   },
   {
    "duration": 267,
    "start_time": "2022-05-09T11:39:32.154Z"
   },
   {
    "duration": 348,
    "start_time": "2022-05-09T11:39:48.013Z"
   },
   {
    "duration": 308,
    "start_time": "2022-05-09T11:40:32.129Z"
   },
   {
    "duration": 291,
    "start_time": "2022-05-09T11:40:38.924Z"
   },
   {
    "duration": 1519,
    "start_time": "2022-05-09T11:42:05.314Z"
   },
   {
    "duration": 1189,
    "start_time": "2022-05-09T11:42:53.137Z"
   },
   {
    "duration": 28,
    "start_time": "2022-05-09T11:43:15.045Z"
   },
   {
    "duration": 30,
    "start_time": "2022-05-09T11:43:48.889Z"
   },
   {
    "duration": 18,
    "start_time": "2022-05-09T11:44:00.730Z"
   },
   {
    "duration": 1031,
    "start_time": "2022-05-09T11:44:09.909Z"
   },
   {
    "duration": 861,
    "start_time": "2022-05-09T11:44:18.146Z"
   },
   {
    "duration": 44785,
    "start_time": "2022-05-09T11:45:32.986Z"
   },
   {
    "duration": 52669,
    "start_time": "2022-05-09T11:57:14.047Z"
   },
   {
    "duration": 298,
    "start_time": "2022-05-09T12:25:18.145Z"
   },
   {
    "duration": 289,
    "start_time": "2022-05-09T12:25:22.515Z"
   },
   {
    "duration": 3516,
    "start_time": "2022-05-09T12:26:15.376Z"
   },
   {
    "duration": 727,
    "start_time": "2022-05-09T12:26:20.177Z"
   },
   {
    "duration": 846,
    "start_time": "2022-05-09T12:26:25.421Z"
   },
   {
    "duration": 892,
    "start_time": "2022-05-09T12:26:57.331Z"
   },
   {
    "duration": 1039,
    "start_time": "2022-05-09T12:48:33.467Z"
   },
   {
    "duration": 922,
    "start_time": "2022-05-09T12:49:08.751Z"
   },
   {
    "duration": 3752,
    "start_time": "2022-05-09T12:50:29.413Z"
   },
   {
    "duration": 965,
    "start_time": "2022-05-09T12:50:58.101Z"
   },
   {
    "duration": 973,
    "start_time": "2022-05-09T12:51:22.615Z"
   },
   {
    "duration": 953,
    "start_time": "2022-05-09T12:52:02.713Z"
   },
   {
    "duration": 20,
    "start_time": "2022-05-09T12:53:48.691Z"
   },
   {
    "duration": 18,
    "start_time": "2022-05-09T16:16:26.202Z"
   },
   {
    "duration": 12,
    "start_time": "2022-05-09T16:16:38.563Z"
   },
   {
    "duration": 487,
    "start_time": "2022-05-09T16:17:13.446Z"
   },
   {
    "duration": 646,
    "start_time": "2022-05-09T16:20:27.599Z"
   },
   {
    "duration": 515,
    "start_time": "2022-05-09T16:41:06.117Z"
   },
   {
    "duration": 193,
    "start_time": "2022-05-09T16:41:11.396Z"
   },
   {
    "duration": 289,
    "start_time": "2022-05-09T17:13:56.542Z"
   },
   {
    "duration": 298,
    "start_time": "2022-05-09T17:14:01.012Z"
   },
   {
    "duration": 184,
    "start_time": "2022-05-09T17:14:13.724Z"
   },
   {
    "duration": 298,
    "start_time": "2022-05-09T17:14:17.412Z"
   },
   {
    "duration": 302,
    "start_time": "2022-05-09T17:14:21.952Z"
   },
   {
    "duration": 360,
    "start_time": "2022-05-09T17:17:17.763Z"
   },
   {
    "duration": 46,
    "start_time": "2022-05-09T17:38:01.328Z"
   },
   {
    "duration": 13,
    "start_time": "2022-05-09T17:48:09.863Z"
   },
   {
    "duration": 14,
    "start_time": "2022-05-09T17:52:45.187Z"
   },
   {
    "duration": 16,
    "start_time": "2022-05-09T17:52:51.379Z"
   },
   {
    "duration": 48,
    "start_time": "2022-05-09T17:53:01.371Z"
   },
   {
    "duration": 58,
    "start_time": "2022-05-09T18:11:44.142Z"
   },
   {
    "duration": 7,
    "start_time": "2022-05-09T18:11:50.580Z"
   },
   {
    "duration": 34,
    "start_time": "2022-05-09T18:12:12.669Z"
   },
   {
    "duration": 54,
    "start_time": "2022-05-09T18:12:40.589Z"
   },
   {
    "duration": 33,
    "start_time": "2022-05-09T18:13:59.124Z"
   },
   {
    "duration": 42,
    "start_time": "2022-05-09T18:14:38.026Z"
   },
   {
    "duration": 12,
    "start_time": "2022-05-09T18:14:59.418Z"
   },
   {
    "duration": 51,
    "start_time": "2022-05-09T18:15:04.494Z"
   },
   {
    "duration": 63,
    "start_time": "2022-05-09T18:15:35.246Z"
   },
   {
    "duration": 59,
    "start_time": "2022-05-09T18:18:15.622Z"
   },
   {
    "duration": 170,
    "start_time": "2022-05-09T18:19:19.299Z"
   },
   {
    "duration": 48,
    "start_time": "2022-05-09T18:19:24.707Z"
   },
   {
    "duration": 26,
    "start_time": "2022-05-09T18:22:08.108Z"
   },
   {
    "duration": 50,
    "start_time": "2022-05-09T18:22:24.403Z"
   },
   {
    "duration": 58,
    "start_time": "2022-05-09T18:22:33.806Z"
   },
   {
    "duration": 22,
    "start_time": "2022-05-09T18:23:44.025Z"
   },
   {
    "duration": 60,
    "start_time": "2022-05-09T18:24:13.239Z"
   },
   {
    "duration": 146,
    "start_time": "2022-05-09T18:25:26.493Z"
   },
   {
    "duration": 151,
    "start_time": "2022-05-09T18:25:38.765Z"
   },
   {
    "duration": 164,
    "start_time": "2022-05-09T18:30:45.298Z"
   },
   {
    "duration": 152,
    "start_time": "2022-05-09T18:31:20.580Z"
   },
   {
    "duration": 139,
    "start_time": "2022-05-09T18:31:52.269Z"
   },
   {
    "duration": 3,
    "start_time": "2022-05-09T18:31:55.648Z"
   },
   {
    "duration": 1488,
    "start_time": "2022-05-09T18:32:39.877Z"
   },
   {
    "duration": 573,
    "start_time": "2022-05-09T18:32:41.368Z"
   },
   {
    "duration": 185,
    "start_time": "2022-05-09T18:32:41.943Z"
   },
   {
    "duration": 728,
    "start_time": "2022-05-09T18:32:42.130Z"
   },
   {
    "duration": 313,
    "start_time": "2022-05-09T18:32:42.860Z"
   },
   {
    "duration": 137,
    "start_time": "2022-05-09T18:32:43.175Z"
   },
   {
    "duration": 80,
    "start_time": "2022-05-09T18:32:43.315Z"
   },
   {
    "duration": 11,
    "start_time": "2022-05-09T18:32:43.398Z"
   },
   {
    "duration": 257,
    "start_time": "2022-05-09T18:32:43.412Z"
   },
   {
    "duration": 32,
    "start_time": "2022-05-09T18:32:43.672Z"
   },
   {
    "duration": 623,
    "start_time": "2022-05-09T18:32:43.706Z"
   },
   {
    "duration": 1055,
    "start_time": "2022-05-09T18:32:44.332Z"
   },
   {
    "duration": 5,
    "start_time": "2022-05-09T18:32:45.389Z"
   },
   {
    "duration": 296,
    "start_time": "2022-05-09T18:32:45.397Z"
   },
   {
    "duration": 22,
    "start_time": "2022-05-09T18:36:55.055Z"
   },
   {
    "duration": 25,
    "start_time": "2022-05-09T18:50:54.567Z"
   },
   {
    "duration": 24,
    "start_time": "2022-05-09T18:51:01.793Z"
   },
   {
    "duration": 26,
    "start_time": "2022-05-09T18:51:09.961Z"
   },
   {
    "duration": 25,
    "start_time": "2022-05-09T18:52:32.816Z"
   },
   {
    "duration": 48,
    "start_time": "2022-05-09T18:52:45.666Z"
   },
   {
    "duration": 1684,
    "start_time": "2022-05-09T18:53:31.791Z"
   },
   {
    "duration": 607,
    "start_time": "2022-05-09T18:53:33.479Z"
   },
   {
    "duration": 232,
    "start_time": "2022-05-09T18:53:34.089Z"
   },
   {
    "duration": 791,
    "start_time": "2022-05-09T18:53:34.323Z"
   },
   {
    "duration": 342,
    "start_time": "2022-05-09T18:53:35.117Z"
   },
   {
    "duration": 139,
    "start_time": "2022-05-09T18:53:35.461Z"
   },
   {
    "duration": 83,
    "start_time": "2022-05-09T18:53:35.603Z"
   },
   {
    "duration": 12,
    "start_time": "2022-05-09T18:53:35.689Z"
   },
   {
    "duration": 293,
    "start_time": "2022-05-09T18:53:35.703Z"
   },
   {
    "duration": 23,
    "start_time": "2022-05-09T18:53:36.002Z"
   },
   {
    "duration": 686,
    "start_time": "2022-05-09T18:53:36.028Z"
   },
   {
    "duration": 1124,
    "start_time": "2022-05-09T18:53:36.716Z"
   },
   {
    "duration": 4,
    "start_time": "2022-05-09T18:53:37.842Z"
   },
   {
    "duration": 315,
    "start_time": "2022-05-09T18:53:37.850Z"
   },
   {
    "duration": 59,
    "start_time": "2022-05-09T18:53:38.167Z"
   },
   {
    "duration": 2055,
    "start_time": "2022-05-09T19:04:28.102Z"
   },
   {
    "duration": 850,
    "start_time": "2022-05-09T19:04:30.160Z"
   },
   {
    "duration": 232,
    "start_time": "2022-05-09T19:04:31.012Z"
   },
   {
    "duration": 717,
    "start_time": "2022-05-09T19:04:31.247Z"
   },
   {
    "duration": 320,
    "start_time": "2022-05-09T19:04:31.968Z"
   },
   {
    "duration": 188,
    "start_time": "2022-05-09T19:04:32.290Z"
   },
   {
    "duration": 104,
    "start_time": "2022-05-09T19:04:32.481Z"
   },
   {
    "duration": 12,
    "start_time": "2022-05-09T19:04:32.588Z"
   },
   {
    "duration": 253,
    "start_time": "2022-05-09T19:04:32.604Z"
   },
   {
    "duration": 36,
    "start_time": "2022-05-09T19:04:32.859Z"
   },
   {
    "duration": 595,
    "start_time": "2022-05-09T19:04:32.897Z"
   },
   {
    "duration": 1628,
    "start_time": "2022-05-09T19:04:33.495Z"
   },
   {
    "duration": 5,
    "start_time": "2022-05-09T19:04:35.126Z"
   },
   {
    "duration": 389,
    "start_time": "2022-05-09T19:04:35.136Z"
   },
   {
    "duration": 35,
    "start_time": "2022-05-09T19:04:35.528Z"
   },
   {
    "duration": 41,
    "start_time": "2022-05-09T19:06:06.058Z"
   },
   {
    "duration": 665,
    "start_time": "2022-05-09T19:06:50.134Z"
   },
   {
    "duration": 1811,
    "start_time": "2022-05-09T19:07:51.059Z"
   },
   {
    "duration": 2337,
    "start_time": "2022-05-09T19:07:52.873Z"
   },
   {
    "duration": 211,
    "start_time": "2022-05-09T19:07:55.213Z"
   },
   {
    "duration": 716,
    "start_time": "2022-05-09T19:07:55.427Z"
   },
   {
    "duration": 370,
    "start_time": "2022-05-09T19:07:56.145Z"
   },
   {
    "duration": 190,
    "start_time": "2022-05-09T19:07:56.518Z"
   },
   {
    "duration": 100,
    "start_time": "2022-05-09T19:07:56.711Z"
   },
   {
    "duration": 14,
    "start_time": "2022-05-09T19:07:56.814Z"
   },
   {
    "duration": 330,
    "start_time": "2022-05-09T19:07:56.831Z"
   },
   {
    "duration": 22,
    "start_time": "2022-05-09T19:07:57.165Z"
   },
   {
    "duration": 675,
    "start_time": "2022-05-09T19:07:57.191Z"
   },
   {
    "duration": 1019,
    "start_time": "2022-05-09T19:07:57.868Z"
   },
   {
    "duration": 4,
    "start_time": "2022-05-09T19:07:58.889Z"
   },
   {
    "duration": 266,
    "start_time": "2022-05-09T19:07:58.897Z"
   },
   {
    "duration": 99,
    "start_time": "2022-05-09T19:07:59.165Z"
   },
   {
    "duration": 155,
    "start_time": "2022-05-09T19:08:45.903Z"
   },
   {
    "duration": 31,
    "start_time": "2022-05-09T19:09:42.758Z"
   },
   {
    "duration": 1466,
    "start_time": "2022-05-09T19:10:18.897Z"
   },
   {
    "duration": 569,
    "start_time": "2022-05-09T19:10:20.366Z"
   },
   {
    "duration": 186,
    "start_time": "2022-05-09T19:10:20.937Z"
   },
   {
    "duration": 743,
    "start_time": "2022-05-09T19:10:21.127Z"
   },
   {
    "duration": 310,
    "start_time": "2022-05-09T19:10:21.881Z"
   },
   {
    "duration": 125,
    "start_time": "2022-05-09T19:10:22.194Z"
   },
   {
    "duration": 82,
    "start_time": "2022-05-09T19:10:22.322Z"
   },
   {
    "duration": 10,
    "start_time": "2022-05-09T19:10:22.406Z"
   },
   {
    "duration": 265,
    "start_time": "2022-05-09T19:10:22.419Z"
   },
   {
    "duration": 19,
    "start_time": "2022-05-09T19:10:22.688Z"
   },
   {
    "duration": 622,
    "start_time": "2022-05-09T19:10:22.710Z"
   },
   {
    "duration": 1059,
    "start_time": "2022-05-09T19:10:23.335Z"
   },
   {
    "duration": 4,
    "start_time": "2022-05-09T19:10:24.397Z"
   },
   {
    "duration": 299,
    "start_time": "2022-05-09T19:10:24.403Z"
   },
   {
    "duration": 177,
    "start_time": "2022-05-09T19:10:24.705Z"
   },
   {
    "duration": 21,
    "start_time": "2022-05-09T19:11:02.896Z"
   },
   {
    "duration": 22,
    "start_time": "2022-05-09T19:12:47.363Z"
   },
   {
    "duration": 1437,
    "start_time": "2022-05-09T19:12:53.803Z"
   },
   {
    "duration": 537,
    "start_time": "2022-05-09T19:12:55.243Z"
   },
   {
    "duration": 208,
    "start_time": "2022-05-09T19:12:55.787Z"
   },
   {
    "duration": 720,
    "start_time": "2022-05-09T19:12:55.999Z"
   },
   {
    "duration": 317,
    "start_time": "2022-05-09T19:12:56.721Z"
   },
   {
    "duration": 126,
    "start_time": "2022-05-09T19:12:57.040Z"
   },
   {
    "duration": 81,
    "start_time": "2022-05-09T19:12:57.168Z"
   },
   {
    "duration": 9,
    "start_time": "2022-05-09T19:12:57.251Z"
   },
   {
    "duration": 255,
    "start_time": "2022-05-09T19:12:57.262Z"
   },
   {
    "duration": 18,
    "start_time": "2022-05-09T19:12:57.522Z"
   },
   {
    "duration": 608,
    "start_time": "2022-05-09T19:12:57.543Z"
   },
   {
    "duration": 1035,
    "start_time": "2022-05-09T19:12:58.153Z"
   },
   {
    "duration": 7,
    "start_time": "2022-05-09T19:12:59.191Z"
   },
   {
    "duration": 302,
    "start_time": "2022-05-09T19:12:59.201Z"
   },
   {
    "duration": 160,
    "start_time": "2022-05-09T19:12:59.505Z"
   },
   {
    "duration": 12,
    "start_time": "2022-05-09T19:16:20.269Z"
   },
   {
    "duration": 35,
    "start_time": "2022-05-09T19:17:21.016Z"
   },
   {
    "duration": 32,
    "start_time": "2022-05-09T19:18:45.238Z"
   },
   {
    "duration": 41,
    "start_time": "2022-05-09T19:21:46.445Z"
   },
   {
    "duration": 46,
    "start_time": "2022-05-09T19:23:45.023Z"
   },
   {
    "duration": 39,
    "start_time": "2022-05-09T19:24:10.127Z"
   },
   {
    "duration": 43,
    "start_time": "2022-05-09T19:24:21.622Z"
   },
   {
    "duration": 1525,
    "start_time": "2022-05-09T19:24:33.338Z"
   },
   {
    "duration": 614,
    "start_time": "2022-05-09T19:24:34.866Z"
   },
   {
    "duration": 222,
    "start_time": "2022-05-09T19:24:35.485Z"
   },
   {
    "duration": 877,
    "start_time": "2022-05-09T19:24:35.710Z"
   },
   {
    "duration": 430,
    "start_time": "2022-05-09T19:24:36.595Z"
   },
   {
    "duration": 192,
    "start_time": "2022-05-09T19:24:37.028Z"
   },
   {
    "duration": 102,
    "start_time": "2022-05-09T19:24:37.223Z"
   },
   {
    "duration": 12,
    "start_time": "2022-05-09T19:24:37.328Z"
   },
   {
    "duration": 383,
    "start_time": "2022-05-09T19:24:37.343Z"
   },
   {
    "duration": 23,
    "start_time": "2022-05-09T19:24:37.729Z"
   },
   {
    "duration": 893,
    "start_time": "2022-05-09T19:24:37.755Z"
   },
   {
    "duration": 1154,
    "start_time": "2022-05-09T19:24:38.651Z"
   },
   {
    "duration": 77,
    "start_time": "2022-05-09T19:24:39.810Z"
   },
   {
    "duration": 292,
    "start_time": "2022-05-09T19:24:39.892Z"
   },
   {
    "duration": 183,
    "start_time": "2022-05-09T19:24:40.186Z"
   },
   {
    "duration": 58,
    "start_time": "2022-05-09T19:24:50.360Z"
   },
   {
    "duration": 45,
    "start_time": "2022-05-09T19:25:07.112Z"
   },
   {
    "duration": 7,
    "start_time": "2022-05-09T19:26:08.680Z"
   },
   {
    "duration": 54,
    "start_time": "2022-05-09T19:26:23.211Z"
   },
   {
    "duration": 43,
    "start_time": "2022-05-09T19:26:33.852Z"
   },
   {
    "duration": 43,
    "start_time": "2022-05-09T19:26:52.214Z"
   },
   {
    "duration": 61,
    "start_time": "2022-05-09T19:29:54.361Z"
   },
   {
    "duration": 43,
    "start_time": "2022-05-09T19:30:09.215Z"
   },
   {
    "duration": 1661,
    "start_time": "2022-05-09T19:30:14.964Z"
   },
   {
    "duration": 592,
    "start_time": "2022-05-09T19:30:16.628Z"
   },
   {
    "duration": 191,
    "start_time": "2022-05-09T19:30:17.222Z"
   },
   {
    "duration": 778,
    "start_time": "2022-05-09T19:30:17.417Z"
   },
   {
    "duration": 343,
    "start_time": "2022-05-09T19:30:18.198Z"
   },
   {
    "duration": 135,
    "start_time": "2022-05-09T19:30:18.544Z"
   },
   {
    "duration": 75,
    "start_time": "2022-05-09T19:30:18.682Z"
   },
   {
    "duration": 11,
    "start_time": "2022-05-09T19:30:18.784Z"
   },
   {
    "duration": 271,
    "start_time": "2022-05-09T19:30:18.800Z"
   },
   {
    "duration": 38,
    "start_time": "2022-05-09T19:30:19.076Z"
   },
   {
    "duration": 589,
    "start_time": "2022-05-09T19:30:19.116Z"
   },
   {
    "duration": 1305,
    "start_time": "2022-05-09T19:30:19.707Z"
   },
   {
    "duration": 45,
    "start_time": "2022-05-09T19:30:21.014Z"
   },
   {
    "duration": 423,
    "start_time": "2022-05-09T19:30:21.082Z"
   },
   {
    "duration": 194,
    "start_time": "2022-05-09T19:30:21.507Z"
   },
   {
    "duration": 47,
    "start_time": "2022-05-09T19:30:29.400Z"
   },
   {
    "duration": 14,
    "start_time": "2022-05-09T19:30:59.442Z"
   },
   {
    "duration": 62,
    "start_time": "2022-05-09T19:32:07.652Z"
   },
   {
    "duration": 15,
    "start_time": "2022-05-09T19:32:09.648Z"
   },
   {
    "duration": 77,
    "start_time": "2022-05-09T19:33:23.871Z"
   },
   {
    "duration": 15,
    "start_time": "2022-05-09T19:33:27.951Z"
   },
   {
    "duration": 70,
    "start_time": "2022-05-09T19:33:35.001Z"
   },
   {
    "duration": 128,
    "start_time": "2022-05-09T19:33:40.629Z"
   },
   {
    "duration": 70,
    "start_time": "2022-05-09T19:34:06.821Z"
   },
   {
    "duration": 60,
    "start_time": "2022-05-09T19:34:29.054Z"
   },
   {
    "duration": 57,
    "start_time": "2022-05-09T19:34:42.366Z"
   },
   {
    "duration": 1465,
    "start_time": "2022-05-09T19:34:47.495Z"
   },
   {
    "duration": 565,
    "start_time": "2022-05-09T19:34:48.963Z"
   },
   {
    "duration": 227,
    "start_time": "2022-05-09T19:34:49.530Z"
   },
   {
    "duration": 834,
    "start_time": "2022-05-09T19:34:49.783Z"
   },
   {
    "duration": 348,
    "start_time": "2022-05-09T19:34:50.619Z"
   },
   {
    "duration": 141,
    "start_time": "2022-05-09T19:34:50.970Z"
   },
   {
    "duration": 110,
    "start_time": "2022-05-09T19:34:51.115Z"
   },
   {
    "duration": 22,
    "start_time": "2022-05-09T19:34:51.229Z"
   },
   {
    "duration": 253,
    "start_time": "2022-05-09T19:34:51.254Z"
   },
   {
    "duration": 20,
    "start_time": "2022-05-09T19:34:51.510Z"
   },
   {
    "duration": 633,
    "start_time": "2022-05-09T19:34:51.532Z"
   },
   {
    "duration": 1081,
    "start_time": "2022-05-09T19:34:52.167Z"
   },
   {
    "duration": 68,
    "start_time": "2022-05-09T19:34:53.250Z"
   },
   {
    "duration": 298,
    "start_time": "2022-05-09T19:34:53.322Z"
   },
   {
    "duration": 197,
    "start_time": "2022-05-09T19:34:53.622Z"
   },
   {
    "duration": 15,
    "start_time": "2022-05-09T19:35:13.619Z"
   },
   {
    "duration": 64,
    "start_time": "2022-05-09T19:35:55.981Z"
   },
   {
    "duration": 15,
    "start_time": "2022-05-09T19:36:03.998Z"
   },
   {
    "duration": 62,
    "start_time": "2022-05-09T19:36:22.900Z"
   },
   {
    "duration": 16,
    "start_time": "2022-05-09T19:36:25.445Z"
   },
   {
    "duration": 55,
    "start_time": "2022-05-09T19:36:36.499Z"
   },
   {
    "duration": 68,
    "start_time": "2022-05-09T19:55:48.645Z"
   },
   {
    "duration": 60,
    "start_time": "2022-05-09T19:55:53.820Z"
   },
   {
    "duration": 68,
    "start_time": "2022-05-09T19:56:08.015Z"
   },
   {
    "duration": 56,
    "start_time": "2022-05-09T19:56:49.762Z"
   },
   {
    "duration": 15,
    "start_time": "2022-05-09T19:57:14.864Z"
   },
   {
    "duration": 5,
    "start_time": "2022-05-09T19:57:51.311Z"
   },
   {
    "duration": 604,
    "start_time": "2022-05-09T19:57:51.319Z"
   },
   {
    "duration": 193,
    "start_time": "2022-05-09T19:57:51.926Z"
   },
   {
    "duration": 769,
    "start_time": "2022-05-09T19:57:52.121Z"
   },
   {
    "duration": 322,
    "start_time": "2022-05-09T19:57:52.894Z"
   },
   {
    "duration": 129,
    "start_time": "2022-05-09T19:57:54.762Z"
   },
   {
    "duration": 15,
    "start_time": "2022-05-09T19:57:56.516Z"
   },
   {
    "duration": 137,
    "start_time": "2022-05-09T19:59:32.023Z"
   },
   {
    "duration": 131,
    "start_time": "2022-05-09T19:59:55.901Z"
   },
   {
    "duration": 138,
    "start_time": "2022-05-09T20:00:04.740Z"
   },
   {
    "duration": 16,
    "start_time": "2022-05-09T20:00:08.029Z"
   },
   {
    "duration": 67,
    "start_time": "2022-05-09T20:00:12.665Z"
   },
   {
    "duration": 15,
    "start_time": "2022-05-09T20:00:14.033Z"
   },
   {
    "duration": 63,
    "start_time": "2022-05-09T20:00:19.069Z"
   },
   {
    "duration": 15,
    "start_time": "2022-05-09T20:00:21.425Z"
   },
   {
    "duration": 49,
    "start_time": "2022-05-09T20:00:33.196Z"
   },
   {
    "duration": 66,
    "start_time": "2022-05-09T20:00:39.131Z"
   },
   {
    "duration": 4,
    "start_time": "2022-05-09T20:11:35.691Z"
   },
   {
    "duration": 49,
    "start_time": "2022-05-09T20:14:55.807Z"
   },
   {
    "duration": 42,
    "start_time": "2022-05-09T20:15:00.512Z"
   },
   {
    "duration": 92,
    "start_time": "2022-05-09T20:18:03.433Z"
   },
   {
    "duration": 48,
    "start_time": "2022-05-09T20:18:28.070Z"
   },
   {
    "duration": 62,
    "start_time": "2022-05-09T20:18:46.404Z"
   },
   {
    "duration": 56,
    "start_time": "2022-05-09T20:18:54.322Z"
   },
   {
    "duration": 54,
    "start_time": "2022-05-09T20:19:03.704Z"
   },
   {
    "duration": 79,
    "start_time": "2022-05-09T20:19:26.040Z"
   },
   {
    "duration": 23,
    "start_time": "2022-05-09T20:21:32.477Z"
   },
   {
    "duration": 36,
    "start_time": "2022-05-09T20:21:54.844Z"
   },
   {
    "duration": 13,
    "start_time": "2022-05-09T20:22:29.642Z"
   },
   {
    "duration": 27,
    "start_time": "2022-05-09T20:22:33.118Z"
   },
   {
    "duration": 37,
    "start_time": "2022-05-09T20:22:42.531Z"
   },
   {
    "duration": 47,
    "start_time": "2022-05-09T20:23:01.740Z"
   },
   {
    "duration": 65,
    "start_time": "2022-05-09T20:23:28.244Z"
   },
   {
    "duration": 59,
    "start_time": "2022-05-09T20:23:33.839Z"
   },
   {
    "duration": 15,
    "start_time": "2022-05-09T20:24:16.198Z"
   },
   {
    "duration": 13,
    "start_time": "2022-05-09T20:24:33.912Z"
   },
   {
    "duration": 76,
    "start_time": "2022-05-09T20:24:42.078Z"
   },
   {
    "duration": 1534,
    "start_time": "2022-05-09T20:24:46.412Z"
   },
   {
    "duration": 5,
    "start_time": "2022-05-09T20:24:52.064Z"
   },
   {
    "duration": 554,
    "start_time": "2022-05-09T20:24:53.823Z"
   },
   {
    "duration": 30,
    "start_time": "2022-05-09T20:24:56.363Z"
   },
   {
    "duration": 20,
    "start_time": "2022-05-09T20:25:09.675Z"
   },
   {
    "duration": 21,
    "start_time": "2022-05-09T20:25:25.994Z"
   },
   {
    "duration": 21,
    "start_time": "2022-05-09T20:25:30.295Z"
   },
   {
    "duration": 21,
    "start_time": "2022-05-09T20:25:43.377Z"
   },
   {
    "duration": 23,
    "start_time": "2022-05-09T20:25:55.497Z"
   },
   {
    "duration": 24,
    "start_time": "2022-05-09T20:26:02.958Z"
   },
   {
    "duration": 90,
    "start_time": "2022-05-09T20:27:44.949Z"
   },
   {
    "duration": 1503,
    "start_time": "2022-05-09T20:27:52.168Z"
   },
   {
    "duration": 567,
    "start_time": "2022-05-09T20:27:53.674Z"
   },
   {
    "duration": 192,
    "start_time": "2022-05-09T20:27:54.244Z"
   },
   {
    "duration": 725,
    "start_time": "2022-05-09T20:27:54.438Z"
   },
   {
    "duration": 312,
    "start_time": "2022-05-09T20:27:55.181Z"
   },
   {
    "duration": 119,
    "start_time": "2022-05-09T20:27:55.495Z"
   },
   {
    "duration": 14,
    "start_time": "2022-05-09T20:27:55.617Z"
   },
   {
    "duration": 95,
    "start_time": "2022-05-09T20:27:55.634Z"
   },
   {
    "duration": 10,
    "start_time": "2022-05-09T20:27:55.731Z"
   },
   {
    "duration": 257,
    "start_time": "2022-05-09T20:27:55.743Z"
   },
   {
    "duration": 190,
    "start_time": "2022-05-09T20:27:56.002Z"
   },
   {
    "duration": 0,
    "start_time": "2022-05-09T20:27:56.195Z"
   },
   {
    "duration": 0,
    "start_time": "2022-05-09T20:27:56.197Z"
   },
   {
    "duration": 0,
    "start_time": "2022-05-09T20:27:56.198Z"
   },
   {
    "duration": 0,
    "start_time": "2022-05-09T20:27:56.200Z"
   },
   {
    "duration": 0,
    "start_time": "2022-05-09T20:27:56.201Z"
   },
   {
    "duration": 0,
    "start_time": "2022-05-09T20:27:56.202Z"
   },
   {
    "duration": 0,
    "start_time": "2022-05-09T20:27:56.218Z"
   },
   {
    "duration": 0,
    "start_time": "2022-05-09T20:27:56.220Z"
   },
   {
    "duration": 15,
    "start_time": "2022-05-09T20:28:16.406Z"
   },
   {
    "duration": 1456,
    "start_time": "2022-05-09T20:28:23.506Z"
   },
   {
    "duration": 539,
    "start_time": "2022-05-09T20:28:24.966Z"
   },
   {
    "duration": 184,
    "start_time": "2022-05-09T20:28:25.508Z"
   },
   {
    "duration": 732,
    "start_time": "2022-05-09T20:28:25.695Z"
   },
   {
    "duration": 309,
    "start_time": "2022-05-09T20:28:26.430Z"
   },
   {
    "duration": 120,
    "start_time": "2022-05-09T20:28:26.741Z"
   },
   {
    "duration": 20,
    "start_time": "2022-05-09T20:28:26.864Z"
   },
   {
    "duration": 73,
    "start_time": "2022-05-09T20:28:26.886Z"
   },
   {
    "duration": 26,
    "start_time": "2022-05-09T20:28:26.962Z"
   },
   {
    "duration": 248,
    "start_time": "2022-05-09T20:28:26.992Z"
   },
   {
    "duration": 189,
    "start_time": "2022-05-09T20:28:27.242Z"
   },
   {
    "duration": 0,
    "start_time": "2022-05-09T20:28:27.434Z"
   },
   {
    "duration": 0,
    "start_time": "2022-05-09T20:28:27.436Z"
   },
   {
    "duration": 0,
    "start_time": "2022-05-09T20:28:27.437Z"
   },
   {
    "duration": 0,
    "start_time": "2022-05-09T20:28:27.438Z"
   },
   {
    "duration": 0,
    "start_time": "2022-05-09T20:28:27.439Z"
   },
   {
    "duration": 0,
    "start_time": "2022-05-09T20:28:27.441Z"
   },
   {
    "duration": 0,
    "start_time": "2022-05-09T20:28:27.442Z"
   },
   {
    "duration": 0,
    "start_time": "2022-05-09T20:28:27.443Z"
   },
   {
    "duration": 16,
    "start_time": "2022-05-09T20:29:15.016Z"
   },
   {
    "duration": 103,
    "start_time": "2022-05-09T20:29:25.600Z"
   },
   {
    "duration": 22,
    "start_time": "2022-05-09T20:29:27.583Z"
   },
   {
    "duration": 73,
    "start_time": "2022-05-09T20:29:31.713Z"
   },
   {
    "duration": 10,
    "start_time": "2022-05-09T20:29:32.509Z"
   },
   {
    "duration": 232,
    "start_time": "2022-05-09T20:29:33.729Z"
   },
   {
    "duration": 58,
    "start_time": "2022-05-09T20:29:34.391Z"
   },
   {
    "duration": 44,
    "start_time": "2022-05-09T20:29:37.413Z"
   },
   {
    "duration": 15,
    "start_time": "2022-05-09T20:29:52.716Z"
   },
   {
    "duration": 701,
    "start_time": "2022-05-09T20:29:58.909Z"
   },
   {
    "duration": 1109,
    "start_time": "2022-05-09T20:30:02.035Z"
   },
   {
    "duration": 1477,
    "start_time": "2022-05-09T20:34:00.998Z"
   },
   {
    "duration": 564,
    "start_time": "2022-05-09T20:34:02.478Z"
   },
   {
    "duration": 197,
    "start_time": "2022-05-09T20:34:03.044Z"
   },
   {
    "duration": 824,
    "start_time": "2022-05-09T20:34:03.244Z"
   },
   {
    "duration": 337,
    "start_time": "2022-05-09T20:34:04.072Z"
   },
   {
    "duration": 129,
    "start_time": "2022-05-09T20:34:04.411Z"
   },
   {
    "duration": 16,
    "start_time": "2022-05-09T20:34:04.542Z"
   },
   {
    "duration": 97,
    "start_time": "2022-05-09T20:34:04.561Z"
   },
   {
    "duration": 24,
    "start_time": "2022-05-09T20:34:04.660Z"
   },
   {
    "duration": 345,
    "start_time": "2022-05-09T20:34:04.688Z"
   },
   {
    "duration": 18,
    "start_time": "2022-05-09T20:34:05.035Z"
   },
   {
    "duration": 635,
    "start_time": "2022-05-09T20:34:05.055Z"
   },
   {
    "duration": 1091,
    "start_time": "2022-05-09T20:34:05.693Z"
   },
   {
    "duration": 5,
    "start_time": "2022-05-09T20:34:06.790Z"
   },
   {
    "duration": 286,
    "start_time": "2022-05-09T20:34:06.798Z"
   },
   {
    "duration": 18,
    "start_time": "2022-05-09T20:34:07.088Z"
   },
   {
    "duration": 204,
    "start_time": "2022-05-09T20:34:07.108Z"
   },
   {
    "duration": 0,
    "start_time": "2022-05-09T20:34:07.315Z"
   },
   {
    "duration": 51,
    "start_time": "2022-05-09T20:34:37.114Z"
   },
   {
    "duration": 97,
    "start_time": "2022-05-09T20:37:15.467Z"
   },
   {
    "duration": 92,
    "start_time": "2022-05-09T20:37:22.693Z"
   },
   {
    "duration": 87,
    "start_time": "2022-05-09T20:37:42.481Z"
   },
   {
    "duration": 44,
    "start_time": "2022-05-09T20:37:48.930Z"
   },
   {
    "duration": 59,
    "start_time": "2022-05-09T20:37:58.215Z"
   },
   {
    "duration": 40,
    "start_time": "2022-05-09T20:38:21.115Z"
   },
   {
    "duration": 52,
    "start_time": "2022-05-09T20:38:31.515Z"
   },
   {
    "duration": 50,
    "start_time": "2022-05-09T20:38:40.946Z"
   },
   {
    "duration": 50,
    "start_time": "2022-05-09T20:38:44.387Z"
   },
   {
    "duration": 50,
    "start_time": "2022-05-09T20:38:47.338Z"
   },
   {
    "duration": 49,
    "start_time": "2022-05-09T20:38:50.239Z"
   },
   {
    "duration": 40,
    "start_time": "2022-05-09T20:38:58.861Z"
   },
   {
    "duration": 45,
    "start_time": "2022-05-09T20:39:02.180Z"
   },
   {
    "duration": 44,
    "start_time": "2022-05-09T20:39:06.056Z"
   },
   {
    "duration": 39,
    "start_time": "2022-05-09T20:39:13.066Z"
   },
   {
    "duration": 43,
    "start_time": "2022-05-09T20:39:23.056Z"
   },
   {
    "duration": 60,
    "start_time": "2022-05-09T20:39:32.424Z"
   },
   {
    "duration": 54,
    "start_time": "2022-05-09T20:39:50.146Z"
   },
   {
    "duration": 45,
    "start_time": "2022-05-09T20:41:55.013Z"
   },
   {
    "duration": 32,
    "start_time": "2022-05-09T20:42:04.068Z"
   },
   {
    "duration": 28,
    "start_time": "2022-05-09T20:42:19.493Z"
   },
   {
    "duration": 18,
    "start_time": "2022-05-09T20:42:27.077Z"
   },
   {
    "duration": 28,
    "start_time": "2022-05-09T20:42:42.454Z"
   },
   {
    "duration": 1450,
    "start_time": "2022-05-09T20:42:49.008Z"
   },
   {
    "duration": 532,
    "start_time": "2022-05-09T20:42:50.461Z"
   },
   {
    "duration": 192,
    "start_time": "2022-05-09T20:42:50.995Z"
   },
   {
    "duration": 694,
    "start_time": "2022-05-09T20:42:51.189Z"
   },
   {
    "duration": 319,
    "start_time": "2022-05-09T20:42:51.887Z"
   },
   {
    "duration": 124,
    "start_time": "2022-05-09T20:42:52.208Z"
   },
   {
    "duration": 15,
    "start_time": "2022-05-09T20:42:52.334Z"
   },
   {
    "duration": 88,
    "start_time": "2022-05-09T20:42:52.351Z"
   },
   {
    "duration": 10,
    "start_time": "2022-05-09T20:42:52.441Z"
   },
   {
    "duration": 245,
    "start_time": "2022-05-09T20:42:52.453Z"
   },
   {
    "duration": 18,
    "start_time": "2022-05-09T20:42:52.700Z"
   },
   {
    "duration": 872,
    "start_time": "2022-05-09T20:42:52.720Z"
   },
   {
    "duration": 1487,
    "start_time": "2022-05-09T20:42:53.594Z"
   },
   {
    "duration": 4,
    "start_time": "2022-05-09T20:42:55.087Z"
   },
   {
    "duration": 374,
    "start_time": "2022-05-09T20:42:55.093Z"
   },
   {
    "duration": 29,
    "start_time": "2022-05-09T20:42:55.469Z"
   },
   {
    "duration": 46,
    "start_time": "2022-05-09T20:42:55.500Z"
   },
   {
    "duration": 50,
    "start_time": "2022-05-09T20:42:55.549Z"
   },
   {
    "duration": 4,
    "start_time": "2022-05-09T20:42:55.601Z"
   },
   {
    "duration": 1962,
    "start_time": "2022-05-09T20:42:55.607Z"
   },
   {
    "duration": 0,
    "start_time": "2022-05-09T20:42:57.572Z"
   },
   {
    "duration": 14,
    "start_time": "2022-05-09T20:43:14.919Z"
   },
   {
    "duration": 17,
    "start_time": "2022-05-09T20:43:39.308Z"
   },
   {
    "duration": 6,
    "start_time": "2022-05-09T20:44:13.400Z"
   },
   {
    "duration": 10,
    "start_time": "2022-05-09T20:45:03.628Z"
   },
   {
    "duration": 15,
    "start_time": "2022-05-09T20:45:05.423Z"
   },
   {
    "duration": 11,
    "start_time": "2022-05-09T20:45:24.458Z"
   },
   {
    "duration": 17,
    "start_time": "2022-05-09T20:45:27.959Z"
   },
   {
    "duration": 44,
    "start_time": "2022-05-11T06:36:13.780Z"
   },
   {
    "duration": 1278,
    "start_time": "2022-05-11T06:36:20.427Z"
   },
   {
    "duration": 370,
    "start_time": "2022-05-11T06:36:21.707Z"
   },
   {
    "duration": 106,
    "start_time": "2022-05-11T06:36:22.078Z"
   },
   {
    "duration": 439,
    "start_time": "2022-05-11T06:36:22.186Z"
   },
   {
    "duration": 197,
    "start_time": "2022-05-11T06:36:22.626Z"
   },
   {
    "duration": 76,
    "start_time": "2022-05-11T06:36:22.825Z"
   },
   {
    "duration": 9,
    "start_time": "2022-05-11T06:36:22.903Z"
   },
   {
    "duration": 57,
    "start_time": "2022-05-11T06:36:22.914Z"
   },
   {
    "duration": 6,
    "start_time": "2022-05-11T06:36:22.973Z"
   },
   {
    "duration": 129,
    "start_time": "2022-05-11T06:36:22.982Z"
   },
   {
    "duration": 9,
    "start_time": "2022-05-11T06:36:23.113Z"
   },
   {
    "duration": 323,
    "start_time": "2022-05-11T06:36:23.124Z"
   },
   {
    "duration": 541,
    "start_time": "2022-05-11T06:36:23.449Z"
   },
   {
    "duration": 2,
    "start_time": "2022-05-11T06:36:23.992Z"
   },
   {
    "duration": 197,
    "start_time": "2022-05-11T06:36:23.995Z"
   },
   {
    "duration": 9,
    "start_time": "2022-05-11T06:36:24.193Z"
   },
   {
    "duration": 19,
    "start_time": "2022-05-11T06:36:24.203Z"
   },
   {
    "duration": 31,
    "start_time": "2022-05-11T06:36:24.223Z"
   },
   {
    "duration": 7,
    "start_time": "2022-05-11T06:36:24.255Z"
   },
   {
    "duration": 9,
    "start_time": "2022-05-11T06:36:24.263Z"
   },
   {
    "duration": 12,
    "start_time": "2022-05-11T06:36:24.273Z"
   },
   {
    "duration": 996,
    "start_time": "2022-05-11T06:41:14.202Z"
   },
   {
    "duration": 377,
    "start_time": "2022-05-11T06:41:15.200Z"
   },
   {
    "duration": 106,
    "start_time": "2022-05-11T06:41:15.579Z"
   },
   {
    "duration": 421,
    "start_time": "2022-05-11T06:41:15.686Z"
   },
   {
    "duration": 199,
    "start_time": "2022-05-11T06:41:16.109Z"
   },
   {
    "duration": 76,
    "start_time": "2022-05-11T06:41:16.310Z"
   },
   {
    "duration": 9,
    "start_time": "2022-05-11T06:41:16.388Z"
   },
   {
    "duration": 64,
    "start_time": "2022-05-11T06:41:16.399Z"
   },
   {
    "duration": 6,
    "start_time": "2022-05-11T06:41:16.465Z"
   },
   {
    "duration": 126,
    "start_time": "2022-05-11T06:41:16.472Z"
   },
   {
    "duration": 11,
    "start_time": "2022-05-11T06:41:16.599Z"
   },
   {
    "duration": 318,
    "start_time": "2022-05-11T06:41:16.611Z"
   },
   {
    "duration": 565,
    "start_time": "2022-05-11T06:41:16.931Z"
   },
   {
    "duration": 2,
    "start_time": "2022-05-11T06:41:17.499Z"
   },
   {
    "duration": 201,
    "start_time": "2022-05-11T06:41:17.502Z"
   },
   {
    "duration": 9,
    "start_time": "2022-05-11T06:41:17.705Z"
   },
   {
    "duration": 32,
    "start_time": "2022-05-11T06:41:17.715Z"
   },
   {
    "duration": 14,
    "start_time": "2022-05-11T06:41:17.749Z"
   },
   {
    "duration": 8,
    "start_time": "2022-05-11T06:41:17.765Z"
   },
   {
    "duration": 9,
    "start_time": "2022-05-11T06:41:17.775Z"
   },
   {
    "duration": 15,
    "start_time": "2022-05-11T06:41:17.786Z"
   },
   {
    "duration": 11,
    "start_time": "2022-05-11T06:41:22.466Z"
   },
   {
    "duration": 27,
    "start_time": "2022-05-11T06:45:17.638Z"
   },
   {
    "duration": 27,
    "start_time": "2022-05-11T06:45:34.506Z"
   },
   {
    "duration": 44,
    "start_time": "2022-05-11T06:45:53.453Z"
   },
   {
    "duration": 47,
    "start_time": "2022-05-11T06:46:42.726Z"
   },
   {
    "duration": 11,
    "start_time": "2022-05-11T06:47:10.814Z"
   },
   {
    "duration": 140,
    "start_time": "2022-05-11T06:48:24.974Z"
   },
   {
    "duration": 17,
    "start_time": "2022-05-11T06:49:57.980Z"
   },
   {
    "duration": 15,
    "start_time": "2022-05-11T06:50:22.898Z"
   },
   {
    "duration": 11,
    "start_time": "2022-05-11T06:50:49.049Z"
   },
   {
    "duration": 13,
    "start_time": "2022-05-11T06:50:56.782Z"
   },
   {
    "duration": 985,
    "start_time": "2022-05-11T06:51:14.206Z"
   },
   {
    "duration": 380,
    "start_time": "2022-05-11T06:51:15.193Z"
   },
   {
    "duration": 107,
    "start_time": "2022-05-11T06:51:15.575Z"
   },
   {
    "duration": 438,
    "start_time": "2022-05-11T06:51:15.684Z"
   },
   {
    "duration": 192,
    "start_time": "2022-05-11T06:51:16.124Z"
   },
   {
    "duration": 86,
    "start_time": "2022-05-11T06:51:16.318Z"
   },
   {
    "duration": 9,
    "start_time": "2022-05-11T06:51:16.406Z"
   },
   {
    "duration": 57,
    "start_time": "2022-05-11T06:51:16.416Z"
   },
   {
    "duration": 6,
    "start_time": "2022-05-11T06:51:16.474Z"
   },
   {
    "duration": 131,
    "start_time": "2022-05-11T06:51:16.483Z"
   },
   {
    "duration": 11,
    "start_time": "2022-05-11T06:51:16.615Z"
   },
   {
    "duration": 323,
    "start_time": "2022-05-11T06:51:16.627Z"
   },
   {
    "duration": 565,
    "start_time": "2022-05-11T06:51:16.952Z"
   },
   {
    "duration": 3,
    "start_time": "2022-05-11T06:51:17.518Z"
   },
   {
    "duration": 202,
    "start_time": "2022-05-11T06:51:17.522Z"
   },
   {
    "duration": 23,
    "start_time": "2022-05-11T06:51:17.726Z"
   },
   {
    "duration": 21,
    "start_time": "2022-05-11T06:51:17.750Z"
   },
   {
    "duration": 13,
    "start_time": "2022-05-11T06:51:17.773Z"
   },
   {
    "duration": 8,
    "start_time": "2022-05-11T06:51:17.788Z"
   },
   {
    "duration": 9,
    "start_time": "2022-05-11T06:51:17.797Z"
   },
   {
    "duration": 42,
    "start_time": "2022-05-11T06:51:17.808Z"
   },
   {
    "duration": 21,
    "start_time": "2022-05-11T06:52:12.695Z"
   },
   {
    "duration": 9,
    "start_time": "2022-05-11T06:52:25.244Z"
   },
   {
    "duration": 13,
    "start_time": "2022-05-11T06:52:37.685Z"
   },
   {
    "duration": 12,
    "start_time": "2022-05-11T06:54:23.899Z"
   },
   {
    "duration": 13,
    "start_time": "2022-05-11T06:54:43.562Z"
   },
   {
    "duration": 14,
    "start_time": "2022-05-11T06:55:55.813Z"
   },
   {
    "duration": 16,
    "start_time": "2022-05-11T06:58:18.883Z"
   },
   {
    "duration": 15,
    "start_time": "2022-05-11T06:58:45.530Z"
   },
   {
    "duration": 15,
    "start_time": "2022-05-11T06:58:52.068Z"
   },
   {
    "duration": 15,
    "start_time": "2022-05-11T06:58:59.760Z"
   },
   {
    "duration": 16,
    "start_time": "2022-05-11T07:00:38.992Z"
   },
   {
    "duration": 12,
    "start_time": "2022-05-11T07:03:54.480Z"
   },
   {
    "duration": 13,
    "start_time": "2022-05-11T08:27:25.918Z"
   },
   {
    "duration": 13,
    "start_time": "2022-05-11T08:27:35.542Z"
   },
   {
    "duration": 1420,
    "start_time": "2022-05-11T08:27:44.480Z"
   },
   {
    "duration": 530,
    "start_time": "2022-05-11T08:27:45.903Z"
   },
   {
    "duration": 160,
    "start_time": "2022-05-11T08:27:46.435Z"
   },
   {
    "duration": 459,
    "start_time": "2022-05-11T08:27:46.598Z"
   },
   {
    "duration": 214,
    "start_time": "2022-05-11T08:27:47.059Z"
   },
   {
    "duration": 85,
    "start_time": "2022-05-11T08:27:47.274Z"
   },
   {
    "duration": 11,
    "start_time": "2022-05-11T08:27:47.361Z"
   },
   {
    "duration": 48,
    "start_time": "2022-05-11T08:27:47.373Z"
   },
   {
    "duration": 26,
    "start_time": "2022-05-11T08:27:47.423Z"
   },
   {
    "duration": 141,
    "start_time": "2022-05-11T08:27:47.452Z"
   },
   {
    "duration": 13,
    "start_time": "2022-05-11T08:27:47.595Z"
   },
   {
    "duration": 110,
    "start_time": "2022-05-11T08:27:47.610Z"
   },
   {
    "duration": 0,
    "start_time": "2022-05-11T08:27:47.722Z"
   },
   {
    "duration": 0,
    "start_time": "2022-05-11T08:27:47.723Z"
   },
   {
    "duration": 0,
    "start_time": "2022-05-11T08:27:47.724Z"
   },
   {
    "duration": 0,
    "start_time": "2022-05-11T08:27:47.725Z"
   },
   {
    "duration": 0,
    "start_time": "2022-05-11T08:27:47.726Z"
   },
   {
    "duration": 0,
    "start_time": "2022-05-11T08:27:47.727Z"
   },
   {
    "duration": 0,
    "start_time": "2022-05-11T08:27:47.728Z"
   },
   {
    "duration": 0,
    "start_time": "2022-05-11T08:27:47.729Z"
   },
   {
    "duration": 0,
    "start_time": "2022-05-11T08:27:47.748Z"
   },
   {
    "duration": 12,
    "start_time": "2022-05-11T08:29:10.572Z"
   },
   {
    "duration": 305,
    "start_time": "2022-05-11T08:30:38.605Z"
   },
   {
    "duration": 1066,
    "start_time": "2022-05-11T08:31:48.475Z"
   },
   {
    "duration": 377,
    "start_time": "2022-05-11T08:31:49.543Z"
   },
   {
    "duration": 136,
    "start_time": "2022-05-11T08:31:49.922Z"
   },
   {
    "duration": 578,
    "start_time": "2022-05-11T08:31:50.062Z"
   },
   {
    "duration": 358,
    "start_time": "2022-05-11T08:31:50.642Z"
   },
   {
    "duration": 134,
    "start_time": "2022-05-11T08:31:51.002Z"
   },
   {
    "duration": 17,
    "start_time": "2022-05-11T08:31:51.138Z"
   },
   {
    "duration": 62,
    "start_time": "2022-05-11T08:31:51.157Z"
   },
   {
    "duration": 8,
    "start_time": "2022-05-11T08:31:51.221Z"
   },
   {
    "duration": 150,
    "start_time": "2022-05-11T08:31:51.231Z"
   },
   {
    "duration": 13,
    "start_time": "2022-05-11T08:31:51.382Z"
   },
   {
    "duration": 333,
    "start_time": "2022-05-11T08:31:51.397Z"
   },
   {
    "duration": 561,
    "start_time": "2022-05-11T08:31:51.732Z"
   },
   {
    "duration": 200,
    "start_time": "2022-05-11T08:31:52.295Z"
   },
   {
    "duration": 9,
    "start_time": "2022-05-11T08:31:52.496Z"
   },
   {
    "duration": 20,
    "start_time": "2022-05-11T08:31:52.507Z"
   },
   {
    "duration": 34,
    "start_time": "2022-05-11T08:31:52.528Z"
   },
   {
    "duration": 8,
    "start_time": "2022-05-11T08:31:52.565Z"
   },
   {
    "duration": 8,
    "start_time": "2022-05-11T08:31:52.574Z"
   },
   {
    "duration": 13,
    "start_time": "2022-05-11T08:31:52.584Z"
   },
   {
    "duration": 11,
    "start_time": "2022-05-11T08:36:28.954Z"
   },
   {
    "duration": 8,
    "start_time": "2022-05-11T08:36:47.409Z"
   },
   {
    "duration": 97,
    "start_time": "2022-05-11T10:12:47.541Z"
   },
   {
    "duration": 9,
    "start_time": "2022-05-11T10:12:59.246Z"
   },
   {
    "duration": 13,
    "start_time": "2022-05-11T10:13:14.320Z"
   },
   {
    "duration": 10,
    "start_time": "2022-05-11T10:13:21.349Z"
   },
   {
    "duration": 12,
    "start_time": "2022-05-11T10:14:14.771Z"
   },
   {
    "duration": 79,
    "start_time": "2022-05-11T10:14:25.307Z"
   },
   {
    "duration": 11,
    "start_time": "2022-05-11T10:14:33.426Z"
   },
   {
    "duration": 10,
    "start_time": "2022-05-11T10:15:05.882Z"
   },
   {
    "duration": 4,
    "start_time": "2022-05-11T10:15:17.508Z"
   },
   {
    "duration": 12,
    "start_time": "2022-05-11T10:15:30.663Z"
   },
   {
    "duration": 4,
    "start_time": "2022-05-11T10:15:38.831Z"
   },
   {
    "duration": 11,
    "start_time": "2022-05-11T10:15:52.314Z"
   },
   {
    "duration": 5,
    "start_time": "2022-05-11T10:16:11.178Z"
   },
   {
    "duration": 5,
    "start_time": "2022-05-11T10:16:21.213Z"
   },
   {
    "duration": 9,
    "start_time": "2022-05-11T10:16:24.273Z"
   },
   {
    "duration": 4,
    "start_time": "2022-05-11T10:16:30.563Z"
   },
   {
    "duration": 4,
    "start_time": "2022-05-11T10:17:02.635Z"
   },
   {
    "duration": 4,
    "start_time": "2022-05-11T10:17:34.460Z"
   },
   {
    "duration": 19,
    "start_time": "2022-05-11T10:17:41.899Z"
   },
   {
    "duration": 20,
    "start_time": "2022-05-11T10:17:45.225Z"
   },
   {
    "duration": 20,
    "start_time": "2022-05-11T10:17:52.393Z"
   },
   {
    "duration": 3,
    "start_time": "2022-05-11T10:18:02.726Z"
   },
   {
    "duration": 178,
    "start_time": "2022-05-11T10:18:22.203Z"
   },
   {
    "duration": 159,
    "start_time": "2022-05-11T10:18:34.259Z"
   },
   {
    "duration": 169,
    "start_time": "2022-05-11T10:18:59.901Z"
   },
   {
    "duration": 311,
    "start_time": "2022-05-11T10:19:35.325Z"
   },
   {
    "duration": 157,
    "start_time": "2022-05-11T10:19:41.212Z"
   },
   {
    "duration": 1431,
    "start_time": "2022-05-11T11:06:02.220Z"
   },
   {
    "duration": 1504,
    "start_time": "2022-05-11T11:06:15.425Z"
   },
   {
    "duration": 1559,
    "start_time": "2022-05-11T11:06:28.515Z"
   },
   {
    "duration": 1920,
    "start_time": "2022-05-11T11:06:36.874Z"
   },
   {
    "duration": 2407,
    "start_time": "2022-05-11T11:06:57.441Z"
   },
   {
    "duration": 1444,
    "start_time": "2022-05-11T11:08:00.685Z"
   },
   {
    "duration": 306,
    "start_time": "2022-05-11T11:08:09.247Z"
   },
   {
    "duration": 2425,
    "start_time": "2022-05-11T11:08:20.010Z"
   },
   {
    "duration": 967,
    "start_time": "2022-05-11T11:09:27.855Z"
   },
   {
    "duration": 1002,
    "start_time": "2022-05-11T11:09:51.818Z"
   },
   {
    "duration": 1944,
    "start_time": "2022-05-11T11:10:18.085Z"
   },
   {
    "duration": 1987,
    "start_time": "2022-05-11T11:10:43.603Z"
   },
   {
    "duration": 1916,
    "start_time": "2022-05-11T11:12:57.016Z"
   },
   {
    "duration": 1910,
    "start_time": "2022-05-11T11:13:11.208Z"
   },
   {
    "duration": 1899,
    "start_time": "2022-05-11T11:13:35.374Z"
   },
   {
    "duration": 5,
    "start_time": "2022-05-11T11:15:52.806Z"
   },
   {
    "duration": 5,
    "start_time": "2022-05-11T11:16:16.045Z"
   },
   {
    "duration": 6,
    "start_time": "2022-05-11T11:16:34.059Z"
   },
   {
    "duration": 5,
    "start_time": "2022-05-11T11:16:43.772Z"
   },
   {
    "duration": 6,
    "start_time": "2022-05-11T11:17:00.511Z"
   },
   {
    "duration": 4,
    "start_time": "2022-05-11T11:18:01.733Z"
   },
   {
    "duration": 4,
    "start_time": "2022-05-11T11:18:30.305Z"
   },
   {
    "duration": 5,
    "start_time": "2022-05-11T11:19:15.644Z"
   },
   {
    "duration": 4,
    "start_time": "2022-05-11T11:19:24.125Z"
   },
   {
    "duration": 78,
    "start_time": "2022-05-11T11:22:11.676Z"
   },
   {
    "duration": 5,
    "start_time": "2022-05-11T11:22:17.393Z"
   },
   {
    "duration": 10,
    "start_time": "2022-05-11T11:22:23.469Z"
   },
   {
    "duration": 5,
    "start_time": "2022-05-11T11:22:29.622Z"
   },
   {
    "duration": 5,
    "start_time": "2022-05-11T11:22:54.162Z"
   },
   {
    "duration": 5,
    "start_time": "2022-05-11T11:22:59.856Z"
   },
   {
    "duration": 4,
    "start_time": "2022-05-11T11:23:04.754Z"
   },
   {
    "duration": 6,
    "start_time": "2022-05-11T11:23:36.330Z"
   },
   {
    "duration": 7,
    "start_time": "2022-05-11T12:27:37.430Z"
   },
   {
    "duration": 18,
    "start_time": "2022-05-11T14:16:27.951Z"
   },
   {
    "duration": 22,
    "start_time": "2022-05-11T14:16:37.449Z"
   },
   {
    "duration": 16,
    "start_time": "2022-05-11T14:17:14.871Z"
   },
   {
    "duration": 9,
    "start_time": "2022-05-11T14:18:02.061Z"
   },
   {
    "duration": 22,
    "start_time": "2022-05-11T14:18:45.670Z"
   },
   {
    "duration": 4,
    "start_time": "2022-05-11T14:19:17.427Z"
   },
   {
    "duration": 16,
    "start_time": "2022-05-11T14:19:42.619Z"
   },
   {
    "duration": 31,
    "start_time": "2022-05-11T14:20:09.841Z"
   },
   {
    "duration": 22,
    "start_time": "2022-05-11T14:20:16.269Z"
   },
   {
    "duration": 21,
    "start_time": "2022-05-11T14:20:20.568Z"
   },
   {
    "duration": 21,
    "start_time": "2022-05-11T14:20:24.047Z"
   },
   {
    "duration": 19,
    "start_time": "2022-05-11T14:20:35.948Z"
   },
   {
    "duration": 19,
    "start_time": "2022-05-11T14:20:43.240Z"
   },
   {
    "duration": 17,
    "start_time": "2022-05-11T14:20:54.715Z"
   },
   {
    "duration": 19,
    "start_time": "2022-05-11T14:21:04.970Z"
   },
   {
    "duration": 84,
    "start_time": "2022-05-11T14:21:14.891Z"
   },
   {
    "duration": 16,
    "start_time": "2022-05-11T14:21:17.991Z"
   },
   {
    "duration": 20,
    "start_time": "2022-05-11T14:21:38.448Z"
   },
   {
    "duration": 16,
    "start_time": "2022-05-11T14:22:08.168Z"
   },
   {
    "duration": 398,
    "start_time": "2022-05-11T14:25:34.041Z"
   },
   {
    "duration": 181,
    "start_time": "2022-05-11T14:27:13.869Z"
   },
   {
    "duration": 187,
    "start_time": "2022-05-11T14:27:34.325Z"
   },
   {
    "duration": 183,
    "start_time": "2022-05-11T14:27:43.996Z"
   },
   {
    "duration": 311,
    "start_time": "2022-05-11T14:27:49.214Z"
   },
   {
    "duration": 190,
    "start_time": "2022-05-11T14:28:03.308Z"
   },
   {
    "duration": 175,
    "start_time": "2022-05-11T14:28:47.431Z"
   },
   {
    "duration": 191,
    "start_time": "2022-05-11T14:29:43.254Z"
   },
   {
    "duration": 5,
    "start_time": "2022-05-11T14:30:41.095Z"
   },
   {
    "duration": 204,
    "start_time": "2022-05-11T14:30:45.047Z"
   },
   {
    "duration": 313,
    "start_time": "2022-05-11T14:30:48.541Z"
   },
   {
    "duration": 2,
    "start_time": "2022-05-11T14:44:31.657Z"
   },
   {
    "duration": 6,
    "start_time": "2022-05-11T14:44:40.651Z"
   },
   {
    "duration": 5,
    "start_time": "2022-05-11T14:44:49.317Z"
   },
   {
    "duration": 2,
    "start_time": "2022-05-11T14:44:57.469Z"
   },
   {
    "duration": 5,
    "start_time": "2022-05-11T14:45:19.058Z"
   },
   {
    "duration": 4,
    "start_time": "2022-05-11T14:46:05.547Z"
   },
   {
    "duration": 5,
    "start_time": "2022-05-11T14:47:22.667Z"
   },
   {
    "duration": 6,
    "start_time": "2022-05-11T14:48:19.877Z"
   },
   {
    "duration": 7,
    "start_time": "2022-05-11T14:48:59.258Z"
   },
   {
    "duration": 5,
    "start_time": "2022-05-11T14:50:28.710Z"
   },
   {
    "duration": 5,
    "start_time": "2022-05-11T14:50:40.830Z"
   },
   {
    "duration": 5,
    "start_time": "2022-05-11T14:50:57.558Z"
   },
   {
    "duration": 4,
    "start_time": "2022-05-11T14:51:00.585Z"
   },
   {
    "duration": 3,
    "start_time": "2022-05-11T14:52:07.866Z"
   },
   {
    "duration": 7,
    "start_time": "2022-05-11T14:52:46.766Z"
   },
   {
    "duration": 7,
    "start_time": "2022-05-11T14:52:57.874Z"
   },
   {
    "duration": 7,
    "start_time": "2022-05-11T14:53:01.834Z"
   },
   {
    "duration": 6,
    "start_time": "2022-05-11T14:54:00.344Z"
   },
   {
    "duration": 5,
    "start_time": "2022-05-11T14:58:26.445Z"
   },
   {
    "duration": 36,
    "start_time": "2022-05-11T15:20:21.032Z"
   },
   {
    "duration": 17,
    "start_time": "2022-05-11T15:21:03.907Z"
   },
   {
    "duration": 31,
    "start_time": "2022-05-11T15:21:10.313Z"
   },
   {
    "duration": 16,
    "start_time": "2022-05-11T15:21:28.576Z"
   },
   {
    "duration": 12,
    "start_time": "2022-05-11T15:21:56.976Z"
   },
   {
    "duration": 11,
    "start_time": "2022-05-11T15:22:02.603Z"
   },
   {
    "duration": 8,
    "start_time": "2022-05-11T15:22:08.637Z"
   },
   {
    "duration": 6,
    "start_time": "2022-05-11T15:25:18.035Z"
   },
   {
    "duration": 6,
    "start_time": "2022-05-11T15:30:33.951Z"
   },
   {
    "duration": 6,
    "start_time": "2022-05-11T15:31:16.976Z"
   },
   {
    "duration": 5,
    "start_time": "2022-05-11T15:53:54.153Z"
   },
   {
    "duration": 5,
    "start_time": "2022-05-11T16:05:44.182Z"
   },
   {
    "duration": 2157,
    "start_time": "2022-05-11T16:15:27.541Z"
   },
   {
    "duration": 2097,
    "start_time": "2022-05-11T16:16:30.834Z"
   },
   {
    "duration": 1748,
    "start_time": "2022-05-11T19:21:20.074Z"
   },
   {
    "duration": 492,
    "start_time": "2022-05-11T19:21:21.825Z"
   },
   {
    "duration": 192,
    "start_time": "2022-05-11T19:21:22.319Z"
   },
   {
    "duration": 696,
    "start_time": "2022-05-11T19:21:22.514Z"
   },
   {
    "duration": 293,
    "start_time": "2022-05-11T19:21:23.212Z"
   },
   {
    "duration": 120,
    "start_time": "2022-05-11T19:21:23.507Z"
   },
   {
    "duration": 25,
    "start_time": "2022-05-11T19:21:23.629Z"
   },
   {
    "duration": 95,
    "start_time": "2022-05-11T19:21:23.657Z"
   },
   {
    "duration": 11,
    "start_time": "2022-05-11T19:21:23.754Z"
   },
   {
    "duration": 249,
    "start_time": "2022-05-11T19:21:23.769Z"
   },
   {
    "duration": 48,
    "start_time": "2022-05-11T19:21:24.020Z"
   },
   {
    "duration": 592,
    "start_time": "2022-05-11T19:21:24.070Z"
   },
   {
    "duration": 962,
    "start_time": "2022-05-11T19:21:24.664Z"
   },
   {
    "duration": 268,
    "start_time": "2022-05-11T19:21:25.628Z"
   },
   {
    "duration": 52,
    "start_time": "2022-05-11T19:21:25.899Z"
   },
   {
    "duration": 24,
    "start_time": "2022-05-11T19:21:25.953Z"
   },
   {
    "duration": 10,
    "start_time": "2022-05-11T19:21:25.979Z"
   },
   {
    "duration": 65,
    "start_time": "2022-05-11T19:21:25.992Z"
   },
   {
    "duration": 14,
    "start_time": "2022-05-11T19:21:26.060Z"
   },
   {
    "duration": 3557,
    "start_time": "2022-05-11T19:21:26.077Z"
   },
   {
    "duration": 10,
    "start_time": "2022-05-11T19:21:29.651Z"
   },
   {
    "duration": 408,
    "start_time": "2022-05-11T19:21:29.664Z"
   },
   {
    "duration": 5,
    "start_time": "2022-05-11T19:21:30.075Z"
   },
   {
    "duration": 21,
    "start_time": "2022-05-11T19:21:30.082Z"
   },
   {
    "duration": 14,
    "start_time": "2022-05-11T19:21:30.106Z"
   },
   {
    "duration": 41,
    "start_time": "2022-05-11T19:21:30.122Z"
   },
   {
    "duration": 25,
    "start_time": "2022-05-11T19:21:30.165Z"
   },
   {
    "duration": 19,
    "start_time": "2022-05-11T19:21:30.194Z"
   },
   {
    "duration": 7,
    "start_time": "2022-05-11T19:25:09.407Z"
   },
   {
    "duration": 175,
    "start_time": "2022-05-11T19:25:15.466Z"
   },
   {
    "duration": 12,
    "start_time": "2022-05-11T19:25:25.433Z"
   },
   {
    "duration": 4,
    "start_time": "2022-05-11T19:25:28.391Z"
   },
   {
    "duration": 13,
    "start_time": "2022-05-11T19:25:31.248Z"
   },
   {
    "duration": 16,
    "start_time": "2022-05-11T19:25:33.806Z"
   },
   {
    "duration": 9,
    "start_time": "2022-05-11T19:25:42.936Z"
   },
   {
    "duration": 17,
    "start_time": "2022-05-11T19:30:50.000Z"
   },
   {
    "duration": 658,
    "start_time": "2022-05-11T19:31:03.200Z"
   },
   {
    "duration": 185,
    "start_time": "2022-05-11T19:32:05.120Z"
   },
   {
    "duration": 181,
    "start_time": "2022-05-11T19:32:32.520Z"
   },
   {
    "duration": 441,
    "start_time": "2022-05-11T19:34:20.982Z"
   },
   {
    "duration": 248,
    "start_time": "2022-05-11T19:34:42.371Z"
   },
   {
    "duration": 9,
    "start_time": "2022-05-11T19:42:19.575Z"
   },
   {
    "duration": 12,
    "start_time": "2022-05-11T19:51:30.968Z"
   },
   {
    "duration": 16,
    "start_time": "2022-05-11T19:51:47.047Z"
   },
   {
    "duration": 6,
    "start_time": "2022-05-11T19:51:51.783Z"
   },
   {
    "duration": 7,
    "start_time": "2022-05-11T19:52:56.933Z"
   },
   {
    "duration": 71,
    "start_time": "2022-05-11T19:53:44.982Z"
   },
   {
    "duration": 48,
    "start_time": "2022-05-11T19:53:53.278Z"
   },
   {
    "duration": 59,
    "start_time": "2022-05-11T19:53:58.350Z"
   },
   {
    "duration": 47,
    "start_time": "2022-05-11T19:54:04.071Z"
   },
   {
    "duration": 74,
    "start_time": "2022-05-11T19:54:33.859Z"
   },
   {
    "duration": 54,
    "start_time": "2022-05-11T19:54:37.248Z"
   },
   {
    "duration": 19,
    "start_time": "2022-05-11T19:54:50.478Z"
   },
   {
    "duration": 296,
    "start_time": "2022-05-11T19:55:05.677Z"
   },
   {
    "duration": 402,
    "start_time": "2022-05-11T19:55:21.430Z"
   },
   {
    "duration": 11,
    "start_time": "2022-05-11T19:55:46.821Z"
   },
   {
    "duration": 33,
    "start_time": "2022-05-11T19:56:25.822Z"
   },
   {
    "duration": 49,
    "start_time": "2022-05-11T19:56:36.830Z"
   },
   {
    "duration": 28,
    "start_time": "2022-05-11T19:56:44.334Z"
   },
   {
    "duration": 22,
    "start_time": "2022-05-11T19:56:54.413Z"
   },
   {
    "duration": 1978,
    "start_time": "2022-05-11T19:57:21.476Z"
   },
   {
    "duration": 688,
    "start_time": "2022-05-11T19:57:23.458Z"
   },
   {
    "duration": 322,
    "start_time": "2022-05-11T19:57:24.150Z"
   },
   {
    "duration": 1218,
    "start_time": "2022-05-11T19:57:24.476Z"
   },
   {
    "duration": 343,
    "start_time": "2022-05-11T19:57:25.697Z"
   },
   {
    "duration": 160,
    "start_time": "2022-05-11T19:57:26.042Z"
   },
   {
    "duration": 16,
    "start_time": "2022-05-11T19:57:26.204Z"
   },
   {
    "duration": 106,
    "start_time": "2022-05-11T19:57:26.222Z"
   },
   {
    "duration": 26,
    "start_time": "2022-05-11T19:57:26.330Z"
   },
   {
    "duration": 305,
    "start_time": "2022-05-11T19:57:26.367Z"
   },
   {
    "duration": 40,
    "start_time": "2022-05-11T19:57:26.675Z"
   },
   {
    "duration": 676,
    "start_time": "2022-05-11T19:57:26.717Z"
   },
   {
    "duration": 1133,
    "start_time": "2022-05-11T19:57:27.396Z"
   },
   {
    "duration": 297,
    "start_time": "2022-05-11T19:57:28.531Z"
   },
   {
    "duration": 61,
    "start_time": "2022-05-11T19:57:28.830Z"
   },
   {
    "duration": 23,
    "start_time": "2022-05-11T19:57:28.894Z"
   },
   {
    "duration": 44,
    "start_time": "2022-05-11T19:57:28.920Z"
   },
   {
    "duration": 45,
    "start_time": "2022-05-11T19:57:28.967Z"
   },
   {
    "duration": 14,
    "start_time": "2022-05-11T19:57:29.015Z"
   },
   {
    "duration": 5249,
    "start_time": "2022-05-11T19:57:29.031Z"
   },
   {
    "duration": 13,
    "start_time": "2022-05-11T19:57:34.283Z"
   },
   {
    "duration": 331,
    "start_time": "2022-05-11T19:57:34.299Z"
   },
   {
    "duration": 32,
    "start_time": "2022-05-11T19:57:34.633Z"
   },
   {
    "duration": 624,
    "start_time": "2022-05-11T19:57:34.668Z"
   },
   {
    "duration": 4,
    "start_time": "2022-05-11T19:57:35.296Z"
   },
   {
    "duration": 12,
    "start_time": "2022-05-11T19:57:35.302Z"
   },
   {
    "duration": 57,
    "start_time": "2022-05-11T19:57:35.316Z"
   },
   {
    "duration": 17,
    "start_time": "2022-05-11T19:57:35.381Z"
   },
   {
    "duration": 15,
    "start_time": "2022-05-11T19:57:35.401Z"
   },
   {
    "duration": 43,
    "start_time": "2022-05-11T19:57:35.419Z"
   },
   {
    "duration": 10,
    "start_time": "2022-05-11T19:57:35.466Z"
   },
   {
    "duration": 15,
    "start_time": "2022-05-11T19:58:22.897Z"
   },
   {
    "duration": 27,
    "start_time": "2022-05-11T19:58:25.444Z"
   },
   {
    "duration": 17,
    "start_time": "2022-05-11T19:58:32.125Z"
   },
   {
    "duration": 1476,
    "start_time": "2022-05-11T20:03:45.982Z"
   },
   {
    "duration": 570,
    "start_time": "2022-05-11T20:03:47.465Z"
   },
   {
    "duration": 246,
    "start_time": "2022-05-11T20:03:48.039Z"
   },
   {
    "duration": 775,
    "start_time": "2022-05-11T20:03:48.288Z"
   },
   {
    "duration": 323,
    "start_time": "2022-05-11T20:03:49.073Z"
   },
   {
    "duration": 131,
    "start_time": "2022-05-11T20:03:49.398Z"
   },
   {
    "duration": 27,
    "start_time": "2022-05-11T20:03:49.531Z"
   },
   {
    "duration": 74,
    "start_time": "2022-05-11T20:03:49.561Z"
   },
   {
    "duration": 10,
    "start_time": "2022-05-11T20:03:49.659Z"
   },
   {
    "duration": 254,
    "start_time": "2022-05-11T20:03:49.675Z"
   },
   {
    "duration": 62,
    "start_time": "2022-05-11T20:03:49.932Z"
   },
   {
    "duration": 643,
    "start_time": "2022-05-11T20:03:49.997Z"
   },
   {
    "duration": 1118,
    "start_time": "2022-05-11T20:03:50.642Z"
   },
   {
    "duration": 373,
    "start_time": "2022-05-11T20:03:51.763Z"
   },
   {
    "duration": 56,
    "start_time": "2022-05-11T20:03:52.139Z"
   },
   {
    "duration": 62,
    "start_time": "2022-05-11T20:03:52.198Z"
   },
   {
    "duration": 17,
    "start_time": "2022-05-11T20:03:52.262Z"
   },
   {
    "duration": 27,
    "start_time": "2022-05-11T20:03:52.285Z"
   },
   {
    "duration": 17,
    "start_time": "2022-05-11T20:03:52.314Z"
   },
   {
    "duration": 4767,
    "start_time": "2022-05-11T20:03:52.359Z"
   },
   {
    "duration": 35,
    "start_time": "2022-05-11T20:03:57.130Z"
   },
   {
    "duration": 271,
    "start_time": "2022-05-11T20:03:57.168Z"
   },
   {
    "duration": 41,
    "start_time": "2022-05-11T20:03:57.442Z"
   },
   {
    "duration": 473,
    "start_time": "2022-05-11T20:03:57.486Z"
   },
   {
    "duration": 7,
    "start_time": "2022-05-11T20:03:57.963Z"
   },
   {
    "duration": 24,
    "start_time": "2022-05-11T20:03:57.974Z"
   },
   {
    "duration": 11,
    "start_time": "2022-05-11T20:03:58.001Z"
   },
   {
    "duration": 43,
    "start_time": "2022-05-11T20:03:58.019Z"
   },
   {
    "duration": 38,
    "start_time": "2022-05-11T20:03:58.069Z"
   },
   {
    "duration": 15,
    "start_time": "2022-05-11T20:03:58.109Z"
   },
   {
    "duration": 15,
    "start_time": "2022-05-11T20:03:58.126Z"
   },
   {
    "duration": 236,
    "start_time": "2022-05-11T20:50:12.143Z"
   },
   {
    "duration": 182,
    "start_time": "2022-05-11T20:52:59.940Z"
   },
   {
    "duration": 1262,
    "start_time": "2022-05-11T21:00:52.012Z"
   },
   {
    "duration": 981,
    "start_time": "2022-05-11T21:01:11.504Z"
   },
   {
    "duration": 1040,
    "start_time": "2022-05-11T21:06:01.878Z"
   },
   {
    "duration": 909,
    "start_time": "2022-05-11T21:06:22.410Z"
   },
   {
    "duration": 218,
    "start_time": "2022-05-11T21:09:48.584Z"
   },
   {
    "duration": 236,
    "start_time": "2022-05-11T21:09:52.701Z"
   },
   {
    "duration": 169,
    "start_time": "2022-05-11T21:10:58.349Z"
   },
   {
    "duration": 152,
    "start_time": "2022-05-11T21:11:18.323Z"
   },
   {
    "duration": 173,
    "start_time": "2022-05-11T21:11:29.629Z"
   },
   {
    "duration": 44,
    "start_time": "2022-05-11T21:12:00.219Z"
   },
   {
    "duration": 36,
    "start_time": "2022-05-11T21:12:17.341Z"
   },
   {
    "duration": 37,
    "start_time": "2022-05-11T21:12:21.005Z"
   },
   {
    "duration": 114,
    "start_time": "2022-05-11T21:12:29.513Z"
   },
   {
    "duration": 41,
    "start_time": "2022-05-11T21:12:33.437Z"
   },
   {
    "duration": 456,
    "start_time": "2022-05-11T21:12:46.512Z"
   },
   {
    "duration": 203,
    "start_time": "2022-05-11T21:13:18.193Z"
   },
   {
    "duration": 262,
    "start_time": "2022-05-11T21:13:28.441Z"
   },
   {
    "duration": 60,
    "start_time": "2022-05-11T21:13:50.005Z"
   },
   {
    "duration": 286,
    "start_time": "2022-05-11T21:14:09.449Z"
   },
   {
    "duration": 1062,
    "start_time": "2022-05-11T21:14:39.691Z"
   },
   {
    "duration": 165,
    "start_time": "2022-05-11T21:22:24.176Z"
   },
   {
    "duration": 36,
    "start_time": "2022-05-11T21:28:31.595Z"
   },
   {
    "duration": 111,
    "start_time": "2022-05-11T21:30:17.521Z"
   },
   {
    "duration": 3397,
    "start_time": "2022-05-11T21:31:36.418Z"
   },
   {
    "duration": 3414,
    "start_time": "2022-05-11T21:31:46.061Z"
   },
   {
    "duration": 180,
    "start_time": "2022-05-11T21:44:04.573Z"
   },
   {
    "duration": 14,
    "start_time": "2022-05-11T21:44:29.161Z"
   },
   {
    "duration": 15,
    "start_time": "2022-05-11T21:44:32.392Z"
   },
   {
    "duration": 1448,
    "start_time": "2022-05-11T21:45:48.449Z"
   },
   {
    "duration": 490,
    "start_time": "2022-05-11T21:45:49.900Z"
   },
   {
    "duration": 268,
    "start_time": "2022-05-11T21:45:50.392Z"
   },
   {
    "duration": 207,
    "start_time": "2022-05-11T21:45:50.663Z"
   },
   {
    "duration": 136,
    "start_time": "2022-05-11T21:45:50.873Z"
   },
   {
    "duration": 82,
    "start_time": "2022-05-11T21:45:51.012Z"
   },
   {
    "duration": 10,
    "start_time": "2022-05-11T21:45:51.096Z"
   },
   {
    "duration": 260,
    "start_time": "2022-05-11T21:45:51.108Z"
   },
   {
    "duration": 584,
    "start_time": "2022-05-11T21:45:51.371Z"
   },
   {
    "duration": 25,
    "start_time": "2022-05-11T21:45:51.961Z"
   },
   {
    "duration": 970,
    "start_time": "2022-05-11T21:45:51.989Z"
   },
   {
    "duration": 178,
    "start_time": "2022-05-11T21:45:52.961Z"
   },
   {
    "duration": 32,
    "start_time": "2022-05-11T21:45:53.152Z"
   },
   {
    "duration": 22,
    "start_time": "2022-05-11T21:45:53.186Z"
   },
   {
    "duration": 5,
    "start_time": "2022-05-11T21:45:53.210Z"
   },
   {
    "duration": 12,
    "start_time": "2022-05-11T21:45:53.253Z"
   },
   {
    "duration": 24,
    "start_time": "2022-05-11T21:45:53.269Z"
   },
   {
    "duration": 59,
    "start_time": "2022-05-11T21:45:53.296Z"
   },
   {
    "duration": 3362,
    "start_time": "2022-05-11T21:45:53.357Z"
   },
   {
    "duration": 34,
    "start_time": "2022-05-11T21:45:56.722Z"
   },
   {
    "duration": 214,
    "start_time": "2022-05-11T21:45:56.759Z"
   },
   {
    "duration": 15,
    "start_time": "2022-05-11T21:45:56.976Z"
   },
   {
    "duration": 486,
    "start_time": "2022-05-11T21:45:56.994Z"
   },
   {
    "duration": 5,
    "start_time": "2022-05-11T21:45:57.483Z"
   },
   {
    "duration": 15,
    "start_time": "2022-05-11T21:45:57.491Z"
   },
   {
    "duration": 43,
    "start_time": "2022-05-11T21:45:57.509Z"
   },
   {
    "duration": 9,
    "start_time": "2022-05-11T21:45:57.555Z"
   },
   {
    "duration": 14,
    "start_time": "2022-05-11T21:45:57.571Z"
   },
   {
    "duration": 12,
    "start_time": "2022-05-11T21:45:57.587Z"
   },
   {
    "duration": 54,
    "start_time": "2022-05-11T21:45:57.602Z"
   },
   {
    "duration": 417,
    "start_time": "2022-05-11T21:47:05.769Z"
   },
   {
    "duration": 566,
    "start_time": "2022-05-11T21:47:13.986Z"
   },
   {
    "duration": 560,
    "start_time": "2022-05-11T21:47:32.978Z"
   },
   {
    "duration": 5,
    "start_time": "2022-05-11T21:48:01.633Z"
   },
   {
    "duration": 238,
    "start_time": "2022-05-11T21:48:04.837Z"
   },
   {
    "duration": 231,
    "start_time": "2022-05-11T21:48:07.640Z"
   },
   {
    "duration": 1006,
    "start_time": "2022-05-11T21:49:23.682Z"
   },
   {
    "duration": 197,
    "start_time": "2022-05-11T21:50:04.101Z"
   },
   {
    "duration": 348,
    "start_time": "2022-05-11T21:50:46.417Z"
   },
   {
    "duration": 1333,
    "start_time": "2022-05-11T21:51:09.156Z"
   },
   {
    "duration": 488,
    "start_time": "2022-05-11T21:51:10.492Z"
   },
   {
    "duration": 280,
    "start_time": "2022-05-11T21:51:10.982Z"
   },
   {
    "duration": 196,
    "start_time": "2022-05-11T21:51:11.264Z"
   },
   {
    "duration": 128,
    "start_time": "2022-05-11T21:51:11.464Z"
   },
   {
    "duration": 82,
    "start_time": "2022-05-11T21:51:11.594Z"
   },
   {
    "duration": 10,
    "start_time": "2022-05-11T21:51:11.678Z"
   },
   {
    "duration": 267,
    "start_time": "2022-05-11T21:51:11.691Z"
   },
   {
    "duration": 579,
    "start_time": "2022-05-11T21:51:11.961Z"
   },
   {
    "duration": 30,
    "start_time": "2022-05-11T21:51:12.543Z"
   },
   {
    "duration": 1039,
    "start_time": "2022-05-11T21:51:12.577Z"
   },
   {
    "duration": 173,
    "start_time": "2022-05-11T21:51:13.618Z"
   },
   {
    "duration": 32,
    "start_time": "2022-05-11T21:51:13.793Z"
   },
   {
    "duration": 41,
    "start_time": "2022-05-11T21:51:13.830Z"
   },
   {
    "duration": 6,
    "start_time": "2022-05-11T21:51:13.873Z"
   },
   {
    "duration": 13,
    "start_time": "2022-05-11T21:51:13.881Z"
   },
   {
    "duration": 22,
    "start_time": "2022-05-11T21:51:13.896Z"
   },
   {
    "duration": 15,
    "start_time": "2022-05-11T21:51:13.951Z"
   },
   {
    "duration": 3536,
    "start_time": "2022-05-11T21:51:13.968Z"
   },
   {
    "duration": 9,
    "start_time": "2022-05-11T21:51:17.506Z"
   },
   {
    "duration": 216,
    "start_time": "2022-05-11T21:51:17.517Z"
   },
   {
    "duration": 26,
    "start_time": "2022-05-11T21:51:17.735Z"
   },
   {
    "duration": 481,
    "start_time": "2022-05-11T21:51:17.763Z"
   },
   {
    "duration": 8,
    "start_time": "2022-05-11T21:51:18.246Z"
   },
   {
    "duration": 11,
    "start_time": "2022-05-11T21:51:18.256Z"
   },
   {
    "duration": 14,
    "start_time": "2022-05-11T21:51:18.269Z"
   },
   {
    "duration": 13,
    "start_time": "2022-05-11T21:51:18.285Z"
   },
   {
    "duration": 15,
    "start_time": "2022-05-11T21:51:18.301Z"
   },
   {
    "duration": 44,
    "start_time": "2022-05-11T21:51:18.318Z"
   },
   {
    "duration": 10,
    "start_time": "2022-05-11T21:51:18.364Z"
   },
   {
    "duration": 364,
    "start_time": "2022-05-11T22:02:27.169Z"
   },
   {
    "duration": 226,
    "start_time": "2022-05-11T22:02:36.331Z"
   },
   {
    "duration": 227,
    "start_time": "2022-05-11T22:02:40.613Z"
   },
   {
    "duration": 290,
    "start_time": "2022-05-11T22:02:54.047Z"
   },
   {
    "duration": 578,
    "start_time": "2022-05-11T22:03:09.119Z"
   },
   {
    "duration": 1461,
    "start_time": "2022-05-11T22:05:10.343Z"
   },
   {
    "duration": 503,
    "start_time": "2022-05-11T22:05:11.806Z"
   },
   {
    "duration": 289,
    "start_time": "2022-05-11T22:05:12.312Z"
   },
   {
    "duration": 184,
    "start_time": "2022-05-11T22:05:12.603Z"
   },
   {
    "duration": 134,
    "start_time": "2022-05-11T22:05:12.790Z"
   },
   {
    "duration": 81,
    "start_time": "2022-05-11T22:05:12.926Z"
   },
   {
    "duration": 9,
    "start_time": "2022-05-11T22:05:13.009Z"
   },
   {
    "duration": 326,
    "start_time": "2022-05-11T22:05:13.021Z"
   },
   {
    "duration": 587,
    "start_time": "2022-05-11T22:05:13.349Z"
   },
   {
    "duration": 33,
    "start_time": "2022-05-11T22:05:13.939Z"
   },
   {
    "duration": 941,
    "start_time": "2022-05-11T22:05:13.974Z"
   },
   {
    "duration": 178,
    "start_time": "2022-05-11T22:05:14.918Z"
   },
   {
    "duration": 31,
    "start_time": "2022-05-11T22:05:15.098Z"
   },
   {
    "duration": 40,
    "start_time": "2022-05-11T22:05:15.133Z"
   },
   {
    "duration": 5,
    "start_time": "2022-05-11T22:05:15.176Z"
   },
   {
    "duration": 11,
    "start_time": "2022-05-11T22:05:15.184Z"
   },
   {
    "duration": 57,
    "start_time": "2022-05-11T22:05:15.197Z"
   },
   {
    "duration": 14,
    "start_time": "2022-05-11T22:05:15.256Z"
   },
   {
    "duration": 3382,
    "start_time": "2022-05-11T22:05:15.273Z"
   },
   {
    "duration": 8,
    "start_time": "2022-05-11T22:05:18.657Z"
   },
   {
    "duration": 319,
    "start_time": "2022-05-11T22:05:18.667Z"
   },
   {
    "duration": 13,
    "start_time": "2022-05-11T22:05:18.988Z"
   },
   {
    "duration": 382,
    "start_time": "2022-05-11T22:05:19.004Z"
   },
   {
    "duration": 4,
    "start_time": "2022-05-11T22:05:19.388Z"
   },
   {
    "duration": 12,
    "start_time": "2022-05-11T22:05:19.394Z"
   },
   {
    "duration": 7,
    "start_time": "2022-05-11T22:05:19.408Z"
   },
   {
    "duration": 39,
    "start_time": "2022-05-11T22:05:19.417Z"
   },
   {
    "duration": 14,
    "start_time": "2022-05-11T22:05:19.458Z"
   },
   {
    "duration": 25,
    "start_time": "2022-05-11T22:05:19.474Z"
   },
   {
    "duration": 18,
    "start_time": "2022-05-11T22:05:19.501Z"
   },
   {
    "duration": 0,
    "start_time": "2022-05-12T06:44:57.579Z"
   },
   {
    "duration": 0,
    "start_time": "2022-05-12T06:44:57.580Z"
   },
   {
    "duration": 0,
    "start_time": "2022-05-12T06:44:57.581Z"
   },
   {
    "duration": 0,
    "start_time": "2022-05-12T06:44:57.582Z"
   },
   {
    "duration": 0,
    "start_time": "2022-05-12T06:44:57.584Z"
   },
   {
    "duration": 0,
    "start_time": "2022-05-12T06:44:57.585Z"
   },
   {
    "duration": 0,
    "start_time": "2022-05-12T06:44:57.586Z"
   },
   {
    "duration": 0,
    "start_time": "2022-05-12T06:44:57.588Z"
   },
   {
    "duration": 0,
    "start_time": "2022-05-12T06:44:57.589Z"
   },
   {
    "duration": 0,
    "start_time": "2022-05-12T06:44:57.652Z"
   },
   {
    "duration": 0,
    "start_time": "2022-05-12T06:44:57.655Z"
   },
   {
    "duration": 0,
    "start_time": "2022-05-12T06:44:57.657Z"
   },
   {
    "duration": 0,
    "start_time": "2022-05-12T06:44:57.659Z"
   },
   {
    "duration": 0,
    "start_time": "2022-05-12T06:44:57.662Z"
   },
   {
    "duration": 0,
    "start_time": "2022-05-12T06:44:57.664Z"
   },
   {
    "duration": 0,
    "start_time": "2022-05-12T06:44:57.666Z"
   },
   {
    "duration": 0,
    "start_time": "2022-05-12T06:44:57.669Z"
   },
   {
    "duration": 0,
    "start_time": "2022-05-12T06:44:57.670Z"
   },
   {
    "duration": 0,
    "start_time": "2022-05-12T06:44:57.672Z"
   },
   {
    "duration": 0,
    "start_time": "2022-05-12T06:44:57.675Z"
   },
   {
    "duration": 0,
    "start_time": "2022-05-12T06:44:57.677Z"
   },
   {
    "duration": 0,
    "start_time": "2022-05-12T06:44:57.679Z"
   },
   {
    "duration": 0,
    "start_time": "2022-05-12T06:44:57.681Z"
   },
   {
    "duration": 0,
    "start_time": "2022-05-12T06:44:57.684Z"
   },
   {
    "duration": 0,
    "start_time": "2022-05-12T06:44:57.685Z"
   },
   {
    "duration": 0,
    "start_time": "2022-05-12T06:44:57.687Z"
   },
   {
    "duration": 0,
    "start_time": "2022-05-12T06:44:57.690Z"
   },
   {
    "duration": 0,
    "start_time": "2022-05-12T06:44:57.691Z"
   },
   {
    "duration": 0,
    "start_time": "2022-05-12T06:44:57.693Z"
   },
   {
    "duration": 0,
    "start_time": "2022-05-12T06:44:57.694Z"
   },
   {
    "duration": 0,
    "start_time": "2022-05-12T06:44:57.753Z"
   },
   {
    "duration": 7,
    "start_time": "2022-05-12T06:45:32.894Z"
   },
   {
    "duration": 525,
    "start_time": "2022-05-12T06:45:32.903Z"
   },
   {
    "duration": 298,
    "start_time": "2022-05-12T06:45:33.431Z"
   },
   {
    "duration": 192,
    "start_time": "2022-05-12T06:45:33.731Z"
   },
   {
    "duration": 150,
    "start_time": "2022-05-12T06:45:33.925Z"
   },
   {
    "duration": 76,
    "start_time": "2022-05-12T06:45:34.077Z"
   },
   {
    "duration": 13,
    "start_time": "2022-05-12T06:45:34.156Z"
   },
   {
    "duration": 328,
    "start_time": "2022-05-12T06:45:34.171Z"
   },
   {
    "duration": 622,
    "start_time": "2022-05-12T06:45:34.501Z"
   },
   {
    "duration": 40,
    "start_time": "2022-05-12T06:45:35.126Z"
   },
   {
    "duration": 1059,
    "start_time": "2022-05-12T06:45:35.173Z"
   },
   {
    "duration": 193,
    "start_time": "2022-05-12T06:45:36.238Z"
   },
   {
    "duration": 50,
    "start_time": "2022-05-12T06:45:36.433Z"
   },
   {
    "duration": 23,
    "start_time": "2022-05-12T06:45:36.485Z"
   },
   {
    "duration": 6,
    "start_time": "2022-05-12T06:45:36.510Z"
   },
   {
    "duration": 50,
    "start_time": "2022-05-12T06:45:36.518Z"
   },
   {
    "duration": 21,
    "start_time": "2022-05-12T06:45:36.571Z"
   },
   {
    "duration": 17,
    "start_time": "2022-05-12T06:45:36.594Z"
   },
   {
    "duration": 3700,
    "start_time": "2022-05-12T06:45:36.613Z"
   },
   {
    "duration": 9,
    "start_time": "2022-05-12T06:45:40.315Z"
   },
   {
    "duration": 233,
    "start_time": "2022-05-12T06:45:40.326Z"
   },
   {
    "duration": 15,
    "start_time": "2022-05-12T06:45:40.562Z"
   },
   {
    "duration": 403,
    "start_time": "2022-05-12T06:45:40.580Z"
   },
   {
    "duration": 4,
    "start_time": "2022-05-12T06:45:40.986Z"
   },
   {
    "duration": 15,
    "start_time": "2022-05-12T06:45:40.992Z"
   },
   {
    "duration": 8,
    "start_time": "2022-05-12T06:45:41.009Z"
   },
   {
    "duration": 37,
    "start_time": "2022-05-12T06:45:41.020Z"
   },
   {
    "duration": 26,
    "start_time": "2022-05-12T06:45:41.060Z"
   },
   {
    "duration": 13,
    "start_time": "2022-05-12T06:45:41.089Z"
   },
   {
    "duration": 11,
    "start_time": "2022-05-12T06:45:41.105Z"
   },
   {
    "duration": 34,
    "start_time": "2022-05-12T06:47:47.589Z"
   },
   {
    "duration": 26,
    "start_time": "2022-05-12T06:47:55.566Z"
   },
   {
    "duration": 1246,
    "start_time": "2022-05-12T15:12:37.521Z"
   },
   {
    "duration": 446,
    "start_time": "2022-05-12T15:12:38.769Z"
   },
   {
    "duration": 210,
    "start_time": "2022-05-12T15:12:39.224Z"
   },
   {
    "duration": 119,
    "start_time": "2022-05-12T15:12:39.701Z"
   },
   {
    "duration": 82,
    "start_time": "2022-05-12T15:12:43.768Z"
   },
   {
    "duration": 2314,
    "start_time": "2022-05-12T15:13:03.536Z"
   },
   {
    "duration": 42,
    "start_time": "2022-05-12T15:13:28.150Z"
   },
   {
    "duration": 28,
    "start_time": "2022-05-12T15:13:53.613Z"
   },
   {
    "duration": 51,
    "start_time": "2022-05-12T15:14:07.361Z"
   },
   {
    "duration": 58,
    "start_time": "2022-05-12T15:16:06.636Z"
   },
   {
    "duration": 50,
    "start_time": "2022-05-12T15:16:08.358Z"
   },
   {
    "duration": 6,
    "start_time": "2022-05-12T15:17:57.787Z"
   },
   {
    "duration": 5,
    "start_time": "2022-05-12T15:18:08.591Z"
   },
   {
    "duration": 5,
    "start_time": "2022-05-12T15:19:18.597Z"
   },
   {
    "duration": 72,
    "start_time": "2022-05-12T15:21:55.468Z"
   },
   {
    "duration": 21,
    "start_time": "2022-05-12T15:21:56.965Z"
   },
   {
    "duration": 1132,
    "start_time": "2022-05-12T15:24:15.609Z"
   },
   {
    "duration": 459,
    "start_time": "2022-05-12T15:24:16.743Z"
   },
   {
    "duration": 214,
    "start_time": "2022-05-12T15:24:17.204Z"
   },
   {
    "duration": 164,
    "start_time": "2022-05-12T15:24:17.420Z"
   },
   {
    "duration": 29,
    "start_time": "2022-05-12T15:24:17.586Z"
   },
   {
    "duration": 131,
    "start_time": "2022-05-12T15:24:17.617Z"
   },
   {
    "duration": 3,
    "start_time": "2022-05-12T15:24:17.750Z"
   },
   {
    "duration": 67,
    "start_time": "2022-05-12T15:24:17.754Z"
   },
   {
    "duration": 6,
    "start_time": "2022-05-12T15:24:17.822Z"
   },
   {
    "duration": 207,
    "start_time": "2022-05-12T15:24:17.830Z"
   },
   {
    "duration": 362,
    "start_time": "2022-05-12T15:24:18.039Z"
   },
   {
    "duration": 16,
    "start_time": "2022-05-12T15:24:18.403Z"
   },
   {
    "duration": 678,
    "start_time": "2022-05-12T15:24:18.421Z"
   },
   {
    "duration": 139,
    "start_time": "2022-05-12T15:24:19.103Z"
   },
   {
    "duration": 33,
    "start_time": "2022-05-12T15:24:19.244Z"
   },
   {
    "duration": 33,
    "start_time": "2022-05-12T15:24:19.279Z"
   },
   {
    "duration": 4,
    "start_time": "2022-05-12T15:24:19.313Z"
   },
   {
    "duration": 18,
    "start_time": "2022-05-12T15:24:19.318Z"
   },
   {
    "duration": 14,
    "start_time": "2022-05-12T15:24:19.338Z"
   },
   {
    "duration": 15,
    "start_time": "2022-05-12T15:24:19.353Z"
   },
   {
    "duration": 2094,
    "start_time": "2022-05-12T15:24:19.373Z"
   },
   {
    "duration": 7,
    "start_time": "2022-05-12T15:24:21.469Z"
   },
   {
    "duration": 234,
    "start_time": "2022-05-12T15:24:21.478Z"
   },
   {
    "duration": 9,
    "start_time": "2022-05-12T15:24:21.714Z"
   },
   {
    "duration": 227,
    "start_time": "2022-05-12T15:24:21.724Z"
   },
   {
    "duration": 11,
    "start_time": "2022-05-12T15:24:21.953Z"
   },
   {
    "duration": 34,
    "start_time": "2022-05-12T15:24:21.965Z"
   },
   {
    "duration": 23,
    "start_time": "2022-05-12T15:24:22.000Z"
   },
   {
    "duration": 17,
    "start_time": "2022-05-12T15:24:22.025Z"
   },
   {
    "duration": 27,
    "start_time": "2022-05-12T15:24:22.044Z"
   },
   {
    "duration": 42,
    "start_time": "2022-05-12T15:24:22.072Z"
   },
   {
    "duration": 20,
    "start_time": "2022-05-12T15:24:22.116Z"
   }
  ],
  "kernelspec": {
   "display_name": "Python 3 (ipykernel)",
   "language": "python",
   "name": "python3"
  },
  "language_info": {
   "codemirror_mode": {
    "name": "ipython",
    "version": 3
   },
   "file_extension": ".py",
   "mimetype": "text/x-python",
   "name": "python",
   "nbconvert_exporter": "python",
   "pygments_lexer": "ipython3",
   "version": "3.9.12"
  },
  "toc": {
   "base_numbering": 1,
   "nav_menu": {
    "height": "235px",
    "width": "331px"
   },
   "number_sections": true,
   "sideBar": true,
   "skip_h1_title": true,
   "title_cell": "Table of Contents",
   "title_sidebar": "Contents",
   "toc_cell": true,
   "toc_position": {
    "height": "calc(100% - 180px)",
    "left": "10px",
    "top": "150px",
    "width": "165px"
   },
   "toc_section_display": true,
   "toc_window_display": true
  }
 },
 "nbformat": 4,
 "nbformat_minor": 2
}
